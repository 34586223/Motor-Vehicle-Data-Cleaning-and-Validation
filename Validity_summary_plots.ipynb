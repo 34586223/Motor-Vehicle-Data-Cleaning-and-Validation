{
 "cells": [
  {
   "cell_type": "markdown",
   "id": "1a23f1ba",
   "metadata": {},
   "source": [
    "# PLOTS"
   ]
  },
  {
   "cell_type": "markdown",
   "id": "022e6570",
   "metadata": {},
   "source": [
    "#### Imports and paths"
   ]
  },
  {
   "cell_type": "markdown",
   "id": "91099177",
   "metadata": {},
   "source": [
    "**Note, in excel, the date format should have full year as `1990` and not two digits `90` to escape epoc**"
   ]
  },
  {
   "cell_type": "code",
   "execution_count": 52,
   "id": "9c394cb3-b5e0-4a6b-ac35-2e827a8ce477",
   "metadata": {},
   "outputs": [],
   "source": [
    "import pandas as pd\n",
    "import plotly.express as px\n",
    "from datetime import datetime\n",
    "\n",
    "excel_path = r\"./Gis-Data-validity-TRIAL.xlsx\"\n",
    "validity_df = pd.read_excel(excel_path)\n",
    "# validity_df"
   ]
  },
  {
   "cell_type": "code",
   "execution_count": 53,
   "id": "86d12617",
   "metadata": {},
   "outputs": [
    {
     "data": {
      "text/plain": [
       "[0         INVALID\n",
       " 2         INVALID\n",
       " 3         INVALID\n",
       " 4         INVALID\n",
       " 5         INVALID\n",
       "            ...   \n",
       " 118782    INVALID\n",
       " 118783    INVALID\n",
       " 118784    INVALID\n",
       " 118785    INVALID\n",
       " 118786    INVALID\n",
       " Name: TEL_STATUS, Length: 87580, dtype: object,\n",
       " 2         INVALID\n",
       " 3         INVALID\n",
       " 4         INVALID\n",
       " 5         INVALID\n",
       " 6         INVALID\n",
       "            ...   \n",
       " 118780    INVALID\n",
       " 118782    INVALID\n",
       " 118783    INVALID\n",
       " 118784    INVALID\n",
       " 118786    INVALID\n",
       " Name: EMAIL_STATUS, Length: 77993, dtype: object]"
      ]
     },
     "execution_count": 53,
     "metadata": {},
     "output_type": "execute_result"
    }
   ],
   "source": [
    "# 'CLNT_DOB', 'CLNT_ID_REG_NO', 'CLNT_PIN', 'TEL_STATUS', 'CLNT_SMS_TEL'\n",
    "path = ['TEL_STATUS', 'EMAIL_STATUS' ]\n",
    "vals = [validity_df[(validity_df[x] == 'INVALID') == True][x] for x in path]\n",
    "vals"
   ]
  },
  {
   "cell_type": "code",
   "execution_count": 54,
   "id": "03a62674",
   "metadata": {},
   "outputs": [],
   "source": [
    "# data = dict(\n",
    "#     # field=['INVALID','VALID','INVALID','VALID','INVALID','VALID','INVALID','VALID','INVALID','VALID','INVALID','VALID','INVALID','VALID','CLNT_DOB', 'CLNT_ID_REG_NO', 'CLNT_PIN', 'CLNT_EMAIL_ADDRSS', 'CLNT_TEL1', 'CLNT_ID', 'CLNT_SMS' ],\n",
    "#     field=['INVALID','VALID','INVALID','VALID','INVALID','VALID','INVALID','VALID','INVALID','VALID','INVALID','VALID','INVALID','VALID','DOB', 'ID', 'PIN', 'EMAIL', 'TEL', 'AGE', 'SMS' ],\n",
    "#     part=['DOB', 'DOB', 'ID', 'ID' 'PIN', 'PIN','EMAIL', 'EMAIL', 'TEL', 'TEL','AGE', 'AGE', 'SMS', 'SMS', 'Client data', 'Client data', 'Client data''Client data', 'Client data', 'Client data', 'Client data'],\n",
    "#     # part=['CLNT_DOB', 'CLNT_ID_REG_NO', 'Client data', 'CLNT_DOB', 'CLNT_ID_REG_NO', 'CLNT_PIN'],\n",
    "#     validity=[invalid_DOBs, valid_DOBs, invalid_ids, valid_ids, invalid_pins, valid_pins, invalid_emails, valid_emails, invalid_tel, valid_tel, invalid_sms, valid_sms, 'Client data', 'Client data', 'Client data''Client data', 'Client data', 'Client data', 'Client data']\n",
    "# )\n",
    "\n",
    "# fig = px.sunburst(\n",
    "#     data,\n",
    "#     names='field',\n",
    "#     parents='part',\n",
    "#     values='validity'\n",
    "# )\n",
    "# fig.show()"
   ]
  },
  {
   "cell_type": "code",
   "execution_count": 55,
   "id": "125d0443",
   "metadata": {},
   "outputs": [],
   "source": [
    "import plotly.express as px\n",
    "df = px.data.tips()"
   ]
  },
  {
   "cell_type": "code",
   "execution_count": 56,
   "id": "1eeeeca5",
   "metadata": {},
   "outputs": [
    {
     "name": "stdout",
     "output_type": "stream",
     "text": [
      "valid emails = 40794 invalid emails =  77993 valid + invalid =  118787\n"
     ]
    }
   ],
   "source": [
    "valid_emails = (validity_df['EMAIL_STATUS'] == 'VALID').sum().sum()\n",
    "invalid_emails = (validity_df['EMAIL_STATUS'] == 'INVALID').sum().sum()\n",
    "print('valid emails =', valid_emails, 'invalid emails = ', invalid_emails, 'valid + invalid = ', valid_emails + invalid_emails)"
   ]
  },
  {
   "cell_type": "code",
   "execution_count": 57,
   "id": "0b96960a",
   "metadata": {},
   "outputs": [
    {
     "name": "stdout",
     "output_type": "stream",
     "text": [
      "valid DOBs = 20888 , invalid DOBs =  97899 , invalid blank DOBs =  111410 , valid + invalid =  118787\n"
     ]
    }
   ],
   "source": [
    "valid_DOBs = (validity_df['DOB_STATUS'] == 'VALID').sum().sum()\n",
    "invalid_DOBs = (validity_df['DOB_STATUS'] == 'INVALID').sum().sum()\n",
    "print('valid DOBs =', valid_DOBs, ', invalid DOBs = ', invalid_DOBs, ', invalid blank DOBs = ', validity_df['CLNT_DOB'].isnull().sum().sum(),', valid + invalid = ', valid_DOBs + invalid_DOBs)"
   ]
  },
  {
   "cell_type": "code",
   "execution_count": 58,
   "id": "6a2085cb",
   "metadata": {},
   "outputs": [
    {
     "name": "stdout",
     "output_type": "stream",
     "text": [
      "valid age = 20807 , invalid age =  97980 , valid + invalid =  118787\n"
     ]
    }
   ],
   "source": [
    "valid_age = (validity_df['AGE_STATUS'] == 'VALID').sum().sum()\n",
    "invalid_age = (validity_df['AGE_STATUS'] == 'INVALID').sum().sum()\n",
    "print('valid age =', valid_age, ', invalid age = ', invalid_age,', valid + invalid = ', valid_age + invalid_age)"
   ]
  },
  {
   "cell_type": "code",
   "execution_count": 59,
   "id": "a0c038f3",
   "metadata": {},
   "outputs": [
    {
     "name": "stdout",
     "output_type": "stream",
     "text": [
      "valid pins = 112128 , invalid pins =  6659 , invalid blank ages =  0         NaN\n",
      "1         NaN\n",
      "2         NaN\n",
      "3         NaN\n",
      "4         NaN\n",
      "         ... \n",
      "118782    NaN\n",
      "118783    NaN\n",
      "118784    NaN\n",
      "118785    NaN\n",
      "118786    NaN\n",
      "Name: CLNT_DOB, Length: 118787, dtype: object valid + invalid =  118787\n"
     ]
    }
   ],
   "source": [
    "valid_pins = (validity_df['PIN_STATUS'] == 'VALID').sum().sum()\n",
    "invalid_pins = (validity_df['PIN_STATUS'] == 'INVALID').sum().sum()\n",
    "print('valid pins =', valid_pins, ', invalid pins = ', invalid_pins, ', invalid blank ages = ', validity_df['CLNT_DOB'], 'valid + invalid = ', valid_pins + invalid_pins)"
   ]
  },
  {
   "cell_type": "code",
   "execution_count": 60,
   "id": "e7db9271",
   "metadata": {},
   "outputs": [
    {
     "name": "stdout",
     "output_type": "stream",
     "text": [
      "valid IDs = 53765 invalid IDs =  65022 valid + invalid =  118787\n"
     ]
    }
   ],
   "source": [
    "valid_ids = (validity_df['ID_STATUS'] == 'VALID').sum().sum()\n",
    "invalid_ids = (validity_df['ID_STATUS'] == 'INVALID').sum().sum()\n",
    "print('valid IDs =', valid_ids, 'invalid IDs = ', invalid_ids, 'valid + invalid = ', valid_ids + invalid_ids)"
   ]
  },
  {
   "cell_type": "code",
   "execution_count": 61,
   "id": "83c1ecc0",
   "metadata": {},
   "outputs": [
    {
     "name": "stdout",
     "output_type": "stream",
     "text": [
      "valid tel = 31207 invalid tel =  87580 valid + invalid =  118787\n"
     ]
    }
   ],
   "source": [
    "valid_tel = (validity_df['TEL_STATUS'] == 'VALID').sum().sum()\n",
    "invalid_tel = (validity_df['TEL_STATUS'] == 'INVALID').sum().sum()\n",
    "print('valid tel =', valid_tel, 'invalid tel = ', invalid_tel, 'valid + invalid = ', valid_tel + invalid_tel)"
   ]
  },
  {
   "cell_type": "code",
   "execution_count": 62,
   "id": "34424fcb",
   "metadata": {},
   "outputs": [
    {
     "name": "stdout",
     "output_type": "stream",
     "text": [
      "valid sms = 23725 invalid sms =  95062 valid + invalid =  118787\n"
     ]
    }
   ],
   "source": [
    "valid_sms = (validity_df['SMS_STATUS'] == 'VALID').sum().sum()\n",
    "invalid_sms = (validity_df['SMS_STATUS'] == 'INVALID').sum().sum()\n",
    "print('valid sms =', valid_sms, 'invalid sms = ', invalid_sms, 'valid + invalid = ', valid_sms + invalid_sms)"
   ]
  },
  {
   "cell_type": "code",
   "execution_count": 63,
   "id": "85664157",
   "metadata": {},
   "outputs": [
    {
     "name": "stdout",
     "output_type": "stream",
     "text": [
      "valid gender = 110846 invalid gender =  7941 valid + invalid =  118787\n"
     ]
    }
   ],
   "source": [
    "valid_gender = (validity_df['GENDER_STATUS'] == 'VALID').sum().sum()\n",
    "invalid_gender = (validity_df['GENDER_STATUS'] == 'INVALID').sum().sum()\n",
    "print('valid gender =', valid_gender, 'invalid gender = ', invalid_gender, 'valid + invalid = ', valid_gender + invalid_gender)"
   ]
  },
  {
   "cell_type": "code",
   "execution_count": 64,
   "id": "f8df7b56",
   "metadata": {},
   "outputs": [
    {
     "data": {
      "text/plain": [
       "8"
      ]
     },
     "execution_count": 64,
     "metadata": {},
     "output_type": "execute_result"
    }
   ],
   "source": [
    "len(['ID_STATUS', 'DOB_STATUS', 'AGE_STATUS', 'PIN_STATUS' ,'TYPE_STATUS', 'EMAIL_STATUS' ,'TEL_STATUS'\t,'SMS_STATUS'])"
   ]
  },
  {
   "cell_type": "code",
   "execution_count": 65,
   "id": "12a45e0c",
   "metadata": {},
   "outputs": [],
   "source": [
    "\n",
    "valids = [valid_emails, valid_sms, valid_tel, valid_ids, valid_pins, valid_DOBs, valid_age]\n",
    "invalids = [invalid_emails, invalid_sms, invalid_tel, invalid_ids, invalid_pins, invalid_DOBs, invalid_age]\n",
    "\n",
    "num_of_clients = 118787"
   ]
  },
  {
   "cell_type": "code",
   "execution_count": 66,
   "id": "828c66fa",
   "metadata": {},
   "outputs": [
    {
     "data": {
      "text/plain": [
       "[34.342141816865485,\n",
       " 19.972724288011314,\n",
       " 26.27139333428742,\n",
       " 45.26168688492849,\n",
       " 94.394167711955,\n",
       " 17.584415803076094,\n",
       " 17.51622652310438]"
      ]
     },
     "execution_count": 66,
     "metadata": {},
     "output_type": "execute_result"
    }
   ],
   "source": [
    "[(x * 100)/ num_of_clients for x in  valids]"
   ]
  },
  {
   "cell_type": "code",
   "execution_count": 67,
   "id": "a537c5cd",
   "metadata": {},
   "outputs": [
    {
     "data": {
      "text/plain": [
       "[65.65785818313452,\n",
       " 80.02727571198868,\n",
       " 73.72860666571258,\n",
       " 54.73831311507151,\n",
       " 5.605832288044988,\n",
       " 82.4155841969239,\n",
       " 82.48377347689562]"
      ]
     },
     "execution_count": 67,
     "metadata": {},
     "output_type": "execute_result"
    }
   ],
   "source": [
    "[(x * 100)/ num_of_clients for x in  invalids]"
   ]
  },
  {
   "cell_type": "markdown",
   "id": "c8758956",
   "metadata": {},
   "source": [
    "# Donut chart"
   ]
  },
  {
   "cell_type": "code",
   "execution_count": 68,
   "id": "08aed44d",
   "metadata": {},
   "outputs": [],
   "source": [
    "import plotly.graph_objects as go"
   ]
  },
  {
   "cell_type": "markdown",
   "id": "9926b6b8",
   "metadata": {},
   "source": [
    "### valid chart"
   ]
  },
  {
   "cell_type": "code",
   "execution_count": 69,
   "id": "0d767f11",
   "metadata": {},
   "outputs": [
    {
     "data": {
      "application/vnd.plotly.v1+json": {
       "config": {
        "plotlyServerURL": "https://plot.ly"
       },
       "data": [
        {
         "hole": 0.3,
         "labels": [
          "Emails",
          "SMS_Telephone",
          "Telephone",
          "ID",
          "PIN",
          "Date of Birth",
          "Age"
         ],
         "marker": {
          "colors": [
           "darkblue",
           "gold",
           "purple",
           "lightgreen",
           "royalgreen",
           "crimson",
           "green"
          ]
         },
         "name": "% Share of invalid data",
         "pull": 0.02,
         "type": "pie",
         "values": [
          34.342141816865485,
          19.972724288011314,
          26.27139333428742,
          45.26168688492849,
          94.394167711955,
          17.584415803076094,
          17.51622652310438
         ]
        }
       ],
       "layout": {
        "template": {
         "data": {
          "bar": [
           {
            "error_x": {
             "color": "#2a3f5f"
            },
            "error_y": {
             "color": "#2a3f5f"
            },
            "marker": {
             "line": {
              "color": "#E5ECF6",
              "width": 0.5
             },
             "pattern": {
              "fillmode": "overlay",
              "size": 10,
              "solidity": 0.2
             }
            },
            "type": "bar"
           }
          ],
          "barpolar": [
           {
            "marker": {
             "line": {
              "color": "#E5ECF6",
              "width": 0.5
             },
             "pattern": {
              "fillmode": "overlay",
              "size": 10,
              "solidity": 0.2
             }
            },
            "type": "barpolar"
           }
          ],
          "carpet": [
           {
            "aaxis": {
             "endlinecolor": "#2a3f5f",
             "gridcolor": "white",
             "linecolor": "white",
             "minorgridcolor": "white",
             "startlinecolor": "#2a3f5f"
            },
            "baxis": {
             "endlinecolor": "#2a3f5f",
             "gridcolor": "white",
             "linecolor": "white",
             "minorgridcolor": "white",
             "startlinecolor": "#2a3f5f"
            },
            "type": "carpet"
           }
          ],
          "choropleth": [
           {
            "colorbar": {
             "outlinewidth": 0,
             "ticks": ""
            },
            "type": "choropleth"
           }
          ],
          "contour": [
           {
            "colorbar": {
             "outlinewidth": 0,
             "ticks": ""
            },
            "colorscale": [
             [
              0,
              "#0d0887"
             ],
             [
              0.1111111111111111,
              "#46039f"
             ],
             [
              0.2222222222222222,
              "#7201a8"
             ],
             [
              0.3333333333333333,
              "#9c179e"
             ],
             [
              0.4444444444444444,
              "#bd3786"
             ],
             [
              0.5555555555555556,
              "#d8576b"
             ],
             [
              0.6666666666666666,
              "#ed7953"
             ],
             [
              0.7777777777777778,
              "#fb9f3a"
             ],
             [
              0.8888888888888888,
              "#fdca26"
             ],
             [
              1,
              "#f0f921"
             ]
            ],
            "type": "contour"
           }
          ],
          "contourcarpet": [
           {
            "colorbar": {
             "outlinewidth": 0,
             "ticks": ""
            },
            "type": "contourcarpet"
           }
          ],
          "heatmap": [
           {
            "colorbar": {
             "outlinewidth": 0,
             "ticks": ""
            },
            "colorscale": [
             [
              0,
              "#0d0887"
             ],
             [
              0.1111111111111111,
              "#46039f"
             ],
             [
              0.2222222222222222,
              "#7201a8"
             ],
             [
              0.3333333333333333,
              "#9c179e"
             ],
             [
              0.4444444444444444,
              "#bd3786"
             ],
             [
              0.5555555555555556,
              "#d8576b"
             ],
             [
              0.6666666666666666,
              "#ed7953"
             ],
             [
              0.7777777777777778,
              "#fb9f3a"
             ],
             [
              0.8888888888888888,
              "#fdca26"
             ],
             [
              1,
              "#f0f921"
             ]
            ],
            "type": "heatmap"
           }
          ],
          "heatmapgl": [
           {
            "colorbar": {
             "outlinewidth": 0,
             "ticks": ""
            },
            "colorscale": [
             [
              0,
              "#0d0887"
             ],
             [
              0.1111111111111111,
              "#46039f"
             ],
             [
              0.2222222222222222,
              "#7201a8"
             ],
             [
              0.3333333333333333,
              "#9c179e"
             ],
             [
              0.4444444444444444,
              "#bd3786"
             ],
             [
              0.5555555555555556,
              "#d8576b"
             ],
             [
              0.6666666666666666,
              "#ed7953"
             ],
             [
              0.7777777777777778,
              "#fb9f3a"
             ],
             [
              0.8888888888888888,
              "#fdca26"
             ],
             [
              1,
              "#f0f921"
             ]
            ],
            "type": "heatmapgl"
           }
          ],
          "histogram": [
           {
            "marker": {
             "pattern": {
              "fillmode": "overlay",
              "size": 10,
              "solidity": 0.2
             }
            },
            "type": "histogram"
           }
          ],
          "histogram2d": [
           {
            "colorbar": {
             "outlinewidth": 0,
             "ticks": ""
            },
            "colorscale": [
             [
              0,
              "#0d0887"
             ],
             [
              0.1111111111111111,
              "#46039f"
             ],
             [
              0.2222222222222222,
              "#7201a8"
             ],
             [
              0.3333333333333333,
              "#9c179e"
             ],
             [
              0.4444444444444444,
              "#bd3786"
             ],
             [
              0.5555555555555556,
              "#d8576b"
             ],
             [
              0.6666666666666666,
              "#ed7953"
             ],
             [
              0.7777777777777778,
              "#fb9f3a"
             ],
             [
              0.8888888888888888,
              "#fdca26"
             ],
             [
              1,
              "#f0f921"
             ]
            ],
            "type": "histogram2d"
           }
          ],
          "histogram2dcontour": [
           {
            "colorbar": {
             "outlinewidth": 0,
             "ticks": ""
            },
            "colorscale": [
             [
              0,
              "#0d0887"
             ],
             [
              0.1111111111111111,
              "#46039f"
             ],
             [
              0.2222222222222222,
              "#7201a8"
             ],
             [
              0.3333333333333333,
              "#9c179e"
             ],
             [
              0.4444444444444444,
              "#bd3786"
             ],
             [
              0.5555555555555556,
              "#d8576b"
             ],
             [
              0.6666666666666666,
              "#ed7953"
             ],
             [
              0.7777777777777778,
              "#fb9f3a"
             ],
             [
              0.8888888888888888,
              "#fdca26"
             ],
             [
              1,
              "#f0f921"
             ]
            ],
            "type": "histogram2dcontour"
           }
          ],
          "mesh3d": [
           {
            "colorbar": {
             "outlinewidth": 0,
             "ticks": ""
            },
            "type": "mesh3d"
           }
          ],
          "parcoords": [
           {
            "line": {
             "colorbar": {
              "outlinewidth": 0,
              "ticks": ""
             }
            },
            "type": "parcoords"
           }
          ],
          "pie": [
           {
            "automargin": true,
            "type": "pie"
           }
          ],
          "scatter": [
           {
            "marker": {
             "colorbar": {
              "outlinewidth": 0,
              "ticks": ""
             }
            },
            "type": "scatter"
           }
          ],
          "scatter3d": [
           {
            "line": {
             "colorbar": {
              "outlinewidth": 0,
              "ticks": ""
             }
            },
            "marker": {
             "colorbar": {
              "outlinewidth": 0,
              "ticks": ""
             }
            },
            "type": "scatter3d"
           }
          ],
          "scattercarpet": [
           {
            "marker": {
             "colorbar": {
              "outlinewidth": 0,
              "ticks": ""
             }
            },
            "type": "scattercarpet"
           }
          ],
          "scattergeo": [
           {
            "marker": {
             "colorbar": {
              "outlinewidth": 0,
              "ticks": ""
             }
            },
            "type": "scattergeo"
           }
          ],
          "scattergl": [
           {
            "marker": {
             "colorbar": {
              "outlinewidth": 0,
              "ticks": ""
             }
            },
            "type": "scattergl"
           }
          ],
          "scattermapbox": [
           {
            "marker": {
             "colorbar": {
              "outlinewidth": 0,
              "ticks": ""
             }
            },
            "type": "scattermapbox"
           }
          ],
          "scatterpolar": [
           {
            "marker": {
             "colorbar": {
              "outlinewidth": 0,
              "ticks": ""
             }
            },
            "type": "scatterpolar"
           }
          ],
          "scatterpolargl": [
           {
            "marker": {
             "colorbar": {
              "outlinewidth": 0,
              "ticks": ""
             }
            },
            "type": "scatterpolargl"
           }
          ],
          "scatterternary": [
           {
            "marker": {
             "colorbar": {
              "outlinewidth": 0,
              "ticks": ""
             }
            },
            "type": "scatterternary"
           }
          ],
          "surface": [
           {
            "colorbar": {
             "outlinewidth": 0,
             "ticks": ""
            },
            "colorscale": [
             [
              0,
              "#0d0887"
             ],
             [
              0.1111111111111111,
              "#46039f"
             ],
             [
              0.2222222222222222,
              "#7201a8"
             ],
             [
              0.3333333333333333,
              "#9c179e"
             ],
             [
              0.4444444444444444,
              "#bd3786"
             ],
             [
              0.5555555555555556,
              "#d8576b"
             ],
             [
              0.6666666666666666,
              "#ed7953"
             ],
             [
              0.7777777777777778,
              "#fb9f3a"
             ],
             [
              0.8888888888888888,
              "#fdca26"
             ],
             [
              1,
              "#f0f921"
             ]
            ],
            "type": "surface"
           }
          ],
          "table": [
           {
            "cells": {
             "fill": {
              "color": "#EBF0F8"
             },
             "line": {
              "color": "white"
             }
            },
            "header": {
             "fill": {
              "color": "#C8D4E3"
             },
             "line": {
              "color": "white"
             }
            },
            "type": "table"
           }
          ]
         },
         "layout": {
          "annotationdefaults": {
           "arrowcolor": "#2a3f5f",
           "arrowhead": 0,
           "arrowwidth": 1
          },
          "autotypenumbers": "strict",
          "coloraxis": {
           "colorbar": {
            "outlinewidth": 0,
            "ticks": ""
           }
          },
          "colorscale": {
           "diverging": [
            [
             0,
             "#8e0152"
            ],
            [
             0.1,
             "#c51b7d"
            ],
            [
             0.2,
             "#de77ae"
            ],
            [
             0.3,
             "#f1b6da"
            ],
            [
             0.4,
             "#fde0ef"
            ],
            [
             0.5,
             "#f7f7f7"
            ],
            [
             0.6,
             "#e6f5d0"
            ],
            [
             0.7,
             "#b8e186"
            ],
            [
             0.8,
             "#7fbc41"
            ],
            [
             0.9,
             "#4d9221"
            ],
            [
             1,
             "#276419"
            ]
           ],
           "sequential": [
            [
             0,
             "#0d0887"
            ],
            [
             0.1111111111111111,
             "#46039f"
            ],
            [
             0.2222222222222222,
             "#7201a8"
            ],
            [
             0.3333333333333333,
             "#9c179e"
            ],
            [
             0.4444444444444444,
             "#bd3786"
            ],
            [
             0.5555555555555556,
             "#d8576b"
            ],
            [
             0.6666666666666666,
             "#ed7953"
            ],
            [
             0.7777777777777778,
             "#fb9f3a"
            ],
            [
             0.8888888888888888,
             "#fdca26"
            ],
            [
             1,
             "#f0f921"
            ]
           ],
           "sequentialminus": [
            [
             0,
             "#0d0887"
            ],
            [
             0.1111111111111111,
             "#46039f"
            ],
            [
             0.2222222222222222,
             "#7201a8"
            ],
            [
             0.3333333333333333,
             "#9c179e"
            ],
            [
             0.4444444444444444,
             "#bd3786"
            ],
            [
             0.5555555555555556,
             "#d8576b"
            ],
            [
             0.6666666666666666,
             "#ed7953"
            ],
            [
             0.7777777777777778,
             "#fb9f3a"
            ],
            [
             0.8888888888888888,
             "#fdca26"
            ],
            [
             1,
             "#f0f921"
            ]
           ]
          },
          "colorway": [
           "#636efa",
           "#EF553B",
           "#00cc96",
           "#ab63fa",
           "#FFA15A",
           "#19d3f3",
           "#FF6692",
           "#B6E880",
           "#FF97FF",
           "#FECB52"
          ],
          "font": {
           "color": "#2a3f5f"
          },
          "geo": {
           "bgcolor": "white",
           "lakecolor": "white",
           "landcolor": "#E5ECF6",
           "showlakes": true,
           "showland": true,
           "subunitcolor": "white"
          },
          "hoverlabel": {
           "align": "left"
          },
          "hovermode": "closest",
          "mapbox": {
           "style": "light"
          },
          "paper_bgcolor": "white",
          "plot_bgcolor": "#E5ECF6",
          "polar": {
           "angularaxis": {
            "gridcolor": "white",
            "linecolor": "white",
            "ticks": ""
           },
           "bgcolor": "#E5ECF6",
           "radialaxis": {
            "gridcolor": "white",
            "linecolor": "white",
            "ticks": ""
           }
          },
          "scene": {
           "xaxis": {
            "backgroundcolor": "#E5ECF6",
            "gridcolor": "white",
            "gridwidth": 2,
            "linecolor": "white",
            "showbackground": true,
            "ticks": "",
            "zerolinecolor": "white"
           },
           "yaxis": {
            "backgroundcolor": "#E5ECF6",
            "gridcolor": "white",
            "gridwidth": 2,
            "linecolor": "white",
            "showbackground": true,
            "ticks": "",
            "zerolinecolor": "white"
           },
           "zaxis": {
            "backgroundcolor": "#E5ECF6",
            "gridcolor": "white",
            "gridwidth": 2,
            "linecolor": "white",
            "showbackground": true,
            "ticks": "",
            "zerolinecolor": "white"
           }
          },
          "shapedefaults": {
           "line": {
            "color": "#2a3f5f"
           }
          },
          "ternary": {
           "aaxis": {
            "gridcolor": "white",
            "linecolor": "white",
            "ticks": ""
           },
           "baxis": {
            "gridcolor": "white",
            "linecolor": "white",
            "ticks": ""
           },
           "bgcolor": "#E5ECF6",
           "caxis": {
            "gridcolor": "white",
            "linecolor": "white",
            "ticks": ""
           }
          },
          "title": {
           "x": 0.05
          },
          "xaxis": {
           "automargin": true,
           "gridcolor": "white",
           "linecolor": "white",
           "ticks": "",
           "title": {
            "standoff": 15
           },
           "zerolinecolor": "white",
           "zerolinewidth": 2
          },
          "yaxis": {
           "automargin": true,
           "gridcolor": "white",
           "linecolor": "white",
           "ticks": "",
           "title": {
            "standoff": 15
           },
           "zerolinecolor": "white",
           "zerolinewidth": 2
          }
         }
        }
       }
      }
     },
     "metadata": {},
     "output_type": "display_data"
    }
   ],
   "source": [
    "labels = ['Emails', 'SMS_Telephone', 'Telephone', 'ID', 'PIN', 'Date of Birth', 'Age']\n",
    "values = [(x * 100)/ num_of_clients for x in  valids]\n",
    "colors = ['darkblue', 'gold', 'purple', 'lightgreen', 'royalgreen', 'crimson', 'green']\n",
    "#donut\n",
    "fig = go.Figure(data=[go.Pie(\n",
    "                                labels=labels, \n",
    "                                values=values, \n",
    "                                hole=.3,\n",
    "                                pull=0.02, \n",
    "                                name='% Share of invalid data', \n",
    "                                marker_colors=colors\n",
    "                                )])\n",
    "fig.show()"
   ]
  },
  {
   "cell_type": "markdown",
   "id": "8858a266",
   "metadata": {},
   "source": [
    "### invalids chart"
   ]
  },
  {
   "cell_type": "code",
   "execution_count": 70,
   "id": "4c64bace",
   "metadata": {},
   "outputs": [
    {
     "data": {
      "application/vnd.plotly.v1+json": {
       "config": {
        "plotlyServerURL": "https://plot.ly"
       },
       "data": [
        {
         "hole": 0.3,
         "labels": [
          "Emails",
          "SMS_Telephone",
          "Telephone",
          "ID",
          "PIN",
          "Date of Birth",
          "Age"
         ],
         "marker": {
          "colors": [
           "darkblue",
           "gold",
           "purple",
           "lightgreen",
           "royalgreen",
           "crimson",
           "green"
          ]
         },
         "name": "% Share of invalid data",
         "pull": 0.02,
         "type": "pie",
         "values": [
          65.65785818313452,
          80.02727571198868,
          73.72860666571258,
          54.73831311507151,
          5.605832288044988,
          82.4155841969239,
          82.48377347689562
         ]
        }
       ],
       "layout": {
        "template": {
         "data": {
          "bar": [
           {
            "error_x": {
             "color": "#2a3f5f"
            },
            "error_y": {
             "color": "#2a3f5f"
            },
            "marker": {
             "line": {
              "color": "#E5ECF6",
              "width": 0.5
             },
             "pattern": {
              "fillmode": "overlay",
              "size": 10,
              "solidity": 0.2
             }
            },
            "type": "bar"
           }
          ],
          "barpolar": [
           {
            "marker": {
             "line": {
              "color": "#E5ECF6",
              "width": 0.5
             },
             "pattern": {
              "fillmode": "overlay",
              "size": 10,
              "solidity": 0.2
             }
            },
            "type": "barpolar"
           }
          ],
          "carpet": [
           {
            "aaxis": {
             "endlinecolor": "#2a3f5f",
             "gridcolor": "white",
             "linecolor": "white",
             "minorgridcolor": "white",
             "startlinecolor": "#2a3f5f"
            },
            "baxis": {
             "endlinecolor": "#2a3f5f",
             "gridcolor": "white",
             "linecolor": "white",
             "minorgridcolor": "white",
             "startlinecolor": "#2a3f5f"
            },
            "type": "carpet"
           }
          ],
          "choropleth": [
           {
            "colorbar": {
             "outlinewidth": 0,
             "ticks": ""
            },
            "type": "choropleth"
           }
          ],
          "contour": [
           {
            "colorbar": {
             "outlinewidth": 0,
             "ticks": ""
            },
            "colorscale": [
             [
              0,
              "#0d0887"
             ],
             [
              0.1111111111111111,
              "#46039f"
             ],
             [
              0.2222222222222222,
              "#7201a8"
             ],
             [
              0.3333333333333333,
              "#9c179e"
             ],
             [
              0.4444444444444444,
              "#bd3786"
             ],
             [
              0.5555555555555556,
              "#d8576b"
             ],
             [
              0.6666666666666666,
              "#ed7953"
             ],
             [
              0.7777777777777778,
              "#fb9f3a"
             ],
             [
              0.8888888888888888,
              "#fdca26"
             ],
             [
              1,
              "#f0f921"
             ]
            ],
            "type": "contour"
           }
          ],
          "contourcarpet": [
           {
            "colorbar": {
             "outlinewidth": 0,
             "ticks": ""
            },
            "type": "contourcarpet"
           }
          ],
          "heatmap": [
           {
            "colorbar": {
             "outlinewidth": 0,
             "ticks": ""
            },
            "colorscale": [
             [
              0,
              "#0d0887"
             ],
             [
              0.1111111111111111,
              "#46039f"
             ],
             [
              0.2222222222222222,
              "#7201a8"
             ],
             [
              0.3333333333333333,
              "#9c179e"
             ],
             [
              0.4444444444444444,
              "#bd3786"
             ],
             [
              0.5555555555555556,
              "#d8576b"
             ],
             [
              0.6666666666666666,
              "#ed7953"
             ],
             [
              0.7777777777777778,
              "#fb9f3a"
             ],
             [
              0.8888888888888888,
              "#fdca26"
             ],
             [
              1,
              "#f0f921"
             ]
            ],
            "type": "heatmap"
           }
          ],
          "heatmapgl": [
           {
            "colorbar": {
             "outlinewidth": 0,
             "ticks": ""
            },
            "colorscale": [
             [
              0,
              "#0d0887"
             ],
             [
              0.1111111111111111,
              "#46039f"
             ],
             [
              0.2222222222222222,
              "#7201a8"
             ],
             [
              0.3333333333333333,
              "#9c179e"
             ],
             [
              0.4444444444444444,
              "#bd3786"
             ],
             [
              0.5555555555555556,
              "#d8576b"
             ],
             [
              0.6666666666666666,
              "#ed7953"
             ],
             [
              0.7777777777777778,
              "#fb9f3a"
             ],
             [
              0.8888888888888888,
              "#fdca26"
             ],
             [
              1,
              "#f0f921"
             ]
            ],
            "type": "heatmapgl"
           }
          ],
          "histogram": [
           {
            "marker": {
             "pattern": {
              "fillmode": "overlay",
              "size": 10,
              "solidity": 0.2
             }
            },
            "type": "histogram"
           }
          ],
          "histogram2d": [
           {
            "colorbar": {
             "outlinewidth": 0,
             "ticks": ""
            },
            "colorscale": [
             [
              0,
              "#0d0887"
             ],
             [
              0.1111111111111111,
              "#46039f"
             ],
             [
              0.2222222222222222,
              "#7201a8"
             ],
             [
              0.3333333333333333,
              "#9c179e"
             ],
             [
              0.4444444444444444,
              "#bd3786"
             ],
             [
              0.5555555555555556,
              "#d8576b"
             ],
             [
              0.6666666666666666,
              "#ed7953"
             ],
             [
              0.7777777777777778,
              "#fb9f3a"
             ],
             [
              0.8888888888888888,
              "#fdca26"
             ],
             [
              1,
              "#f0f921"
             ]
            ],
            "type": "histogram2d"
           }
          ],
          "histogram2dcontour": [
           {
            "colorbar": {
             "outlinewidth": 0,
             "ticks": ""
            },
            "colorscale": [
             [
              0,
              "#0d0887"
             ],
             [
              0.1111111111111111,
              "#46039f"
             ],
             [
              0.2222222222222222,
              "#7201a8"
             ],
             [
              0.3333333333333333,
              "#9c179e"
             ],
             [
              0.4444444444444444,
              "#bd3786"
             ],
             [
              0.5555555555555556,
              "#d8576b"
             ],
             [
              0.6666666666666666,
              "#ed7953"
             ],
             [
              0.7777777777777778,
              "#fb9f3a"
             ],
             [
              0.8888888888888888,
              "#fdca26"
             ],
             [
              1,
              "#f0f921"
             ]
            ],
            "type": "histogram2dcontour"
           }
          ],
          "mesh3d": [
           {
            "colorbar": {
             "outlinewidth": 0,
             "ticks": ""
            },
            "type": "mesh3d"
           }
          ],
          "parcoords": [
           {
            "line": {
             "colorbar": {
              "outlinewidth": 0,
              "ticks": ""
             }
            },
            "type": "parcoords"
           }
          ],
          "pie": [
           {
            "automargin": true,
            "type": "pie"
           }
          ],
          "scatter": [
           {
            "marker": {
             "colorbar": {
              "outlinewidth": 0,
              "ticks": ""
             }
            },
            "type": "scatter"
           }
          ],
          "scatter3d": [
           {
            "line": {
             "colorbar": {
              "outlinewidth": 0,
              "ticks": ""
             }
            },
            "marker": {
             "colorbar": {
              "outlinewidth": 0,
              "ticks": ""
             }
            },
            "type": "scatter3d"
           }
          ],
          "scattercarpet": [
           {
            "marker": {
             "colorbar": {
              "outlinewidth": 0,
              "ticks": ""
             }
            },
            "type": "scattercarpet"
           }
          ],
          "scattergeo": [
           {
            "marker": {
             "colorbar": {
              "outlinewidth": 0,
              "ticks": ""
             }
            },
            "type": "scattergeo"
           }
          ],
          "scattergl": [
           {
            "marker": {
             "colorbar": {
              "outlinewidth": 0,
              "ticks": ""
             }
            },
            "type": "scattergl"
           }
          ],
          "scattermapbox": [
           {
            "marker": {
             "colorbar": {
              "outlinewidth": 0,
              "ticks": ""
             }
            },
            "type": "scattermapbox"
           }
          ],
          "scatterpolar": [
           {
            "marker": {
             "colorbar": {
              "outlinewidth": 0,
              "ticks": ""
             }
            },
            "type": "scatterpolar"
           }
          ],
          "scatterpolargl": [
           {
            "marker": {
             "colorbar": {
              "outlinewidth": 0,
              "ticks": ""
             }
            },
            "type": "scatterpolargl"
           }
          ],
          "scatterternary": [
           {
            "marker": {
             "colorbar": {
              "outlinewidth": 0,
              "ticks": ""
             }
            },
            "type": "scatterternary"
           }
          ],
          "surface": [
           {
            "colorbar": {
             "outlinewidth": 0,
             "ticks": ""
            },
            "colorscale": [
             [
              0,
              "#0d0887"
             ],
             [
              0.1111111111111111,
              "#46039f"
             ],
             [
              0.2222222222222222,
              "#7201a8"
             ],
             [
              0.3333333333333333,
              "#9c179e"
             ],
             [
              0.4444444444444444,
              "#bd3786"
             ],
             [
              0.5555555555555556,
              "#d8576b"
             ],
             [
              0.6666666666666666,
              "#ed7953"
             ],
             [
              0.7777777777777778,
              "#fb9f3a"
             ],
             [
              0.8888888888888888,
              "#fdca26"
             ],
             [
              1,
              "#f0f921"
             ]
            ],
            "type": "surface"
           }
          ],
          "table": [
           {
            "cells": {
             "fill": {
              "color": "#EBF0F8"
             },
             "line": {
              "color": "white"
             }
            },
            "header": {
             "fill": {
              "color": "#C8D4E3"
             },
             "line": {
              "color": "white"
             }
            },
            "type": "table"
           }
          ]
         },
         "layout": {
          "annotationdefaults": {
           "arrowcolor": "#2a3f5f",
           "arrowhead": 0,
           "arrowwidth": 1
          },
          "autotypenumbers": "strict",
          "coloraxis": {
           "colorbar": {
            "outlinewidth": 0,
            "ticks": ""
           }
          },
          "colorscale": {
           "diverging": [
            [
             0,
             "#8e0152"
            ],
            [
             0.1,
             "#c51b7d"
            ],
            [
             0.2,
             "#de77ae"
            ],
            [
             0.3,
             "#f1b6da"
            ],
            [
             0.4,
             "#fde0ef"
            ],
            [
             0.5,
             "#f7f7f7"
            ],
            [
             0.6,
             "#e6f5d0"
            ],
            [
             0.7,
             "#b8e186"
            ],
            [
             0.8,
             "#7fbc41"
            ],
            [
             0.9,
             "#4d9221"
            ],
            [
             1,
             "#276419"
            ]
           ],
           "sequential": [
            [
             0,
             "#0d0887"
            ],
            [
             0.1111111111111111,
             "#46039f"
            ],
            [
             0.2222222222222222,
             "#7201a8"
            ],
            [
             0.3333333333333333,
             "#9c179e"
            ],
            [
             0.4444444444444444,
             "#bd3786"
            ],
            [
             0.5555555555555556,
             "#d8576b"
            ],
            [
             0.6666666666666666,
             "#ed7953"
            ],
            [
             0.7777777777777778,
             "#fb9f3a"
            ],
            [
             0.8888888888888888,
             "#fdca26"
            ],
            [
             1,
             "#f0f921"
            ]
           ],
           "sequentialminus": [
            [
             0,
             "#0d0887"
            ],
            [
             0.1111111111111111,
             "#46039f"
            ],
            [
             0.2222222222222222,
             "#7201a8"
            ],
            [
             0.3333333333333333,
             "#9c179e"
            ],
            [
             0.4444444444444444,
             "#bd3786"
            ],
            [
             0.5555555555555556,
             "#d8576b"
            ],
            [
             0.6666666666666666,
             "#ed7953"
            ],
            [
             0.7777777777777778,
             "#fb9f3a"
            ],
            [
             0.8888888888888888,
             "#fdca26"
            ],
            [
             1,
             "#f0f921"
            ]
           ]
          },
          "colorway": [
           "#636efa",
           "#EF553B",
           "#00cc96",
           "#ab63fa",
           "#FFA15A",
           "#19d3f3",
           "#FF6692",
           "#B6E880",
           "#FF97FF",
           "#FECB52"
          ],
          "font": {
           "color": "#2a3f5f"
          },
          "geo": {
           "bgcolor": "white",
           "lakecolor": "white",
           "landcolor": "#E5ECF6",
           "showlakes": true,
           "showland": true,
           "subunitcolor": "white"
          },
          "hoverlabel": {
           "align": "left"
          },
          "hovermode": "closest",
          "mapbox": {
           "style": "light"
          },
          "paper_bgcolor": "white",
          "plot_bgcolor": "#E5ECF6",
          "polar": {
           "angularaxis": {
            "gridcolor": "white",
            "linecolor": "white",
            "ticks": ""
           },
           "bgcolor": "#E5ECF6",
           "radialaxis": {
            "gridcolor": "white",
            "linecolor": "white",
            "ticks": ""
           }
          },
          "scene": {
           "xaxis": {
            "backgroundcolor": "#E5ECF6",
            "gridcolor": "white",
            "gridwidth": 2,
            "linecolor": "white",
            "showbackground": true,
            "ticks": "",
            "zerolinecolor": "white"
           },
           "yaxis": {
            "backgroundcolor": "#E5ECF6",
            "gridcolor": "white",
            "gridwidth": 2,
            "linecolor": "white",
            "showbackground": true,
            "ticks": "",
            "zerolinecolor": "white"
           },
           "zaxis": {
            "backgroundcolor": "#E5ECF6",
            "gridcolor": "white",
            "gridwidth": 2,
            "linecolor": "white",
            "showbackground": true,
            "ticks": "",
            "zerolinecolor": "white"
           }
          },
          "shapedefaults": {
           "line": {
            "color": "#2a3f5f"
           }
          },
          "ternary": {
           "aaxis": {
            "gridcolor": "white",
            "linecolor": "white",
            "ticks": ""
           },
           "baxis": {
            "gridcolor": "white",
            "linecolor": "white",
            "ticks": ""
           },
           "bgcolor": "#E5ECF6",
           "caxis": {
            "gridcolor": "white",
            "linecolor": "white",
            "ticks": ""
           }
          },
          "title": {
           "x": 0.05
          },
          "xaxis": {
           "automargin": true,
           "gridcolor": "white",
           "linecolor": "white",
           "ticks": "",
           "title": {
            "standoff": 15
           },
           "zerolinecolor": "white",
           "zerolinewidth": 2
          },
          "yaxis": {
           "automargin": true,
           "gridcolor": "white",
           "linecolor": "white",
           "ticks": "",
           "title": {
            "standoff": 15
           },
           "zerolinecolor": "white",
           "zerolinewidth": 2
          }
         }
        }
       }
      }
     },
     "metadata": {},
     "output_type": "display_data"
    }
   ],
   "source": [
    "labels = ['Emails', 'SMS_Telephone', 'Telephone', 'ID', 'PIN', 'Date of Birth', 'Age']\n",
    "values = [(x * 100)/ num_of_clients for x in  invalids]\n",
    "colors = ['darkblue', 'gold', 'purple', 'lightgreen', 'royalgreen', 'crimson', 'green']\n",
    "#donut\n",
    "fig = go.Figure(data=[go.Pie(\n",
    "                             labels=labels, \n",
    "                             values=values, \n",
    "                             hole= 0.3, \n",
    "                             pull= 0.02, \n",
    "                             name='% Share of invalid data', \n",
    "                             marker_colors = colors)])\n",
    "fig.show()"
   ]
  },
  {
   "cell_type": "markdown",
   "id": "dc8b9afc",
   "metadata": {},
   "source": [
    "# Subplots"
   ]
  },
  {
   "cell_type": "code",
   "execution_count": 71,
   "id": "34f3260b",
   "metadata": {},
   "outputs": [],
   "source": [
    "# specs = [\n",
    "#         [{'type':'domain'}], \n",
    "#         [{'type':'domain'}], \n",
    "#         [{'type':'domain'}],\n",
    "#         [{'type':'domain'}], \n",
    "#         [{'type':'domain'}],\n",
    "#         [{'type':'domain'}], \n",
    "#         [{'type':'domain'}],\n",
    "#         [{'type':'domain'}],\n",
    "#         [{'type':'domain'}],"
   ]
  },
  {
   "cell_type": "code",
   "execution_count": 72,
   "id": "ba225bc7",
   "metadata": {},
   "outputs": [
    {
     "data": {
      "application/vnd.plotly.v1+json": {
       "config": {
        "plotlyServerURL": "https://plot.ly"
       },
       "data": [
        {
         "domain": {
          "x": [
           0,
           0.2888888888888889
          ],
          "y": [
           0.7333333333333333,
           1
          ]
         },
         "hoverinfo": "label+percent+name",
         "labels": [
          "1st",
          "2nd",
          "3rd",
          "4th",
          "5th",
          "6th",
          "7th"
         ],
         "marker": {
          "colors": [
           "rgb(29,66,138)",
           "crimson"
          ]
         },
         "name": "ID",
         "textinfo": "none",
         "type": "pie",
         "values": [
          53765,
          65022
         ]
        },
        {
         "domain": {
          "x": [
           0.35555555555555557,
           0.6444444444444445
          ],
          "y": [
           0.7333333333333333,
           1
          ]
         },
         "hoverinfo": "label+percent+name",
         "labels": [
          "1st",
          "2nd",
          "3rd",
          "4th",
          "5th",
          "6th",
          "7th"
         ],
         "marker": {
          "colors": [
           "rgb(29,66,138)",
           "crimson"
          ]
         },
         "name": "PIN",
         "textinfo": "none",
         "type": "pie",
         "values": [
          112128,
          6659
         ]
        },
        {
         "domain": {
          "x": [
           0.7111111111111111,
           1
          ],
          "y": [
           0.7333333333333333,
           1
          ]
         },
         "hoverinfo": "label+percent+name",
         "labels": [
          "1st",
          "2nd",
          "3rd",
          "4th",
          "5th",
          "6th",
          "7th"
         ],
         "marker": {
          "colors": [
           "rgb(29,66,138)",
           "crimson"
          ]
         },
         "name": "Email",
         "textinfo": "none",
         "type": "pie",
         "values": [
          40794,
          77993
         ]
        },
        {
         "domain": {
          "x": [
           0,
           0.2888888888888889
          ],
          "y": [
           0.36666666666666664,
           0.6333333333333333
          ]
         },
         "hoverinfo": "label+percent+name",
         "labels": [
          "1st",
          "2nd",
          "3rd",
          "4th",
          "5th",
          "6th",
          "7th"
         ],
         "marker": {
          "colors": [
           "rgb(29,66,138)",
           "crimson"
          ]
         },
         "name": "Telephone",
         "textinfo": "none",
         "type": "pie",
         "values": [
          31207,
          87580
         ]
        },
        {
         "domain": {
          "x": [
           0.35555555555555557,
           0.6444444444444445
          ],
          "y": [
           0.36666666666666664,
           0.6333333333333333
          ]
         },
         "hoverinfo": "label+percent+name",
         "labels": [
          "1st",
          "2nd",
          "3rd",
          "4th",
          "5th",
          "6th",
          "7th"
         ],
         "marker": {
          "colors": [
           "rgb(29,66,138)",
           "crimson"
          ]
         },
         "name": "SMS",
         "textinfo": "none",
         "type": "pie",
         "values": [
          23725,
          95062
         ]
        },
        {
         "domain": {
          "x": [
           0.7111111111111111,
           1
          ],
          "y": [
           0.36666666666666664,
           0.6333333333333333
          ]
         },
         "hoverinfo": "label+percent+name",
         "labels": [
          "1st",
          "2nd",
          "3rd",
          "4th",
          "5th",
          "6th",
          "7th"
         ],
         "marker": {
          "colors": [
           "rgb(29,66,138)",
           "crimson"
          ]
         },
         "name": "Date of Birth",
         "textinfo": "none",
         "type": "pie",
         "values": [
          20888,
          97899
         ]
        },
        {
         "domain": {
          "x": [
           0,
           0.2888888888888889
          ],
          "y": [
           0.7333333333333333,
           1
          ]
         },
         "hoverinfo": "label+percent+name",
         "labels": [
          "1st",
          "2nd",
          "3rd",
          "4th",
          "5th",
          "6th",
          "7th"
         ],
         "marker": {
          "colors": [
           "rgb(29,66,138)",
           "crimson"
          ]
         },
         "name": "Age",
         "textinfo": "none",
         "type": "pie",
         "values": [
          20807,
          97980
         ]
        }
       ],
       "layout": {
        "showlegend": false,
        "template": {
         "data": {
          "bar": [
           {
            "error_x": {
             "color": "#2a3f5f"
            },
            "error_y": {
             "color": "#2a3f5f"
            },
            "marker": {
             "line": {
              "color": "#E5ECF6",
              "width": 0.5
             },
             "pattern": {
              "fillmode": "overlay",
              "size": 10,
              "solidity": 0.2
             }
            },
            "type": "bar"
           }
          ],
          "barpolar": [
           {
            "marker": {
             "line": {
              "color": "#E5ECF6",
              "width": 0.5
             },
             "pattern": {
              "fillmode": "overlay",
              "size": 10,
              "solidity": 0.2
             }
            },
            "type": "barpolar"
           }
          ],
          "carpet": [
           {
            "aaxis": {
             "endlinecolor": "#2a3f5f",
             "gridcolor": "white",
             "linecolor": "white",
             "minorgridcolor": "white",
             "startlinecolor": "#2a3f5f"
            },
            "baxis": {
             "endlinecolor": "#2a3f5f",
             "gridcolor": "white",
             "linecolor": "white",
             "minorgridcolor": "white",
             "startlinecolor": "#2a3f5f"
            },
            "type": "carpet"
           }
          ],
          "choropleth": [
           {
            "colorbar": {
             "outlinewidth": 0,
             "ticks": ""
            },
            "type": "choropleth"
           }
          ],
          "contour": [
           {
            "colorbar": {
             "outlinewidth": 0,
             "ticks": ""
            },
            "colorscale": [
             [
              0,
              "#0d0887"
             ],
             [
              0.1111111111111111,
              "#46039f"
             ],
             [
              0.2222222222222222,
              "#7201a8"
             ],
             [
              0.3333333333333333,
              "#9c179e"
             ],
             [
              0.4444444444444444,
              "#bd3786"
             ],
             [
              0.5555555555555556,
              "#d8576b"
             ],
             [
              0.6666666666666666,
              "#ed7953"
             ],
             [
              0.7777777777777778,
              "#fb9f3a"
             ],
             [
              0.8888888888888888,
              "#fdca26"
             ],
             [
              1,
              "#f0f921"
             ]
            ],
            "type": "contour"
           }
          ],
          "contourcarpet": [
           {
            "colorbar": {
             "outlinewidth": 0,
             "ticks": ""
            },
            "type": "contourcarpet"
           }
          ],
          "heatmap": [
           {
            "colorbar": {
             "outlinewidth": 0,
             "ticks": ""
            },
            "colorscale": [
             [
              0,
              "#0d0887"
             ],
             [
              0.1111111111111111,
              "#46039f"
             ],
             [
              0.2222222222222222,
              "#7201a8"
             ],
             [
              0.3333333333333333,
              "#9c179e"
             ],
             [
              0.4444444444444444,
              "#bd3786"
             ],
             [
              0.5555555555555556,
              "#d8576b"
             ],
             [
              0.6666666666666666,
              "#ed7953"
             ],
             [
              0.7777777777777778,
              "#fb9f3a"
             ],
             [
              0.8888888888888888,
              "#fdca26"
             ],
             [
              1,
              "#f0f921"
             ]
            ],
            "type": "heatmap"
           }
          ],
          "heatmapgl": [
           {
            "colorbar": {
             "outlinewidth": 0,
             "ticks": ""
            },
            "colorscale": [
             [
              0,
              "#0d0887"
             ],
             [
              0.1111111111111111,
              "#46039f"
             ],
             [
              0.2222222222222222,
              "#7201a8"
             ],
             [
              0.3333333333333333,
              "#9c179e"
             ],
             [
              0.4444444444444444,
              "#bd3786"
             ],
             [
              0.5555555555555556,
              "#d8576b"
             ],
             [
              0.6666666666666666,
              "#ed7953"
             ],
             [
              0.7777777777777778,
              "#fb9f3a"
             ],
             [
              0.8888888888888888,
              "#fdca26"
             ],
             [
              1,
              "#f0f921"
             ]
            ],
            "type": "heatmapgl"
           }
          ],
          "histogram": [
           {
            "marker": {
             "pattern": {
              "fillmode": "overlay",
              "size": 10,
              "solidity": 0.2
             }
            },
            "type": "histogram"
           }
          ],
          "histogram2d": [
           {
            "colorbar": {
             "outlinewidth": 0,
             "ticks": ""
            },
            "colorscale": [
             [
              0,
              "#0d0887"
             ],
             [
              0.1111111111111111,
              "#46039f"
             ],
             [
              0.2222222222222222,
              "#7201a8"
             ],
             [
              0.3333333333333333,
              "#9c179e"
             ],
             [
              0.4444444444444444,
              "#bd3786"
             ],
             [
              0.5555555555555556,
              "#d8576b"
             ],
             [
              0.6666666666666666,
              "#ed7953"
             ],
             [
              0.7777777777777778,
              "#fb9f3a"
             ],
             [
              0.8888888888888888,
              "#fdca26"
             ],
             [
              1,
              "#f0f921"
             ]
            ],
            "type": "histogram2d"
           }
          ],
          "histogram2dcontour": [
           {
            "colorbar": {
             "outlinewidth": 0,
             "ticks": ""
            },
            "colorscale": [
             [
              0,
              "#0d0887"
             ],
             [
              0.1111111111111111,
              "#46039f"
             ],
             [
              0.2222222222222222,
              "#7201a8"
             ],
             [
              0.3333333333333333,
              "#9c179e"
             ],
             [
              0.4444444444444444,
              "#bd3786"
             ],
             [
              0.5555555555555556,
              "#d8576b"
             ],
             [
              0.6666666666666666,
              "#ed7953"
             ],
             [
              0.7777777777777778,
              "#fb9f3a"
             ],
             [
              0.8888888888888888,
              "#fdca26"
             ],
             [
              1,
              "#f0f921"
             ]
            ],
            "type": "histogram2dcontour"
           }
          ],
          "mesh3d": [
           {
            "colorbar": {
             "outlinewidth": 0,
             "ticks": ""
            },
            "type": "mesh3d"
           }
          ],
          "parcoords": [
           {
            "line": {
             "colorbar": {
              "outlinewidth": 0,
              "ticks": ""
             }
            },
            "type": "parcoords"
           }
          ],
          "pie": [
           {
            "automargin": true,
            "type": "pie"
           }
          ],
          "scatter": [
           {
            "marker": {
             "colorbar": {
              "outlinewidth": 0,
              "ticks": ""
             }
            },
            "type": "scatter"
           }
          ],
          "scatter3d": [
           {
            "line": {
             "colorbar": {
              "outlinewidth": 0,
              "ticks": ""
             }
            },
            "marker": {
             "colorbar": {
              "outlinewidth": 0,
              "ticks": ""
             }
            },
            "type": "scatter3d"
           }
          ],
          "scattercarpet": [
           {
            "marker": {
             "colorbar": {
              "outlinewidth": 0,
              "ticks": ""
             }
            },
            "type": "scattercarpet"
           }
          ],
          "scattergeo": [
           {
            "marker": {
             "colorbar": {
              "outlinewidth": 0,
              "ticks": ""
             }
            },
            "type": "scattergeo"
           }
          ],
          "scattergl": [
           {
            "marker": {
             "colorbar": {
              "outlinewidth": 0,
              "ticks": ""
             }
            },
            "type": "scattergl"
           }
          ],
          "scattermapbox": [
           {
            "marker": {
             "colorbar": {
              "outlinewidth": 0,
              "ticks": ""
             }
            },
            "type": "scattermapbox"
           }
          ],
          "scatterpolar": [
           {
            "marker": {
             "colorbar": {
              "outlinewidth": 0,
              "ticks": ""
             }
            },
            "type": "scatterpolar"
           }
          ],
          "scatterpolargl": [
           {
            "marker": {
             "colorbar": {
              "outlinewidth": 0,
              "ticks": ""
             }
            },
            "type": "scatterpolargl"
           }
          ],
          "scatterternary": [
           {
            "marker": {
             "colorbar": {
              "outlinewidth": 0,
              "ticks": ""
             }
            },
            "type": "scatterternary"
           }
          ],
          "surface": [
           {
            "colorbar": {
             "outlinewidth": 0,
             "ticks": ""
            },
            "colorscale": [
             [
              0,
              "#0d0887"
             ],
             [
              0.1111111111111111,
              "#46039f"
             ],
             [
              0.2222222222222222,
              "#7201a8"
             ],
             [
              0.3333333333333333,
              "#9c179e"
             ],
             [
              0.4444444444444444,
              "#bd3786"
             ],
             [
              0.5555555555555556,
              "#d8576b"
             ],
             [
              0.6666666666666666,
              "#ed7953"
             ],
             [
              0.7777777777777778,
              "#fb9f3a"
             ],
             [
              0.8888888888888888,
              "#fdca26"
             ],
             [
              1,
              "#f0f921"
             ]
            ],
            "type": "surface"
           }
          ],
          "table": [
           {
            "cells": {
             "fill": {
              "color": "#EBF0F8"
             },
             "line": {
              "color": "white"
             }
            },
            "header": {
             "fill": {
              "color": "#C8D4E3"
             },
             "line": {
              "color": "white"
             }
            },
            "type": "table"
           }
          ]
         },
         "layout": {
          "annotationdefaults": {
           "arrowcolor": "#2a3f5f",
           "arrowhead": 0,
           "arrowwidth": 1
          },
          "autotypenumbers": "strict",
          "coloraxis": {
           "colorbar": {
            "outlinewidth": 0,
            "ticks": ""
           }
          },
          "colorscale": {
           "diverging": [
            [
             0,
             "#8e0152"
            ],
            [
             0.1,
             "#c51b7d"
            ],
            [
             0.2,
             "#de77ae"
            ],
            [
             0.3,
             "#f1b6da"
            ],
            [
             0.4,
             "#fde0ef"
            ],
            [
             0.5,
             "#f7f7f7"
            ],
            [
             0.6,
             "#e6f5d0"
            ],
            [
             0.7,
             "#b8e186"
            ],
            [
             0.8,
             "#7fbc41"
            ],
            [
             0.9,
             "#4d9221"
            ],
            [
             1,
             "#276419"
            ]
           ],
           "sequential": [
            [
             0,
             "#0d0887"
            ],
            [
             0.1111111111111111,
             "#46039f"
            ],
            [
             0.2222222222222222,
             "#7201a8"
            ],
            [
             0.3333333333333333,
             "#9c179e"
            ],
            [
             0.4444444444444444,
             "#bd3786"
            ],
            [
             0.5555555555555556,
             "#d8576b"
            ],
            [
             0.6666666666666666,
             "#ed7953"
            ],
            [
             0.7777777777777778,
             "#fb9f3a"
            ],
            [
             0.8888888888888888,
             "#fdca26"
            ],
            [
             1,
             "#f0f921"
            ]
           ],
           "sequentialminus": [
            [
             0,
             "#0d0887"
            ],
            [
             0.1111111111111111,
             "#46039f"
            ],
            [
             0.2222222222222222,
             "#7201a8"
            ],
            [
             0.3333333333333333,
             "#9c179e"
            ],
            [
             0.4444444444444444,
             "#bd3786"
            ],
            [
             0.5555555555555556,
             "#d8576b"
            ],
            [
             0.6666666666666666,
             "#ed7953"
            ],
            [
             0.7777777777777778,
             "#fb9f3a"
            ],
            [
             0.8888888888888888,
             "#fdca26"
            ],
            [
             1,
             "#f0f921"
            ]
           ]
          },
          "colorway": [
           "#636efa",
           "#EF553B",
           "#00cc96",
           "#ab63fa",
           "#FFA15A",
           "#19d3f3",
           "#FF6692",
           "#B6E880",
           "#FF97FF",
           "#FECB52"
          ],
          "font": {
           "color": "#2a3f5f"
          },
          "geo": {
           "bgcolor": "white",
           "lakecolor": "white",
           "landcolor": "#E5ECF6",
           "showlakes": true,
           "showland": true,
           "subunitcolor": "white"
          },
          "hoverlabel": {
           "align": "left"
          },
          "hovermode": "closest",
          "mapbox": {
           "style": "light"
          },
          "paper_bgcolor": "white",
          "plot_bgcolor": "#E5ECF6",
          "polar": {
           "angularaxis": {
            "gridcolor": "white",
            "linecolor": "white",
            "ticks": ""
           },
           "bgcolor": "#E5ECF6",
           "radialaxis": {
            "gridcolor": "white",
            "linecolor": "white",
            "ticks": ""
           }
          },
          "scene": {
           "xaxis": {
            "backgroundcolor": "#E5ECF6",
            "gridcolor": "white",
            "gridwidth": 2,
            "linecolor": "white",
            "showbackground": true,
            "ticks": "",
            "zerolinecolor": "white"
           },
           "yaxis": {
            "backgroundcolor": "#E5ECF6",
            "gridcolor": "white",
            "gridwidth": 2,
            "linecolor": "white",
            "showbackground": true,
            "ticks": "",
            "zerolinecolor": "white"
           },
           "zaxis": {
            "backgroundcolor": "#E5ECF6",
            "gridcolor": "white",
            "gridwidth": 2,
            "linecolor": "white",
            "showbackground": true,
            "ticks": "",
            "zerolinecolor": "white"
           }
          },
          "shapedefaults": {
           "line": {
            "color": "#2a3f5f"
           }
          },
          "ternary": {
           "aaxis": {
            "gridcolor": "white",
            "linecolor": "white",
            "ticks": ""
           },
           "baxis": {
            "gridcolor": "white",
            "linecolor": "white",
            "ticks": ""
           },
           "bgcolor": "#E5ECF6",
           "caxis": {
            "gridcolor": "white",
            "linecolor": "white",
            "ticks": ""
           }
          },
          "title": {
           "x": 0.05
          },
          "xaxis": {
           "automargin": true,
           "gridcolor": "white",
           "linecolor": "white",
           "ticks": "",
           "title": {
            "standoff": 15
           },
           "zerolinecolor": "white",
           "zerolinewidth": 2
          },
          "yaxis": {
           "automargin": true,
           "gridcolor": "white",
           "linecolor": "white",
           "ticks": "",
           "title": {
            "standoff": 15
           },
           "zerolinecolor": "white",
           "zerolinewidth": 2
          }
         }
        },
        "title": {
         "text": "Valid vs Invalid for client details"
        }
       }
      }
     },
     "metadata": {},
     "output_type": "display_data"
    }
   ],
   "source": [
    "from plotly.subplots import make_subplots\n",
    "\n",
    "labels = ['1st', '2nd', '3rd', '4th', '5th', '6th', '7th']\n",
    "\n",
    "# Define color sets of paintings\n",
    "# colors = ['rgb(29,66,138)', 'rgb(96, 135, 215)']\n",
    "colors = ['rgb(29,66,138)', 'crimson']\n",
    "\n",
    "\n",
    "# Create subplots, using 'domain' type for pie charts\n",
    "specs = [[{'type':'domain'}, {'type':'domain'}, {'type':'domain'}], \n",
    "        [{'type':'domain'}, {'type':'domain'}, {'type':'domain'}],\n",
    "        [{'type':'domain'}, {'type':'domain'}, {'type':'domain'}]\n",
    "        ]\n",
    "\n",
    "fig = make_subplots(rows=3, cols=3, specs=specs)\n",
    "\n",
    "# Define pie charts\n",
    "fig.add_trace(go.Pie(labels=labels, values=[valid_ids, invalid_ids], name='ID',\n",
    "                     marker_colors=colors), 1, 1)\n",
    "fig.add_trace(go.Pie(labels=labels, values=[valid_pins, invalid_pins], name='PIN',\n",
    "                     marker_colors=colors), 1, 2)\n",
    "fig.add_trace(go.Pie(labels=labels, values=[valid_emails,  invalid_emails], name='Email',\n",
    "                     marker_colors=colors), 1, 3)\n",
    "fig.add_trace(go.Pie(labels=labels, values=[valid_tel, invalid_tel], name='Telephone',\n",
    "                     marker_colors=colors), 2, 1)\n",
    "fig.add_trace(go.Pie(labels=labels, values=[valid_sms, invalid_sms], name='SMS',\n",
    "                     marker_colors=colors), 2, 2)\n",
    "fig.add_trace(go.Pie(labels=labels, values=[valid_DOBs, invalid_DOBs], name='Date of Birth',\n",
    "                     marker_colors=colors), 2, 3)\n",
    "fig.add_trace(go.Pie(labels=labels, values=[valid_age, invalid_age], name='Age',\n",
    "                     marker_colors=colors), 1, 1)\n",
    "\n",
    "# Tune layout and hover info\n",
    "fig.update_traces(hoverinfo='label+percent+name', textinfo='none')\n",
    "fig.update(layout_title_text='Valid vs Invalid for client details',\n",
    "           layout_showlegend=False)\n",
    "\n",
    "fig = go.Figure(fig)\n",
    "fig.show()\n",
    "\n"
   ]
  },
  {
   "cell_type": "markdown",
   "id": "3bc584a8",
   "metadata": {},
   "source": [
    "# Donut charts"
   ]
  },
  {
   "cell_type": "markdown",
   "id": "c372a03f",
   "metadata": {},
   "source": [
    "## Trial 1"
   ]
  },
  {
   "cell_type": "code",
   "execution_count": 73,
   "id": "561b5f84",
   "metadata": {},
   "outputs": [
    {
     "data": {
      "application/vnd.plotly.v1+json": {
       "config": {
        "plotlyServerURL": "https://plot.ly"
       },
       "data": [
        {
         "hole": 0.45,
         "labels": [
          "INVALID",
          "VALID"
         ],
         "marker": {
          "colors": [
           "crimson",
           "rgb(29,66,138)"
          ]
         },
         "pull": 0.005,
         "text": [
          "INVALID",
          "VALID"
         ],
         "title": {
          "text": "EMAILS"
         },
         "type": "pie",
         "values": [
          77993,
          40794
         ]
        }
       ],
       "layout": {
        "font": {
         "size": 24
        },
        "margin": {
         "b": 0,
         "l": 0,
         "r": 0,
         "t": 0
        },
        "template": {
         "data": {
          "bar": [
           {
            "error_x": {
             "color": "#2a3f5f"
            },
            "error_y": {
             "color": "#2a3f5f"
            },
            "marker": {
             "line": {
              "color": "#E5ECF6",
              "width": 0.5
             },
             "pattern": {
              "fillmode": "overlay",
              "size": 10,
              "solidity": 0.2
             }
            },
            "type": "bar"
           }
          ],
          "barpolar": [
           {
            "marker": {
             "line": {
              "color": "#E5ECF6",
              "width": 0.5
             },
             "pattern": {
              "fillmode": "overlay",
              "size": 10,
              "solidity": 0.2
             }
            },
            "type": "barpolar"
           }
          ],
          "carpet": [
           {
            "aaxis": {
             "endlinecolor": "#2a3f5f",
             "gridcolor": "white",
             "linecolor": "white",
             "minorgridcolor": "white",
             "startlinecolor": "#2a3f5f"
            },
            "baxis": {
             "endlinecolor": "#2a3f5f",
             "gridcolor": "white",
             "linecolor": "white",
             "minorgridcolor": "white",
             "startlinecolor": "#2a3f5f"
            },
            "type": "carpet"
           }
          ],
          "choropleth": [
           {
            "colorbar": {
             "outlinewidth": 0,
             "ticks": ""
            },
            "type": "choropleth"
           }
          ],
          "contour": [
           {
            "colorbar": {
             "outlinewidth": 0,
             "ticks": ""
            },
            "colorscale": [
             [
              0,
              "#0d0887"
             ],
             [
              0.1111111111111111,
              "#46039f"
             ],
             [
              0.2222222222222222,
              "#7201a8"
             ],
             [
              0.3333333333333333,
              "#9c179e"
             ],
             [
              0.4444444444444444,
              "#bd3786"
             ],
             [
              0.5555555555555556,
              "#d8576b"
             ],
             [
              0.6666666666666666,
              "#ed7953"
             ],
             [
              0.7777777777777778,
              "#fb9f3a"
             ],
             [
              0.8888888888888888,
              "#fdca26"
             ],
             [
              1,
              "#f0f921"
             ]
            ],
            "type": "contour"
           }
          ],
          "contourcarpet": [
           {
            "colorbar": {
             "outlinewidth": 0,
             "ticks": ""
            },
            "type": "contourcarpet"
           }
          ],
          "heatmap": [
           {
            "colorbar": {
             "outlinewidth": 0,
             "ticks": ""
            },
            "colorscale": [
             [
              0,
              "#0d0887"
             ],
             [
              0.1111111111111111,
              "#46039f"
             ],
             [
              0.2222222222222222,
              "#7201a8"
             ],
             [
              0.3333333333333333,
              "#9c179e"
             ],
             [
              0.4444444444444444,
              "#bd3786"
             ],
             [
              0.5555555555555556,
              "#d8576b"
             ],
             [
              0.6666666666666666,
              "#ed7953"
             ],
             [
              0.7777777777777778,
              "#fb9f3a"
             ],
             [
              0.8888888888888888,
              "#fdca26"
             ],
             [
              1,
              "#f0f921"
             ]
            ],
            "type": "heatmap"
           }
          ],
          "heatmapgl": [
           {
            "colorbar": {
             "outlinewidth": 0,
             "ticks": ""
            },
            "colorscale": [
             [
              0,
              "#0d0887"
             ],
             [
              0.1111111111111111,
              "#46039f"
             ],
             [
              0.2222222222222222,
              "#7201a8"
             ],
             [
              0.3333333333333333,
              "#9c179e"
             ],
             [
              0.4444444444444444,
              "#bd3786"
             ],
             [
              0.5555555555555556,
              "#d8576b"
             ],
             [
              0.6666666666666666,
              "#ed7953"
             ],
             [
              0.7777777777777778,
              "#fb9f3a"
             ],
             [
              0.8888888888888888,
              "#fdca26"
             ],
             [
              1,
              "#f0f921"
             ]
            ],
            "type": "heatmapgl"
           }
          ],
          "histogram": [
           {
            "marker": {
             "pattern": {
              "fillmode": "overlay",
              "size": 10,
              "solidity": 0.2
             }
            },
            "type": "histogram"
           }
          ],
          "histogram2d": [
           {
            "colorbar": {
             "outlinewidth": 0,
             "ticks": ""
            },
            "colorscale": [
             [
              0,
              "#0d0887"
             ],
             [
              0.1111111111111111,
              "#46039f"
             ],
             [
              0.2222222222222222,
              "#7201a8"
             ],
             [
              0.3333333333333333,
              "#9c179e"
             ],
             [
              0.4444444444444444,
              "#bd3786"
             ],
             [
              0.5555555555555556,
              "#d8576b"
             ],
             [
              0.6666666666666666,
              "#ed7953"
             ],
             [
              0.7777777777777778,
              "#fb9f3a"
             ],
             [
              0.8888888888888888,
              "#fdca26"
             ],
             [
              1,
              "#f0f921"
             ]
            ],
            "type": "histogram2d"
           }
          ],
          "histogram2dcontour": [
           {
            "colorbar": {
             "outlinewidth": 0,
             "ticks": ""
            },
            "colorscale": [
             [
              0,
              "#0d0887"
             ],
             [
              0.1111111111111111,
              "#46039f"
             ],
             [
              0.2222222222222222,
              "#7201a8"
             ],
             [
              0.3333333333333333,
              "#9c179e"
             ],
             [
              0.4444444444444444,
              "#bd3786"
             ],
             [
              0.5555555555555556,
              "#d8576b"
             ],
             [
              0.6666666666666666,
              "#ed7953"
             ],
             [
              0.7777777777777778,
              "#fb9f3a"
             ],
             [
              0.8888888888888888,
              "#fdca26"
             ],
             [
              1,
              "#f0f921"
             ]
            ],
            "type": "histogram2dcontour"
           }
          ],
          "mesh3d": [
           {
            "colorbar": {
             "outlinewidth": 0,
             "ticks": ""
            },
            "type": "mesh3d"
           }
          ],
          "parcoords": [
           {
            "line": {
             "colorbar": {
              "outlinewidth": 0,
              "ticks": ""
             }
            },
            "type": "parcoords"
           }
          ],
          "pie": [
           {
            "automargin": true,
            "type": "pie"
           }
          ],
          "scatter": [
           {
            "marker": {
             "colorbar": {
              "outlinewidth": 0,
              "ticks": ""
             }
            },
            "type": "scatter"
           }
          ],
          "scatter3d": [
           {
            "line": {
             "colorbar": {
              "outlinewidth": 0,
              "ticks": ""
             }
            },
            "marker": {
             "colorbar": {
              "outlinewidth": 0,
              "ticks": ""
             }
            },
            "type": "scatter3d"
           }
          ],
          "scattercarpet": [
           {
            "marker": {
             "colorbar": {
              "outlinewidth": 0,
              "ticks": ""
             }
            },
            "type": "scattercarpet"
           }
          ],
          "scattergeo": [
           {
            "marker": {
             "colorbar": {
              "outlinewidth": 0,
              "ticks": ""
             }
            },
            "type": "scattergeo"
           }
          ],
          "scattergl": [
           {
            "marker": {
             "colorbar": {
              "outlinewidth": 0,
              "ticks": ""
             }
            },
            "type": "scattergl"
           }
          ],
          "scattermapbox": [
           {
            "marker": {
             "colorbar": {
              "outlinewidth": 0,
              "ticks": ""
             }
            },
            "type": "scattermapbox"
           }
          ],
          "scatterpolar": [
           {
            "marker": {
             "colorbar": {
              "outlinewidth": 0,
              "ticks": ""
             }
            },
            "type": "scatterpolar"
           }
          ],
          "scatterpolargl": [
           {
            "marker": {
             "colorbar": {
              "outlinewidth": 0,
              "ticks": ""
             }
            },
            "type": "scatterpolargl"
           }
          ],
          "scatterternary": [
           {
            "marker": {
             "colorbar": {
              "outlinewidth": 0,
              "ticks": ""
             }
            },
            "type": "scatterternary"
           }
          ],
          "surface": [
           {
            "colorbar": {
             "outlinewidth": 0,
             "ticks": ""
            },
            "colorscale": [
             [
              0,
              "#0d0887"
             ],
             [
              0.1111111111111111,
              "#46039f"
             ],
             [
              0.2222222222222222,
              "#7201a8"
             ],
             [
              0.3333333333333333,
              "#9c179e"
             ],
             [
              0.4444444444444444,
              "#bd3786"
             ],
             [
              0.5555555555555556,
              "#d8576b"
             ],
             [
              0.6666666666666666,
              "#ed7953"
             ],
             [
              0.7777777777777778,
              "#fb9f3a"
             ],
             [
              0.8888888888888888,
              "#fdca26"
             ],
             [
              1,
              "#f0f921"
             ]
            ],
            "type": "surface"
           }
          ],
          "table": [
           {
            "cells": {
             "fill": {
              "color": "#EBF0F8"
             },
             "line": {
              "color": "white"
             }
            },
            "header": {
             "fill": {
              "color": "#C8D4E3"
             },
             "line": {
              "color": "white"
             }
            },
            "type": "table"
           }
          ]
         },
         "layout": {
          "annotationdefaults": {
           "arrowcolor": "#2a3f5f",
           "arrowhead": 0,
           "arrowwidth": 1
          },
          "autotypenumbers": "strict",
          "coloraxis": {
           "colorbar": {
            "outlinewidth": 0,
            "ticks": ""
           }
          },
          "colorscale": {
           "diverging": [
            [
             0,
             "#8e0152"
            ],
            [
             0.1,
             "#c51b7d"
            ],
            [
             0.2,
             "#de77ae"
            ],
            [
             0.3,
             "#f1b6da"
            ],
            [
             0.4,
             "#fde0ef"
            ],
            [
             0.5,
             "#f7f7f7"
            ],
            [
             0.6,
             "#e6f5d0"
            ],
            [
             0.7,
             "#b8e186"
            ],
            [
             0.8,
             "#7fbc41"
            ],
            [
             0.9,
             "#4d9221"
            ],
            [
             1,
             "#276419"
            ]
           ],
           "sequential": [
            [
             0,
             "#0d0887"
            ],
            [
             0.1111111111111111,
             "#46039f"
            ],
            [
             0.2222222222222222,
             "#7201a8"
            ],
            [
             0.3333333333333333,
             "#9c179e"
            ],
            [
             0.4444444444444444,
             "#bd3786"
            ],
            [
             0.5555555555555556,
             "#d8576b"
            ],
            [
             0.6666666666666666,
             "#ed7953"
            ],
            [
             0.7777777777777778,
             "#fb9f3a"
            ],
            [
             0.8888888888888888,
             "#fdca26"
            ],
            [
             1,
             "#f0f921"
            ]
           ],
           "sequentialminus": [
            [
             0,
             "#0d0887"
            ],
            [
             0.1111111111111111,
             "#46039f"
            ],
            [
             0.2222222222222222,
             "#7201a8"
            ],
            [
             0.3333333333333333,
             "#9c179e"
            ],
            [
             0.4444444444444444,
             "#bd3786"
            ],
            [
             0.5555555555555556,
             "#d8576b"
            ],
            [
             0.6666666666666666,
             "#ed7953"
            ],
            [
             0.7777777777777778,
             "#fb9f3a"
            ],
            [
             0.8888888888888888,
             "#fdca26"
            ],
            [
             1,
             "#f0f921"
            ]
           ]
          },
          "colorway": [
           "#636efa",
           "#EF553B",
           "#00cc96",
           "#ab63fa",
           "#FFA15A",
           "#19d3f3",
           "#FF6692",
           "#B6E880",
           "#FF97FF",
           "#FECB52"
          ],
          "font": {
           "color": "#2a3f5f"
          },
          "geo": {
           "bgcolor": "white",
           "lakecolor": "white",
           "landcolor": "#E5ECF6",
           "showlakes": true,
           "showland": true,
           "subunitcolor": "white"
          },
          "hoverlabel": {
           "align": "left"
          },
          "hovermode": "closest",
          "mapbox": {
           "style": "light"
          },
          "paper_bgcolor": "white",
          "plot_bgcolor": "#E5ECF6",
          "polar": {
           "angularaxis": {
            "gridcolor": "white",
            "linecolor": "white",
            "ticks": ""
           },
           "bgcolor": "#E5ECF6",
           "radialaxis": {
            "gridcolor": "white",
            "linecolor": "white",
            "ticks": ""
           }
          },
          "scene": {
           "xaxis": {
            "backgroundcolor": "#E5ECF6",
            "gridcolor": "white",
            "gridwidth": 2,
            "linecolor": "white",
            "showbackground": true,
            "ticks": "",
            "zerolinecolor": "white"
           },
           "yaxis": {
            "backgroundcolor": "#E5ECF6",
            "gridcolor": "white",
            "gridwidth": 2,
            "linecolor": "white",
            "showbackground": true,
            "ticks": "",
            "zerolinecolor": "white"
           },
           "zaxis": {
            "backgroundcolor": "#E5ECF6",
            "gridcolor": "white",
            "gridwidth": 2,
            "linecolor": "white",
            "showbackground": true,
            "ticks": "",
            "zerolinecolor": "white"
           }
          },
          "shapedefaults": {
           "line": {
            "color": "#2a3f5f"
           }
          },
          "ternary": {
           "aaxis": {
            "gridcolor": "white",
            "linecolor": "white",
            "ticks": ""
           },
           "baxis": {
            "gridcolor": "white",
            "linecolor": "white",
            "ticks": ""
           },
           "bgcolor": "#E5ECF6",
           "caxis": {
            "gridcolor": "white",
            "linecolor": "white",
            "ticks": ""
           }
          },
          "title": {
           "x": 0.05
          },
          "xaxis": {
           "automargin": true,
           "gridcolor": "white",
           "linecolor": "white",
           "ticks": "",
           "title": {
            "standoff": 15
           },
           "zerolinecolor": "white",
           "zerolinewidth": 2
          },
          "yaxis": {
           "automargin": true,
           "gridcolor": "white",
           "linecolor": "white",
           "ticks": "",
           "title": {
            "standoff": 15
           },
           "zerolinecolor": "white",
           "zerolinewidth": 2
          }
         }
        },
        "title": {
         "font": {
          "size": 24
         },
         "text": "<b>EMAILS</b>"
        }
       }
      }
     },
     "metadata": {},
     "output_type": "display_data"
    }
   ],
   "source": [
    "labels = ['INVALID', 'VALID']\n",
    "\n",
    "##################################### EMAILS#############################################\n",
    "# values = [(x * 100)/ num_of_clients for x in  [invalid_emails, valid_emails]]\n",
    "values = [invalid_emails, valid_emails]\n",
    "# colors = ['red', 'darkblue']\n",
    "colors = ['crimson', 'rgb(29,66,138)']\n",
    "\n",
    "#donut\n",
    "# (1) create pie chart figure\n",
    "fig = go.Figure(data=[go.Pie(\n",
    "                                labels=labels, \n",
    "                                values=values, \n",
    "                                hole=.45, \n",
    "                                pull=0.005, \n",
    "                                title='EMAILS', \n",
    "                                marker_colors=colors)])\n",
    "# (2) add text for different parts of the chart\n",
    "fig.update_traces(text=labels) #, textfont_size=24)\n",
    "\n",
    "# (3) style the chart: font, title and size of chart\n",
    "fig.update_layout(\n",
    "                    font={'size': 24},\n",
    "                    title={'text': '<b>EMAILS</b>', 'font': {'size': 24}},\n",
    "                    margin=dict(t=0, b=0, l=0, r=0)\n",
    "                    )\n",
    "\n",
    "\n",
    "fig.show()\n",
    "# fig.write_image('./PLOTS-V1/emails-trial-donut.png') # don't use this option, low resolution of images. >> use plotly.offline >>\n"
   ]
  },
  {
   "cell_type": "markdown",
   "id": "4e18d371",
   "metadata": {},
   "source": [
    "## Date for filenames"
   ]
  },
  {
   "cell_type": "code",
   "execution_count": 74,
   "id": "dd02f294",
   "metadata": {},
   "outputs": [
    {
     "data": {
      "text/plain": [
       "'2022_02_16-12_08_53_PM'"
      ]
     },
     "execution_count": 74,
     "metadata": {},
     "output_type": "execute_result"
    }
   ],
   "source": [
    "date = datetime.now().strftime(\"%Y_%m_%d-%I_%M_%S_%p\")\n",
    "date"
   ]
  },
  {
   "cell_type": "markdown",
   "id": "6c9f6387",
   "metadata": {},
   "source": [
    "## Email"
   ]
  },
  {
   "cell_type": "code",
   "execution_count": 75,
   "id": "cb335737",
   "metadata": {},
   "outputs": [
    {
     "data": {
      "application/vnd.plotly.v1+json": {
       "config": {
        "plotlyServerURL": "https://plot.ly"
       },
       "data": [
        {
         "hole": 0.45,
         "labels": [
          "INVALID",
          "VALID"
         ],
         "marker": {
          "colors": [
           "crimson",
           "rgb(29,66,138)"
          ]
         },
         "pull": 0.005,
         "text": [
          "INVALID",
          "VALID"
         ],
         "title": {
          "text": "EMAILS"
         },
         "type": "pie",
         "values": [
          77993,
          40794
         ]
        }
       ],
       "layout": {
        "font": {
         "size": 24
        },
        "margin": {
         "b": 0,
         "l": 0,
         "r": 0,
         "t": 0
        },
        "template": {
         "data": {
          "bar": [
           {
            "error_x": {
             "color": "#2a3f5f"
            },
            "error_y": {
             "color": "#2a3f5f"
            },
            "marker": {
             "line": {
              "color": "#E5ECF6",
              "width": 0.5
             },
             "pattern": {
              "fillmode": "overlay",
              "size": 10,
              "solidity": 0.2
             }
            },
            "type": "bar"
           }
          ],
          "barpolar": [
           {
            "marker": {
             "line": {
              "color": "#E5ECF6",
              "width": 0.5
             },
             "pattern": {
              "fillmode": "overlay",
              "size": 10,
              "solidity": 0.2
             }
            },
            "type": "barpolar"
           }
          ],
          "carpet": [
           {
            "aaxis": {
             "endlinecolor": "#2a3f5f",
             "gridcolor": "white",
             "linecolor": "white",
             "minorgridcolor": "white",
             "startlinecolor": "#2a3f5f"
            },
            "baxis": {
             "endlinecolor": "#2a3f5f",
             "gridcolor": "white",
             "linecolor": "white",
             "minorgridcolor": "white",
             "startlinecolor": "#2a3f5f"
            },
            "type": "carpet"
           }
          ],
          "choropleth": [
           {
            "colorbar": {
             "outlinewidth": 0,
             "ticks": ""
            },
            "type": "choropleth"
           }
          ],
          "contour": [
           {
            "colorbar": {
             "outlinewidth": 0,
             "ticks": ""
            },
            "colorscale": [
             [
              0,
              "#0d0887"
             ],
             [
              0.1111111111111111,
              "#46039f"
             ],
             [
              0.2222222222222222,
              "#7201a8"
             ],
             [
              0.3333333333333333,
              "#9c179e"
             ],
             [
              0.4444444444444444,
              "#bd3786"
             ],
             [
              0.5555555555555556,
              "#d8576b"
             ],
             [
              0.6666666666666666,
              "#ed7953"
             ],
             [
              0.7777777777777778,
              "#fb9f3a"
             ],
             [
              0.8888888888888888,
              "#fdca26"
             ],
             [
              1,
              "#f0f921"
             ]
            ],
            "type": "contour"
           }
          ],
          "contourcarpet": [
           {
            "colorbar": {
             "outlinewidth": 0,
             "ticks": ""
            },
            "type": "contourcarpet"
           }
          ],
          "heatmap": [
           {
            "colorbar": {
             "outlinewidth": 0,
             "ticks": ""
            },
            "colorscale": [
             [
              0,
              "#0d0887"
             ],
             [
              0.1111111111111111,
              "#46039f"
             ],
             [
              0.2222222222222222,
              "#7201a8"
             ],
             [
              0.3333333333333333,
              "#9c179e"
             ],
             [
              0.4444444444444444,
              "#bd3786"
             ],
             [
              0.5555555555555556,
              "#d8576b"
             ],
             [
              0.6666666666666666,
              "#ed7953"
             ],
             [
              0.7777777777777778,
              "#fb9f3a"
             ],
             [
              0.8888888888888888,
              "#fdca26"
             ],
             [
              1,
              "#f0f921"
             ]
            ],
            "type": "heatmap"
           }
          ],
          "heatmapgl": [
           {
            "colorbar": {
             "outlinewidth": 0,
             "ticks": ""
            },
            "colorscale": [
             [
              0,
              "#0d0887"
             ],
             [
              0.1111111111111111,
              "#46039f"
             ],
             [
              0.2222222222222222,
              "#7201a8"
             ],
             [
              0.3333333333333333,
              "#9c179e"
             ],
             [
              0.4444444444444444,
              "#bd3786"
             ],
             [
              0.5555555555555556,
              "#d8576b"
             ],
             [
              0.6666666666666666,
              "#ed7953"
             ],
             [
              0.7777777777777778,
              "#fb9f3a"
             ],
             [
              0.8888888888888888,
              "#fdca26"
             ],
             [
              1,
              "#f0f921"
             ]
            ],
            "type": "heatmapgl"
           }
          ],
          "histogram": [
           {
            "marker": {
             "pattern": {
              "fillmode": "overlay",
              "size": 10,
              "solidity": 0.2
             }
            },
            "type": "histogram"
           }
          ],
          "histogram2d": [
           {
            "colorbar": {
             "outlinewidth": 0,
             "ticks": ""
            },
            "colorscale": [
             [
              0,
              "#0d0887"
             ],
             [
              0.1111111111111111,
              "#46039f"
             ],
             [
              0.2222222222222222,
              "#7201a8"
             ],
             [
              0.3333333333333333,
              "#9c179e"
             ],
             [
              0.4444444444444444,
              "#bd3786"
             ],
             [
              0.5555555555555556,
              "#d8576b"
             ],
             [
              0.6666666666666666,
              "#ed7953"
             ],
             [
              0.7777777777777778,
              "#fb9f3a"
             ],
             [
              0.8888888888888888,
              "#fdca26"
             ],
             [
              1,
              "#f0f921"
             ]
            ],
            "type": "histogram2d"
           }
          ],
          "histogram2dcontour": [
           {
            "colorbar": {
             "outlinewidth": 0,
             "ticks": ""
            },
            "colorscale": [
             [
              0,
              "#0d0887"
             ],
             [
              0.1111111111111111,
              "#46039f"
             ],
             [
              0.2222222222222222,
              "#7201a8"
             ],
             [
              0.3333333333333333,
              "#9c179e"
             ],
             [
              0.4444444444444444,
              "#bd3786"
             ],
             [
              0.5555555555555556,
              "#d8576b"
             ],
             [
              0.6666666666666666,
              "#ed7953"
             ],
             [
              0.7777777777777778,
              "#fb9f3a"
             ],
             [
              0.8888888888888888,
              "#fdca26"
             ],
             [
              1,
              "#f0f921"
             ]
            ],
            "type": "histogram2dcontour"
           }
          ],
          "mesh3d": [
           {
            "colorbar": {
             "outlinewidth": 0,
             "ticks": ""
            },
            "type": "mesh3d"
           }
          ],
          "parcoords": [
           {
            "line": {
             "colorbar": {
              "outlinewidth": 0,
              "ticks": ""
             }
            },
            "type": "parcoords"
           }
          ],
          "pie": [
           {
            "automargin": true,
            "type": "pie"
           }
          ],
          "scatter": [
           {
            "marker": {
             "colorbar": {
              "outlinewidth": 0,
              "ticks": ""
             }
            },
            "type": "scatter"
           }
          ],
          "scatter3d": [
           {
            "line": {
             "colorbar": {
              "outlinewidth": 0,
              "ticks": ""
             }
            },
            "marker": {
             "colorbar": {
              "outlinewidth": 0,
              "ticks": ""
             }
            },
            "type": "scatter3d"
           }
          ],
          "scattercarpet": [
           {
            "marker": {
             "colorbar": {
              "outlinewidth": 0,
              "ticks": ""
             }
            },
            "type": "scattercarpet"
           }
          ],
          "scattergeo": [
           {
            "marker": {
             "colorbar": {
              "outlinewidth": 0,
              "ticks": ""
             }
            },
            "type": "scattergeo"
           }
          ],
          "scattergl": [
           {
            "marker": {
             "colorbar": {
              "outlinewidth": 0,
              "ticks": ""
             }
            },
            "type": "scattergl"
           }
          ],
          "scattermapbox": [
           {
            "marker": {
             "colorbar": {
              "outlinewidth": 0,
              "ticks": ""
             }
            },
            "type": "scattermapbox"
           }
          ],
          "scatterpolar": [
           {
            "marker": {
             "colorbar": {
              "outlinewidth": 0,
              "ticks": ""
             }
            },
            "type": "scatterpolar"
           }
          ],
          "scatterpolargl": [
           {
            "marker": {
             "colorbar": {
              "outlinewidth": 0,
              "ticks": ""
             }
            },
            "type": "scatterpolargl"
           }
          ],
          "scatterternary": [
           {
            "marker": {
             "colorbar": {
              "outlinewidth": 0,
              "ticks": ""
             }
            },
            "type": "scatterternary"
           }
          ],
          "surface": [
           {
            "colorbar": {
             "outlinewidth": 0,
             "ticks": ""
            },
            "colorscale": [
             [
              0,
              "#0d0887"
             ],
             [
              0.1111111111111111,
              "#46039f"
             ],
             [
              0.2222222222222222,
              "#7201a8"
             ],
             [
              0.3333333333333333,
              "#9c179e"
             ],
             [
              0.4444444444444444,
              "#bd3786"
             ],
             [
              0.5555555555555556,
              "#d8576b"
             ],
             [
              0.6666666666666666,
              "#ed7953"
             ],
             [
              0.7777777777777778,
              "#fb9f3a"
             ],
             [
              0.8888888888888888,
              "#fdca26"
             ],
             [
              1,
              "#f0f921"
             ]
            ],
            "type": "surface"
           }
          ],
          "table": [
           {
            "cells": {
             "fill": {
              "color": "#EBF0F8"
             },
             "line": {
              "color": "white"
             }
            },
            "header": {
             "fill": {
              "color": "#C8D4E3"
             },
             "line": {
              "color": "white"
             }
            },
            "type": "table"
           }
          ]
         },
         "layout": {
          "annotationdefaults": {
           "arrowcolor": "#2a3f5f",
           "arrowhead": 0,
           "arrowwidth": 1
          },
          "autotypenumbers": "strict",
          "coloraxis": {
           "colorbar": {
            "outlinewidth": 0,
            "ticks": ""
           }
          },
          "colorscale": {
           "diverging": [
            [
             0,
             "#8e0152"
            ],
            [
             0.1,
             "#c51b7d"
            ],
            [
             0.2,
             "#de77ae"
            ],
            [
             0.3,
             "#f1b6da"
            ],
            [
             0.4,
             "#fde0ef"
            ],
            [
             0.5,
             "#f7f7f7"
            ],
            [
             0.6,
             "#e6f5d0"
            ],
            [
             0.7,
             "#b8e186"
            ],
            [
             0.8,
             "#7fbc41"
            ],
            [
             0.9,
             "#4d9221"
            ],
            [
             1,
             "#276419"
            ]
           ],
           "sequential": [
            [
             0,
             "#0d0887"
            ],
            [
             0.1111111111111111,
             "#46039f"
            ],
            [
             0.2222222222222222,
             "#7201a8"
            ],
            [
             0.3333333333333333,
             "#9c179e"
            ],
            [
             0.4444444444444444,
             "#bd3786"
            ],
            [
             0.5555555555555556,
             "#d8576b"
            ],
            [
             0.6666666666666666,
             "#ed7953"
            ],
            [
             0.7777777777777778,
             "#fb9f3a"
            ],
            [
             0.8888888888888888,
             "#fdca26"
            ],
            [
             1,
             "#f0f921"
            ]
           ],
           "sequentialminus": [
            [
             0,
             "#0d0887"
            ],
            [
             0.1111111111111111,
             "#46039f"
            ],
            [
             0.2222222222222222,
             "#7201a8"
            ],
            [
             0.3333333333333333,
             "#9c179e"
            ],
            [
             0.4444444444444444,
             "#bd3786"
            ],
            [
             0.5555555555555556,
             "#d8576b"
            ],
            [
             0.6666666666666666,
             "#ed7953"
            ],
            [
             0.7777777777777778,
             "#fb9f3a"
            ],
            [
             0.8888888888888888,
             "#fdca26"
            ],
            [
             1,
             "#f0f921"
            ]
           ]
          },
          "colorway": [
           "#636efa",
           "#EF553B",
           "#00cc96",
           "#ab63fa",
           "#FFA15A",
           "#19d3f3",
           "#FF6692",
           "#B6E880",
           "#FF97FF",
           "#FECB52"
          ],
          "font": {
           "color": "#2a3f5f"
          },
          "geo": {
           "bgcolor": "white",
           "lakecolor": "white",
           "landcolor": "#E5ECF6",
           "showlakes": true,
           "showland": true,
           "subunitcolor": "white"
          },
          "hoverlabel": {
           "align": "left"
          },
          "hovermode": "closest",
          "mapbox": {
           "style": "light"
          },
          "paper_bgcolor": "white",
          "plot_bgcolor": "#E5ECF6",
          "polar": {
           "angularaxis": {
            "gridcolor": "white",
            "linecolor": "white",
            "ticks": ""
           },
           "bgcolor": "#E5ECF6",
           "radialaxis": {
            "gridcolor": "white",
            "linecolor": "white",
            "ticks": ""
           }
          },
          "scene": {
           "xaxis": {
            "backgroundcolor": "#E5ECF6",
            "gridcolor": "white",
            "gridwidth": 2,
            "linecolor": "white",
            "showbackground": true,
            "ticks": "",
            "zerolinecolor": "white"
           },
           "yaxis": {
            "backgroundcolor": "#E5ECF6",
            "gridcolor": "white",
            "gridwidth": 2,
            "linecolor": "white",
            "showbackground": true,
            "ticks": "",
            "zerolinecolor": "white"
           },
           "zaxis": {
            "backgroundcolor": "#E5ECF6",
            "gridcolor": "white",
            "gridwidth": 2,
            "linecolor": "white",
            "showbackground": true,
            "ticks": "",
            "zerolinecolor": "white"
           }
          },
          "shapedefaults": {
           "line": {
            "color": "#2a3f5f"
           }
          },
          "ternary": {
           "aaxis": {
            "gridcolor": "white",
            "linecolor": "white",
            "ticks": ""
           },
           "baxis": {
            "gridcolor": "white",
            "linecolor": "white",
            "ticks": ""
           },
           "bgcolor": "#E5ECF6",
           "caxis": {
            "gridcolor": "white",
            "linecolor": "white",
            "ticks": ""
           }
          },
          "title": {
           "x": 0.05
          },
          "xaxis": {
           "automargin": true,
           "gridcolor": "white",
           "linecolor": "white",
           "ticks": "",
           "title": {
            "standoff": 15
           },
           "zerolinecolor": "white",
           "zerolinewidth": 2
          },
          "yaxis": {
           "automargin": true,
           "gridcolor": "white",
           "linecolor": "white",
           "ticks": "",
           "title": {
            "standoff": 15
           },
           "zerolinecolor": "white",
           "zerolinewidth": 2
          }
         }
        },
        "title": {
         "font": {
          "size": 24
         }
        }
       }
      }
     },
     "metadata": {},
     "output_type": "display_data"
    }
   ],
   "source": [
    "import plotly.offline as offline\n",
    "labels = ['INVALID', 'VALID']\n",
    "\n",
    "##################################### EMAILS#############################################\n",
    "\n",
    "values = [invalid_emails, valid_emails]\n",
    "colors = ['crimson', 'rgb(29,66,138)'] # used by all donut charts below\n",
    "\n",
    "#donut\n",
    "# (1) create pie chart figure\n",
    "fig = go.Figure(data=[go.Pie(\n",
    "                                labels=labels, \n",
    "                                values=values, \n",
    "                                hole=.45, \n",
    "                                pull=0.005, \n",
    "                                title='EMAILS', \n",
    "                                marker_colors=colors)])\n",
    "# (2) add text for different parts of the chart\n",
    "fig.update_traces(text=labels)\n",
    "\n",
    "# (3) style the chart: font, title and size of chart\n",
    "fig.update_layout(\n",
    "                    font={'size': 24},\n",
    "                    title={'font': {'size': 24}},\n",
    "                    margin=dict(t=0, b=0, l=0, r=0)\n",
    "                    )\n",
    "\n",
    "fig.show()\n",
    "\n",
    "# (4) download image, saves in downloads folder by default\n",
    "offline.plot(fig, image = 'png', image_filename='emails-donut_{}'.format(date))\n",
    "\n",
    "\n",
    "# sleep so that image finishes to render and download before plot.html gets overwritten by next cell\n",
    "import time\n",
    "\n",
    "time.sleep(5)\n"
   ]
  },
  {
   "cell_type": "markdown",
   "id": "467a9ab3",
   "metadata": {},
   "source": [
    "## IDs"
   ]
  },
  {
   "cell_type": "code",
   "execution_count": 76,
   "id": "b40d9b34",
   "metadata": {},
   "outputs": [
    {
     "data": {
      "application/vnd.plotly.v1+json": {
       "config": {
        "plotlyServerURL": "https://plot.ly"
       },
       "data": [
        {
         "hole": 0.45,
         "labels": [
          "INVALID",
          "VALID"
         ],
         "marker": {
          "colors": [
           "crimson",
           "rgb(29,66,138)"
          ]
         },
         "pull": 0.005,
         "text": [
          "INVALID",
          "VALID"
         ],
         "title": {
          "text": "IDs"
         },
         "type": "pie",
         "values": [
          65022,
          53765
         ]
        }
       ],
       "layout": {
        "font": {
         "size": 24
        },
        "margin": {
         "b": 0,
         "l": 0,
         "r": 0,
         "t": 0
        },
        "template": {
         "data": {
          "bar": [
           {
            "error_x": {
             "color": "#2a3f5f"
            },
            "error_y": {
             "color": "#2a3f5f"
            },
            "marker": {
             "line": {
              "color": "#E5ECF6",
              "width": 0.5
             },
             "pattern": {
              "fillmode": "overlay",
              "size": 10,
              "solidity": 0.2
             }
            },
            "type": "bar"
           }
          ],
          "barpolar": [
           {
            "marker": {
             "line": {
              "color": "#E5ECF6",
              "width": 0.5
             },
             "pattern": {
              "fillmode": "overlay",
              "size": 10,
              "solidity": 0.2
             }
            },
            "type": "barpolar"
           }
          ],
          "carpet": [
           {
            "aaxis": {
             "endlinecolor": "#2a3f5f",
             "gridcolor": "white",
             "linecolor": "white",
             "minorgridcolor": "white",
             "startlinecolor": "#2a3f5f"
            },
            "baxis": {
             "endlinecolor": "#2a3f5f",
             "gridcolor": "white",
             "linecolor": "white",
             "minorgridcolor": "white",
             "startlinecolor": "#2a3f5f"
            },
            "type": "carpet"
           }
          ],
          "choropleth": [
           {
            "colorbar": {
             "outlinewidth": 0,
             "ticks": ""
            },
            "type": "choropleth"
           }
          ],
          "contour": [
           {
            "colorbar": {
             "outlinewidth": 0,
             "ticks": ""
            },
            "colorscale": [
             [
              0,
              "#0d0887"
             ],
             [
              0.1111111111111111,
              "#46039f"
             ],
             [
              0.2222222222222222,
              "#7201a8"
             ],
             [
              0.3333333333333333,
              "#9c179e"
             ],
             [
              0.4444444444444444,
              "#bd3786"
             ],
             [
              0.5555555555555556,
              "#d8576b"
             ],
             [
              0.6666666666666666,
              "#ed7953"
             ],
             [
              0.7777777777777778,
              "#fb9f3a"
             ],
             [
              0.8888888888888888,
              "#fdca26"
             ],
             [
              1,
              "#f0f921"
             ]
            ],
            "type": "contour"
           }
          ],
          "contourcarpet": [
           {
            "colorbar": {
             "outlinewidth": 0,
             "ticks": ""
            },
            "type": "contourcarpet"
           }
          ],
          "heatmap": [
           {
            "colorbar": {
             "outlinewidth": 0,
             "ticks": ""
            },
            "colorscale": [
             [
              0,
              "#0d0887"
             ],
             [
              0.1111111111111111,
              "#46039f"
             ],
             [
              0.2222222222222222,
              "#7201a8"
             ],
             [
              0.3333333333333333,
              "#9c179e"
             ],
             [
              0.4444444444444444,
              "#bd3786"
             ],
             [
              0.5555555555555556,
              "#d8576b"
             ],
             [
              0.6666666666666666,
              "#ed7953"
             ],
             [
              0.7777777777777778,
              "#fb9f3a"
             ],
             [
              0.8888888888888888,
              "#fdca26"
             ],
             [
              1,
              "#f0f921"
             ]
            ],
            "type": "heatmap"
           }
          ],
          "heatmapgl": [
           {
            "colorbar": {
             "outlinewidth": 0,
             "ticks": ""
            },
            "colorscale": [
             [
              0,
              "#0d0887"
             ],
             [
              0.1111111111111111,
              "#46039f"
             ],
             [
              0.2222222222222222,
              "#7201a8"
             ],
             [
              0.3333333333333333,
              "#9c179e"
             ],
             [
              0.4444444444444444,
              "#bd3786"
             ],
             [
              0.5555555555555556,
              "#d8576b"
             ],
             [
              0.6666666666666666,
              "#ed7953"
             ],
             [
              0.7777777777777778,
              "#fb9f3a"
             ],
             [
              0.8888888888888888,
              "#fdca26"
             ],
             [
              1,
              "#f0f921"
             ]
            ],
            "type": "heatmapgl"
           }
          ],
          "histogram": [
           {
            "marker": {
             "pattern": {
              "fillmode": "overlay",
              "size": 10,
              "solidity": 0.2
             }
            },
            "type": "histogram"
           }
          ],
          "histogram2d": [
           {
            "colorbar": {
             "outlinewidth": 0,
             "ticks": ""
            },
            "colorscale": [
             [
              0,
              "#0d0887"
             ],
             [
              0.1111111111111111,
              "#46039f"
             ],
             [
              0.2222222222222222,
              "#7201a8"
             ],
             [
              0.3333333333333333,
              "#9c179e"
             ],
             [
              0.4444444444444444,
              "#bd3786"
             ],
             [
              0.5555555555555556,
              "#d8576b"
             ],
             [
              0.6666666666666666,
              "#ed7953"
             ],
             [
              0.7777777777777778,
              "#fb9f3a"
             ],
             [
              0.8888888888888888,
              "#fdca26"
             ],
             [
              1,
              "#f0f921"
             ]
            ],
            "type": "histogram2d"
           }
          ],
          "histogram2dcontour": [
           {
            "colorbar": {
             "outlinewidth": 0,
             "ticks": ""
            },
            "colorscale": [
             [
              0,
              "#0d0887"
             ],
             [
              0.1111111111111111,
              "#46039f"
             ],
             [
              0.2222222222222222,
              "#7201a8"
             ],
             [
              0.3333333333333333,
              "#9c179e"
             ],
             [
              0.4444444444444444,
              "#bd3786"
             ],
             [
              0.5555555555555556,
              "#d8576b"
             ],
             [
              0.6666666666666666,
              "#ed7953"
             ],
             [
              0.7777777777777778,
              "#fb9f3a"
             ],
             [
              0.8888888888888888,
              "#fdca26"
             ],
             [
              1,
              "#f0f921"
             ]
            ],
            "type": "histogram2dcontour"
           }
          ],
          "mesh3d": [
           {
            "colorbar": {
             "outlinewidth": 0,
             "ticks": ""
            },
            "type": "mesh3d"
           }
          ],
          "parcoords": [
           {
            "line": {
             "colorbar": {
              "outlinewidth": 0,
              "ticks": ""
             }
            },
            "type": "parcoords"
           }
          ],
          "pie": [
           {
            "automargin": true,
            "type": "pie"
           }
          ],
          "scatter": [
           {
            "marker": {
             "colorbar": {
              "outlinewidth": 0,
              "ticks": ""
             }
            },
            "type": "scatter"
           }
          ],
          "scatter3d": [
           {
            "line": {
             "colorbar": {
              "outlinewidth": 0,
              "ticks": ""
             }
            },
            "marker": {
             "colorbar": {
              "outlinewidth": 0,
              "ticks": ""
             }
            },
            "type": "scatter3d"
           }
          ],
          "scattercarpet": [
           {
            "marker": {
             "colorbar": {
              "outlinewidth": 0,
              "ticks": ""
             }
            },
            "type": "scattercarpet"
           }
          ],
          "scattergeo": [
           {
            "marker": {
             "colorbar": {
              "outlinewidth": 0,
              "ticks": ""
             }
            },
            "type": "scattergeo"
           }
          ],
          "scattergl": [
           {
            "marker": {
             "colorbar": {
              "outlinewidth": 0,
              "ticks": ""
             }
            },
            "type": "scattergl"
           }
          ],
          "scattermapbox": [
           {
            "marker": {
             "colorbar": {
              "outlinewidth": 0,
              "ticks": ""
             }
            },
            "type": "scattermapbox"
           }
          ],
          "scatterpolar": [
           {
            "marker": {
             "colorbar": {
              "outlinewidth": 0,
              "ticks": ""
             }
            },
            "type": "scatterpolar"
           }
          ],
          "scatterpolargl": [
           {
            "marker": {
             "colorbar": {
              "outlinewidth": 0,
              "ticks": ""
             }
            },
            "type": "scatterpolargl"
           }
          ],
          "scatterternary": [
           {
            "marker": {
             "colorbar": {
              "outlinewidth": 0,
              "ticks": ""
             }
            },
            "type": "scatterternary"
           }
          ],
          "surface": [
           {
            "colorbar": {
             "outlinewidth": 0,
             "ticks": ""
            },
            "colorscale": [
             [
              0,
              "#0d0887"
             ],
             [
              0.1111111111111111,
              "#46039f"
             ],
             [
              0.2222222222222222,
              "#7201a8"
             ],
             [
              0.3333333333333333,
              "#9c179e"
             ],
             [
              0.4444444444444444,
              "#bd3786"
             ],
             [
              0.5555555555555556,
              "#d8576b"
             ],
             [
              0.6666666666666666,
              "#ed7953"
             ],
             [
              0.7777777777777778,
              "#fb9f3a"
             ],
             [
              0.8888888888888888,
              "#fdca26"
             ],
             [
              1,
              "#f0f921"
             ]
            ],
            "type": "surface"
           }
          ],
          "table": [
           {
            "cells": {
             "fill": {
              "color": "#EBF0F8"
             },
             "line": {
              "color": "white"
             }
            },
            "header": {
             "fill": {
              "color": "#C8D4E3"
             },
             "line": {
              "color": "white"
             }
            },
            "type": "table"
           }
          ]
         },
         "layout": {
          "annotationdefaults": {
           "arrowcolor": "#2a3f5f",
           "arrowhead": 0,
           "arrowwidth": 1
          },
          "autotypenumbers": "strict",
          "coloraxis": {
           "colorbar": {
            "outlinewidth": 0,
            "ticks": ""
           }
          },
          "colorscale": {
           "diverging": [
            [
             0,
             "#8e0152"
            ],
            [
             0.1,
             "#c51b7d"
            ],
            [
             0.2,
             "#de77ae"
            ],
            [
             0.3,
             "#f1b6da"
            ],
            [
             0.4,
             "#fde0ef"
            ],
            [
             0.5,
             "#f7f7f7"
            ],
            [
             0.6,
             "#e6f5d0"
            ],
            [
             0.7,
             "#b8e186"
            ],
            [
             0.8,
             "#7fbc41"
            ],
            [
             0.9,
             "#4d9221"
            ],
            [
             1,
             "#276419"
            ]
           ],
           "sequential": [
            [
             0,
             "#0d0887"
            ],
            [
             0.1111111111111111,
             "#46039f"
            ],
            [
             0.2222222222222222,
             "#7201a8"
            ],
            [
             0.3333333333333333,
             "#9c179e"
            ],
            [
             0.4444444444444444,
             "#bd3786"
            ],
            [
             0.5555555555555556,
             "#d8576b"
            ],
            [
             0.6666666666666666,
             "#ed7953"
            ],
            [
             0.7777777777777778,
             "#fb9f3a"
            ],
            [
             0.8888888888888888,
             "#fdca26"
            ],
            [
             1,
             "#f0f921"
            ]
           ],
           "sequentialminus": [
            [
             0,
             "#0d0887"
            ],
            [
             0.1111111111111111,
             "#46039f"
            ],
            [
             0.2222222222222222,
             "#7201a8"
            ],
            [
             0.3333333333333333,
             "#9c179e"
            ],
            [
             0.4444444444444444,
             "#bd3786"
            ],
            [
             0.5555555555555556,
             "#d8576b"
            ],
            [
             0.6666666666666666,
             "#ed7953"
            ],
            [
             0.7777777777777778,
             "#fb9f3a"
            ],
            [
             0.8888888888888888,
             "#fdca26"
            ],
            [
             1,
             "#f0f921"
            ]
           ]
          },
          "colorway": [
           "#636efa",
           "#EF553B",
           "#00cc96",
           "#ab63fa",
           "#FFA15A",
           "#19d3f3",
           "#FF6692",
           "#B6E880",
           "#FF97FF",
           "#FECB52"
          ],
          "font": {
           "color": "#2a3f5f"
          },
          "geo": {
           "bgcolor": "white",
           "lakecolor": "white",
           "landcolor": "#E5ECF6",
           "showlakes": true,
           "showland": true,
           "subunitcolor": "white"
          },
          "hoverlabel": {
           "align": "left"
          },
          "hovermode": "closest",
          "mapbox": {
           "style": "light"
          },
          "paper_bgcolor": "white",
          "plot_bgcolor": "#E5ECF6",
          "polar": {
           "angularaxis": {
            "gridcolor": "white",
            "linecolor": "white",
            "ticks": ""
           },
           "bgcolor": "#E5ECF6",
           "radialaxis": {
            "gridcolor": "white",
            "linecolor": "white",
            "ticks": ""
           }
          },
          "scene": {
           "xaxis": {
            "backgroundcolor": "#E5ECF6",
            "gridcolor": "white",
            "gridwidth": 2,
            "linecolor": "white",
            "showbackground": true,
            "ticks": "",
            "zerolinecolor": "white"
           },
           "yaxis": {
            "backgroundcolor": "#E5ECF6",
            "gridcolor": "white",
            "gridwidth": 2,
            "linecolor": "white",
            "showbackground": true,
            "ticks": "",
            "zerolinecolor": "white"
           },
           "zaxis": {
            "backgroundcolor": "#E5ECF6",
            "gridcolor": "white",
            "gridwidth": 2,
            "linecolor": "white",
            "showbackground": true,
            "ticks": "",
            "zerolinecolor": "white"
           }
          },
          "shapedefaults": {
           "line": {
            "color": "#2a3f5f"
           }
          },
          "ternary": {
           "aaxis": {
            "gridcolor": "white",
            "linecolor": "white",
            "ticks": ""
           },
           "baxis": {
            "gridcolor": "white",
            "linecolor": "white",
            "ticks": ""
           },
           "bgcolor": "#E5ECF6",
           "caxis": {
            "gridcolor": "white",
            "linecolor": "white",
            "ticks": ""
           }
          },
          "title": {
           "x": 0.05
          },
          "xaxis": {
           "automargin": true,
           "gridcolor": "white",
           "linecolor": "white",
           "ticks": "",
           "title": {
            "standoff": 15
           },
           "zerolinecolor": "white",
           "zerolinewidth": 2
          },
          "yaxis": {
           "automargin": true,
           "gridcolor": "white",
           "linecolor": "white",
           "ticks": "",
           "title": {
            "standoff": 15
           },
           "zerolinecolor": "white",
           "zerolinewidth": 2
          }
         }
        },
        "title": {
         "font": {
          "size": 24
         }
        }
       }
      }
     },
     "metadata": {},
     "output_type": "display_data"
    }
   ],
   "source": [
    "\n",
    "#################################### IDS ###################################################\n",
    "values = [invalid_ids, valid_ids]\n",
    "\n",
    "#donut\n",
    "# (1) create pie chart figure\n",
    "fig = go.Figure(data=[go.Pie(\n",
    "                                labels=labels, \n",
    "                                values=values, \n",
    "                                hole=.45, \n",
    "                                pull=0.005, \n",
    "                                title='IDs', \n",
    "                                marker_colors=colors)\n",
    "                    ])\n",
    "\n",
    "# (2) add text for different parts of the chart\n",
    "fig.update_traces(text=labels) \n",
    "\n",
    "# (3) style the chart: font, title and size of chart\n",
    "fig.update_layout(\n",
    "                    font={'size': 24},\n",
    "#                     title={'text': '<b>IDs</b>', 'font': {'size': 24}},\n",
    "                    title={'font': {'size': 24}},\n",
    "                    margin=dict(t=0, b=0, l=0, r=0)\n",
    "                    )\n",
    "\n",
    "fig.show()\n",
    "\n",
    "# (4) download image, saves in downloads folder by default\n",
    "offline.plot(fig, image = 'png', image_filename='ids-donut_{}'.format(date))\n",
    "\n",
    "time.sleep(5)\n"
   ]
  },
  {
   "cell_type": "markdown",
   "id": "d2072baa",
   "metadata": {},
   "source": [
    "## kra pins"
   ]
  },
  {
   "cell_type": "code",
   "execution_count": 77,
   "id": "ae863537",
   "metadata": {},
   "outputs": [
    {
     "data": {
      "application/vnd.plotly.v1+json": {
       "config": {
        "plotlyServerURL": "https://plot.ly"
       },
       "data": [
        {
         "hole": 0.45,
         "labels": [
          "INVALID",
          "VALID"
         ],
         "marker": {
          "colors": [
           "crimson",
           "rgb(29,66,138)"
          ]
         },
         "pull": 0.005,
         "text": [
          "INVALID",
          "VALID"
         ],
         "title": {
          "text": "PINs"
         },
         "type": "pie",
         "values": [
          6659,
          112128
         ]
        }
       ],
       "layout": {
        "font": {
         "size": 24
        },
        "margin": {
         "b": 0,
         "l": 0,
         "r": 0,
         "t": 0
        },
        "template": {
         "data": {
          "bar": [
           {
            "error_x": {
             "color": "#2a3f5f"
            },
            "error_y": {
             "color": "#2a3f5f"
            },
            "marker": {
             "line": {
              "color": "#E5ECF6",
              "width": 0.5
             },
             "pattern": {
              "fillmode": "overlay",
              "size": 10,
              "solidity": 0.2
             }
            },
            "type": "bar"
           }
          ],
          "barpolar": [
           {
            "marker": {
             "line": {
              "color": "#E5ECF6",
              "width": 0.5
             },
             "pattern": {
              "fillmode": "overlay",
              "size": 10,
              "solidity": 0.2
             }
            },
            "type": "barpolar"
           }
          ],
          "carpet": [
           {
            "aaxis": {
             "endlinecolor": "#2a3f5f",
             "gridcolor": "white",
             "linecolor": "white",
             "minorgridcolor": "white",
             "startlinecolor": "#2a3f5f"
            },
            "baxis": {
             "endlinecolor": "#2a3f5f",
             "gridcolor": "white",
             "linecolor": "white",
             "minorgridcolor": "white",
             "startlinecolor": "#2a3f5f"
            },
            "type": "carpet"
           }
          ],
          "choropleth": [
           {
            "colorbar": {
             "outlinewidth": 0,
             "ticks": ""
            },
            "type": "choropleth"
           }
          ],
          "contour": [
           {
            "colorbar": {
             "outlinewidth": 0,
             "ticks": ""
            },
            "colorscale": [
             [
              0,
              "#0d0887"
             ],
             [
              0.1111111111111111,
              "#46039f"
             ],
             [
              0.2222222222222222,
              "#7201a8"
             ],
             [
              0.3333333333333333,
              "#9c179e"
             ],
             [
              0.4444444444444444,
              "#bd3786"
             ],
             [
              0.5555555555555556,
              "#d8576b"
             ],
             [
              0.6666666666666666,
              "#ed7953"
             ],
             [
              0.7777777777777778,
              "#fb9f3a"
             ],
             [
              0.8888888888888888,
              "#fdca26"
             ],
             [
              1,
              "#f0f921"
             ]
            ],
            "type": "contour"
           }
          ],
          "contourcarpet": [
           {
            "colorbar": {
             "outlinewidth": 0,
             "ticks": ""
            },
            "type": "contourcarpet"
           }
          ],
          "heatmap": [
           {
            "colorbar": {
             "outlinewidth": 0,
             "ticks": ""
            },
            "colorscale": [
             [
              0,
              "#0d0887"
             ],
             [
              0.1111111111111111,
              "#46039f"
             ],
             [
              0.2222222222222222,
              "#7201a8"
             ],
             [
              0.3333333333333333,
              "#9c179e"
             ],
             [
              0.4444444444444444,
              "#bd3786"
             ],
             [
              0.5555555555555556,
              "#d8576b"
             ],
             [
              0.6666666666666666,
              "#ed7953"
             ],
             [
              0.7777777777777778,
              "#fb9f3a"
             ],
             [
              0.8888888888888888,
              "#fdca26"
             ],
             [
              1,
              "#f0f921"
             ]
            ],
            "type": "heatmap"
           }
          ],
          "heatmapgl": [
           {
            "colorbar": {
             "outlinewidth": 0,
             "ticks": ""
            },
            "colorscale": [
             [
              0,
              "#0d0887"
             ],
             [
              0.1111111111111111,
              "#46039f"
             ],
             [
              0.2222222222222222,
              "#7201a8"
             ],
             [
              0.3333333333333333,
              "#9c179e"
             ],
             [
              0.4444444444444444,
              "#bd3786"
             ],
             [
              0.5555555555555556,
              "#d8576b"
             ],
             [
              0.6666666666666666,
              "#ed7953"
             ],
             [
              0.7777777777777778,
              "#fb9f3a"
             ],
             [
              0.8888888888888888,
              "#fdca26"
             ],
             [
              1,
              "#f0f921"
             ]
            ],
            "type": "heatmapgl"
           }
          ],
          "histogram": [
           {
            "marker": {
             "pattern": {
              "fillmode": "overlay",
              "size": 10,
              "solidity": 0.2
             }
            },
            "type": "histogram"
           }
          ],
          "histogram2d": [
           {
            "colorbar": {
             "outlinewidth": 0,
             "ticks": ""
            },
            "colorscale": [
             [
              0,
              "#0d0887"
             ],
             [
              0.1111111111111111,
              "#46039f"
             ],
             [
              0.2222222222222222,
              "#7201a8"
             ],
             [
              0.3333333333333333,
              "#9c179e"
             ],
             [
              0.4444444444444444,
              "#bd3786"
             ],
             [
              0.5555555555555556,
              "#d8576b"
             ],
             [
              0.6666666666666666,
              "#ed7953"
             ],
             [
              0.7777777777777778,
              "#fb9f3a"
             ],
             [
              0.8888888888888888,
              "#fdca26"
             ],
             [
              1,
              "#f0f921"
             ]
            ],
            "type": "histogram2d"
           }
          ],
          "histogram2dcontour": [
           {
            "colorbar": {
             "outlinewidth": 0,
             "ticks": ""
            },
            "colorscale": [
             [
              0,
              "#0d0887"
             ],
             [
              0.1111111111111111,
              "#46039f"
             ],
             [
              0.2222222222222222,
              "#7201a8"
             ],
             [
              0.3333333333333333,
              "#9c179e"
             ],
             [
              0.4444444444444444,
              "#bd3786"
             ],
             [
              0.5555555555555556,
              "#d8576b"
             ],
             [
              0.6666666666666666,
              "#ed7953"
             ],
             [
              0.7777777777777778,
              "#fb9f3a"
             ],
             [
              0.8888888888888888,
              "#fdca26"
             ],
             [
              1,
              "#f0f921"
             ]
            ],
            "type": "histogram2dcontour"
           }
          ],
          "mesh3d": [
           {
            "colorbar": {
             "outlinewidth": 0,
             "ticks": ""
            },
            "type": "mesh3d"
           }
          ],
          "parcoords": [
           {
            "line": {
             "colorbar": {
              "outlinewidth": 0,
              "ticks": ""
             }
            },
            "type": "parcoords"
           }
          ],
          "pie": [
           {
            "automargin": true,
            "type": "pie"
           }
          ],
          "scatter": [
           {
            "marker": {
             "colorbar": {
              "outlinewidth": 0,
              "ticks": ""
             }
            },
            "type": "scatter"
           }
          ],
          "scatter3d": [
           {
            "line": {
             "colorbar": {
              "outlinewidth": 0,
              "ticks": ""
             }
            },
            "marker": {
             "colorbar": {
              "outlinewidth": 0,
              "ticks": ""
             }
            },
            "type": "scatter3d"
           }
          ],
          "scattercarpet": [
           {
            "marker": {
             "colorbar": {
              "outlinewidth": 0,
              "ticks": ""
             }
            },
            "type": "scattercarpet"
           }
          ],
          "scattergeo": [
           {
            "marker": {
             "colorbar": {
              "outlinewidth": 0,
              "ticks": ""
             }
            },
            "type": "scattergeo"
           }
          ],
          "scattergl": [
           {
            "marker": {
             "colorbar": {
              "outlinewidth": 0,
              "ticks": ""
             }
            },
            "type": "scattergl"
           }
          ],
          "scattermapbox": [
           {
            "marker": {
             "colorbar": {
              "outlinewidth": 0,
              "ticks": ""
             }
            },
            "type": "scattermapbox"
           }
          ],
          "scatterpolar": [
           {
            "marker": {
             "colorbar": {
              "outlinewidth": 0,
              "ticks": ""
             }
            },
            "type": "scatterpolar"
           }
          ],
          "scatterpolargl": [
           {
            "marker": {
             "colorbar": {
              "outlinewidth": 0,
              "ticks": ""
             }
            },
            "type": "scatterpolargl"
           }
          ],
          "scatterternary": [
           {
            "marker": {
             "colorbar": {
              "outlinewidth": 0,
              "ticks": ""
             }
            },
            "type": "scatterternary"
           }
          ],
          "surface": [
           {
            "colorbar": {
             "outlinewidth": 0,
             "ticks": ""
            },
            "colorscale": [
             [
              0,
              "#0d0887"
             ],
             [
              0.1111111111111111,
              "#46039f"
             ],
             [
              0.2222222222222222,
              "#7201a8"
             ],
             [
              0.3333333333333333,
              "#9c179e"
             ],
             [
              0.4444444444444444,
              "#bd3786"
             ],
             [
              0.5555555555555556,
              "#d8576b"
             ],
             [
              0.6666666666666666,
              "#ed7953"
             ],
             [
              0.7777777777777778,
              "#fb9f3a"
             ],
             [
              0.8888888888888888,
              "#fdca26"
             ],
             [
              1,
              "#f0f921"
             ]
            ],
            "type": "surface"
           }
          ],
          "table": [
           {
            "cells": {
             "fill": {
              "color": "#EBF0F8"
             },
             "line": {
              "color": "white"
             }
            },
            "header": {
             "fill": {
              "color": "#C8D4E3"
             },
             "line": {
              "color": "white"
             }
            },
            "type": "table"
           }
          ]
         },
         "layout": {
          "annotationdefaults": {
           "arrowcolor": "#2a3f5f",
           "arrowhead": 0,
           "arrowwidth": 1
          },
          "autotypenumbers": "strict",
          "coloraxis": {
           "colorbar": {
            "outlinewidth": 0,
            "ticks": ""
           }
          },
          "colorscale": {
           "diverging": [
            [
             0,
             "#8e0152"
            ],
            [
             0.1,
             "#c51b7d"
            ],
            [
             0.2,
             "#de77ae"
            ],
            [
             0.3,
             "#f1b6da"
            ],
            [
             0.4,
             "#fde0ef"
            ],
            [
             0.5,
             "#f7f7f7"
            ],
            [
             0.6,
             "#e6f5d0"
            ],
            [
             0.7,
             "#b8e186"
            ],
            [
             0.8,
             "#7fbc41"
            ],
            [
             0.9,
             "#4d9221"
            ],
            [
             1,
             "#276419"
            ]
           ],
           "sequential": [
            [
             0,
             "#0d0887"
            ],
            [
             0.1111111111111111,
             "#46039f"
            ],
            [
             0.2222222222222222,
             "#7201a8"
            ],
            [
             0.3333333333333333,
             "#9c179e"
            ],
            [
             0.4444444444444444,
             "#bd3786"
            ],
            [
             0.5555555555555556,
             "#d8576b"
            ],
            [
             0.6666666666666666,
             "#ed7953"
            ],
            [
             0.7777777777777778,
             "#fb9f3a"
            ],
            [
             0.8888888888888888,
             "#fdca26"
            ],
            [
             1,
             "#f0f921"
            ]
           ],
           "sequentialminus": [
            [
             0,
             "#0d0887"
            ],
            [
             0.1111111111111111,
             "#46039f"
            ],
            [
             0.2222222222222222,
             "#7201a8"
            ],
            [
             0.3333333333333333,
             "#9c179e"
            ],
            [
             0.4444444444444444,
             "#bd3786"
            ],
            [
             0.5555555555555556,
             "#d8576b"
            ],
            [
             0.6666666666666666,
             "#ed7953"
            ],
            [
             0.7777777777777778,
             "#fb9f3a"
            ],
            [
             0.8888888888888888,
             "#fdca26"
            ],
            [
             1,
             "#f0f921"
            ]
           ]
          },
          "colorway": [
           "#636efa",
           "#EF553B",
           "#00cc96",
           "#ab63fa",
           "#FFA15A",
           "#19d3f3",
           "#FF6692",
           "#B6E880",
           "#FF97FF",
           "#FECB52"
          ],
          "font": {
           "color": "#2a3f5f"
          },
          "geo": {
           "bgcolor": "white",
           "lakecolor": "white",
           "landcolor": "#E5ECF6",
           "showlakes": true,
           "showland": true,
           "subunitcolor": "white"
          },
          "hoverlabel": {
           "align": "left"
          },
          "hovermode": "closest",
          "mapbox": {
           "style": "light"
          },
          "paper_bgcolor": "white",
          "plot_bgcolor": "#E5ECF6",
          "polar": {
           "angularaxis": {
            "gridcolor": "white",
            "linecolor": "white",
            "ticks": ""
           },
           "bgcolor": "#E5ECF6",
           "radialaxis": {
            "gridcolor": "white",
            "linecolor": "white",
            "ticks": ""
           }
          },
          "scene": {
           "xaxis": {
            "backgroundcolor": "#E5ECF6",
            "gridcolor": "white",
            "gridwidth": 2,
            "linecolor": "white",
            "showbackground": true,
            "ticks": "",
            "zerolinecolor": "white"
           },
           "yaxis": {
            "backgroundcolor": "#E5ECF6",
            "gridcolor": "white",
            "gridwidth": 2,
            "linecolor": "white",
            "showbackground": true,
            "ticks": "",
            "zerolinecolor": "white"
           },
           "zaxis": {
            "backgroundcolor": "#E5ECF6",
            "gridcolor": "white",
            "gridwidth": 2,
            "linecolor": "white",
            "showbackground": true,
            "ticks": "",
            "zerolinecolor": "white"
           }
          },
          "shapedefaults": {
           "line": {
            "color": "#2a3f5f"
           }
          },
          "ternary": {
           "aaxis": {
            "gridcolor": "white",
            "linecolor": "white",
            "ticks": ""
           },
           "baxis": {
            "gridcolor": "white",
            "linecolor": "white",
            "ticks": ""
           },
           "bgcolor": "#E5ECF6",
           "caxis": {
            "gridcolor": "white",
            "linecolor": "white",
            "ticks": ""
           }
          },
          "title": {
           "x": 0.05
          },
          "xaxis": {
           "automargin": true,
           "gridcolor": "white",
           "linecolor": "white",
           "ticks": "",
           "title": {
            "standoff": 15
           },
           "zerolinecolor": "white",
           "zerolinewidth": 2
          },
          "yaxis": {
           "automargin": true,
           "gridcolor": "white",
           "linecolor": "white",
           "ticks": "",
           "title": {
            "standoff": 15
           },
           "zerolinecolor": "white",
           "zerolinewidth": 2
          }
         }
        },
        "title": {
         "font": {
          "size": 24
         }
        }
       }
      }
     },
     "metadata": {},
     "output_type": "display_data"
    }
   ],
   "source": [
    "\n",
    "##################################### KRA PINS #############################################\n",
    "values = [invalid_pins, valid_pins]\n",
    "#donut\n",
    "# (1) create pie chart figure\n",
    "fig = go.Figure(data=[go.Pie(\n",
    "                                labels=labels, \n",
    "                                values=values, \n",
    "                                hole=.45, \n",
    "                                pull=0.005, \n",
    "                                title='PINs', \n",
    "                                marker_colors=colors)\n",
    "                    ])\n",
    "\n",
    "# (2) add text for different parts of the chart\n",
    "fig.update_traces(text=labels) \n",
    "\n",
    "# (3) style the chart: font, title and size of chart\n",
    "fig.update_layout(\n",
    "                    font={'size': 24},\n",
    "                    title={'font': {'size': 24}},\n",
    "                    margin=dict(t=0, b=0, l=0, r=0)\n",
    "                    )\n",
    "\n",
    "fig.show()\n",
    "\n",
    "# (4) download image, saves in downloads folder by default\n",
    "offline.plot(fig, image = 'png', image_filename='kra-pin-donut_{}'.format(date))\n",
    "\n",
    "time.sleep(5)\n"
   ]
  },
  {
   "cell_type": "markdown",
   "id": "200f2055",
   "metadata": {},
   "source": [
    "## Gender"
   ]
  },
  {
   "cell_type": "code",
   "execution_count": 78,
   "id": "20174349",
   "metadata": {},
   "outputs": [
    {
     "data": {
      "application/vnd.plotly.v1+json": {
       "config": {
        "plotlyServerURL": "https://plot.ly"
       },
       "data": [
        {
         "hole": 0.45,
         "labels": [
          "INVALID",
          "VALID"
         ],
         "marker": {
          "colors": [
           "crimson",
           "rgb(29,66,138)"
          ]
         },
         "pull": 0.005,
         "text": [
          "INVALID",
          "VALID"
         ],
         "title": {
          "text": "GENDER"
         },
         "type": "pie",
         "values": [
          7941,
          110846
         ]
        }
       ],
       "layout": {
        "font": {
         "size": 24
        },
        "margin": {
         "b": 0,
         "l": 0,
         "r": 0,
         "t": 0
        },
        "template": {
         "data": {
          "bar": [
           {
            "error_x": {
             "color": "#2a3f5f"
            },
            "error_y": {
             "color": "#2a3f5f"
            },
            "marker": {
             "line": {
              "color": "#E5ECF6",
              "width": 0.5
             },
             "pattern": {
              "fillmode": "overlay",
              "size": 10,
              "solidity": 0.2
             }
            },
            "type": "bar"
           }
          ],
          "barpolar": [
           {
            "marker": {
             "line": {
              "color": "#E5ECF6",
              "width": 0.5
             },
             "pattern": {
              "fillmode": "overlay",
              "size": 10,
              "solidity": 0.2
             }
            },
            "type": "barpolar"
           }
          ],
          "carpet": [
           {
            "aaxis": {
             "endlinecolor": "#2a3f5f",
             "gridcolor": "white",
             "linecolor": "white",
             "minorgridcolor": "white",
             "startlinecolor": "#2a3f5f"
            },
            "baxis": {
             "endlinecolor": "#2a3f5f",
             "gridcolor": "white",
             "linecolor": "white",
             "minorgridcolor": "white",
             "startlinecolor": "#2a3f5f"
            },
            "type": "carpet"
           }
          ],
          "choropleth": [
           {
            "colorbar": {
             "outlinewidth": 0,
             "ticks": ""
            },
            "type": "choropleth"
           }
          ],
          "contour": [
           {
            "colorbar": {
             "outlinewidth": 0,
             "ticks": ""
            },
            "colorscale": [
             [
              0,
              "#0d0887"
             ],
             [
              0.1111111111111111,
              "#46039f"
             ],
             [
              0.2222222222222222,
              "#7201a8"
             ],
             [
              0.3333333333333333,
              "#9c179e"
             ],
             [
              0.4444444444444444,
              "#bd3786"
             ],
             [
              0.5555555555555556,
              "#d8576b"
             ],
             [
              0.6666666666666666,
              "#ed7953"
             ],
             [
              0.7777777777777778,
              "#fb9f3a"
             ],
             [
              0.8888888888888888,
              "#fdca26"
             ],
             [
              1,
              "#f0f921"
             ]
            ],
            "type": "contour"
           }
          ],
          "contourcarpet": [
           {
            "colorbar": {
             "outlinewidth": 0,
             "ticks": ""
            },
            "type": "contourcarpet"
           }
          ],
          "heatmap": [
           {
            "colorbar": {
             "outlinewidth": 0,
             "ticks": ""
            },
            "colorscale": [
             [
              0,
              "#0d0887"
             ],
             [
              0.1111111111111111,
              "#46039f"
             ],
             [
              0.2222222222222222,
              "#7201a8"
             ],
             [
              0.3333333333333333,
              "#9c179e"
             ],
             [
              0.4444444444444444,
              "#bd3786"
             ],
             [
              0.5555555555555556,
              "#d8576b"
             ],
             [
              0.6666666666666666,
              "#ed7953"
             ],
             [
              0.7777777777777778,
              "#fb9f3a"
             ],
             [
              0.8888888888888888,
              "#fdca26"
             ],
             [
              1,
              "#f0f921"
             ]
            ],
            "type": "heatmap"
           }
          ],
          "heatmapgl": [
           {
            "colorbar": {
             "outlinewidth": 0,
             "ticks": ""
            },
            "colorscale": [
             [
              0,
              "#0d0887"
             ],
             [
              0.1111111111111111,
              "#46039f"
             ],
             [
              0.2222222222222222,
              "#7201a8"
             ],
             [
              0.3333333333333333,
              "#9c179e"
             ],
             [
              0.4444444444444444,
              "#bd3786"
             ],
             [
              0.5555555555555556,
              "#d8576b"
             ],
             [
              0.6666666666666666,
              "#ed7953"
             ],
             [
              0.7777777777777778,
              "#fb9f3a"
             ],
             [
              0.8888888888888888,
              "#fdca26"
             ],
             [
              1,
              "#f0f921"
             ]
            ],
            "type": "heatmapgl"
           }
          ],
          "histogram": [
           {
            "marker": {
             "pattern": {
              "fillmode": "overlay",
              "size": 10,
              "solidity": 0.2
             }
            },
            "type": "histogram"
           }
          ],
          "histogram2d": [
           {
            "colorbar": {
             "outlinewidth": 0,
             "ticks": ""
            },
            "colorscale": [
             [
              0,
              "#0d0887"
             ],
             [
              0.1111111111111111,
              "#46039f"
             ],
             [
              0.2222222222222222,
              "#7201a8"
             ],
             [
              0.3333333333333333,
              "#9c179e"
             ],
             [
              0.4444444444444444,
              "#bd3786"
             ],
             [
              0.5555555555555556,
              "#d8576b"
             ],
             [
              0.6666666666666666,
              "#ed7953"
             ],
             [
              0.7777777777777778,
              "#fb9f3a"
             ],
             [
              0.8888888888888888,
              "#fdca26"
             ],
             [
              1,
              "#f0f921"
             ]
            ],
            "type": "histogram2d"
           }
          ],
          "histogram2dcontour": [
           {
            "colorbar": {
             "outlinewidth": 0,
             "ticks": ""
            },
            "colorscale": [
             [
              0,
              "#0d0887"
             ],
             [
              0.1111111111111111,
              "#46039f"
             ],
             [
              0.2222222222222222,
              "#7201a8"
             ],
             [
              0.3333333333333333,
              "#9c179e"
             ],
             [
              0.4444444444444444,
              "#bd3786"
             ],
             [
              0.5555555555555556,
              "#d8576b"
             ],
             [
              0.6666666666666666,
              "#ed7953"
             ],
             [
              0.7777777777777778,
              "#fb9f3a"
             ],
             [
              0.8888888888888888,
              "#fdca26"
             ],
             [
              1,
              "#f0f921"
             ]
            ],
            "type": "histogram2dcontour"
           }
          ],
          "mesh3d": [
           {
            "colorbar": {
             "outlinewidth": 0,
             "ticks": ""
            },
            "type": "mesh3d"
           }
          ],
          "parcoords": [
           {
            "line": {
             "colorbar": {
              "outlinewidth": 0,
              "ticks": ""
             }
            },
            "type": "parcoords"
           }
          ],
          "pie": [
           {
            "automargin": true,
            "type": "pie"
           }
          ],
          "scatter": [
           {
            "marker": {
             "colorbar": {
              "outlinewidth": 0,
              "ticks": ""
             }
            },
            "type": "scatter"
           }
          ],
          "scatter3d": [
           {
            "line": {
             "colorbar": {
              "outlinewidth": 0,
              "ticks": ""
             }
            },
            "marker": {
             "colorbar": {
              "outlinewidth": 0,
              "ticks": ""
             }
            },
            "type": "scatter3d"
           }
          ],
          "scattercarpet": [
           {
            "marker": {
             "colorbar": {
              "outlinewidth": 0,
              "ticks": ""
             }
            },
            "type": "scattercarpet"
           }
          ],
          "scattergeo": [
           {
            "marker": {
             "colorbar": {
              "outlinewidth": 0,
              "ticks": ""
             }
            },
            "type": "scattergeo"
           }
          ],
          "scattergl": [
           {
            "marker": {
             "colorbar": {
              "outlinewidth": 0,
              "ticks": ""
             }
            },
            "type": "scattergl"
           }
          ],
          "scattermapbox": [
           {
            "marker": {
             "colorbar": {
              "outlinewidth": 0,
              "ticks": ""
             }
            },
            "type": "scattermapbox"
           }
          ],
          "scatterpolar": [
           {
            "marker": {
             "colorbar": {
              "outlinewidth": 0,
              "ticks": ""
             }
            },
            "type": "scatterpolar"
           }
          ],
          "scatterpolargl": [
           {
            "marker": {
             "colorbar": {
              "outlinewidth": 0,
              "ticks": ""
             }
            },
            "type": "scatterpolargl"
           }
          ],
          "scatterternary": [
           {
            "marker": {
             "colorbar": {
              "outlinewidth": 0,
              "ticks": ""
             }
            },
            "type": "scatterternary"
           }
          ],
          "surface": [
           {
            "colorbar": {
             "outlinewidth": 0,
             "ticks": ""
            },
            "colorscale": [
             [
              0,
              "#0d0887"
             ],
             [
              0.1111111111111111,
              "#46039f"
             ],
             [
              0.2222222222222222,
              "#7201a8"
             ],
             [
              0.3333333333333333,
              "#9c179e"
             ],
             [
              0.4444444444444444,
              "#bd3786"
             ],
             [
              0.5555555555555556,
              "#d8576b"
             ],
             [
              0.6666666666666666,
              "#ed7953"
             ],
             [
              0.7777777777777778,
              "#fb9f3a"
             ],
             [
              0.8888888888888888,
              "#fdca26"
             ],
             [
              1,
              "#f0f921"
             ]
            ],
            "type": "surface"
           }
          ],
          "table": [
           {
            "cells": {
             "fill": {
              "color": "#EBF0F8"
             },
             "line": {
              "color": "white"
             }
            },
            "header": {
             "fill": {
              "color": "#C8D4E3"
             },
             "line": {
              "color": "white"
             }
            },
            "type": "table"
           }
          ]
         },
         "layout": {
          "annotationdefaults": {
           "arrowcolor": "#2a3f5f",
           "arrowhead": 0,
           "arrowwidth": 1
          },
          "autotypenumbers": "strict",
          "coloraxis": {
           "colorbar": {
            "outlinewidth": 0,
            "ticks": ""
           }
          },
          "colorscale": {
           "diverging": [
            [
             0,
             "#8e0152"
            ],
            [
             0.1,
             "#c51b7d"
            ],
            [
             0.2,
             "#de77ae"
            ],
            [
             0.3,
             "#f1b6da"
            ],
            [
             0.4,
             "#fde0ef"
            ],
            [
             0.5,
             "#f7f7f7"
            ],
            [
             0.6,
             "#e6f5d0"
            ],
            [
             0.7,
             "#b8e186"
            ],
            [
             0.8,
             "#7fbc41"
            ],
            [
             0.9,
             "#4d9221"
            ],
            [
             1,
             "#276419"
            ]
           ],
           "sequential": [
            [
             0,
             "#0d0887"
            ],
            [
             0.1111111111111111,
             "#46039f"
            ],
            [
             0.2222222222222222,
             "#7201a8"
            ],
            [
             0.3333333333333333,
             "#9c179e"
            ],
            [
             0.4444444444444444,
             "#bd3786"
            ],
            [
             0.5555555555555556,
             "#d8576b"
            ],
            [
             0.6666666666666666,
             "#ed7953"
            ],
            [
             0.7777777777777778,
             "#fb9f3a"
            ],
            [
             0.8888888888888888,
             "#fdca26"
            ],
            [
             1,
             "#f0f921"
            ]
           ],
           "sequentialminus": [
            [
             0,
             "#0d0887"
            ],
            [
             0.1111111111111111,
             "#46039f"
            ],
            [
             0.2222222222222222,
             "#7201a8"
            ],
            [
             0.3333333333333333,
             "#9c179e"
            ],
            [
             0.4444444444444444,
             "#bd3786"
            ],
            [
             0.5555555555555556,
             "#d8576b"
            ],
            [
             0.6666666666666666,
             "#ed7953"
            ],
            [
             0.7777777777777778,
             "#fb9f3a"
            ],
            [
             0.8888888888888888,
             "#fdca26"
            ],
            [
             1,
             "#f0f921"
            ]
           ]
          },
          "colorway": [
           "#636efa",
           "#EF553B",
           "#00cc96",
           "#ab63fa",
           "#FFA15A",
           "#19d3f3",
           "#FF6692",
           "#B6E880",
           "#FF97FF",
           "#FECB52"
          ],
          "font": {
           "color": "#2a3f5f"
          },
          "geo": {
           "bgcolor": "white",
           "lakecolor": "white",
           "landcolor": "#E5ECF6",
           "showlakes": true,
           "showland": true,
           "subunitcolor": "white"
          },
          "hoverlabel": {
           "align": "left"
          },
          "hovermode": "closest",
          "mapbox": {
           "style": "light"
          },
          "paper_bgcolor": "white",
          "plot_bgcolor": "#E5ECF6",
          "polar": {
           "angularaxis": {
            "gridcolor": "white",
            "linecolor": "white",
            "ticks": ""
           },
           "bgcolor": "#E5ECF6",
           "radialaxis": {
            "gridcolor": "white",
            "linecolor": "white",
            "ticks": ""
           }
          },
          "scene": {
           "xaxis": {
            "backgroundcolor": "#E5ECF6",
            "gridcolor": "white",
            "gridwidth": 2,
            "linecolor": "white",
            "showbackground": true,
            "ticks": "",
            "zerolinecolor": "white"
           },
           "yaxis": {
            "backgroundcolor": "#E5ECF6",
            "gridcolor": "white",
            "gridwidth": 2,
            "linecolor": "white",
            "showbackground": true,
            "ticks": "",
            "zerolinecolor": "white"
           },
           "zaxis": {
            "backgroundcolor": "#E5ECF6",
            "gridcolor": "white",
            "gridwidth": 2,
            "linecolor": "white",
            "showbackground": true,
            "ticks": "",
            "zerolinecolor": "white"
           }
          },
          "shapedefaults": {
           "line": {
            "color": "#2a3f5f"
           }
          },
          "ternary": {
           "aaxis": {
            "gridcolor": "white",
            "linecolor": "white",
            "ticks": ""
           },
           "baxis": {
            "gridcolor": "white",
            "linecolor": "white",
            "ticks": ""
           },
           "bgcolor": "#E5ECF6",
           "caxis": {
            "gridcolor": "white",
            "linecolor": "white",
            "ticks": ""
           }
          },
          "title": {
           "x": 0.05
          },
          "xaxis": {
           "automargin": true,
           "gridcolor": "white",
           "linecolor": "white",
           "ticks": "",
           "title": {
            "standoff": 15
           },
           "zerolinecolor": "white",
           "zerolinewidth": 2
          },
          "yaxis": {
           "automargin": true,
           "gridcolor": "white",
           "linecolor": "white",
           "ticks": "",
           "title": {
            "standoff": 15
           },
           "zerolinecolor": "white",
           "zerolinewidth": 2
          }
         }
        },
        "title": {
         "font": {
          "size": 24
         }
        }
       }
      }
     },
     "metadata": {},
     "output_type": "display_data"
    }
   ],
   "source": [
    "\n",
    "##################################### KRA PINS #############################################\n",
    "values = [invalid_gender, valid_gender]\n",
    "#donut\n",
    "# (1) create pie chart figure\n",
    "fig = go.Figure(data=[go.Pie(\n",
    "                                labels=labels, \n",
    "                                values=values, \n",
    "                                hole=.45, \n",
    "                                pull=0.005, \n",
    "                                title='GENDER', \n",
    "                                marker_colors=colors)\n",
    "                    ])\n",
    "\n",
    "# (2) add text for different parts of the chart\n",
    "fig.update_traces(text=labels) \n",
    "\n",
    "# (3) style the chart: font, title and size of chart\n",
    "fig.update_layout(\n",
    "                    font={'size': 24},\n",
    "                    title={'font': {'size': 24}},\n",
    "                    margin=dict(t=0, b=0, l=0, r=0)\n",
    "                    )\n",
    "\n",
    "fig.show()\n",
    "\n",
    "# (4) download image, saves in downloads folder by default\n",
    "offline.plot(fig, image = 'png', image_filename='gender-donut_{}'.format(date))\n",
    "\n",
    "time.sleep(5)\n"
   ]
  },
  {
   "cell_type": "code",
   "execution_count": null,
   "id": "7435af95",
   "metadata": {},
   "outputs": [],
   "source": []
  },
  {
   "cell_type": "markdown",
   "id": "d9b4ad58",
   "metadata": {},
   "source": [
    "## DOBs"
   ]
  },
  {
   "cell_type": "code",
   "execution_count": 79,
   "id": "56f1a218",
   "metadata": {},
   "outputs": [
    {
     "data": {
      "application/vnd.plotly.v1+json": {
       "config": {
        "plotlyServerURL": "https://plot.ly"
       },
       "data": [
        {
         "hole": 0.45,
         "labels": [
          "INVALID",
          "VALID"
         ],
         "marker": {
          "colors": [
           "crimson",
           "rgb(29,66,138)"
          ]
         },
         "pull": 0.005,
         "text": [
          "INVALID",
          "VALID"
         ],
         "title": {
          "text": "DATE OF BIRTH"
         },
         "type": "pie",
         "values": [
          97899,
          20888
         ]
        }
       ],
       "layout": {
        "font": {
         "size": 24
        },
        "margin": {
         "b": 0,
         "l": 0,
         "r": 0,
         "t": 0
        },
        "template": {
         "data": {
          "bar": [
           {
            "error_x": {
             "color": "#2a3f5f"
            },
            "error_y": {
             "color": "#2a3f5f"
            },
            "marker": {
             "line": {
              "color": "#E5ECF6",
              "width": 0.5
             },
             "pattern": {
              "fillmode": "overlay",
              "size": 10,
              "solidity": 0.2
             }
            },
            "type": "bar"
           }
          ],
          "barpolar": [
           {
            "marker": {
             "line": {
              "color": "#E5ECF6",
              "width": 0.5
             },
             "pattern": {
              "fillmode": "overlay",
              "size": 10,
              "solidity": 0.2
             }
            },
            "type": "barpolar"
           }
          ],
          "carpet": [
           {
            "aaxis": {
             "endlinecolor": "#2a3f5f",
             "gridcolor": "white",
             "linecolor": "white",
             "minorgridcolor": "white",
             "startlinecolor": "#2a3f5f"
            },
            "baxis": {
             "endlinecolor": "#2a3f5f",
             "gridcolor": "white",
             "linecolor": "white",
             "minorgridcolor": "white",
             "startlinecolor": "#2a3f5f"
            },
            "type": "carpet"
           }
          ],
          "choropleth": [
           {
            "colorbar": {
             "outlinewidth": 0,
             "ticks": ""
            },
            "type": "choropleth"
           }
          ],
          "contour": [
           {
            "colorbar": {
             "outlinewidth": 0,
             "ticks": ""
            },
            "colorscale": [
             [
              0,
              "#0d0887"
             ],
             [
              0.1111111111111111,
              "#46039f"
             ],
             [
              0.2222222222222222,
              "#7201a8"
             ],
             [
              0.3333333333333333,
              "#9c179e"
             ],
             [
              0.4444444444444444,
              "#bd3786"
             ],
             [
              0.5555555555555556,
              "#d8576b"
             ],
             [
              0.6666666666666666,
              "#ed7953"
             ],
             [
              0.7777777777777778,
              "#fb9f3a"
             ],
             [
              0.8888888888888888,
              "#fdca26"
             ],
             [
              1,
              "#f0f921"
             ]
            ],
            "type": "contour"
           }
          ],
          "contourcarpet": [
           {
            "colorbar": {
             "outlinewidth": 0,
             "ticks": ""
            },
            "type": "contourcarpet"
           }
          ],
          "heatmap": [
           {
            "colorbar": {
             "outlinewidth": 0,
             "ticks": ""
            },
            "colorscale": [
             [
              0,
              "#0d0887"
             ],
             [
              0.1111111111111111,
              "#46039f"
             ],
             [
              0.2222222222222222,
              "#7201a8"
             ],
             [
              0.3333333333333333,
              "#9c179e"
             ],
             [
              0.4444444444444444,
              "#bd3786"
             ],
             [
              0.5555555555555556,
              "#d8576b"
             ],
             [
              0.6666666666666666,
              "#ed7953"
             ],
             [
              0.7777777777777778,
              "#fb9f3a"
             ],
             [
              0.8888888888888888,
              "#fdca26"
             ],
             [
              1,
              "#f0f921"
             ]
            ],
            "type": "heatmap"
           }
          ],
          "heatmapgl": [
           {
            "colorbar": {
             "outlinewidth": 0,
             "ticks": ""
            },
            "colorscale": [
             [
              0,
              "#0d0887"
             ],
             [
              0.1111111111111111,
              "#46039f"
             ],
             [
              0.2222222222222222,
              "#7201a8"
             ],
             [
              0.3333333333333333,
              "#9c179e"
             ],
             [
              0.4444444444444444,
              "#bd3786"
             ],
             [
              0.5555555555555556,
              "#d8576b"
             ],
             [
              0.6666666666666666,
              "#ed7953"
             ],
             [
              0.7777777777777778,
              "#fb9f3a"
             ],
             [
              0.8888888888888888,
              "#fdca26"
             ],
             [
              1,
              "#f0f921"
             ]
            ],
            "type": "heatmapgl"
           }
          ],
          "histogram": [
           {
            "marker": {
             "pattern": {
              "fillmode": "overlay",
              "size": 10,
              "solidity": 0.2
             }
            },
            "type": "histogram"
           }
          ],
          "histogram2d": [
           {
            "colorbar": {
             "outlinewidth": 0,
             "ticks": ""
            },
            "colorscale": [
             [
              0,
              "#0d0887"
             ],
             [
              0.1111111111111111,
              "#46039f"
             ],
             [
              0.2222222222222222,
              "#7201a8"
             ],
             [
              0.3333333333333333,
              "#9c179e"
             ],
             [
              0.4444444444444444,
              "#bd3786"
             ],
             [
              0.5555555555555556,
              "#d8576b"
             ],
             [
              0.6666666666666666,
              "#ed7953"
             ],
             [
              0.7777777777777778,
              "#fb9f3a"
             ],
             [
              0.8888888888888888,
              "#fdca26"
             ],
             [
              1,
              "#f0f921"
             ]
            ],
            "type": "histogram2d"
           }
          ],
          "histogram2dcontour": [
           {
            "colorbar": {
             "outlinewidth": 0,
             "ticks": ""
            },
            "colorscale": [
             [
              0,
              "#0d0887"
             ],
             [
              0.1111111111111111,
              "#46039f"
             ],
             [
              0.2222222222222222,
              "#7201a8"
             ],
             [
              0.3333333333333333,
              "#9c179e"
             ],
             [
              0.4444444444444444,
              "#bd3786"
             ],
             [
              0.5555555555555556,
              "#d8576b"
             ],
             [
              0.6666666666666666,
              "#ed7953"
             ],
             [
              0.7777777777777778,
              "#fb9f3a"
             ],
             [
              0.8888888888888888,
              "#fdca26"
             ],
             [
              1,
              "#f0f921"
             ]
            ],
            "type": "histogram2dcontour"
           }
          ],
          "mesh3d": [
           {
            "colorbar": {
             "outlinewidth": 0,
             "ticks": ""
            },
            "type": "mesh3d"
           }
          ],
          "parcoords": [
           {
            "line": {
             "colorbar": {
              "outlinewidth": 0,
              "ticks": ""
             }
            },
            "type": "parcoords"
           }
          ],
          "pie": [
           {
            "automargin": true,
            "type": "pie"
           }
          ],
          "scatter": [
           {
            "marker": {
             "colorbar": {
              "outlinewidth": 0,
              "ticks": ""
             }
            },
            "type": "scatter"
           }
          ],
          "scatter3d": [
           {
            "line": {
             "colorbar": {
              "outlinewidth": 0,
              "ticks": ""
             }
            },
            "marker": {
             "colorbar": {
              "outlinewidth": 0,
              "ticks": ""
             }
            },
            "type": "scatter3d"
           }
          ],
          "scattercarpet": [
           {
            "marker": {
             "colorbar": {
              "outlinewidth": 0,
              "ticks": ""
             }
            },
            "type": "scattercarpet"
           }
          ],
          "scattergeo": [
           {
            "marker": {
             "colorbar": {
              "outlinewidth": 0,
              "ticks": ""
             }
            },
            "type": "scattergeo"
           }
          ],
          "scattergl": [
           {
            "marker": {
             "colorbar": {
              "outlinewidth": 0,
              "ticks": ""
             }
            },
            "type": "scattergl"
           }
          ],
          "scattermapbox": [
           {
            "marker": {
             "colorbar": {
              "outlinewidth": 0,
              "ticks": ""
             }
            },
            "type": "scattermapbox"
           }
          ],
          "scatterpolar": [
           {
            "marker": {
             "colorbar": {
              "outlinewidth": 0,
              "ticks": ""
             }
            },
            "type": "scatterpolar"
           }
          ],
          "scatterpolargl": [
           {
            "marker": {
             "colorbar": {
              "outlinewidth": 0,
              "ticks": ""
             }
            },
            "type": "scatterpolargl"
           }
          ],
          "scatterternary": [
           {
            "marker": {
             "colorbar": {
              "outlinewidth": 0,
              "ticks": ""
             }
            },
            "type": "scatterternary"
           }
          ],
          "surface": [
           {
            "colorbar": {
             "outlinewidth": 0,
             "ticks": ""
            },
            "colorscale": [
             [
              0,
              "#0d0887"
             ],
             [
              0.1111111111111111,
              "#46039f"
             ],
             [
              0.2222222222222222,
              "#7201a8"
             ],
             [
              0.3333333333333333,
              "#9c179e"
             ],
             [
              0.4444444444444444,
              "#bd3786"
             ],
             [
              0.5555555555555556,
              "#d8576b"
             ],
             [
              0.6666666666666666,
              "#ed7953"
             ],
             [
              0.7777777777777778,
              "#fb9f3a"
             ],
             [
              0.8888888888888888,
              "#fdca26"
             ],
             [
              1,
              "#f0f921"
             ]
            ],
            "type": "surface"
           }
          ],
          "table": [
           {
            "cells": {
             "fill": {
              "color": "#EBF0F8"
             },
             "line": {
              "color": "white"
             }
            },
            "header": {
             "fill": {
              "color": "#C8D4E3"
             },
             "line": {
              "color": "white"
             }
            },
            "type": "table"
           }
          ]
         },
         "layout": {
          "annotationdefaults": {
           "arrowcolor": "#2a3f5f",
           "arrowhead": 0,
           "arrowwidth": 1
          },
          "autotypenumbers": "strict",
          "coloraxis": {
           "colorbar": {
            "outlinewidth": 0,
            "ticks": ""
           }
          },
          "colorscale": {
           "diverging": [
            [
             0,
             "#8e0152"
            ],
            [
             0.1,
             "#c51b7d"
            ],
            [
             0.2,
             "#de77ae"
            ],
            [
             0.3,
             "#f1b6da"
            ],
            [
             0.4,
             "#fde0ef"
            ],
            [
             0.5,
             "#f7f7f7"
            ],
            [
             0.6,
             "#e6f5d0"
            ],
            [
             0.7,
             "#b8e186"
            ],
            [
             0.8,
             "#7fbc41"
            ],
            [
             0.9,
             "#4d9221"
            ],
            [
             1,
             "#276419"
            ]
           ],
           "sequential": [
            [
             0,
             "#0d0887"
            ],
            [
             0.1111111111111111,
             "#46039f"
            ],
            [
             0.2222222222222222,
             "#7201a8"
            ],
            [
             0.3333333333333333,
             "#9c179e"
            ],
            [
             0.4444444444444444,
             "#bd3786"
            ],
            [
             0.5555555555555556,
             "#d8576b"
            ],
            [
             0.6666666666666666,
             "#ed7953"
            ],
            [
             0.7777777777777778,
             "#fb9f3a"
            ],
            [
             0.8888888888888888,
             "#fdca26"
            ],
            [
             1,
             "#f0f921"
            ]
           ],
           "sequentialminus": [
            [
             0,
             "#0d0887"
            ],
            [
             0.1111111111111111,
             "#46039f"
            ],
            [
             0.2222222222222222,
             "#7201a8"
            ],
            [
             0.3333333333333333,
             "#9c179e"
            ],
            [
             0.4444444444444444,
             "#bd3786"
            ],
            [
             0.5555555555555556,
             "#d8576b"
            ],
            [
             0.6666666666666666,
             "#ed7953"
            ],
            [
             0.7777777777777778,
             "#fb9f3a"
            ],
            [
             0.8888888888888888,
             "#fdca26"
            ],
            [
             1,
             "#f0f921"
            ]
           ]
          },
          "colorway": [
           "#636efa",
           "#EF553B",
           "#00cc96",
           "#ab63fa",
           "#FFA15A",
           "#19d3f3",
           "#FF6692",
           "#B6E880",
           "#FF97FF",
           "#FECB52"
          ],
          "font": {
           "color": "#2a3f5f"
          },
          "geo": {
           "bgcolor": "white",
           "lakecolor": "white",
           "landcolor": "#E5ECF6",
           "showlakes": true,
           "showland": true,
           "subunitcolor": "white"
          },
          "hoverlabel": {
           "align": "left"
          },
          "hovermode": "closest",
          "mapbox": {
           "style": "light"
          },
          "paper_bgcolor": "white",
          "plot_bgcolor": "#E5ECF6",
          "polar": {
           "angularaxis": {
            "gridcolor": "white",
            "linecolor": "white",
            "ticks": ""
           },
           "bgcolor": "#E5ECF6",
           "radialaxis": {
            "gridcolor": "white",
            "linecolor": "white",
            "ticks": ""
           }
          },
          "scene": {
           "xaxis": {
            "backgroundcolor": "#E5ECF6",
            "gridcolor": "white",
            "gridwidth": 2,
            "linecolor": "white",
            "showbackground": true,
            "ticks": "",
            "zerolinecolor": "white"
           },
           "yaxis": {
            "backgroundcolor": "#E5ECF6",
            "gridcolor": "white",
            "gridwidth": 2,
            "linecolor": "white",
            "showbackground": true,
            "ticks": "",
            "zerolinecolor": "white"
           },
           "zaxis": {
            "backgroundcolor": "#E5ECF6",
            "gridcolor": "white",
            "gridwidth": 2,
            "linecolor": "white",
            "showbackground": true,
            "ticks": "",
            "zerolinecolor": "white"
           }
          },
          "shapedefaults": {
           "line": {
            "color": "#2a3f5f"
           }
          },
          "ternary": {
           "aaxis": {
            "gridcolor": "white",
            "linecolor": "white",
            "ticks": ""
           },
           "baxis": {
            "gridcolor": "white",
            "linecolor": "white",
            "ticks": ""
           },
           "bgcolor": "#E5ECF6",
           "caxis": {
            "gridcolor": "white",
            "linecolor": "white",
            "ticks": ""
           }
          },
          "title": {
           "x": 0.05
          },
          "xaxis": {
           "automargin": true,
           "gridcolor": "white",
           "linecolor": "white",
           "ticks": "",
           "title": {
            "standoff": 15
           },
           "zerolinecolor": "white",
           "zerolinewidth": 2
          },
          "yaxis": {
           "automargin": true,
           "gridcolor": "white",
           "linecolor": "white",
           "ticks": "",
           "title": {
            "standoff": 15
           },
           "zerolinecolor": "white",
           "zerolinewidth": 2
          }
         }
        },
        "title": {
         "font": {
          "size": 24
         }
        }
       }
      }
     },
     "metadata": {},
     "output_type": "display_data"
    }
   ],
   "source": [
    "\n",
    "##################################### DOBs #############################################\n",
    "values = [invalid_DOBs, valid_DOBs]\n",
    "\n",
    "#donut\n",
    "# (1) create pie chart figure\n",
    "fig = go.Figure(data=[go.Pie(\n",
    "                                labels=labels, \n",
    "                                values=values, \n",
    "                                hole=.45, \n",
    "                                pull=0.005, \n",
    "                                title='DATE OF BIRTH', \n",
    "                                marker_colors=colors)\n",
    "                    ])\n",
    "\n",
    "# (2) add text for different parts of the chart\n",
    "fig.update_traces(text=labels) \n",
    "\n",
    "# (3) style the chart: font, title and size of chart\n",
    "fig.update_layout(\n",
    "                    font={'size': 24},\n",
    "                    title={'font': {'size': 24}},\n",
    "                    margin=dict(t=0, b=0, l=0, r=0)\n",
    "                    )\n",
    "\n",
    "fig.show()\n",
    "\n",
    "# (4) download image, saves in downloads folder by default\n",
    "offline.plot(fig, image = 'png', image_filename='dob-donut_{}'.format(date))\n",
    "\n",
    "time.sleep(5)\n"
   ]
  },
  {
   "cell_type": "markdown",
   "id": "44388510",
   "metadata": {},
   "source": [
    "## Age"
   ]
  },
  {
   "cell_type": "code",
   "execution_count": 80,
   "id": "53d19c0a",
   "metadata": {},
   "outputs": [
    {
     "data": {
      "application/vnd.plotly.v1+json": {
       "config": {
        "plotlyServerURL": "https://plot.ly"
       },
       "data": [
        {
         "hole": 0.45,
         "labels": [
          "INVALID",
          "VALID"
         ],
         "marker": {
          "colors": [
           "crimson",
           "rgb(29,66,138)"
          ]
         },
         "pull": 0.005,
         "text": [
          "INVALID",
          "VALID"
         ],
         "title": {
          "text": "AGE"
         },
         "type": "pie",
         "values": [
          97980,
          20807
         ]
        }
       ],
       "layout": {
        "font": {
         "size": 24
        },
        "margin": {
         "b": 0,
         "l": 0,
         "r": 0,
         "t": 0
        },
        "template": {
         "data": {
          "bar": [
           {
            "error_x": {
             "color": "#2a3f5f"
            },
            "error_y": {
             "color": "#2a3f5f"
            },
            "marker": {
             "line": {
              "color": "#E5ECF6",
              "width": 0.5
             },
             "pattern": {
              "fillmode": "overlay",
              "size": 10,
              "solidity": 0.2
             }
            },
            "type": "bar"
           }
          ],
          "barpolar": [
           {
            "marker": {
             "line": {
              "color": "#E5ECF6",
              "width": 0.5
             },
             "pattern": {
              "fillmode": "overlay",
              "size": 10,
              "solidity": 0.2
             }
            },
            "type": "barpolar"
           }
          ],
          "carpet": [
           {
            "aaxis": {
             "endlinecolor": "#2a3f5f",
             "gridcolor": "white",
             "linecolor": "white",
             "minorgridcolor": "white",
             "startlinecolor": "#2a3f5f"
            },
            "baxis": {
             "endlinecolor": "#2a3f5f",
             "gridcolor": "white",
             "linecolor": "white",
             "minorgridcolor": "white",
             "startlinecolor": "#2a3f5f"
            },
            "type": "carpet"
           }
          ],
          "choropleth": [
           {
            "colorbar": {
             "outlinewidth": 0,
             "ticks": ""
            },
            "type": "choropleth"
           }
          ],
          "contour": [
           {
            "colorbar": {
             "outlinewidth": 0,
             "ticks": ""
            },
            "colorscale": [
             [
              0,
              "#0d0887"
             ],
             [
              0.1111111111111111,
              "#46039f"
             ],
             [
              0.2222222222222222,
              "#7201a8"
             ],
             [
              0.3333333333333333,
              "#9c179e"
             ],
             [
              0.4444444444444444,
              "#bd3786"
             ],
             [
              0.5555555555555556,
              "#d8576b"
             ],
             [
              0.6666666666666666,
              "#ed7953"
             ],
             [
              0.7777777777777778,
              "#fb9f3a"
             ],
             [
              0.8888888888888888,
              "#fdca26"
             ],
             [
              1,
              "#f0f921"
             ]
            ],
            "type": "contour"
           }
          ],
          "contourcarpet": [
           {
            "colorbar": {
             "outlinewidth": 0,
             "ticks": ""
            },
            "type": "contourcarpet"
           }
          ],
          "heatmap": [
           {
            "colorbar": {
             "outlinewidth": 0,
             "ticks": ""
            },
            "colorscale": [
             [
              0,
              "#0d0887"
             ],
             [
              0.1111111111111111,
              "#46039f"
             ],
             [
              0.2222222222222222,
              "#7201a8"
             ],
             [
              0.3333333333333333,
              "#9c179e"
             ],
             [
              0.4444444444444444,
              "#bd3786"
             ],
             [
              0.5555555555555556,
              "#d8576b"
             ],
             [
              0.6666666666666666,
              "#ed7953"
             ],
             [
              0.7777777777777778,
              "#fb9f3a"
             ],
             [
              0.8888888888888888,
              "#fdca26"
             ],
             [
              1,
              "#f0f921"
             ]
            ],
            "type": "heatmap"
           }
          ],
          "heatmapgl": [
           {
            "colorbar": {
             "outlinewidth": 0,
             "ticks": ""
            },
            "colorscale": [
             [
              0,
              "#0d0887"
             ],
             [
              0.1111111111111111,
              "#46039f"
             ],
             [
              0.2222222222222222,
              "#7201a8"
             ],
             [
              0.3333333333333333,
              "#9c179e"
             ],
             [
              0.4444444444444444,
              "#bd3786"
             ],
             [
              0.5555555555555556,
              "#d8576b"
             ],
             [
              0.6666666666666666,
              "#ed7953"
             ],
             [
              0.7777777777777778,
              "#fb9f3a"
             ],
             [
              0.8888888888888888,
              "#fdca26"
             ],
             [
              1,
              "#f0f921"
             ]
            ],
            "type": "heatmapgl"
           }
          ],
          "histogram": [
           {
            "marker": {
             "pattern": {
              "fillmode": "overlay",
              "size": 10,
              "solidity": 0.2
             }
            },
            "type": "histogram"
           }
          ],
          "histogram2d": [
           {
            "colorbar": {
             "outlinewidth": 0,
             "ticks": ""
            },
            "colorscale": [
             [
              0,
              "#0d0887"
             ],
             [
              0.1111111111111111,
              "#46039f"
             ],
             [
              0.2222222222222222,
              "#7201a8"
             ],
             [
              0.3333333333333333,
              "#9c179e"
             ],
             [
              0.4444444444444444,
              "#bd3786"
             ],
             [
              0.5555555555555556,
              "#d8576b"
             ],
             [
              0.6666666666666666,
              "#ed7953"
             ],
             [
              0.7777777777777778,
              "#fb9f3a"
             ],
             [
              0.8888888888888888,
              "#fdca26"
             ],
             [
              1,
              "#f0f921"
             ]
            ],
            "type": "histogram2d"
           }
          ],
          "histogram2dcontour": [
           {
            "colorbar": {
             "outlinewidth": 0,
             "ticks": ""
            },
            "colorscale": [
             [
              0,
              "#0d0887"
             ],
             [
              0.1111111111111111,
              "#46039f"
             ],
             [
              0.2222222222222222,
              "#7201a8"
             ],
             [
              0.3333333333333333,
              "#9c179e"
             ],
             [
              0.4444444444444444,
              "#bd3786"
             ],
             [
              0.5555555555555556,
              "#d8576b"
             ],
             [
              0.6666666666666666,
              "#ed7953"
             ],
             [
              0.7777777777777778,
              "#fb9f3a"
             ],
             [
              0.8888888888888888,
              "#fdca26"
             ],
             [
              1,
              "#f0f921"
             ]
            ],
            "type": "histogram2dcontour"
           }
          ],
          "mesh3d": [
           {
            "colorbar": {
             "outlinewidth": 0,
             "ticks": ""
            },
            "type": "mesh3d"
           }
          ],
          "parcoords": [
           {
            "line": {
             "colorbar": {
              "outlinewidth": 0,
              "ticks": ""
             }
            },
            "type": "parcoords"
           }
          ],
          "pie": [
           {
            "automargin": true,
            "type": "pie"
           }
          ],
          "scatter": [
           {
            "marker": {
             "colorbar": {
              "outlinewidth": 0,
              "ticks": ""
             }
            },
            "type": "scatter"
           }
          ],
          "scatter3d": [
           {
            "line": {
             "colorbar": {
              "outlinewidth": 0,
              "ticks": ""
             }
            },
            "marker": {
             "colorbar": {
              "outlinewidth": 0,
              "ticks": ""
             }
            },
            "type": "scatter3d"
           }
          ],
          "scattercarpet": [
           {
            "marker": {
             "colorbar": {
              "outlinewidth": 0,
              "ticks": ""
             }
            },
            "type": "scattercarpet"
           }
          ],
          "scattergeo": [
           {
            "marker": {
             "colorbar": {
              "outlinewidth": 0,
              "ticks": ""
             }
            },
            "type": "scattergeo"
           }
          ],
          "scattergl": [
           {
            "marker": {
             "colorbar": {
              "outlinewidth": 0,
              "ticks": ""
             }
            },
            "type": "scattergl"
           }
          ],
          "scattermapbox": [
           {
            "marker": {
             "colorbar": {
              "outlinewidth": 0,
              "ticks": ""
             }
            },
            "type": "scattermapbox"
           }
          ],
          "scatterpolar": [
           {
            "marker": {
             "colorbar": {
              "outlinewidth": 0,
              "ticks": ""
             }
            },
            "type": "scatterpolar"
           }
          ],
          "scatterpolargl": [
           {
            "marker": {
             "colorbar": {
              "outlinewidth": 0,
              "ticks": ""
             }
            },
            "type": "scatterpolargl"
           }
          ],
          "scatterternary": [
           {
            "marker": {
             "colorbar": {
              "outlinewidth": 0,
              "ticks": ""
             }
            },
            "type": "scatterternary"
           }
          ],
          "surface": [
           {
            "colorbar": {
             "outlinewidth": 0,
             "ticks": ""
            },
            "colorscale": [
             [
              0,
              "#0d0887"
             ],
             [
              0.1111111111111111,
              "#46039f"
             ],
             [
              0.2222222222222222,
              "#7201a8"
             ],
             [
              0.3333333333333333,
              "#9c179e"
             ],
             [
              0.4444444444444444,
              "#bd3786"
             ],
             [
              0.5555555555555556,
              "#d8576b"
             ],
             [
              0.6666666666666666,
              "#ed7953"
             ],
             [
              0.7777777777777778,
              "#fb9f3a"
             ],
             [
              0.8888888888888888,
              "#fdca26"
             ],
             [
              1,
              "#f0f921"
             ]
            ],
            "type": "surface"
           }
          ],
          "table": [
           {
            "cells": {
             "fill": {
              "color": "#EBF0F8"
             },
             "line": {
              "color": "white"
             }
            },
            "header": {
             "fill": {
              "color": "#C8D4E3"
             },
             "line": {
              "color": "white"
             }
            },
            "type": "table"
           }
          ]
         },
         "layout": {
          "annotationdefaults": {
           "arrowcolor": "#2a3f5f",
           "arrowhead": 0,
           "arrowwidth": 1
          },
          "autotypenumbers": "strict",
          "coloraxis": {
           "colorbar": {
            "outlinewidth": 0,
            "ticks": ""
           }
          },
          "colorscale": {
           "diverging": [
            [
             0,
             "#8e0152"
            ],
            [
             0.1,
             "#c51b7d"
            ],
            [
             0.2,
             "#de77ae"
            ],
            [
             0.3,
             "#f1b6da"
            ],
            [
             0.4,
             "#fde0ef"
            ],
            [
             0.5,
             "#f7f7f7"
            ],
            [
             0.6,
             "#e6f5d0"
            ],
            [
             0.7,
             "#b8e186"
            ],
            [
             0.8,
             "#7fbc41"
            ],
            [
             0.9,
             "#4d9221"
            ],
            [
             1,
             "#276419"
            ]
           ],
           "sequential": [
            [
             0,
             "#0d0887"
            ],
            [
             0.1111111111111111,
             "#46039f"
            ],
            [
             0.2222222222222222,
             "#7201a8"
            ],
            [
             0.3333333333333333,
             "#9c179e"
            ],
            [
             0.4444444444444444,
             "#bd3786"
            ],
            [
             0.5555555555555556,
             "#d8576b"
            ],
            [
             0.6666666666666666,
             "#ed7953"
            ],
            [
             0.7777777777777778,
             "#fb9f3a"
            ],
            [
             0.8888888888888888,
             "#fdca26"
            ],
            [
             1,
             "#f0f921"
            ]
           ],
           "sequentialminus": [
            [
             0,
             "#0d0887"
            ],
            [
             0.1111111111111111,
             "#46039f"
            ],
            [
             0.2222222222222222,
             "#7201a8"
            ],
            [
             0.3333333333333333,
             "#9c179e"
            ],
            [
             0.4444444444444444,
             "#bd3786"
            ],
            [
             0.5555555555555556,
             "#d8576b"
            ],
            [
             0.6666666666666666,
             "#ed7953"
            ],
            [
             0.7777777777777778,
             "#fb9f3a"
            ],
            [
             0.8888888888888888,
             "#fdca26"
            ],
            [
             1,
             "#f0f921"
            ]
           ]
          },
          "colorway": [
           "#636efa",
           "#EF553B",
           "#00cc96",
           "#ab63fa",
           "#FFA15A",
           "#19d3f3",
           "#FF6692",
           "#B6E880",
           "#FF97FF",
           "#FECB52"
          ],
          "font": {
           "color": "#2a3f5f"
          },
          "geo": {
           "bgcolor": "white",
           "lakecolor": "white",
           "landcolor": "#E5ECF6",
           "showlakes": true,
           "showland": true,
           "subunitcolor": "white"
          },
          "hoverlabel": {
           "align": "left"
          },
          "hovermode": "closest",
          "mapbox": {
           "style": "light"
          },
          "paper_bgcolor": "white",
          "plot_bgcolor": "#E5ECF6",
          "polar": {
           "angularaxis": {
            "gridcolor": "white",
            "linecolor": "white",
            "ticks": ""
           },
           "bgcolor": "#E5ECF6",
           "radialaxis": {
            "gridcolor": "white",
            "linecolor": "white",
            "ticks": ""
           }
          },
          "scene": {
           "xaxis": {
            "backgroundcolor": "#E5ECF6",
            "gridcolor": "white",
            "gridwidth": 2,
            "linecolor": "white",
            "showbackground": true,
            "ticks": "",
            "zerolinecolor": "white"
           },
           "yaxis": {
            "backgroundcolor": "#E5ECF6",
            "gridcolor": "white",
            "gridwidth": 2,
            "linecolor": "white",
            "showbackground": true,
            "ticks": "",
            "zerolinecolor": "white"
           },
           "zaxis": {
            "backgroundcolor": "#E5ECF6",
            "gridcolor": "white",
            "gridwidth": 2,
            "linecolor": "white",
            "showbackground": true,
            "ticks": "",
            "zerolinecolor": "white"
           }
          },
          "shapedefaults": {
           "line": {
            "color": "#2a3f5f"
           }
          },
          "ternary": {
           "aaxis": {
            "gridcolor": "white",
            "linecolor": "white",
            "ticks": ""
           },
           "baxis": {
            "gridcolor": "white",
            "linecolor": "white",
            "ticks": ""
           },
           "bgcolor": "#E5ECF6",
           "caxis": {
            "gridcolor": "white",
            "linecolor": "white",
            "ticks": ""
           }
          },
          "title": {
           "x": 0.05
          },
          "xaxis": {
           "automargin": true,
           "gridcolor": "white",
           "linecolor": "white",
           "ticks": "",
           "title": {
            "standoff": 15
           },
           "zerolinecolor": "white",
           "zerolinewidth": 2
          },
          "yaxis": {
           "automargin": true,
           "gridcolor": "white",
           "linecolor": "white",
           "ticks": "",
           "title": {
            "standoff": 15
           },
           "zerolinecolor": "white",
           "zerolinewidth": 2
          }
         }
        },
        "title": {
         "font": {
          "size": 24
         }
        }
       }
      }
     },
     "metadata": {},
     "output_type": "display_data"
    }
   ],
   "source": [
    "\n",
    "##################################### AGE #############################################\n",
    "values = [invalid_age, valid_age]\n",
    "\n",
    "#donut\n",
    "# (1) create pie chart figure\n",
    "fig = go.Figure(data=[go.Pie(\n",
    "                                labels=labels, \n",
    "                                values=values, \n",
    "                                hole=.45, \n",
    "                                pull=0.005, \n",
    "                                title='AGE', \n",
    "                                marker_colors=colors)\n",
    "                    ])\n",
    "\n",
    "# (2) add text for different parts of the chart\n",
    "fig.update_traces(text=labels) \n",
    "\n",
    "# (3) style the chart: font, title and size of chart\n",
    "fig.update_layout(\n",
    "                    font={'size': 24},\n",
    "                    title={'font': {'size': 24}},\n",
    "                    margin=dict(t=0, b=0, l=0, r=0)\n",
    "                    )\n",
    "\n",
    "fig.show()\n",
    "\n",
    "# (4) download image, saves in downloads folder by default\n",
    "offline.plot(fig, image = 'png', image_filename='age-donut_{}'.format(date))\n",
    "\n",
    "time.sleep(5)\n"
   ]
  },
  {
   "cell_type": "markdown",
   "id": "39f7f0a1",
   "metadata": {},
   "source": [
    "## Telephone 1"
   ]
  },
  {
   "cell_type": "code",
   "execution_count": 81,
   "id": "0ae9c922",
   "metadata": {},
   "outputs": [
    {
     "data": {
      "application/vnd.plotly.v1+json": {
       "config": {
        "plotlyServerURL": "https://plot.ly"
       },
       "data": [
        {
         "hole": 0.45,
         "labels": [
          "INVALID",
          "VALID"
         ],
         "marker": {
          "colors": [
           "crimson",
           "rgb(29,66,138)"
          ]
         },
         "pull": 0.005,
         "text": [
          "INVALID",
          "VALID"
         ],
         "title": {
          "text": "TELEPHONE"
         },
         "type": "pie",
         "values": [
          87580,
          31207
         ]
        }
       ],
       "layout": {
        "font": {
         "size": 24
        },
        "margin": {
         "b": 0,
         "l": 0,
         "r": 0,
         "t": 0
        },
        "template": {
         "data": {
          "bar": [
           {
            "error_x": {
             "color": "#2a3f5f"
            },
            "error_y": {
             "color": "#2a3f5f"
            },
            "marker": {
             "line": {
              "color": "#E5ECF6",
              "width": 0.5
             },
             "pattern": {
              "fillmode": "overlay",
              "size": 10,
              "solidity": 0.2
             }
            },
            "type": "bar"
           }
          ],
          "barpolar": [
           {
            "marker": {
             "line": {
              "color": "#E5ECF6",
              "width": 0.5
             },
             "pattern": {
              "fillmode": "overlay",
              "size": 10,
              "solidity": 0.2
             }
            },
            "type": "barpolar"
           }
          ],
          "carpet": [
           {
            "aaxis": {
             "endlinecolor": "#2a3f5f",
             "gridcolor": "white",
             "linecolor": "white",
             "minorgridcolor": "white",
             "startlinecolor": "#2a3f5f"
            },
            "baxis": {
             "endlinecolor": "#2a3f5f",
             "gridcolor": "white",
             "linecolor": "white",
             "minorgridcolor": "white",
             "startlinecolor": "#2a3f5f"
            },
            "type": "carpet"
           }
          ],
          "choropleth": [
           {
            "colorbar": {
             "outlinewidth": 0,
             "ticks": ""
            },
            "type": "choropleth"
           }
          ],
          "contour": [
           {
            "colorbar": {
             "outlinewidth": 0,
             "ticks": ""
            },
            "colorscale": [
             [
              0,
              "#0d0887"
             ],
             [
              0.1111111111111111,
              "#46039f"
             ],
             [
              0.2222222222222222,
              "#7201a8"
             ],
             [
              0.3333333333333333,
              "#9c179e"
             ],
             [
              0.4444444444444444,
              "#bd3786"
             ],
             [
              0.5555555555555556,
              "#d8576b"
             ],
             [
              0.6666666666666666,
              "#ed7953"
             ],
             [
              0.7777777777777778,
              "#fb9f3a"
             ],
             [
              0.8888888888888888,
              "#fdca26"
             ],
             [
              1,
              "#f0f921"
             ]
            ],
            "type": "contour"
           }
          ],
          "contourcarpet": [
           {
            "colorbar": {
             "outlinewidth": 0,
             "ticks": ""
            },
            "type": "contourcarpet"
           }
          ],
          "heatmap": [
           {
            "colorbar": {
             "outlinewidth": 0,
             "ticks": ""
            },
            "colorscale": [
             [
              0,
              "#0d0887"
             ],
             [
              0.1111111111111111,
              "#46039f"
             ],
             [
              0.2222222222222222,
              "#7201a8"
             ],
             [
              0.3333333333333333,
              "#9c179e"
             ],
             [
              0.4444444444444444,
              "#bd3786"
             ],
             [
              0.5555555555555556,
              "#d8576b"
             ],
             [
              0.6666666666666666,
              "#ed7953"
             ],
             [
              0.7777777777777778,
              "#fb9f3a"
             ],
             [
              0.8888888888888888,
              "#fdca26"
             ],
             [
              1,
              "#f0f921"
             ]
            ],
            "type": "heatmap"
           }
          ],
          "heatmapgl": [
           {
            "colorbar": {
             "outlinewidth": 0,
             "ticks": ""
            },
            "colorscale": [
             [
              0,
              "#0d0887"
             ],
             [
              0.1111111111111111,
              "#46039f"
             ],
             [
              0.2222222222222222,
              "#7201a8"
             ],
             [
              0.3333333333333333,
              "#9c179e"
             ],
             [
              0.4444444444444444,
              "#bd3786"
             ],
             [
              0.5555555555555556,
              "#d8576b"
             ],
             [
              0.6666666666666666,
              "#ed7953"
             ],
             [
              0.7777777777777778,
              "#fb9f3a"
             ],
             [
              0.8888888888888888,
              "#fdca26"
             ],
             [
              1,
              "#f0f921"
             ]
            ],
            "type": "heatmapgl"
           }
          ],
          "histogram": [
           {
            "marker": {
             "pattern": {
              "fillmode": "overlay",
              "size": 10,
              "solidity": 0.2
             }
            },
            "type": "histogram"
           }
          ],
          "histogram2d": [
           {
            "colorbar": {
             "outlinewidth": 0,
             "ticks": ""
            },
            "colorscale": [
             [
              0,
              "#0d0887"
             ],
             [
              0.1111111111111111,
              "#46039f"
             ],
             [
              0.2222222222222222,
              "#7201a8"
             ],
             [
              0.3333333333333333,
              "#9c179e"
             ],
             [
              0.4444444444444444,
              "#bd3786"
             ],
             [
              0.5555555555555556,
              "#d8576b"
             ],
             [
              0.6666666666666666,
              "#ed7953"
             ],
             [
              0.7777777777777778,
              "#fb9f3a"
             ],
             [
              0.8888888888888888,
              "#fdca26"
             ],
             [
              1,
              "#f0f921"
             ]
            ],
            "type": "histogram2d"
           }
          ],
          "histogram2dcontour": [
           {
            "colorbar": {
             "outlinewidth": 0,
             "ticks": ""
            },
            "colorscale": [
             [
              0,
              "#0d0887"
             ],
             [
              0.1111111111111111,
              "#46039f"
             ],
             [
              0.2222222222222222,
              "#7201a8"
             ],
             [
              0.3333333333333333,
              "#9c179e"
             ],
             [
              0.4444444444444444,
              "#bd3786"
             ],
             [
              0.5555555555555556,
              "#d8576b"
             ],
             [
              0.6666666666666666,
              "#ed7953"
             ],
             [
              0.7777777777777778,
              "#fb9f3a"
             ],
             [
              0.8888888888888888,
              "#fdca26"
             ],
             [
              1,
              "#f0f921"
             ]
            ],
            "type": "histogram2dcontour"
           }
          ],
          "mesh3d": [
           {
            "colorbar": {
             "outlinewidth": 0,
             "ticks": ""
            },
            "type": "mesh3d"
           }
          ],
          "parcoords": [
           {
            "line": {
             "colorbar": {
              "outlinewidth": 0,
              "ticks": ""
             }
            },
            "type": "parcoords"
           }
          ],
          "pie": [
           {
            "automargin": true,
            "type": "pie"
           }
          ],
          "scatter": [
           {
            "marker": {
             "colorbar": {
              "outlinewidth": 0,
              "ticks": ""
             }
            },
            "type": "scatter"
           }
          ],
          "scatter3d": [
           {
            "line": {
             "colorbar": {
              "outlinewidth": 0,
              "ticks": ""
             }
            },
            "marker": {
             "colorbar": {
              "outlinewidth": 0,
              "ticks": ""
             }
            },
            "type": "scatter3d"
           }
          ],
          "scattercarpet": [
           {
            "marker": {
             "colorbar": {
              "outlinewidth": 0,
              "ticks": ""
             }
            },
            "type": "scattercarpet"
           }
          ],
          "scattergeo": [
           {
            "marker": {
             "colorbar": {
              "outlinewidth": 0,
              "ticks": ""
             }
            },
            "type": "scattergeo"
           }
          ],
          "scattergl": [
           {
            "marker": {
             "colorbar": {
              "outlinewidth": 0,
              "ticks": ""
             }
            },
            "type": "scattergl"
           }
          ],
          "scattermapbox": [
           {
            "marker": {
             "colorbar": {
              "outlinewidth": 0,
              "ticks": ""
             }
            },
            "type": "scattermapbox"
           }
          ],
          "scatterpolar": [
           {
            "marker": {
             "colorbar": {
              "outlinewidth": 0,
              "ticks": ""
             }
            },
            "type": "scatterpolar"
           }
          ],
          "scatterpolargl": [
           {
            "marker": {
             "colorbar": {
              "outlinewidth": 0,
              "ticks": ""
             }
            },
            "type": "scatterpolargl"
           }
          ],
          "scatterternary": [
           {
            "marker": {
             "colorbar": {
              "outlinewidth": 0,
              "ticks": ""
             }
            },
            "type": "scatterternary"
           }
          ],
          "surface": [
           {
            "colorbar": {
             "outlinewidth": 0,
             "ticks": ""
            },
            "colorscale": [
             [
              0,
              "#0d0887"
             ],
             [
              0.1111111111111111,
              "#46039f"
             ],
             [
              0.2222222222222222,
              "#7201a8"
             ],
             [
              0.3333333333333333,
              "#9c179e"
             ],
             [
              0.4444444444444444,
              "#bd3786"
             ],
             [
              0.5555555555555556,
              "#d8576b"
             ],
             [
              0.6666666666666666,
              "#ed7953"
             ],
             [
              0.7777777777777778,
              "#fb9f3a"
             ],
             [
              0.8888888888888888,
              "#fdca26"
             ],
             [
              1,
              "#f0f921"
             ]
            ],
            "type": "surface"
           }
          ],
          "table": [
           {
            "cells": {
             "fill": {
              "color": "#EBF0F8"
             },
             "line": {
              "color": "white"
             }
            },
            "header": {
             "fill": {
              "color": "#C8D4E3"
             },
             "line": {
              "color": "white"
             }
            },
            "type": "table"
           }
          ]
         },
         "layout": {
          "annotationdefaults": {
           "arrowcolor": "#2a3f5f",
           "arrowhead": 0,
           "arrowwidth": 1
          },
          "autotypenumbers": "strict",
          "coloraxis": {
           "colorbar": {
            "outlinewidth": 0,
            "ticks": ""
           }
          },
          "colorscale": {
           "diverging": [
            [
             0,
             "#8e0152"
            ],
            [
             0.1,
             "#c51b7d"
            ],
            [
             0.2,
             "#de77ae"
            ],
            [
             0.3,
             "#f1b6da"
            ],
            [
             0.4,
             "#fde0ef"
            ],
            [
             0.5,
             "#f7f7f7"
            ],
            [
             0.6,
             "#e6f5d0"
            ],
            [
             0.7,
             "#b8e186"
            ],
            [
             0.8,
             "#7fbc41"
            ],
            [
             0.9,
             "#4d9221"
            ],
            [
             1,
             "#276419"
            ]
           ],
           "sequential": [
            [
             0,
             "#0d0887"
            ],
            [
             0.1111111111111111,
             "#46039f"
            ],
            [
             0.2222222222222222,
             "#7201a8"
            ],
            [
             0.3333333333333333,
             "#9c179e"
            ],
            [
             0.4444444444444444,
             "#bd3786"
            ],
            [
             0.5555555555555556,
             "#d8576b"
            ],
            [
             0.6666666666666666,
             "#ed7953"
            ],
            [
             0.7777777777777778,
             "#fb9f3a"
            ],
            [
             0.8888888888888888,
             "#fdca26"
            ],
            [
             1,
             "#f0f921"
            ]
           ],
           "sequentialminus": [
            [
             0,
             "#0d0887"
            ],
            [
             0.1111111111111111,
             "#46039f"
            ],
            [
             0.2222222222222222,
             "#7201a8"
            ],
            [
             0.3333333333333333,
             "#9c179e"
            ],
            [
             0.4444444444444444,
             "#bd3786"
            ],
            [
             0.5555555555555556,
             "#d8576b"
            ],
            [
             0.6666666666666666,
             "#ed7953"
            ],
            [
             0.7777777777777778,
             "#fb9f3a"
            ],
            [
             0.8888888888888888,
             "#fdca26"
            ],
            [
             1,
             "#f0f921"
            ]
           ]
          },
          "colorway": [
           "#636efa",
           "#EF553B",
           "#00cc96",
           "#ab63fa",
           "#FFA15A",
           "#19d3f3",
           "#FF6692",
           "#B6E880",
           "#FF97FF",
           "#FECB52"
          ],
          "font": {
           "color": "#2a3f5f"
          },
          "geo": {
           "bgcolor": "white",
           "lakecolor": "white",
           "landcolor": "#E5ECF6",
           "showlakes": true,
           "showland": true,
           "subunitcolor": "white"
          },
          "hoverlabel": {
           "align": "left"
          },
          "hovermode": "closest",
          "mapbox": {
           "style": "light"
          },
          "paper_bgcolor": "white",
          "plot_bgcolor": "#E5ECF6",
          "polar": {
           "angularaxis": {
            "gridcolor": "white",
            "linecolor": "white",
            "ticks": ""
           },
           "bgcolor": "#E5ECF6",
           "radialaxis": {
            "gridcolor": "white",
            "linecolor": "white",
            "ticks": ""
           }
          },
          "scene": {
           "xaxis": {
            "backgroundcolor": "#E5ECF6",
            "gridcolor": "white",
            "gridwidth": 2,
            "linecolor": "white",
            "showbackground": true,
            "ticks": "",
            "zerolinecolor": "white"
           },
           "yaxis": {
            "backgroundcolor": "#E5ECF6",
            "gridcolor": "white",
            "gridwidth": 2,
            "linecolor": "white",
            "showbackground": true,
            "ticks": "",
            "zerolinecolor": "white"
           },
           "zaxis": {
            "backgroundcolor": "#E5ECF6",
            "gridcolor": "white",
            "gridwidth": 2,
            "linecolor": "white",
            "showbackground": true,
            "ticks": "",
            "zerolinecolor": "white"
           }
          },
          "shapedefaults": {
           "line": {
            "color": "#2a3f5f"
           }
          },
          "ternary": {
           "aaxis": {
            "gridcolor": "white",
            "linecolor": "white",
            "ticks": ""
           },
           "baxis": {
            "gridcolor": "white",
            "linecolor": "white",
            "ticks": ""
           },
           "bgcolor": "#E5ECF6",
           "caxis": {
            "gridcolor": "white",
            "linecolor": "white",
            "ticks": ""
           }
          },
          "title": {
           "x": 0.05
          },
          "xaxis": {
           "automargin": true,
           "gridcolor": "white",
           "linecolor": "white",
           "ticks": "",
           "title": {
            "standoff": 15
           },
           "zerolinecolor": "white",
           "zerolinewidth": 2
          },
          "yaxis": {
           "automargin": true,
           "gridcolor": "white",
           "linecolor": "white",
           "ticks": "",
           "title": {
            "standoff": 15
           },
           "zerolinecolor": "white",
           "zerolinewidth": 2
          }
         }
        },
        "title": {
         "font": {
          "size": 24
         }
        }
       }
      }
     },
     "metadata": {},
     "output_type": "display_data"
    }
   ],
   "source": [
    "\n",
    "##################################### TELEPHONE 1#############################################\n",
    "values = [invalid_tel, valid_tel]\n",
    "\n",
    "#donut\n",
    "# (1) create pie chart figure\n",
    "fig = go.Figure(data=[go.Pie(\n",
    "                                labels=labels, \n",
    "                                values=values, \n",
    "                                hole=.45, \n",
    "                                pull=0.005, \n",
    "                                title='TELEPHONE', \n",
    "                                marker_colors=colors)\n",
    "                    ])\n",
    "\n",
    "# (2) add text for different parts of the chart\n",
    "fig.update_traces(text=labels) \n",
    "\n",
    "# (3) style the chart: font, title and size of chart\n",
    "fig.update_layout(\n",
    "                    font={'size': 24},\n",
    "                    title={'font': {'size': 24}},\n",
    "                    margin=dict(t=0, b=0, l=0, r=0)\n",
    "                    )\n",
    "\n",
    "fig.show()\n",
    "\n",
    "# (4) download image, saves in downloads folder by default\n",
    "offline.plot(fig, image = 'png', image_filename='telephone-donut_{}'.format(date))\n",
    "\n",
    "time.sleep(5)\n"
   ]
  },
  {
   "cell_type": "markdown",
   "id": "4d944146",
   "metadata": {},
   "source": [
    "## SMS"
   ]
  },
  {
   "cell_type": "code",
   "execution_count": 82,
   "id": "cd16701d",
   "metadata": {},
   "outputs": [
    {
     "data": {
      "application/vnd.plotly.v1+json": {
       "config": {
        "plotlyServerURL": "https://plot.ly"
       },
       "data": [
        {
         "hole": 0.45,
         "labels": [
          "INVALID",
          "VALID"
         ],
         "marker": {
          "colors": [
           "crimson",
           "rgb(29,66,138)"
          ]
         },
         "pull": 0.005,
         "text": [
          "INVALID",
          "VALID"
         ],
         "title": {
          "text": "SMS"
         },
         "type": "pie",
         "values": [
          95062,
          23725
         ]
        }
       ],
       "layout": {
        "font": {
         "size": 24
        },
        "margin": {
         "b": 0,
         "l": 0,
         "r": 0,
         "t": 0
        },
        "template": {
         "data": {
          "bar": [
           {
            "error_x": {
             "color": "#2a3f5f"
            },
            "error_y": {
             "color": "#2a3f5f"
            },
            "marker": {
             "line": {
              "color": "#E5ECF6",
              "width": 0.5
             },
             "pattern": {
              "fillmode": "overlay",
              "size": 10,
              "solidity": 0.2
             }
            },
            "type": "bar"
           }
          ],
          "barpolar": [
           {
            "marker": {
             "line": {
              "color": "#E5ECF6",
              "width": 0.5
             },
             "pattern": {
              "fillmode": "overlay",
              "size": 10,
              "solidity": 0.2
             }
            },
            "type": "barpolar"
           }
          ],
          "carpet": [
           {
            "aaxis": {
             "endlinecolor": "#2a3f5f",
             "gridcolor": "white",
             "linecolor": "white",
             "minorgridcolor": "white",
             "startlinecolor": "#2a3f5f"
            },
            "baxis": {
             "endlinecolor": "#2a3f5f",
             "gridcolor": "white",
             "linecolor": "white",
             "minorgridcolor": "white",
             "startlinecolor": "#2a3f5f"
            },
            "type": "carpet"
           }
          ],
          "choropleth": [
           {
            "colorbar": {
             "outlinewidth": 0,
             "ticks": ""
            },
            "type": "choropleth"
           }
          ],
          "contour": [
           {
            "colorbar": {
             "outlinewidth": 0,
             "ticks": ""
            },
            "colorscale": [
             [
              0,
              "#0d0887"
             ],
             [
              0.1111111111111111,
              "#46039f"
             ],
             [
              0.2222222222222222,
              "#7201a8"
             ],
             [
              0.3333333333333333,
              "#9c179e"
             ],
             [
              0.4444444444444444,
              "#bd3786"
             ],
             [
              0.5555555555555556,
              "#d8576b"
             ],
             [
              0.6666666666666666,
              "#ed7953"
             ],
             [
              0.7777777777777778,
              "#fb9f3a"
             ],
             [
              0.8888888888888888,
              "#fdca26"
             ],
             [
              1,
              "#f0f921"
             ]
            ],
            "type": "contour"
           }
          ],
          "contourcarpet": [
           {
            "colorbar": {
             "outlinewidth": 0,
             "ticks": ""
            },
            "type": "contourcarpet"
           }
          ],
          "heatmap": [
           {
            "colorbar": {
             "outlinewidth": 0,
             "ticks": ""
            },
            "colorscale": [
             [
              0,
              "#0d0887"
             ],
             [
              0.1111111111111111,
              "#46039f"
             ],
             [
              0.2222222222222222,
              "#7201a8"
             ],
             [
              0.3333333333333333,
              "#9c179e"
             ],
             [
              0.4444444444444444,
              "#bd3786"
             ],
             [
              0.5555555555555556,
              "#d8576b"
             ],
             [
              0.6666666666666666,
              "#ed7953"
             ],
             [
              0.7777777777777778,
              "#fb9f3a"
             ],
             [
              0.8888888888888888,
              "#fdca26"
             ],
             [
              1,
              "#f0f921"
             ]
            ],
            "type": "heatmap"
           }
          ],
          "heatmapgl": [
           {
            "colorbar": {
             "outlinewidth": 0,
             "ticks": ""
            },
            "colorscale": [
             [
              0,
              "#0d0887"
             ],
             [
              0.1111111111111111,
              "#46039f"
             ],
             [
              0.2222222222222222,
              "#7201a8"
             ],
             [
              0.3333333333333333,
              "#9c179e"
             ],
             [
              0.4444444444444444,
              "#bd3786"
             ],
             [
              0.5555555555555556,
              "#d8576b"
             ],
             [
              0.6666666666666666,
              "#ed7953"
             ],
             [
              0.7777777777777778,
              "#fb9f3a"
             ],
             [
              0.8888888888888888,
              "#fdca26"
             ],
             [
              1,
              "#f0f921"
             ]
            ],
            "type": "heatmapgl"
           }
          ],
          "histogram": [
           {
            "marker": {
             "pattern": {
              "fillmode": "overlay",
              "size": 10,
              "solidity": 0.2
             }
            },
            "type": "histogram"
           }
          ],
          "histogram2d": [
           {
            "colorbar": {
             "outlinewidth": 0,
             "ticks": ""
            },
            "colorscale": [
             [
              0,
              "#0d0887"
             ],
             [
              0.1111111111111111,
              "#46039f"
             ],
             [
              0.2222222222222222,
              "#7201a8"
             ],
             [
              0.3333333333333333,
              "#9c179e"
             ],
             [
              0.4444444444444444,
              "#bd3786"
             ],
             [
              0.5555555555555556,
              "#d8576b"
             ],
             [
              0.6666666666666666,
              "#ed7953"
             ],
             [
              0.7777777777777778,
              "#fb9f3a"
             ],
             [
              0.8888888888888888,
              "#fdca26"
             ],
             [
              1,
              "#f0f921"
             ]
            ],
            "type": "histogram2d"
           }
          ],
          "histogram2dcontour": [
           {
            "colorbar": {
             "outlinewidth": 0,
             "ticks": ""
            },
            "colorscale": [
             [
              0,
              "#0d0887"
             ],
             [
              0.1111111111111111,
              "#46039f"
             ],
             [
              0.2222222222222222,
              "#7201a8"
             ],
             [
              0.3333333333333333,
              "#9c179e"
             ],
             [
              0.4444444444444444,
              "#bd3786"
             ],
             [
              0.5555555555555556,
              "#d8576b"
             ],
             [
              0.6666666666666666,
              "#ed7953"
             ],
             [
              0.7777777777777778,
              "#fb9f3a"
             ],
             [
              0.8888888888888888,
              "#fdca26"
             ],
             [
              1,
              "#f0f921"
             ]
            ],
            "type": "histogram2dcontour"
           }
          ],
          "mesh3d": [
           {
            "colorbar": {
             "outlinewidth": 0,
             "ticks": ""
            },
            "type": "mesh3d"
           }
          ],
          "parcoords": [
           {
            "line": {
             "colorbar": {
              "outlinewidth": 0,
              "ticks": ""
             }
            },
            "type": "parcoords"
           }
          ],
          "pie": [
           {
            "automargin": true,
            "type": "pie"
           }
          ],
          "scatter": [
           {
            "marker": {
             "colorbar": {
              "outlinewidth": 0,
              "ticks": ""
             }
            },
            "type": "scatter"
           }
          ],
          "scatter3d": [
           {
            "line": {
             "colorbar": {
              "outlinewidth": 0,
              "ticks": ""
             }
            },
            "marker": {
             "colorbar": {
              "outlinewidth": 0,
              "ticks": ""
             }
            },
            "type": "scatter3d"
           }
          ],
          "scattercarpet": [
           {
            "marker": {
             "colorbar": {
              "outlinewidth": 0,
              "ticks": ""
             }
            },
            "type": "scattercarpet"
           }
          ],
          "scattergeo": [
           {
            "marker": {
             "colorbar": {
              "outlinewidth": 0,
              "ticks": ""
             }
            },
            "type": "scattergeo"
           }
          ],
          "scattergl": [
           {
            "marker": {
             "colorbar": {
              "outlinewidth": 0,
              "ticks": ""
             }
            },
            "type": "scattergl"
           }
          ],
          "scattermapbox": [
           {
            "marker": {
             "colorbar": {
              "outlinewidth": 0,
              "ticks": ""
             }
            },
            "type": "scattermapbox"
           }
          ],
          "scatterpolar": [
           {
            "marker": {
             "colorbar": {
              "outlinewidth": 0,
              "ticks": ""
             }
            },
            "type": "scatterpolar"
           }
          ],
          "scatterpolargl": [
           {
            "marker": {
             "colorbar": {
              "outlinewidth": 0,
              "ticks": ""
             }
            },
            "type": "scatterpolargl"
           }
          ],
          "scatterternary": [
           {
            "marker": {
             "colorbar": {
              "outlinewidth": 0,
              "ticks": ""
             }
            },
            "type": "scatterternary"
           }
          ],
          "surface": [
           {
            "colorbar": {
             "outlinewidth": 0,
             "ticks": ""
            },
            "colorscale": [
             [
              0,
              "#0d0887"
             ],
             [
              0.1111111111111111,
              "#46039f"
             ],
             [
              0.2222222222222222,
              "#7201a8"
             ],
             [
              0.3333333333333333,
              "#9c179e"
             ],
             [
              0.4444444444444444,
              "#bd3786"
             ],
             [
              0.5555555555555556,
              "#d8576b"
             ],
             [
              0.6666666666666666,
              "#ed7953"
             ],
             [
              0.7777777777777778,
              "#fb9f3a"
             ],
             [
              0.8888888888888888,
              "#fdca26"
             ],
             [
              1,
              "#f0f921"
             ]
            ],
            "type": "surface"
           }
          ],
          "table": [
           {
            "cells": {
             "fill": {
              "color": "#EBF0F8"
             },
             "line": {
              "color": "white"
             }
            },
            "header": {
             "fill": {
              "color": "#C8D4E3"
             },
             "line": {
              "color": "white"
             }
            },
            "type": "table"
           }
          ]
         },
         "layout": {
          "annotationdefaults": {
           "arrowcolor": "#2a3f5f",
           "arrowhead": 0,
           "arrowwidth": 1
          },
          "autotypenumbers": "strict",
          "coloraxis": {
           "colorbar": {
            "outlinewidth": 0,
            "ticks": ""
           }
          },
          "colorscale": {
           "diverging": [
            [
             0,
             "#8e0152"
            ],
            [
             0.1,
             "#c51b7d"
            ],
            [
             0.2,
             "#de77ae"
            ],
            [
             0.3,
             "#f1b6da"
            ],
            [
             0.4,
             "#fde0ef"
            ],
            [
             0.5,
             "#f7f7f7"
            ],
            [
             0.6,
             "#e6f5d0"
            ],
            [
             0.7,
             "#b8e186"
            ],
            [
             0.8,
             "#7fbc41"
            ],
            [
             0.9,
             "#4d9221"
            ],
            [
             1,
             "#276419"
            ]
           ],
           "sequential": [
            [
             0,
             "#0d0887"
            ],
            [
             0.1111111111111111,
             "#46039f"
            ],
            [
             0.2222222222222222,
             "#7201a8"
            ],
            [
             0.3333333333333333,
             "#9c179e"
            ],
            [
             0.4444444444444444,
             "#bd3786"
            ],
            [
             0.5555555555555556,
             "#d8576b"
            ],
            [
             0.6666666666666666,
             "#ed7953"
            ],
            [
             0.7777777777777778,
             "#fb9f3a"
            ],
            [
             0.8888888888888888,
             "#fdca26"
            ],
            [
             1,
             "#f0f921"
            ]
           ],
           "sequentialminus": [
            [
             0,
             "#0d0887"
            ],
            [
             0.1111111111111111,
             "#46039f"
            ],
            [
             0.2222222222222222,
             "#7201a8"
            ],
            [
             0.3333333333333333,
             "#9c179e"
            ],
            [
             0.4444444444444444,
             "#bd3786"
            ],
            [
             0.5555555555555556,
             "#d8576b"
            ],
            [
             0.6666666666666666,
             "#ed7953"
            ],
            [
             0.7777777777777778,
             "#fb9f3a"
            ],
            [
             0.8888888888888888,
             "#fdca26"
            ],
            [
             1,
             "#f0f921"
            ]
           ]
          },
          "colorway": [
           "#636efa",
           "#EF553B",
           "#00cc96",
           "#ab63fa",
           "#FFA15A",
           "#19d3f3",
           "#FF6692",
           "#B6E880",
           "#FF97FF",
           "#FECB52"
          ],
          "font": {
           "color": "#2a3f5f"
          },
          "geo": {
           "bgcolor": "white",
           "lakecolor": "white",
           "landcolor": "#E5ECF6",
           "showlakes": true,
           "showland": true,
           "subunitcolor": "white"
          },
          "hoverlabel": {
           "align": "left"
          },
          "hovermode": "closest",
          "mapbox": {
           "style": "light"
          },
          "paper_bgcolor": "white",
          "plot_bgcolor": "#E5ECF6",
          "polar": {
           "angularaxis": {
            "gridcolor": "white",
            "linecolor": "white",
            "ticks": ""
           },
           "bgcolor": "#E5ECF6",
           "radialaxis": {
            "gridcolor": "white",
            "linecolor": "white",
            "ticks": ""
           }
          },
          "scene": {
           "xaxis": {
            "backgroundcolor": "#E5ECF6",
            "gridcolor": "white",
            "gridwidth": 2,
            "linecolor": "white",
            "showbackground": true,
            "ticks": "",
            "zerolinecolor": "white"
           },
           "yaxis": {
            "backgroundcolor": "#E5ECF6",
            "gridcolor": "white",
            "gridwidth": 2,
            "linecolor": "white",
            "showbackground": true,
            "ticks": "",
            "zerolinecolor": "white"
           },
           "zaxis": {
            "backgroundcolor": "#E5ECF6",
            "gridcolor": "white",
            "gridwidth": 2,
            "linecolor": "white",
            "showbackground": true,
            "ticks": "",
            "zerolinecolor": "white"
           }
          },
          "shapedefaults": {
           "line": {
            "color": "#2a3f5f"
           }
          },
          "ternary": {
           "aaxis": {
            "gridcolor": "white",
            "linecolor": "white",
            "ticks": ""
           },
           "baxis": {
            "gridcolor": "white",
            "linecolor": "white",
            "ticks": ""
           },
           "bgcolor": "#E5ECF6",
           "caxis": {
            "gridcolor": "white",
            "linecolor": "white",
            "ticks": ""
           }
          },
          "title": {
           "x": 0.05
          },
          "xaxis": {
           "automargin": true,
           "gridcolor": "white",
           "linecolor": "white",
           "ticks": "",
           "title": {
            "standoff": 15
           },
           "zerolinecolor": "white",
           "zerolinewidth": 2
          },
          "yaxis": {
           "automargin": true,
           "gridcolor": "white",
           "linecolor": "white",
           "ticks": "",
           "title": {
            "standoff": 15
           },
           "zerolinecolor": "white",
           "zerolinewidth": 2
          }
         }
        },
        "title": {
         "font": {
          "size": 24
         },
         "text": "<b>SMS</b>"
        }
       }
      }
     },
     "metadata": {},
     "output_type": "display_data"
    }
   ],
   "source": [
    "\n",
    "##################################### SMS #############################################\n",
    "values = [invalid_sms, valid_sms]\n",
    "\n",
    "#donut\n",
    "# (1) create pie chart figure\n",
    "fig = go.Figure(data=[go.Pie(\n",
    "                                labels=labels, \n",
    "                                values=values, \n",
    "                                hole=.45, \n",
    "                                pull=0.005, \n",
    "                                title='SMS', \n",
    "                                marker_colors=colors)\n",
    "                    ])\n",
    "\n",
    "# (2) add text for different parts of the chart\n",
    "fig.update_traces(text=labels) \n",
    "\n",
    "# (3) style the chart: font, title and size of chart\n",
    "fig.update_layout(\n",
    "                    font={'size': 24},\n",
    "                    title={'text': '<b>SMS</b>', 'font': {'size': 24}},\n",
    "                    margin=dict(t=0, b=0, l=0, r=0)\n",
    "                    )\n",
    "\n",
    "fig.show()\n",
    "\n",
    "# (4) download image, saves in downloads folder by default\n",
    "offline.plot(fig, image = 'png', image_filename='sms-donut_{}'.format(date))\n",
    "\n",
    "time.sleep(5)\n"
   ]
  },
  {
   "cell_type": "markdown",
   "id": "1ddfec17",
   "metadata": {},
   "source": [
    "## Copy files"
   ]
  },
  {
   "cell_type": "code",
   "execution_count": 83,
   "id": "923cb493",
   "metadata": {},
   "outputs": [],
   "source": [
    "destination = r'Z:\\rhys\\Claudette\\Client Data Cleaning\\GIS\\GIS-plots'\n",
    "source = r'C:\\Users\\claudette.mokeira\\Downloads'\n",
    "\t\n",
    "import shutil\n",
    "\n",
    "for i in ['emails-donut_{}.png'.format(date), 'ids-donut_{}.png'.format(date), 'kra-pin-donut_{}.png'.format(date),'gender-donut_{}.png'.format(date),'dob-donut_{}.png'.format(date), 'age-donut_{}.png'.format(date), 'telephone-donut_{}.png'.format(date), 'sms-donut_{}.png'.format(date)]:\n",
    "    shutil.copy(r'C:\\Users\\claudette.mokeira\\Downloads\\{}'.format(i), r'Z:\\rhys\\Claudette\\Client Data Cleaning\\GIS\\GIS-plots')\n",
    "\n",
    "\n",
    "\n",
    "# \n",
    "# shutil.copy(src, dst) \n"
   ]
  },
  {
   "cell_type": "markdown",
   "id": "4215659c",
   "metadata": {},
   "source": [
    "# powerpoint"
   ]
  },
  {
   "cell_type": "code",
   "execution_count": 84,
   "id": "6d99048a",
   "metadata": {},
   "outputs": [],
   "source": [
    "\n",
    "import datetime\n",
    "from pptx import Presentation\n",
    "from pptx.util import Inches\n",
    "# create an object ppt\n",
    "ppt = Presentation()\n",
    " \n",
    "# add a new slide\n",
    "first_slide = ppt.slides.add_slide(ppt.slide_layouts[0])\n",
    " \n",
    "# title (included date)\n",
    "title = \"GIS Client Data Validity Summary\"\n",
    "\n",
    "# set the title on first slide\n",
    "first_slide.shapes[0].text_frame.paragraphs[0].text = title\n",
    "\n",
    "########### emails  ###########\n",
    "# slide 2 - set the image\n",
    "img = r'.\\GIS-plots\\emails-donut_{}.png'.format(date)\n",
    "second_slide = ppt.slide_layouts[1]\n",
    "slide2 = ppt.slides.add_slide(second_slide)\n",
    "pic = slide2.shapes.add_picture(img, left= Inches(0),top = Inches(0.19),height = Inches(5.1))\n",
    "\n",
    "########### ids ###########\n",
    "# slide 3 - set the image\n",
    "img = r'.\\GIS-plots\\ids-donut_{}.png'.format(date)\n",
    "third_slide = ppt.slide_layouts[2]\n",
    "slide3 = ppt.slides.add_slide(third_slide)\n",
    "pic = slide3.shapes.add_picture(img, left= Inches(0),top = Inches(0.19),height = Inches(5.1))\n",
    "\n",
    "########### kra-pins ###########\n",
    "# slide 4 - set the image\n",
    "img = r'.\\GIS-plots\\kra-pin-donut_{}.png'.format(date)\n",
    "fourth_slide = ppt.slide_layouts[3]\n",
    "slide4 = ppt.slides.add_slide(fourth_slide)\n",
    "pic = slide4.shapes.add_picture(img, left= Inches(0),top = Inches(0.19),height = Inches(5.1))\n",
    "\n",
    "########### dob ###########\n",
    "# slide 5 - set the image\n",
    "img = r'.\\GIS-plots\\dob-donut_{}.png'.format(date)\n",
    "fifth_slide = ppt.slide_layouts[4]\n",
    "slide5 = ppt.slides.add_slide(fifth_slide)\n",
    "pic = slide5.shapes.add_picture(img, left= Inches(0),top = Inches(0.19),height = Inches(5.1))\n",
    "\n",
    "########### age ###########\n",
    "# slide 6 - set the image\n",
    "img = r'.\\GIS-plots\\age-donut_{}.png'.format(date)\n",
    "sixth_slide = ppt.slide_layouts[5]\n",
    "slide6 = ppt.slides.add_slide(sixth_slide)\n",
    "pic = slide6.shapes.add_picture(img, left= Inches(0),top = Inches(0.19),height = Inches(5.1))\n",
    "\n",
    "########### tel ###########\n",
    "# slide 7 - set the image\n",
    "img = r'.\\GIS-plots\\telephone-donut_{}.png'.format(date)\n",
    "seventh_slide = ppt.slide_layouts[6]\n",
    "slide7 = ppt.slides.add_slide(seventh_slide)\n",
    "pic = slide7.shapes.add_picture(img, left= Inches(0),top = Inches(0.19),height = Inches(5.1))\n",
    "\n",
    "########### sms ###########\n",
    "# slide 8 - set the image\n",
    "img = r'.\\GIS-plots\\sms-donut_{}.png'.format(date)\n",
    "eigth_slide = ppt.slide_layouts[7]\n",
    "slide8 = ppt.slides.add_slide(eigth_slide)\n",
    "pic = slide8.shapes.add_picture(img, left= Inches(0),top = Inches(0.19),height = Inches(5.1))\n",
    "\n",
    "########### gender ###########\n",
    "# slide 9 - set the image\n",
    "img = r'.\\GIS-plots\\gender-donut_{}.png'.format(date)\n",
    "nineth_slide = ppt.slide_layouts[8]\n",
    "slide9 = ppt.slides.add_slide(nineth_slide)\n",
    "pic = slide9.shapes.add_picture(img, left= Inches(0),top = Inches(0.19),height = Inches(5.1))\n",
    "\n",
    "\n",
    "# save the powerpoint\n",
    "ppt.save('GIS-Data-Validity-Plots-V2.pptx')"
   ]
  },
  {
   "cell_type": "markdown",
   "id": "20aa59f2",
   "metadata": {},
   "source": [
    "# surnbust for blanks"
   ]
  },
  {
   "cell_type": "markdown",
   "id": "2065f849",
   "metadata": {},
   "source": [
    "## DOBs"
   ]
  },
  {
   "cell_type": "code",
   "execution_count": 85,
   "id": "503411aa",
   "metadata": {},
   "outputs": [
    {
     "data": {
      "application/vnd.plotly.v1+json": {
       "config": {
        "plotlyServerURL": "https://plot.ly"
       },
       "data": [
        {
         "domain": {
          "x": [
           0,
           1
          ],
          "y": [
           0,
           1
          ]
         },
         "hovertemplate": "field=%{label}<br>validity=%{value}<br>part=%{parent}<extra></extra>",
         "labels": [
          "INVALID",
          "VALID",
          "BLANKS"
         ],
         "marker": {
          "colors": [
           "crimson",
           "green",
           "darkslategray"
          ]
         },
         "name": "",
         "parents": [
          "DOB",
          "DOB",
          "INVALID"
         ],
         "type": "sunburst",
         "values": [
          97899,
          20888,
          97899
         ]
        }
       ],
       "layout": {
        "font": {
         "size": 20
        },
        "legend": {
         "tracegroupgap": 0
        },
        "margin": {
         "b": 0,
         "l": 0,
         "r": 0,
         "t": 0
        },
        "template": {
         "data": {
          "bar": [
           {
            "error_x": {
             "color": "#2a3f5f"
            },
            "error_y": {
             "color": "#2a3f5f"
            },
            "marker": {
             "line": {
              "color": "#E5ECF6",
              "width": 0.5
             },
             "pattern": {
              "fillmode": "overlay",
              "size": 10,
              "solidity": 0.2
             }
            },
            "type": "bar"
           }
          ],
          "barpolar": [
           {
            "marker": {
             "line": {
              "color": "#E5ECF6",
              "width": 0.5
             },
             "pattern": {
              "fillmode": "overlay",
              "size": 10,
              "solidity": 0.2
             }
            },
            "type": "barpolar"
           }
          ],
          "carpet": [
           {
            "aaxis": {
             "endlinecolor": "#2a3f5f",
             "gridcolor": "white",
             "linecolor": "white",
             "minorgridcolor": "white",
             "startlinecolor": "#2a3f5f"
            },
            "baxis": {
             "endlinecolor": "#2a3f5f",
             "gridcolor": "white",
             "linecolor": "white",
             "minorgridcolor": "white",
             "startlinecolor": "#2a3f5f"
            },
            "type": "carpet"
           }
          ],
          "choropleth": [
           {
            "colorbar": {
             "outlinewidth": 0,
             "ticks": ""
            },
            "type": "choropleth"
           }
          ],
          "contour": [
           {
            "colorbar": {
             "outlinewidth": 0,
             "ticks": ""
            },
            "colorscale": [
             [
              0,
              "#0d0887"
             ],
             [
              0.1111111111111111,
              "#46039f"
             ],
             [
              0.2222222222222222,
              "#7201a8"
             ],
             [
              0.3333333333333333,
              "#9c179e"
             ],
             [
              0.4444444444444444,
              "#bd3786"
             ],
             [
              0.5555555555555556,
              "#d8576b"
             ],
             [
              0.6666666666666666,
              "#ed7953"
             ],
             [
              0.7777777777777778,
              "#fb9f3a"
             ],
             [
              0.8888888888888888,
              "#fdca26"
             ],
             [
              1,
              "#f0f921"
             ]
            ],
            "type": "contour"
           }
          ],
          "contourcarpet": [
           {
            "colorbar": {
             "outlinewidth": 0,
             "ticks": ""
            },
            "type": "contourcarpet"
           }
          ],
          "heatmap": [
           {
            "colorbar": {
             "outlinewidth": 0,
             "ticks": ""
            },
            "colorscale": [
             [
              0,
              "#0d0887"
             ],
             [
              0.1111111111111111,
              "#46039f"
             ],
             [
              0.2222222222222222,
              "#7201a8"
             ],
             [
              0.3333333333333333,
              "#9c179e"
             ],
             [
              0.4444444444444444,
              "#bd3786"
             ],
             [
              0.5555555555555556,
              "#d8576b"
             ],
             [
              0.6666666666666666,
              "#ed7953"
             ],
             [
              0.7777777777777778,
              "#fb9f3a"
             ],
             [
              0.8888888888888888,
              "#fdca26"
             ],
             [
              1,
              "#f0f921"
             ]
            ],
            "type": "heatmap"
           }
          ],
          "heatmapgl": [
           {
            "colorbar": {
             "outlinewidth": 0,
             "ticks": ""
            },
            "colorscale": [
             [
              0,
              "#0d0887"
             ],
             [
              0.1111111111111111,
              "#46039f"
             ],
             [
              0.2222222222222222,
              "#7201a8"
             ],
             [
              0.3333333333333333,
              "#9c179e"
             ],
             [
              0.4444444444444444,
              "#bd3786"
             ],
             [
              0.5555555555555556,
              "#d8576b"
             ],
             [
              0.6666666666666666,
              "#ed7953"
             ],
             [
              0.7777777777777778,
              "#fb9f3a"
             ],
             [
              0.8888888888888888,
              "#fdca26"
             ],
             [
              1,
              "#f0f921"
             ]
            ],
            "type": "heatmapgl"
           }
          ],
          "histogram": [
           {
            "marker": {
             "pattern": {
              "fillmode": "overlay",
              "size": 10,
              "solidity": 0.2
             }
            },
            "type": "histogram"
           }
          ],
          "histogram2d": [
           {
            "colorbar": {
             "outlinewidth": 0,
             "ticks": ""
            },
            "colorscale": [
             [
              0,
              "#0d0887"
             ],
             [
              0.1111111111111111,
              "#46039f"
             ],
             [
              0.2222222222222222,
              "#7201a8"
             ],
             [
              0.3333333333333333,
              "#9c179e"
             ],
             [
              0.4444444444444444,
              "#bd3786"
             ],
             [
              0.5555555555555556,
              "#d8576b"
             ],
             [
              0.6666666666666666,
              "#ed7953"
             ],
             [
              0.7777777777777778,
              "#fb9f3a"
             ],
             [
              0.8888888888888888,
              "#fdca26"
             ],
             [
              1,
              "#f0f921"
             ]
            ],
            "type": "histogram2d"
           }
          ],
          "histogram2dcontour": [
           {
            "colorbar": {
             "outlinewidth": 0,
             "ticks": ""
            },
            "colorscale": [
             [
              0,
              "#0d0887"
             ],
             [
              0.1111111111111111,
              "#46039f"
             ],
             [
              0.2222222222222222,
              "#7201a8"
             ],
             [
              0.3333333333333333,
              "#9c179e"
             ],
             [
              0.4444444444444444,
              "#bd3786"
             ],
             [
              0.5555555555555556,
              "#d8576b"
             ],
             [
              0.6666666666666666,
              "#ed7953"
             ],
             [
              0.7777777777777778,
              "#fb9f3a"
             ],
             [
              0.8888888888888888,
              "#fdca26"
             ],
             [
              1,
              "#f0f921"
             ]
            ],
            "type": "histogram2dcontour"
           }
          ],
          "mesh3d": [
           {
            "colorbar": {
             "outlinewidth": 0,
             "ticks": ""
            },
            "type": "mesh3d"
           }
          ],
          "parcoords": [
           {
            "line": {
             "colorbar": {
              "outlinewidth": 0,
              "ticks": ""
             }
            },
            "type": "parcoords"
           }
          ],
          "pie": [
           {
            "automargin": true,
            "type": "pie"
           }
          ],
          "scatter": [
           {
            "marker": {
             "colorbar": {
              "outlinewidth": 0,
              "ticks": ""
             }
            },
            "type": "scatter"
           }
          ],
          "scatter3d": [
           {
            "line": {
             "colorbar": {
              "outlinewidth": 0,
              "ticks": ""
             }
            },
            "marker": {
             "colorbar": {
              "outlinewidth": 0,
              "ticks": ""
             }
            },
            "type": "scatter3d"
           }
          ],
          "scattercarpet": [
           {
            "marker": {
             "colorbar": {
              "outlinewidth": 0,
              "ticks": ""
             }
            },
            "type": "scattercarpet"
           }
          ],
          "scattergeo": [
           {
            "marker": {
             "colorbar": {
              "outlinewidth": 0,
              "ticks": ""
             }
            },
            "type": "scattergeo"
           }
          ],
          "scattergl": [
           {
            "marker": {
             "colorbar": {
              "outlinewidth": 0,
              "ticks": ""
             }
            },
            "type": "scattergl"
           }
          ],
          "scattermapbox": [
           {
            "marker": {
             "colorbar": {
              "outlinewidth": 0,
              "ticks": ""
             }
            },
            "type": "scattermapbox"
           }
          ],
          "scatterpolar": [
           {
            "marker": {
             "colorbar": {
              "outlinewidth": 0,
              "ticks": ""
             }
            },
            "type": "scatterpolar"
           }
          ],
          "scatterpolargl": [
           {
            "marker": {
             "colorbar": {
              "outlinewidth": 0,
              "ticks": ""
             }
            },
            "type": "scatterpolargl"
           }
          ],
          "scatterternary": [
           {
            "marker": {
             "colorbar": {
              "outlinewidth": 0,
              "ticks": ""
             }
            },
            "type": "scatterternary"
           }
          ],
          "surface": [
           {
            "colorbar": {
             "outlinewidth": 0,
             "ticks": ""
            },
            "colorscale": [
             [
              0,
              "#0d0887"
             ],
             [
              0.1111111111111111,
              "#46039f"
             ],
             [
              0.2222222222222222,
              "#7201a8"
             ],
             [
              0.3333333333333333,
              "#9c179e"
             ],
             [
              0.4444444444444444,
              "#bd3786"
             ],
             [
              0.5555555555555556,
              "#d8576b"
             ],
             [
              0.6666666666666666,
              "#ed7953"
             ],
             [
              0.7777777777777778,
              "#fb9f3a"
             ],
             [
              0.8888888888888888,
              "#fdca26"
             ],
             [
              1,
              "#f0f921"
             ]
            ],
            "type": "surface"
           }
          ],
          "table": [
           {
            "cells": {
             "fill": {
              "color": "#EBF0F8"
             },
             "line": {
              "color": "white"
             }
            },
            "header": {
             "fill": {
              "color": "#C8D4E3"
             },
             "line": {
              "color": "white"
             }
            },
            "type": "table"
           }
          ]
         },
         "layout": {
          "annotationdefaults": {
           "arrowcolor": "#2a3f5f",
           "arrowhead": 0,
           "arrowwidth": 1
          },
          "autotypenumbers": "strict",
          "coloraxis": {
           "colorbar": {
            "outlinewidth": 0,
            "ticks": ""
           }
          },
          "colorscale": {
           "diverging": [
            [
             0,
             "#8e0152"
            ],
            [
             0.1,
             "#c51b7d"
            ],
            [
             0.2,
             "#de77ae"
            ],
            [
             0.3,
             "#f1b6da"
            ],
            [
             0.4,
             "#fde0ef"
            ],
            [
             0.5,
             "#f7f7f7"
            ],
            [
             0.6,
             "#e6f5d0"
            ],
            [
             0.7,
             "#b8e186"
            ],
            [
             0.8,
             "#7fbc41"
            ],
            [
             0.9,
             "#4d9221"
            ],
            [
             1,
             "#276419"
            ]
           ],
           "sequential": [
            [
             0,
             "#0d0887"
            ],
            [
             0.1111111111111111,
             "#46039f"
            ],
            [
             0.2222222222222222,
             "#7201a8"
            ],
            [
             0.3333333333333333,
             "#9c179e"
            ],
            [
             0.4444444444444444,
             "#bd3786"
            ],
            [
             0.5555555555555556,
             "#d8576b"
            ],
            [
             0.6666666666666666,
             "#ed7953"
            ],
            [
             0.7777777777777778,
             "#fb9f3a"
            ],
            [
             0.8888888888888888,
             "#fdca26"
            ],
            [
             1,
             "#f0f921"
            ]
           ],
           "sequentialminus": [
            [
             0,
             "#0d0887"
            ],
            [
             0.1111111111111111,
             "#46039f"
            ],
            [
             0.2222222222222222,
             "#7201a8"
            ],
            [
             0.3333333333333333,
             "#9c179e"
            ],
            [
             0.4444444444444444,
             "#bd3786"
            ],
            [
             0.5555555555555556,
             "#d8576b"
            ],
            [
             0.6666666666666666,
             "#ed7953"
            ],
            [
             0.7777777777777778,
             "#fb9f3a"
            ],
            [
             0.8888888888888888,
             "#fdca26"
            ],
            [
             1,
             "#f0f921"
            ]
           ]
          },
          "colorway": [
           "#636efa",
           "#EF553B",
           "#00cc96",
           "#ab63fa",
           "#FFA15A",
           "#19d3f3",
           "#FF6692",
           "#B6E880",
           "#FF97FF",
           "#FECB52"
          ],
          "font": {
           "color": "#2a3f5f"
          },
          "geo": {
           "bgcolor": "white",
           "lakecolor": "white",
           "landcolor": "#E5ECF6",
           "showlakes": true,
           "showland": true,
           "subunitcolor": "white"
          },
          "hoverlabel": {
           "align": "left"
          },
          "hovermode": "closest",
          "mapbox": {
           "style": "light"
          },
          "paper_bgcolor": "white",
          "plot_bgcolor": "#E5ECF6",
          "polar": {
           "angularaxis": {
            "gridcolor": "white",
            "linecolor": "white",
            "ticks": ""
           },
           "bgcolor": "#E5ECF6",
           "radialaxis": {
            "gridcolor": "white",
            "linecolor": "white",
            "ticks": ""
           }
          },
          "scene": {
           "xaxis": {
            "backgroundcolor": "#E5ECF6",
            "gridcolor": "white",
            "gridwidth": 2,
            "linecolor": "white",
            "showbackground": true,
            "ticks": "",
            "zerolinecolor": "white"
           },
           "yaxis": {
            "backgroundcolor": "#E5ECF6",
            "gridcolor": "white",
            "gridwidth": 2,
            "linecolor": "white",
            "showbackground": true,
            "ticks": "",
            "zerolinecolor": "white"
           },
           "zaxis": {
            "backgroundcolor": "#E5ECF6",
            "gridcolor": "white",
            "gridwidth": 2,
            "linecolor": "white",
            "showbackground": true,
            "ticks": "",
            "zerolinecolor": "white"
           }
          },
          "shapedefaults": {
           "line": {
            "color": "#2a3f5f"
           }
          },
          "ternary": {
           "aaxis": {
            "gridcolor": "white",
            "linecolor": "white",
            "ticks": ""
           },
           "baxis": {
            "gridcolor": "white",
            "linecolor": "white",
            "ticks": ""
           },
           "bgcolor": "#E5ECF6",
           "caxis": {
            "gridcolor": "white",
            "linecolor": "white",
            "ticks": ""
           }
          },
          "title": {
           "x": 0.05
          },
          "xaxis": {
           "automargin": true,
           "gridcolor": "white",
           "linecolor": "white",
           "ticks": "",
           "title": {
            "standoff": 15
           },
           "zerolinecolor": "white",
           "zerolinewidth": 2
          },
          "yaxis": {
           "automargin": true,
           "gridcolor": "white",
           "linecolor": "white",
           "ticks": "",
           "title": {
            "standoff": 15
           },
           "zerolinecolor": "white",
           "zerolinewidth": 2
          }
         }
        },
        "title": {
         "font": {
          "size": 24
         }
        }
       }
      }
     },
     "metadata": {},
     "output_type": "display_data"
    }
   ],
   "source": [
    "data = dict(\n",
    "            field=['INVALID','VALID', 'BLANKS'],\n",
    "            part=['DOB', 'DOB', 'INVALID'],\n",
    "            validity=[invalid_DOBs, \n",
    "                      valid_DOBs, \n",
    "                      invalid_DOBs,\n",
    "\n",
    "                     ]\n",
    ")\n",
    "\n",
    "fig = px.sunburst(\n",
    "    data,\n",
    "    names='field',\n",
    "    parents='part',\n",
    "    values='validity',\n",
    "    color='field',\n",
    "    color_discrete_map={'VALID':'green','BLANKS':'darkslategray', 'INVALID':'crimson', 'INVALID ENTRIES': 'orange'}\n",
    ")\n",
    "fig.update_layout(\n",
    "                    font={'size': 20},\n",
    "                    title={'font': {'size': 24}},\n",
    "                    margin=dict(t=0, b=0, l=0, r=0)\n",
    "                    )\n",
    "fig.show()"
   ]
  },
  {
   "cell_type": "markdown",
   "id": "039db75a",
   "metadata": {},
   "source": [
    "## IDs"
   ]
  },
  {
   "cell_type": "code",
   "execution_count": 86,
   "id": "a86a40bb",
   "metadata": {},
   "outputs": [
    {
     "data": {
      "text/plain": [
       "63514"
      ]
     },
     "execution_count": 86,
     "metadata": {},
     "output_type": "execute_result"
    }
   ],
   "source": [
    "blanks_ids = [x if y in ['S', 'F', 'I'] else 'ok' for x, y in zip(validity_df['CLNT_ID_REG_NO'].isnull(), validity_df['CLNT_TYPE'])]\n",
    "\n",
    "blnk_ids = [1 if (i == True) else 0 for i in blanks_ids]\n",
    "sum(blnk_ids)"
   ]
  },
  {
   "cell_type": "code",
   "execution_count": 87,
   "id": "ffadcfae",
   "metadata": {},
   "outputs": [
    {
     "name": "stdout",
     "output_type": "stream",
     "text": [
      "all blanks = \n",
      "75431\n",
      "count of non-blanks = \n",
      "43356\n",
      "all blanks + non-blanks = \n",
      "118787\n",
      "all invalids = \n",
      "65022\n",
      "all invalids - blank_ids = \n",
      "1508\n",
      "invalid entries + blanks = invalids \n",
      "65022\n"
     ]
    },
    {
     "data": {
      "text/plain": [
       "[None, None, None, None, None, None, None, None, None, None, None, None]"
      ]
     },
     "execution_count": 87,
     "metadata": {},
     "output_type": "execute_result"
    }
   ],
   "source": [
    "blanks_ids = [x if y in ['S', 'F', 'I'] else 'ok' for x, y in zip(validity_df['CLNT_ID_REG_NO'].isnull(), validity_df['CLNT_TYPE'])]\n",
    "[print(i) for i in ['all blanks = ', validity_df['CLNT_ID_REG_NO'].isnull().sum().sum(), \n",
    "'count of non-blanks = ', validity_df['CLNT_ID_REG_NO'].count(), \n",
    "'all blanks + non-blanks = ',validity_df['CLNT_ID_REG_NO'].isnull().sum().sum() + validity_df['CLNT_ID_REG_NO'].count(),\n",
    "'all invalids = ', (validity_df['ID_STATUS'] == 'INVALID').sum().sum(),\n",
    "'all invalids - blank_ids = ',(validity_df['ID_STATUS'] == 'INVALID').sum().sum() - sum(blnk_ids),\n",
    "'invalid entries + blanks = invalids ', (sum(blnk_ids) + (validity_df['ID_STATUS'] == 'INVALID').sum().sum() - sum(blnk_ids) )\n",
    "]]"
   ]
  },
  {
   "cell_type": "code",
   "execution_count": 88,
   "id": "93050905",
   "metadata": {},
   "outputs": [
    {
     "data": {
      "application/vnd.plotly.v1+json": {
       "config": {
        "plotlyServerURL": "https://plot.ly"
       },
       "data": [
        {
         "domain": {
          "x": [
           0,
           1
          ],
          "y": [
           0,
           1
          ]
         },
         "hovertemplate": "field=%{label}<br>validity=%{value}<br>part=%{parent}<extra></extra>",
         "labels": [
          "INVALID",
          "VALID",
          "BLANKS",
          "WRONG ENTRIES"
         ],
         "marker": {
          "colors": [
           "crimson",
           "green",
           "darkslategray",
           "#FFA15A"
          ]
         },
         "name": "",
         "parents": [
          "IDs",
          "IDs",
          "INVALID",
          "INVALID"
         ],
         "type": "sunburst",
         "values": [
          65022,
          53765,
          63514,
          1508
         ]
        }
       ],
       "layout": {
        "font": {
         "size": 24
        },
        "legend": {
         "tracegroupgap": 0
        },
        "margin": {
         "b": 0,
         "l": 0,
         "r": 0,
         "t": 0
        },
        "template": {
         "data": {
          "bar": [
           {
            "error_x": {
             "color": "#2a3f5f"
            },
            "error_y": {
             "color": "#2a3f5f"
            },
            "marker": {
             "line": {
              "color": "#E5ECF6",
              "width": 0.5
             },
             "pattern": {
              "fillmode": "overlay",
              "size": 10,
              "solidity": 0.2
             }
            },
            "type": "bar"
           }
          ],
          "barpolar": [
           {
            "marker": {
             "line": {
              "color": "#E5ECF6",
              "width": 0.5
             },
             "pattern": {
              "fillmode": "overlay",
              "size": 10,
              "solidity": 0.2
             }
            },
            "type": "barpolar"
           }
          ],
          "carpet": [
           {
            "aaxis": {
             "endlinecolor": "#2a3f5f",
             "gridcolor": "white",
             "linecolor": "white",
             "minorgridcolor": "white",
             "startlinecolor": "#2a3f5f"
            },
            "baxis": {
             "endlinecolor": "#2a3f5f",
             "gridcolor": "white",
             "linecolor": "white",
             "minorgridcolor": "white",
             "startlinecolor": "#2a3f5f"
            },
            "type": "carpet"
           }
          ],
          "choropleth": [
           {
            "colorbar": {
             "outlinewidth": 0,
             "ticks": ""
            },
            "type": "choropleth"
           }
          ],
          "contour": [
           {
            "colorbar": {
             "outlinewidth": 0,
             "ticks": ""
            },
            "colorscale": [
             [
              0,
              "#0d0887"
             ],
             [
              0.1111111111111111,
              "#46039f"
             ],
             [
              0.2222222222222222,
              "#7201a8"
             ],
             [
              0.3333333333333333,
              "#9c179e"
             ],
             [
              0.4444444444444444,
              "#bd3786"
             ],
             [
              0.5555555555555556,
              "#d8576b"
             ],
             [
              0.6666666666666666,
              "#ed7953"
             ],
             [
              0.7777777777777778,
              "#fb9f3a"
             ],
             [
              0.8888888888888888,
              "#fdca26"
             ],
             [
              1,
              "#f0f921"
             ]
            ],
            "type": "contour"
           }
          ],
          "contourcarpet": [
           {
            "colorbar": {
             "outlinewidth": 0,
             "ticks": ""
            },
            "type": "contourcarpet"
           }
          ],
          "heatmap": [
           {
            "colorbar": {
             "outlinewidth": 0,
             "ticks": ""
            },
            "colorscale": [
             [
              0,
              "#0d0887"
             ],
             [
              0.1111111111111111,
              "#46039f"
             ],
             [
              0.2222222222222222,
              "#7201a8"
             ],
             [
              0.3333333333333333,
              "#9c179e"
             ],
             [
              0.4444444444444444,
              "#bd3786"
             ],
             [
              0.5555555555555556,
              "#d8576b"
             ],
             [
              0.6666666666666666,
              "#ed7953"
             ],
             [
              0.7777777777777778,
              "#fb9f3a"
             ],
             [
              0.8888888888888888,
              "#fdca26"
             ],
             [
              1,
              "#f0f921"
             ]
            ],
            "type": "heatmap"
           }
          ],
          "heatmapgl": [
           {
            "colorbar": {
             "outlinewidth": 0,
             "ticks": ""
            },
            "colorscale": [
             [
              0,
              "#0d0887"
             ],
             [
              0.1111111111111111,
              "#46039f"
             ],
             [
              0.2222222222222222,
              "#7201a8"
             ],
             [
              0.3333333333333333,
              "#9c179e"
             ],
             [
              0.4444444444444444,
              "#bd3786"
             ],
             [
              0.5555555555555556,
              "#d8576b"
             ],
             [
              0.6666666666666666,
              "#ed7953"
             ],
             [
              0.7777777777777778,
              "#fb9f3a"
             ],
             [
              0.8888888888888888,
              "#fdca26"
             ],
             [
              1,
              "#f0f921"
             ]
            ],
            "type": "heatmapgl"
           }
          ],
          "histogram": [
           {
            "marker": {
             "pattern": {
              "fillmode": "overlay",
              "size": 10,
              "solidity": 0.2
             }
            },
            "type": "histogram"
           }
          ],
          "histogram2d": [
           {
            "colorbar": {
             "outlinewidth": 0,
             "ticks": ""
            },
            "colorscale": [
             [
              0,
              "#0d0887"
             ],
             [
              0.1111111111111111,
              "#46039f"
             ],
             [
              0.2222222222222222,
              "#7201a8"
             ],
             [
              0.3333333333333333,
              "#9c179e"
             ],
             [
              0.4444444444444444,
              "#bd3786"
             ],
             [
              0.5555555555555556,
              "#d8576b"
             ],
             [
              0.6666666666666666,
              "#ed7953"
             ],
             [
              0.7777777777777778,
              "#fb9f3a"
             ],
             [
              0.8888888888888888,
              "#fdca26"
             ],
             [
              1,
              "#f0f921"
             ]
            ],
            "type": "histogram2d"
           }
          ],
          "histogram2dcontour": [
           {
            "colorbar": {
             "outlinewidth": 0,
             "ticks": ""
            },
            "colorscale": [
             [
              0,
              "#0d0887"
             ],
             [
              0.1111111111111111,
              "#46039f"
             ],
             [
              0.2222222222222222,
              "#7201a8"
             ],
             [
              0.3333333333333333,
              "#9c179e"
             ],
             [
              0.4444444444444444,
              "#bd3786"
             ],
             [
              0.5555555555555556,
              "#d8576b"
             ],
             [
              0.6666666666666666,
              "#ed7953"
             ],
             [
              0.7777777777777778,
              "#fb9f3a"
             ],
             [
              0.8888888888888888,
              "#fdca26"
             ],
             [
              1,
              "#f0f921"
             ]
            ],
            "type": "histogram2dcontour"
           }
          ],
          "mesh3d": [
           {
            "colorbar": {
             "outlinewidth": 0,
             "ticks": ""
            },
            "type": "mesh3d"
           }
          ],
          "parcoords": [
           {
            "line": {
             "colorbar": {
              "outlinewidth": 0,
              "ticks": ""
             }
            },
            "type": "parcoords"
           }
          ],
          "pie": [
           {
            "automargin": true,
            "type": "pie"
           }
          ],
          "scatter": [
           {
            "marker": {
             "colorbar": {
              "outlinewidth": 0,
              "ticks": ""
             }
            },
            "type": "scatter"
           }
          ],
          "scatter3d": [
           {
            "line": {
             "colorbar": {
              "outlinewidth": 0,
              "ticks": ""
             }
            },
            "marker": {
             "colorbar": {
              "outlinewidth": 0,
              "ticks": ""
             }
            },
            "type": "scatter3d"
           }
          ],
          "scattercarpet": [
           {
            "marker": {
             "colorbar": {
              "outlinewidth": 0,
              "ticks": ""
             }
            },
            "type": "scattercarpet"
           }
          ],
          "scattergeo": [
           {
            "marker": {
             "colorbar": {
              "outlinewidth": 0,
              "ticks": ""
             }
            },
            "type": "scattergeo"
           }
          ],
          "scattergl": [
           {
            "marker": {
             "colorbar": {
              "outlinewidth": 0,
              "ticks": ""
             }
            },
            "type": "scattergl"
           }
          ],
          "scattermapbox": [
           {
            "marker": {
             "colorbar": {
              "outlinewidth": 0,
              "ticks": ""
             }
            },
            "type": "scattermapbox"
           }
          ],
          "scatterpolar": [
           {
            "marker": {
             "colorbar": {
              "outlinewidth": 0,
              "ticks": ""
             }
            },
            "type": "scatterpolar"
           }
          ],
          "scatterpolargl": [
           {
            "marker": {
             "colorbar": {
              "outlinewidth": 0,
              "ticks": ""
             }
            },
            "type": "scatterpolargl"
           }
          ],
          "scatterternary": [
           {
            "marker": {
             "colorbar": {
              "outlinewidth": 0,
              "ticks": ""
             }
            },
            "type": "scatterternary"
           }
          ],
          "surface": [
           {
            "colorbar": {
             "outlinewidth": 0,
             "ticks": ""
            },
            "colorscale": [
             [
              0,
              "#0d0887"
             ],
             [
              0.1111111111111111,
              "#46039f"
             ],
             [
              0.2222222222222222,
              "#7201a8"
             ],
             [
              0.3333333333333333,
              "#9c179e"
             ],
             [
              0.4444444444444444,
              "#bd3786"
             ],
             [
              0.5555555555555556,
              "#d8576b"
             ],
             [
              0.6666666666666666,
              "#ed7953"
             ],
             [
              0.7777777777777778,
              "#fb9f3a"
             ],
             [
              0.8888888888888888,
              "#fdca26"
             ],
             [
              1,
              "#f0f921"
             ]
            ],
            "type": "surface"
           }
          ],
          "table": [
           {
            "cells": {
             "fill": {
              "color": "#EBF0F8"
             },
             "line": {
              "color": "white"
             }
            },
            "header": {
             "fill": {
              "color": "#C8D4E3"
             },
             "line": {
              "color": "white"
             }
            },
            "type": "table"
           }
          ]
         },
         "layout": {
          "annotationdefaults": {
           "arrowcolor": "#2a3f5f",
           "arrowhead": 0,
           "arrowwidth": 1
          },
          "autotypenumbers": "strict",
          "coloraxis": {
           "colorbar": {
            "outlinewidth": 0,
            "ticks": ""
           }
          },
          "colorscale": {
           "diverging": [
            [
             0,
             "#8e0152"
            ],
            [
             0.1,
             "#c51b7d"
            ],
            [
             0.2,
             "#de77ae"
            ],
            [
             0.3,
             "#f1b6da"
            ],
            [
             0.4,
             "#fde0ef"
            ],
            [
             0.5,
             "#f7f7f7"
            ],
            [
             0.6,
             "#e6f5d0"
            ],
            [
             0.7,
             "#b8e186"
            ],
            [
             0.8,
             "#7fbc41"
            ],
            [
             0.9,
             "#4d9221"
            ],
            [
             1,
             "#276419"
            ]
           ],
           "sequential": [
            [
             0,
             "#0d0887"
            ],
            [
             0.1111111111111111,
             "#46039f"
            ],
            [
             0.2222222222222222,
             "#7201a8"
            ],
            [
             0.3333333333333333,
             "#9c179e"
            ],
            [
             0.4444444444444444,
             "#bd3786"
            ],
            [
             0.5555555555555556,
             "#d8576b"
            ],
            [
             0.6666666666666666,
             "#ed7953"
            ],
            [
             0.7777777777777778,
             "#fb9f3a"
            ],
            [
             0.8888888888888888,
             "#fdca26"
            ],
            [
             1,
             "#f0f921"
            ]
           ],
           "sequentialminus": [
            [
             0,
             "#0d0887"
            ],
            [
             0.1111111111111111,
             "#46039f"
            ],
            [
             0.2222222222222222,
             "#7201a8"
            ],
            [
             0.3333333333333333,
             "#9c179e"
            ],
            [
             0.4444444444444444,
             "#bd3786"
            ],
            [
             0.5555555555555556,
             "#d8576b"
            ],
            [
             0.6666666666666666,
             "#ed7953"
            ],
            [
             0.7777777777777778,
             "#fb9f3a"
            ],
            [
             0.8888888888888888,
             "#fdca26"
            ],
            [
             1,
             "#f0f921"
            ]
           ]
          },
          "colorway": [
           "#636efa",
           "#EF553B",
           "#00cc96",
           "#ab63fa",
           "#FFA15A",
           "#19d3f3",
           "#FF6692",
           "#B6E880",
           "#FF97FF",
           "#FECB52"
          ],
          "font": {
           "color": "#2a3f5f"
          },
          "geo": {
           "bgcolor": "white",
           "lakecolor": "white",
           "landcolor": "#E5ECF6",
           "showlakes": true,
           "showland": true,
           "subunitcolor": "white"
          },
          "hoverlabel": {
           "align": "left"
          },
          "hovermode": "closest",
          "mapbox": {
           "style": "light"
          },
          "paper_bgcolor": "white",
          "plot_bgcolor": "#E5ECF6",
          "polar": {
           "angularaxis": {
            "gridcolor": "white",
            "linecolor": "white",
            "ticks": ""
           },
           "bgcolor": "#E5ECF6",
           "radialaxis": {
            "gridcolor": "white",
            "linecolor": "white",
            "ticks": ""
           }
          },
          "scene": {
           "xaxis": {
            "backgroundcolor": "#E5ECF6",
            "gridcolor": "white",
            "gridwidth": 2,
            "linecolor": "white",
            "showbackground": true,
            "ticks": "",
            "zerolinecolor": "white"
           },
           "yaxis": {
            "backgroundcolor": "#E5ECF6",
            "gridcolor": "white",
            "gridwidth": 2,
            "linecolor": "white",
            "showbackground": true,
            "ticks": "",
            "zerolinecolor": "white"
           },
           "zaxis": {
            "backgroundcolor": "#E5ECF6",
            "gridcolor": "white",
            "gridwidth": 2,
            "linecolor": "white",
            "showbackground": true,
            "ticks": "",
            "zerolinecolor": "white"
           }
          },
          "shapedefaults": {
           "line": {
            "color": "#2a3f5f"
           }
          },
          "ternary": {
           "aaxis": {
            "gridcolor": "white",
            "linecolor": "white",
            "ticks": ""
           },
           "baxis": {
            "gridcolor": "white",
            "linecolor": "white",
            "ticks": ""
           },
           "bgcolor": "#E5ECF6",
           "caxis": {
            "gridcolor": "white",
            "linecolor": "white",
            "ticks": ""
           }
          },
          "title": {
           "x": 0.05
          },
          "xaxis": {
           "automargin": true,
           "gridcolor": "white",
           "linecolor": "white",
           "ticks": "",
           "title": {
            "standoff": 15
           },
           "zerolinecolor": "white",
           "zerolinewidth": 2
          },
          "yaxis": {
           "automargin": true,
           "gridcolor": "white",
           "linecolor": "white",
           "ticks": "",
           "title": {
            "standoff": 15
           },
           "zerolinecolor": "white",
           "zerolinewidth": 2
          }
         }
        },
        "title": {
         "font": {
          "size": 24
         }
        }
       }
      }
     },
     "metadata": {},
     "output_type": "display_data"
    }
   ],
   "source": [
    "# preparation of variables\n",
    "blanks_ids = [x if y in ['S', 'F', 'I'] else 'ok' for x, y in zip(validity_df['CLNT_ID_REG_NO'].isnull(), validity_df['CLNT_TYPE'])]\n",
    "\n",
    "blnk_ids = [1 if (i == True) else 0 for i in blanks_ids]\n",
    "sum(blnk_ids)\n",
    "\n",
    "# sunburst plot\n",
    "data = dict(\n",
    "            field=['INVALID','VALID', 'BLANKS', 'WRONG ENTRIES'],\n",
    "            part=['IDs', 'IDs', 'INVALID', 'INVALID'],\n",
    "            validity=[invalid_ids, \n",
    "                      valid_ids, \n",
    "                      int(sum(blnk_ids)),(validity_df['ID_STATUS'] == 'INVALID').sum().sum() - sum(blnk_ids)\n",
    "\n",
    "                    #   ((validity_df['DOB_STATUS'] == 'INVALID').sum().sum()) - (validity_df['CLNT_DOB'].isnull().sum().sum())\n",
    "                     ]\n",
    ")\n",
    "\n",
    "fig = px.sunburst(\n",
    "    data,\n",
    "    names='field',\n",
    "    parents='part',\n",
    "    values='validity',\n",
    "    color='field',\n",
    "    color_discrete_map={'VALID':'green','BLANKS':'darkslategray', 'INVALID':'crimson', 'INVALID ENTRIES': 'orange'}\n",
    ")\n",
    "fig.update_layout(\n",
    "                    font={'size': 24},\n",
    "                    title={'font': {'size': 24}},\n",
    "                    margin=dict(t=0, b=0, l=0, r=0)\n",
    "                    )\n",
    "fig.show()"
   ]
  },
  {
   "cell_type": "markdown",
   "id": "751c49c2",
   "metadata": {},
   "source": [
    "## pins\n"
   ]
  },
  {
   "cell_type": "code",
   "execution_count": 89,
   "id": "c1a77374",
   "metadata": {},
   "outputs": [
    {
     "data": {
      "application/vnd.plotly.v1+json": {
       "config": {
        "plotlyServerURL": "https://plot.ly"
       },
       "data": [
        {
         "domain": {
          "x": [
           0,
           1
          ],
          "y": [
           0,
           1
          ]
         },
         "hovertemplate": "field=%{label}<br>validity=%{value}<br>part=%{parent}<extra></extra>",
         "labels": [
          "INVALID",
          "VALID",
          "BLANKS",
          "WRONG ENTRIES"
         ],
         "marker": {
          "colors": [
           "crimson",
           "green",
           "darkslategray",
           "#FFA15A"
          ]
         },
         "name": "",
         "parents": [
          "PINs",
          "PINs",
          "INVALID",
          "INVALID"
         ],
         "type": "sunburst",
         "values": [
          6659,
          112128,
          1818,
          4841
         ]
        }
       ],
       "layout": {
        "font": {
         "size": 24
        },
        "legend": {
         "tracegroupgap": 0
        },
        "margin": {
         "b": 0,
         "l": 0,
         "r": 0,
         "t": 0
        },
        "template": {
         "data": {
          "bar": [
           {
            "error_x": {
             "color": "#2a3f5f"
            },
            "error_y": {
             "color": "#2a3f5f"
            },
            "marker": {
             "line": {
              "color": "#E5ECF6",
              "width": 0.5
             },
             "pattern": {
              "fillmode": "overlay",
              "size": 10,
              "solidity": 0.2
             }
            },
            "type": "bar"
           }
          ],
          "barpolar": [
           {
            "marker": {
             "line": {
              "color": "#E5ECF6",
              "width": 0.5
             },
             "pattern": {
              "fillmode": "overlay",
              "size": 10,
              "solidity": 0.2
             }
            },
            "type": "barpolar"
           }
          ],
          "carpet": [
           {
            "aaxis": {
             "endlinecolor": "#2a3f5f",
             "gridcolor": "white",
             "linecolor": "white",
             "minorgridcolor": "white",
             "startlinecolor": "#2a3f5f"
            },
            "baxis": {
             "endlinecolor": "#2a3f5f",
             "gridcolor": "white",
             "linecolor": "white",
             "minorgridcolor": "white",
             "startlinecolor": "#2a3f5f"
            },
            "type": "carpet"
           }
          ],
          "choropleth": [
           {
            "colorbar": {
             "outlinewidth": 0,
             "ticks": ""
            },
            "type": "choropleth"
           }
          ],
          "contour": [
           {
            "colorbar": {
             "outlinewidth": 0,
             "ticks": ""
            },
            "colorscale": [
             [
              0,
              "#0d0887"
             ],
             [
              0.1111111111111111,
              "#46039f"
             ],
             [
              0.2222222222222222,
              "#7201a8"
             ],
             [
              0.3333333333333333,
              "#9c179e"
             ],
             [
              0.4444444444444444,
              "#bd3786"
             ],
             [
              0.5555555555555556,
              "#d8576b"
             ],
             [
              0.6666666666666666,
              "#ed7953"
             ],
             [
              0.7777777777777778,
              "#fb9f3a"
             ],
             [
              0.8888888888888888,
              "#fdca26"
             ],
             [
              1,
              "#f0f921"
             ]
            ],
            "type": "contour"
           }
          ],
          "contourcarpet": [
           {
            "colorbar": {
             "outlinewidth": 0,
             "ticks": ""
            },
            "type": "contourcarpet"
           }
          ],
          "heatmap": [
           {
            "colorbar": {
             "outlinewidth": 0,
             "ticks": ""
            },
            "colorscale": [
             [
              0,
              "#0d0887"
             ],
             [
              0.1111111111111111,
              "#46039f"
             ],
             [
              0.2222222222222222,
              "#7201a8"
             ],
             [
              0.3333333333333333,
              "#9c179e"
             ],
             [
              0.4444444444444444,
              "#bd3786"
             ],
             [
              0.5555555555555556,
              "#d8576b"
             ],
             [
              0.6666666666666666,
              "#ed7953"
             ],
             [
              0.7777777777777778,
              "#fb9f3a"
             ],
             [
              0.8888888888888888,
              "#fdca26"
             ],
             [
              1,
              "#f0f921"
             ]
            ],
            "type": "heatmap"
           }
          ],
          "heatmapgl": [
           {
            "colorbar": {
             "outlinewidth": 0,
             "ticks": ""
            },
            "colorscale": [
             [
              0,
              "#0d0887"
             ],
             [
              0.1111111111111111,
              "#46039f"
             ],
             [
              0.2222222222222222,
              "#7201a8"
             ],
             [
              0.3333333333333333,
              "#9c179e"
             ],
             [
              0.4444444444444444,
              "#bd3786"
             ],
             [
              0.5555555555555556,
              "#d8576b"
             ],
             [
              0.6666666666666666,
              "#ed7953"
             ],
             [
              0.7777777777777778,
              "#fb9f3a"
             ],
             [
              0.8888888888888888,
              "#fdca26"
             ],
             [
              1,
              "#f0f921"
             ]
            ],
            "type": "heatmapgl"
           }
          ],
          "histogram": [
           {
            "marker": {
             "pattern": {
              "fillmode": "overlay",
              "size": 10,
              "solidity": 0.2
             }
            },
            "type": "histogram"
           }
          ],
          "histogram2d": [
           {
            "colorbar": {
             "outlinewidth": 0,
             "ticks": ""
            },
            "colorscale": [
             [
              0,
              "#0d0887"
             ],
             [
              0.1111111111111111,
              "#46039f"
             ],
             [
              0.2222222222222222,
              "#7201a8"
             ],
             [
              0.3333333333333333,
              "#9c179e"
             ],
             [
              0.4444444444444444,
              "#bd3786"
             ],
             [
              0.5555555555555556,
              "#d8576b"
             ],
             [
              0.6666666666666666,
              "#ed7953"
             ],
             [
              0.7777777777777778,
              "#fb9f3a"
             ],
             [
              0.8888888888888888,
              "#fdca26"
             ],
             [
              1,
              "#f0f921"
             ]
            ],
            "type": "histogram2d"
           }
          ],
          "histogram2dcontour": [
           {
            "colorbar": {
             "outlinewidth": 0,
             "ticks": ""
            },
            "colorscale": [
             [
              0,
              "#0d0887"
             ],
             [
              0.1111111111111111,
              "#46039f"
             ],
             [
              0.2222222222222222,
              "#7201a8"
             ],
             [
              0.3333333333333333,
              "#9c179e"
             ],
             [
              0.4444444444444444,
              "#bd3786"
             ],
             [
              0.5555555555555556,
              "#d8576b"
             ],
             [
              0.6666666666666666,
              "#ed7953"
             ],
             [
              0.7777777777777778,
              "#fb9f3a"
             ],
             [
              0.8888888888888888,
              "#fdca26"
             ],
             [
              1,
              "#f0f921"
             ]
            ],
            "type": "histogram2dcontour"
           }
          ],
          "mesh3d": [
           {
            "colorbar": {
             "outlinewidth": 0,
             "ticks": ""
            },
            "type": "mesh3d"
           }
          ],
          "parcoords": [
           {
            "line": {
             "colorbar": {
              "outlinewidth": 0,
              "ticks": ""
             }
            },
            "type": "parcoords"
           }
          ],
          "pie": [
           {
            "automargin": true,
            "type": "pie"
           }
          ],
          "scatter": [
           {
            "marker": {
             "colorbar": {
              "outlinewidth": 0,
              "ticks": ""
             }
            },
            "type": "scatter"
           }
          ],
          "scatter3d": [
           {
            "line": {
             "colorbar": {
              "outlinewidth": 0,
              "ticks": ""
             }
            },
            "marker": {
             "colorbar": {
              "outlinewidth": 0,
              "ticks": ""
             }
            },
            "type": "scatter3d"
           }
          ],
          "scattercarpet": [
           {
            "marker": {
             "colorbar": {
              "outlinewidth": 0,
              "ticks": ""
             }
            },
            "type": "scattercarpet"
           }
          ],
          "scattergeo": [
           {
            "marker": {
             "colorbar": {
              "outlinewidth": 0,
              "ticks": ""
             }
            },
            "type": "scattergeo"
           }
          ],
          "scattergl": [
           {
            "marker": {
             "colorbar": {
              "outlinewidth": 0,
              "ticks": ""
             }
            },
            "type": "scattergl"
           }
          ],
          "scattermapbox": [
           {
            "marker": {
             "colorbar": {
              "outlinewidth": 0,
              "ticks": ""
             }
            },
            "type": "scattermapbox"
           }
          ],
          "scatterpolar": [
           {
            "marker": {
             "colorbar": {
              "outlinewidth": 0,
              "ticks": ""
             }
            },
            "type": "scatterpolar"
           }
          ],
          "scatterpolargl": [
           {
            "marker": {
             "colorbar": {
              "outlinewidth": 0,
              "ticks": ""
             }
            },
            "type": "scatterpolargl"
           }
          ],
          "scatterternary": [
           {
            "marker": {
             "colorbar": {
              "outlinewidth": 0,
              "ticks": ""
             }
            },
            "type": "scatterternary"
           }
          ],
          "surface": [
           {
            "colorbar": {
             "outlinewidth": 0,
             "ticks": ""
            },
            "colorscale": [
             [
              0,
              "#0d0887"
             ],
             [
              0.1111111111111111,
              "#46039f"
             ],
             [
              0.2222222222222222,
              "#7201a8"
             ],
             [
              0.3333333333333333,
              "#9c179e"
             ],
             [
              0.4444444444444444,
              "#bd3786"
             ],
             [
              0.5555555555555556,
              "#d8576b"
             ],
             [
              0.6666666666666666,
              "#ed7953"
             ],
             [
              0.7777777777777778,
              "#fb9f3a"
             ],
             [
              0.8888888888888888,
              "#fdca26"
             ],
             [
              1,
              "#f0f921"
             ]
            ],
            "type": "surface"
           }
          ],
          "table": [
           {
            "cells": {
             "fill": {
              "color": "#EBF0F8"
             },
             "line": {
              "color": "white"
             }
            },
            "header": {
             "fill": {
              "color": "#C8D4E3"
             },
             "line": {
              "color": "white"
             }
            },
            "type": "table"
           }
          ]
         },
         "layout": {
          "annotationdefaults": {
           "arrowcolor": "#2a3f5f",
           "arrowhead": 0,
           "arrowwidth": 1
          },
          "autotypenumbers": "strict",
          "coloraxis": {
           "colorbar": {
            "outlinewidth": 0,
            "ticks": ""
           }
          },
          "colorscale": {
           "diverging": [
            [
             0,
             "#8e0152"
            ],
            [
             0.1,
             "#c51b7d"
            ],
            [
             0.2,
             "#de77ae"
            ],
            [
             0.3,
             "#f1b6da"
            ],
            [
             0.4,
             "#fde0ef"
            ],
            [
             0.5,
             "#f7f7f7"
            ],
            [
             0.6,
             "#e6f5d0"
            ],
            [
             0.7,
             "#b8e186"
            ],
            [
             0.8,
             "#7fbc41"
            ],
            [
             0.9,
             "#4d9221"
            ],
            [
             1,
             "#276419"
            ]
           ],
           "sequential": [
            [
             0,
             "#0d0887"
            ],
            [
             0.1111111111111111,
             "#46039f"
            ],
            [
             0.2222222222222222,
             "#7201a8"
            ],
            [
             0.3333333333333333,
             "#9c179e"
            ],
            [
             0.4444444444444444,
             "#bd3786"
            ],
            [
             0.5555555555555556,
             "#d8576b"
            ],
            [
             0.6666666666666666,
             "#ed7953"
            ],
            [
             0.7777777777777778,
             "#fb9f3a"
            ],
            [
             0.8888888888888888,
             "#fdca26"
            ],
            [
             1,
             "#f0f921"
            ]
           ],
           "sequentialminus": [
            [
             0,
             "#0d0887"
            ],
            [
             0.1111111111111111,
             "#46039f"
            ],
            [
             0.2222222222222222,
             "#7201a8"
            ],
            [
             0.3333333333333333,
             "#9c179e"
            ],
            [
             0.4444444444444444,
             "#bd3786"
            ],
            [
             0.5555555555555556,
             "#d8576b"
            ],
            [
             0.6666666666666666,
             "#ed7953"
            ],
            [
             0.7777777777777778,
             "#fb9f3a"
            ],
            [
             0.8888888888888888,
             "#fdca26"
            ],
            [
             1,
             "#f0f921"
            ]
           ]
          },
          "colorway": [
           "#636efa",
           "#EF553B",
           "#00cc96",
           "#ab63fa",
           "#FFA15A",
           "#19d3f3",
           "#FF6692",
           "#B6E880",
           "#FF97FF",
           "#FECB52"
          ],
          "font": {
           "color": "#2a3f5f"
          },
          "geo": {
           "bgcolor": "white",
           "lakecolor": "white",
           "landcolor": "#E5ECF6",
           "showlakes": true,
           "showland": true,
           "subunitcolor": "white"
          },
          "hoverlabel": {
           "align": "left"
          },
          "hovermode": "closest",
          "mapbox": {
           "style": "light"
          },
          "paper_bgcolor": "white",
          "plot_bgcolor": "#E5ECF6",
          "polar": {
           "angularaxis": {
            "gridcolor": "white",
            "linecolor": "white",
            "ticks": ""
           },
           "bgcolor": "#E5ECF6",
           "radialaxis": {
            "gridcolor": "white",
            "linecolor": "white",
            "ticks": ""
           }
          },
          "scene": {
           "xaxis": {
            "backgroundcolor": "#E5ECF6",
            "gridcolor": "white",
            "gridwidth": 2,
            "linecolor": "white",
            "showbackground": true,
            "ticks": "",
            "zerolinecolor": "white"
           },
           "yaxis": {
            "backgroundcolor": "#E5ECF6",
            "gridcolor": "white",
            "gridwidth": 2,
            "linecolor": "white",
            "showbackground": true,
            "ticks": "",
            "zerolinecolor": "white"
           },
           "zaxis": {
            "backgroundcolor": "#E5ECF6",
            "gridcolor": "white",
            "gridwidth": 2,
            "linecolor": "white",
            "showbackground": true,
            "ticks": "",
            "zerolinecolor": "white"
           }
          },
          "shapedefaults": {
           "line": {
            "color": "#2a3f5f"
           }
          },
          "ternary": {
           "aaxis": {
            "gridcolor": "white",
            "linecolor": "white",
            "ticks": ""
           },
           "baxis": {
            "gridcolor": "white",
            "linecolor": "white",
            "ticks": ""
           },
           "bgcolor": "#E5ECF6",
           "caxis": {
            "gridcolor": "white",
            "linecolor": "white",
            "ticks": ""
           }
          },
          "title": {
           "x": 0.05
          },
          "xaxis": {
           "automargin": true,
           "gridcolor": "white",
           "linecolor": "white",
           "ticks": "",
           "title": {
            "standoff": 15
           },
           "zerolinecolor": "white",
           "zerolinewidth": 2
          },
          "yaxis": {
           "automargin": true,
           "gridcolor": "white",
           "linecolor": "white",
           "ticks": "",
           "title": {
            "standoff": 15
           },
           "zerolinecolor": "white",
           "zerolinewidth": 2
          }
         }
        },
        "title": {
         "font": {
          "size": 24
         }
        }
       }
      }
     },
     "metadata": {},
     "output_type": "display_data"
    }
   ],
   "source": [
    "# sunburst plot\n",
    "data = dict(\n",
    "            field=['INVALID','VALID', 'BLANKS', 'WRONG ENTRIES'],\n",
    "            part=['PINs', 'PINs', 'INVALID', 'INVALID'],\n",
    "            validity=[invalid_pins, \n",
    "                      valid_pins, \n",
    "                      validity_df['CLNT_PIN'].isnull().sum().sum(),\n",
    "                      (validity_df['PIN_STATUS'] == 'INVALID').sum().sum() - validity_df['CLNT_PIN'].isnull().sum().sum()\n",
    "\n",
    "                    #   ((validity_df['DOB_STATUS'] == 'INVALID').sum().sum()) - (validity_df['CLNT_DOB'].isnull().sum().sum())\n",
    "                     ]\n",
    ")\n",
    "\n",
    "fig = px.sunburst(\n",
    "    data,\n",
    "    names='field',\n",
    "    parents='part',\n",
    "    values='validity',\n",
    "    color='field',\n",
    "    color_discrete_map={'VALID':'green','BLANKS':'darkslategray', 'INVALID':'crimson', 'INVALID ENTRIES': 'orange'}\n",
    ")\n",
    "fig.update_layout(\n",
    "                    font={'size': 24},\n",
    "                    title={'font': {'size': 24}},\n",
    "                    margin=dict(t=0, b=0, l=0, r=0)\n",
    "                    )\n",
    "fig.show()"
   ]
  },
  {
   "cell_type": "markdown",
   "id": "ed04283e",
   "metadata": {},
   "source": [
    "## Emails"
   ]
  },
  {
   "cell_type": "code",
   "execution_count": 90,
   "id": "728dffc5",
   "metadata": {},
   "outputs": [
    {
     "data": {
      "text/plain": [
       "70"
      ]
     },
     "execution_count": 90,
     "metadata": {},
     "output_type": "execute_result"
    }
   ],
   "source": [
    "(validity_df['EMAIL_STATUS'] == 'INVALID').sum().sum() - validity_df['CLNT_EMAIL_ADDRS'].isnull().sum().sum()"
   ]
  },
  {
   "cell_type": "code",
   "execution_count": 91,
   "id": "4357cb8f",
   "metadata": {},
   "outputs": [
    {
     "data": {
      "application/vnd.plotly.v1+json": {
       "config": {
        "plotlyServerURL": "https://plot.ly"
       },
       "data": [
        {
         "domain": {
          "x": [
           0,
           1
          ],
          "y": [
           0,
           1
          ]
         },
         "hovertemplate": "field=%{label}<br>validity=%{value}<br>part=%{parent}<extra></extra>",
         "labels": [
          "INVALID",
          "VALID",
          "BLANKS",
          "WRONG ENTRIES"
         ],
         "marker": {
          "colors": [
           "crimson",
           "green",
           "darkslategray",
           "#FFA15A"
          ]
         },
         "name": "",
         "parents": [
          "EMAILS",
          "EMAILS",
          "INVALID",
          "INVALID"
         ],
         "type": "sunburst",
         "values": [
          6659,
          112128,
          77923,
          70
         ]
        }
       ],
       "layout": {
        "font": {
         "size": 24
        },
        "legend": {
         "tracegroupgap": 0
        },
        "margin": {
         "b": 0,
         "l": 0,
         "r": 0,
         "t": 0
        },
        "template": {
         "data": {
          "bar": [
           {
            "error_x": {
             "color": "#2a3f5f"
            },
            "error_y": {
             "color": "#2a3f5f"
            },
            "marker": {
             "line": {
              "color": "#E5ECF6",
              "width": 0.5
             },
             "pattern": {
              "fillmode": "overlay",
              "size": 10,
              "solidity": 0.2
             }
            },
            "type": "bar"
           }
          ],
          "barpolar": [
           {
            "marker": {
             "line": {
              "color": "#E5ECF6",
              "width": 0.5
             },
             "pattern": {
              "fillmode": "overlay",
              "size": 10,
              "solidity": 0.2
             }
            },
            "type": "barpolar"
           }
          ],
          "carpet": [
           {
            "aaxis": {
             "endlinecolor": "#2a3f5f",
             "gridcolor": "white",
             "linecolor": "white",
             "minorgridcolor": "white",
             "startlinecolor": "#2a3f5f"
            },
            "baxis": {
             "endlinecolor": "#2a3f5f",
             "gridcolor": "white",
             "linecolor": "white",
             "minorgridcolor": "white",
             "startlinecolor": "#2a3f5f"
            },
            "type": "carpet"
           }
          ],
          "choropleth": [
           {
            "colorbar": {
             "outlinewidth": 0,
             "ticks": ""
            },
            "type": "choropleth"
           }
          ],
          "contour": [
           {
            "colorbar": {
             "outlinewidth": 0,
             "ticks": ""
            },
            "colorscale": [
             [
              0,
              "#0d0887"
             ],
             [
              0.1111111111111111,
              "#46039f"
             ],
             [
              0.2222222222222222,
              "#7201a8"
             ],
             [
              0.3333333333333333,
              "#9c179e"
             ],
             [
              0.4444444444444444,
              "#bd3786"
             ],
             [
              0.5555555555555556,
              "#d8576b"
             ],
             [
              0.6666666666666666,
              "#ed7953"
             ],
             [
              0.7777777777777778,
              "#fb9f3a"
             ],
             [
              0.8888888888888888,
              "#fdca26"
             ],
             [
              1,
              "#f0f921"
             ]
            ],
            "type": "contour"
           }
          ],
          "contourcarpet": [
           {
            "colorbar": {
             "outlinewidth": 0,
             "ticks": ""
            },
            "type": "contourcarpet"
           }
          ],
          "heatmap": [
           {
            "colorbar": {
             "outlinewidth": 0,
             "ticks": ""
            },
            "colorscale": [
             [
              0,
              "#0d0887"
             ],
             [
              0.1111111111111111,
              "#46039f"
             ],
             [
              0.2222222222222222,
              "#7201a8"
             ],
             [
              0.3333333333333333,
              "#9c179e"
             ],
             [
              0.4444444444444444,
              "#bd3786"
             ],
             [
              0.5555555555555556,
              "#d8576b"
             ],
             [
              0.6666666666666666,
              "#ed7953"
             ],
             [
              0.7777777777777778,
              "#fb9f3a"
             ],
             [
              0.8888888888888888,
              "#fdca26"
             ],
             [
              1,
              "#f0f921"
             ]
            ],
            "type": "heatmap"
           }
          ],
          "heatmapgl": [
           {
            "colorbar": {
             "outlinewidth": 0,
             "ticks": ""
            },
            "colorscale": [
             [
              0,
              "#0d0887"
             ],
             [
              0.1111111111111111,
              "#46039f"
             ],
             [
              0.2222222222222222,
              "#7201a8"
             ],
             [
              0.3333333333333333,
              "#9c179e"
             ],
             [
              0.4444444444444444,
              "#bd3786"
             ],
             [
              0.5555555555555556,
              "#d8576b"
             ],
             [
              0.6666666666666666,
              "#ed7953"
             ],
             [
              0.7777777777777778,
              "#fb9f3a"
             ],
             [
              0.8888888888888888,
              "#fdca26"
             ],
             [
              1,
              "#f0f921"
             ]
            ],
            "type": "heatmapgl"
           }
          ],
          "histogram": [
           {
            "marker": {
             "pattern": {
              "fillmode": "overlay",
              "size": 10,
              "solidity": 0.2
             }
            },
            "type": "histogram"
           }
          ],
          "histogram2d": [
           {
            "colorbar": {
             "outlinewidth": 0,
             "ticks": ""
            },
            "colorscale": [
             [
              0,
              "#0d0887"
             ],
             [
              0.1111111111111111,
              "#46039f"
             ],
             [
              0.2222222222222222,
              "#7201a8"
             ],
             [
              0.3333333333333333,
              "#9c179e"
             ],
             [
              0.4444444444444444,
              "#bd3786"
             ],
             [
              0.5555555555555556,
              "#d8576b"
             ],
             [
              0.6666666666666666,
              "#ed7953"
             ],
             [
              0.7777777777777778,
              "#fb9f3a"
             ],
             [
              0.8888888888888888,
              "#fdca26"
             ],
             [
              1,
              "#f0f921"
             ]
            ],
            "type": "histogram2d"
           }
          ],
          "histogram2dcontour": [
           {
            "colorbar": {
             "outlinewidth": 0,
             "ticks": ""
            },
            "colorscale": [
             [
              0,
              "#0d0887"
             ],
             [
              0.1111111111111111,
              "#46039f"
             ],
             [
              0.2222222222222222,
              "#7201a8"
             ],
             [
              0.3333333333333333,
              "#9c179e"
             ],
             [
              0.4444444444444444,
              "#bd3786"
             ],
             [
              0.5555555555555556,
              "#d8576b"
             ],
             [
              0.6666666666666666,
              "#ed7953"
             ],
             [
              0.7777777777777778,
              "#fb9f3a"
             ],
             [
              0.8888888888888888,
              "#fdca26"
             ],
             [
              1,
              "#f0f921"
             ]
            ],
            "type": "histogram2dcontour"
           }
          ],
          "mesh3d": [
           {
            "colorbar": {
             "outlinewidth": 0,
             "ticks": ""
            },
            "type": "mesh3d"
           }
          ],
          "parcoords": [
           {
            "line": {
             "colorbar": {
              "outlinewidth": 0,
              "ticks": ""
             }
            },
            "type": "parcoords"
           }
          ],
          "pie": [
           {
            "automargin": true,
            "type": "pie"
           }
          ],
          "scatter": [
           {
            "marker": {
             "colorbar": {
              "outlinewidth": 0,
              "ticks": ""
             }
            },
            "type": "scatter"
           }
          ],
          "scatter3d": [
           {
            "line": {
             "colorbar": {
              "outlinewidth": 0,
              "ticks": ""
             }
            },
            "marker": {
             "colorbar": {
              "outlinewidth": 0,
              "ticks": ""
             }
            },
            "type": "scatter3d"
           }
          ],
          "scattercarpet": [
           {
            "marker": {
             "colorbar": {
              "outlinewidth": 0,
              "ticks": ""
             }
            },
            "type": "scattercarpet"
           }
          ],
          "scattergeo": [
           {
            "marker": {
             "colorbar": {
              "outlinewidth": 0,
              "ticks": ""
             }
            },
            "type": "scattergeo"
           }
          ],
          "scattergl": [
           {
            "marker": {
             "colorbar": {
              "outlinewidth": 0,
              "ticks": ""
             }
            },
            "type": "scattergl"
           }
          ],
          "scattermapbox": [
           {
            "marker": {
             "colorbar": {
              "outlinewidth": 0,
              "ticks": ""
             }
            },
            "type": "scattermapbox"
           }
          ],
          "scatterpolar": [
           {
            "marker": {
             "colorbar": {
              "outlinewidth": 0,
              "ticks": ""
             }
            },
            "type": "scatterpolar"
           }
          ],
          "scatterpolargl": [
           {
            "marker": {
             "colorbar": {
              "outlinewidth": 0,
              "ticks": ""
             }
            },
            "type": "scatterpolargl"
           }
          ],
          "scatterternary": [
           {
            "marker": {
             "colorbar": {
              "outlinewidth": 0,
              "ticks": ""
             }
            },
            "type": "scatterternary"
           }
          ],
          "surface": [
           {
            "colorbar": {
             "outlinewidth": 0,
             "ticks": ""
            },
            "colorscale": [
             [
              0,
              "#0d0887"
             ],
             [
              0.1111111111111111,
              "#46039f"
             ],
             [
              0.2222222222222222,
              "#7201a8"
             ],
             [
              0.3333333333333333,
              "#9c179e"
             ],
             [
              0.4444444444444444,
              "#bd3786"
             ],
             [
              0.5555555555555556,
              "#d8576b"
             ],
             [
              0.6666666666666666,
              "#ed7953"
             ],
             [
              0.7777777777777778,
              "#fb9f3a"
             ],
             [
              0.8888888888888888,
              "#fdca26"
             ],
             [
              1,
              "#f0f921"
             ]
            ],
            "type": "surface"
           }
          ],
          "table": [
           {
            "cells": {
             "fill": {
              "color": "#EBF0F8"
             },
             "line": {
              "color": "white"
             }
            },
            "header": {
             "fill": {
              "color": "#C8D4E3"
             },
             "line": {
              "color": "white"
             }
            },
            "type": "table"
           }
          ]
         },
         "layout": {
          "annotationdefaults": {
           "arrowcolor": "#2a3f5f",
           "arrowhead": 0,
           "arrowwidth": 1
          },
          "autotypenumbers": "strict",
          "coloraxis": {
           "colorbar": {
            "outlinewidth": 0,
            "ticks": ""
           }
          },
          "colorscale": {
           "diverging": [
            [
             0,
             "#8e0152"
            ],
            [
             0.1,
             "#c51b7d"
            ],
            [
             0.2,
             "#de77ae"
            ],
            [
             0.3,
             "#f1b6da"
            ],
            [
             0.4,
             "#fde0ef"
            ],
            [
             0.5,
             "#f7f7f7"
            ],
            [
             0.6,
             "#e6f5d0"
            ],
            [
             0.7,
             "#b8e186"
            ],
            [
             0.8,
             "#7fbc41"
            ],
            [
             0.9,
             "#4d9221"
            ],
            [
             1,
             "#276419"
            ]
           ],
           "sequential": [
            [
             0,
             "#0d0887"
            ],
            [
             0.1111111111111111,
             "#46039f"
            ],
            [
             0.2222222222222222,
             "#7201a8"
            ],
            [
             0.3333333333333333,
             "#9c179e"
            ],
            [
             0.4444444444444444,
             "#bd3786"
            ],
            [
             0.5555555555555556,
             "#d8576b"
            ],
            [
             0.6666666666666666,
             "#ed7953"
            ],
            [
             0.7777777777777778,
             "#fb9f3a"
            ],
            [
             0.8888888888888888,
             "#fdca26"
            ],
            [
             1,
             "#f0f921"
            ]
           ],
           "sequentialminus": [
            [
             0,
             "#0d0887"
            ],
            [
             0.1111111111111111,
             "#46039f"
            ],
            [
             0.2222222222222222,
             "#7201a8"
            ],
            [
             0.3333333333333333,
             "#9c179e"
            ],
            [
             0.4444444444444444,
             "#bd3786"
            ],
            [
             0.5555555555555556,
             "#d8576b"
            ],
            [
             0.6666666666666666,
             "#ed7953"
            ],
            [
             0.7777777777777778,
             "#fb9f3a"
            ],
            [
             0.8888888888888888,
             "#fdca26"
            ],
            [
             1,
             "#f0f921"
            ]
           ]
          },
          "colorway": [
           "#636efa",
           "#EF553B",
           "#00cc96",
           "#ab63fa",
           "#FFA15A",
           "#19d3f3",
           "#FF6692",
           "#B6E880",
           "#FF97FF",
           "#FECB52"
          ],
          "font": {
           "color": "#2a3f5f"
          },
          "geo": {
           "bgcolor": "white",
           "lakecolor": "white",
           "landcolor": "#E5ECF6",
           "showlakes": true,
           "showland": true,
           "subunitcolor": "white"
          },
          "hoverlabel": {
           "align": "left"
          },
          "hovermode": "closest",
          "mapbox": {
           "style": "light"
          },
          "paper_bgcolor": "white",
          "plot_bgcolor": "#E5ECF6",
          "polar": {
           "angularaxis": {
            "gridcolor": "white",
            "linecolor": "white",
            "ticks": ""
           },
           "bgcolor": "#E5ECF6",
           "radialaxis": {
            "gridcolor": "white",
            "linecolor": "white",
            "ticks": ""
           }
          },
          "scene": {
           "xaxis": {
            "backgroundcolor": "#E5ECF6",
            "gridcolor": "white",
            "gridwidth": 2,
            "linecolor": "white",
            "showbackground": true,
            "ticks": "",
            "zerolinecolor": "white"
           },
           "yaxis": {
            "backgroundcolor": "#E5ECF6",
            "gridcolor": "white",
            "gridwidth": 2,
            "linecolor": "white",
            "showbackground": true,
            "ticks": "",
            "zerolinecolor": "white"
           },
           "zaxis": {
            "backgroundcolor": "#E5ECF6",
            "gridcolor": "white",
            "gridwidth": 2,
            "linecolor": "white",
            "showbackground": true,
            "ticks": "",
            "zerolinecolor": "white"
           }
          },
          "shapedefaults": {
           "line": {
            "color": "#2a3f5f"
           }
          },
          "ternary": {
           "aaxis": {
            "gridcolor": "white",
            "linecolor": "white",
            "ticks": ""
           },
           "baxis": {
            "gridcolor": "white",
            "linecolor": "white",
            "ticks": ""
           },
           "bgcolor": "#E5ECF6",
           "caxis": {
            "gridcolor": "white",
            "linecolor": "white",
            "ticks": ""
           }
          },
          "title": {
           "x": 0.05
          },
          "xaxis": {
           "automargin": true,
           "gridcolor": "white",
           "linecolor": "white",
           "ticks": "",
           "title": {
            "standoff": 15
           },
           "zerolinecolor": "white",
           "zerolinewidth": 2
          },
          "yaxis": {
           "automargin": true,
           "gridcolor": "white",
           "linecolor": "white",
           "ticks": "",
           "title": {
            "standoff": 15
           },
           "zerolinecolor": "white",
           "zerolinewidth": 2
          }
         }
        },
        "title": {
         "font": {
          "size": 24
         }
        }
       }
      }
     },
     "metadata": {},
     "output_type": "display_data"
    }
   ],
   "source": [
    "# sunburst plot\n",
    "data = dict(\n",
    "            field=['INVALID','VALID', 'BLANKS', 'WRONG ENTRIES'],\n",
    "            part=['EMAILS', 'EMAILS', 'INVALID', 'INVALID'],\n",
    "            validity=[invalid_pins, \n",
    "                      valid_pins, \n",
    "                      validity_df['CLNT_EMAIL_ADDRS'].isnull().sum().sum(),\n",
    "                      (validity_df['EMAIL_STATUS'] == 'INVALID').sum().sum() - validity_df['CLNT_EMAIL_ADDRS'].isnull().sum().sum()\n",
    "                     ]\n",
    ")\n",
    "\n",
    "fig = px.sunburst(\n",
    "    data,\n",
    "    names='field',\n",
    "    parents='part',\n",
    "    values='validity',\n",
    "    color='field',\n",
    "    color_discrete_map={'VALID':'green','BLANKS':'darkslategray', 'INVALID':'crimson', 'INVALID ENTRIES': 'gold'}\n",
    ")\n",
    "fig.update_layout(\n",
    "                    font={'size': 24},\n",
    "                    title={'font': {'size': 24}},\n",
    "                    margin=dict(t=0, b=0, l=0, r=0)\n",
    "                    )\n",
    "fig.show()"
   ]
  },
  {
   "cell_type": "code",
   "execution_count": 92,
   "id": "31d0f0f6",
   "metadata": {},
   "outputs": [
    {
     "data": {
      "application/vnd.plotly.v1+json": {
       "config": {
        "plotlyServerURL": "https://plot.ly"
       },
       "data": [
        {
         "domain": {
          "x": [
           0,
           1
          ],
          "y": [
           0,
           1
          ]
         },
         "hovertemplate": "field=%{label}<br>validity=%{value}<br>part=%{parent}<extra></extra>",
         "labels": [
          "INVALID",
          "VALID",
          "BLANK DOB"
         ],
         "marker": {
          "colors": [
           "crimson",
           "green",
           "#FFA15A"
          ]
         },
         "name": "",
         "parents": [
          "AGE",
          "AGE",
          "INVALID"
         ],
         "type": "sunburst",
         "values": [
          6659,
          112128,
          97980
         ]
        }
       ],
       "layout": {
        "font": {
         "size": 24
        },
        "legend": {
         "tracegroupgap": 0
        },
        "margin": {
         "b": 0,
         "l": 0,
         "r": 0,
         "t": 0
        },
        "template": {
         "data": {
          "bar": [
           {
            "error_x": {
             "color": "#2a3f5f"
            },
            "error_y": {
             "color": "#2a3f5f"
            },
            "marker": {
             "line": {
              "color": "#E5ECF6",
              "width": 0.5
             },
             "pattern": {
              "fillmode": "overlay",
              "size": 10,
              "solidity": 0.2
             }
            },
            "type": "bar"
           }
          ],
          "barpolar": [
           {
            "marker": {
             "line": {
              "color": "#E5ECF6",
              "width": 0.5
             },
             "pattern": {
              "fillmode": "overlay",
              "size": 10,
              "solidity": 0.2
             }
            },
            "type": "barpolar"
           }
          ],
          "carpet": [
           {
            "aaxis": {
             "endlinecolor": "#2a3f5f",
             "gridcolor": "white",
             "linecolor": "white",
             "minorgridcolor": "white",
             "startlinecolor": "#2a3f5f"
            },
            "baxis": {
             "endlinecolor": "#2a3f5f",
             "gridcolor": "white",
             "linecolor": "white",
             "minorgridcolor": "white",
             "startlinecolor": "#2a3f5f"
            },
            "type": "carpet"
           }
          ],
          "choropleth": [
           {
            "colorbar": {
             "outlinewidth": 0,
             "ticks": ""
            },
            "type": "choropleth"
           }
          ],
          "contour": [
           {
            "colorbar": {
             "outlinewidth": 0,
             "ticks": ""
            },
            "colorscale": [
             [
              0,
              "#0d0887"
             ],
             [
              0.1111111111111111,
              "#46039f"
             ],
             [
              0.2222222222222222,
              "#7201a8"
             ],
             [
              0.3333333333333333,
              "#9c179e"
             ],
             [
              0.4444444444444444,
              "#bd3786"
             ],
             [
              0.5555555555555556,
              "#d8576b"
             ],
             [
              0.6666666666666666,
              "#ed7953"
             ],
             [
              0.7777777777777778,
              "#fb9f3a"
             ],
             [
              0.8888888888888888,
              "#fdca26"
             ],
             [
              1,
              "#f0f921"
             ]
            ],
            "type": "contour"
           }
          ],
          "contourcarpet": [
           {
            "colorbar": {
             "outlinewidth": 0,
             "ticks": ""
            },
            "type": "contourcarpet"
           }
          ],
          "heatmap": [
           {
            "colorbar": {
             "outlinewidth": 0,
             "ticks": ""
            },
            "colorscale": [
             [
              0,
              "#0d0887"
             ],
             [
              0.1111111111111111,
              "#46039f"
             ],
             [
              0.2222222222222222,
              "#7201a8"
             ],
             [
              0.3333333333333333,
              "#9c179e"
             ],
             [
              0.4444444444444444,
              "#bd3786"
             ],
             [
              0.5555555555555556,
              "#d8576b"
             ],
             [
              0.6666666666666666,
              "#ed7953"
             ],
             [
              0.7777777777777778,
              "#fb9f3a"
             ],
             [
              0.8888888888888888,
              "#fdca26"
             ],
             [
              1,
              "#f0f921"
             ]
            ],
            "type": "heatmap"
           }
          ],
          "heatmapgl": [
           {
            "colorbar": {
             "outlinewidth": 0,
             "ticks": ""
            },
            "colorscale": [
             [
              0,
              "#0d0887"
             ],
             [
              0.1111111111111111,
              "#46039f"
             ],
             [
              0.2222222222222222,
              "#7201a8"
             ],
             [
              0.3333333333333333,
              "#9c179e"
             ],
             [
              0.4444444444444444,
              "#bd3786"
             ],
             [
              0.5555555555555556,
              "#d8576b"
             ],
             [
              0.6666666666666666,
              "#ed7953"
             ],
             [
              0.7777777777777778,
              "#fb9f3a"
             ],
             [
              0.8888888888888888,
              "#fdca26"
             ],
             [
              1,
              "#f0f921"
             ]
            ],
            "type": "heatmapgl"
           }
          ],
          "histogram": [
           {
            "marker": {
             "pattern": {
              "fillmode": "overlay",
              "size": 10,
              "solidity": 0.2
             }
            },
            "type": "histogram"
           }
          ],
          "histogram2d": [
           {
            "colorbar": {
             "outlinewidth": 0,
             "ticks": ""
            },
            "colorscale": [
             [
              0,
              "#0d0887"
             ],
             [
              0.1111111111111111,
              "#46039f"
             ],
             [
              0.2222222222222222,
              "#7201a8"
             ],
             [
              0.3333333333333333,
              "#9c179e"
             ],
             [
              0.4444444444444444,
              "#bd3786"
             ],
             [
              0.5555555555555556,
              "#d8576b"
             ],
             [
              0.6666666666666666,
              "#ed7953"
             ],
             [
              0.7777777777777778,
              "#fb9f3a"
             ],
             [
              0.8888888888888888,
              "#fdca26"
             ],
             [
              1,
              "#f0f921"
             ]
            ],
            "type": "histogram2d"
           }
          ],
          "histogram2dcontour": [
           {
            "colorbar": {
             "outlinewidth": 0,
             "ticks": ""
            },
            "colorscale": [
             [
              0,
              "#0d0887"
             ],
             [
              0.1111111111111111,
              "#46039f"
             ],
             [
              0.2222222222222222,
              "#7201a8"
             ],
             [
              0.3333333333333333,
              "#9c179e"
             ],
             [
              0.4444444444444444,
              "#bd3786"
             ],
             [
              0.5555555555555556,
              "#d8576b"
             ],
             [
              0.6666666666666666,
              "#ed7953"
             ],
             [
              0.7777777777777778,
              "#fb9f3a"
             ],
             [
              0.8888888888888888,
              "#fdca26"
             ],
             [
              1,
              "#f0f921"
             ]
            ],
            "type": "histogram2dcontour"
           }
          ],
          "mesh3d": [
           {
            "colorbar": {
             "outlinewidth": 0,
             "ticks": ""
            },
            "type": "mesh3d"
           }
          ],
          "parcoords": [
           {
            "line": {
             "colorbar": {
              "outlinewidth": 0,
              "ticks": ""
             }
            },
            "type": "parcoords"
           }
          ],
          "pie": [
           {
            "automargin": true,
            "type": "pie"
           }
          ],
          "scatter": [
           {
            "marker": {
             "colorbar": {
              "outlinewidth": 0,
              "ticks": ""
             }
            },
            "type": "scatter"
           }
          ],
          "scatter3d": [
           {
            "line": {
             "colorbar": {
              "outlinewidth": 0,
              "ticks": ""
             }
            },
            "marker": {
             "colorbar": {
              "outlinewidth": 0,
              "ticks": ""
             }
            },
            "type": "scatter3d"
           }
          ],
          "scattercarpet": [
           {
            "marker": {
             "colorbar": {
              "outlinewidth": 0,
              "ticks": ""
             }
            },
            "type": "scattercarpet"
           }
          ],
          "scattergeo": [
           {
            "marker": {
             "colorbar": {
              "outlinewidth": 0,
              "ticks": ""
             }
            },
            "type": "scattergeo"
           }
          ],
          "scattergl": [
           {
            "marker": {
             "colorbar": {
              "outlinewidth": 0,
              "ticks": ""
             }
            },
            "type": "scattergl"
           }
          ],
          "scattermapbox": [
           {
            "marker": {
             "colorbar": {
              "outlinewidth": 0,
              "ticks": ""
             }
            },
            "type": "scattermapbox"
           }
          ],
          "scatterpolar": [
           {
            "marker": {
             "colorbar": {
              "outlinewidth": 0,
              "ticks": ""
             }
            },
            "type": "scatterpolar"
           }
          ],
          "scatterpolargl": [
           {
            "marker": {
             "colorbar": {
              "outlinewidth": 0,
              "ticks": ""
             }
            },
            "type": "scatterpolargl"
           }
          ],
          "scatterternary": [
           {
            "marker": {
             "colorbar": {
              "outlinewidth": 0,
              "ticks": ""
             }
            },
            "type": "scatterternary"
           }
          ],
          "surface": [
           {
            "colorbar": {
             "outlinewidth": 0,
             "ticks": ""
            },
            "colorscale": [
             [
              0,
              "#0d0887"
             ],
             [
              0.1111111111111111,
              "#46039f"
             ],
             [
              0.2222222222222222,
              "#7201a8"
             ],
             [
              0.3333333333333333,
              "#9c179e"
             ],
             [
              0.4444444444444444,
              "#bd3786"
             ],
             [
              0.5555555555555556,
              "#d8576b"
             ],
             [
              0.6666666666666666,
              "#ed7953"
             ],
             [
              0.7777777777777778,
              "#fb9f3a"
             ],
             [
              0.8888888888888888,
              "#fdca26"
             ],
             [
              1,
              "#f0f921"
             ]
            ],
            "type": "surface"
           }
          ],
          "table": [
           {
            "cells": {
             "fill": {
              "color": "#EBF0F8"
             },
             "line": {
              "color": "white"
             }
            },
            "header": {
             "fill": {
              "color": "#C8D4E3"
             },
             "line": {
              "color": "white"
             }
            },
            "type": "table"
           }
          ]
         },
         "layout": {
          "annotationdefaults": {
           "arrowcolor": "#2a3f5f",
           "arrowhead": 0,
           "arrowwidth": 1
          },
          "autotypenumbers": "strict",
          "coloraxis": {
           "colorbar": {
            "outlinewidth": 0,
            "ticks": ""
           }
          },
          "colorscale": {
           "diverging": [
            [
             0,
             "#8e0152"
            ],
            [
             0.1,
             "#c51b7d"
            ],
            [
             0.2,
             "#de77ae"
            ],
            [
             0.3,
             "#f1b6da"
            ],
            [
             0.4,
             "#fde0ef"
            ],
            [
             0.5,
             "#f7f7f7"
            ],
            [
             0.6,
             "#e6f5d0"
            ],
            [
             0.7,
             "#b8e186"
            ],
            [
             0.8,
             "#7fbc41"
            ],
            [
             0.9,
             "#4d9221"
            ],
            [
             1,
             "#276419"
            ]
           ],
           "sequential": [
            [
             0,
             "#0d0887"
            ],
            [
             0.1111111111111111,
             "#46039f"
            ],
            [
             0.2222222222222222,
             "#7201a8"
            ],
            [
             0.3333333333333333,
             "#9c179e"
            ],
            [
             0.4444444444444444,
             "#bd3786"
            ],
            [
             0.5555555555555556,
             "#d8576b"
            ],
            [
             0.6666666666666666,
             "#ed7953"
            ],
            [
             0.7777777777777778,
             "#fb9f3a"
            ],
            [
             0.8888888888888888,
             "#fdca26"
            ],
            [
             1,
             "#f0f921"
            ]
           ],
           "sequentialminus": [
            [
             0,
             "#0d0887"
            ],
            [
             0.1111111111111111,
             "#46039f"
            ],
            [
             0.2222222222222222,
             "#7201a8"
            ],
            [
             0.3333333333333333,
             "#9c179e"
            ],
            [
             0.4444444444444444,
             "#bd3786"
            ],
            [
             0.5555555555555556,
             "#d8576b"
            ],
            [
             0.6666666666666666,
             "#ed7953"
            ],
            [
             0.7777777777777778,
             "#fb9f3a"
            ],
            [
             0.8888888888888888,
             "#fdca26"
            ],
            [
             1,
             "#f0f921"
            ]
           ]
          },
          "colorway": [
           "#636efa",
           "#EF553B",
           "#00cc96",
           "#ab63fa",
           "#FFA15A",
           "#19d3f3",
           "#FF6692",
           "#B6E880",
           "#FF97FF",
           "#FECB52"
          ],
          "font": {
           "color": "#2a3f5f"
          },
          "geo": {
           "bgcolor": "white",
           "lakecolor": "white",
           "landcolor": "#E5ECF6",
           "showlakes": true,
           "showland": true,
           "subunitcolor": "white"
          },
          "hoverlabel": {
           "align": "left"
          },
          "hovermode": "closest",
          "mapbox": {
           "style": "light"
          },
          "paper_bgcolor": "white",
          "plot_bgcolor": "#E5ECF6",
          "polar": {
           "angularaxis": {
            "gridcolor": "white",
            "linecolor": "white",
            "ticks": ""
           },
           "bgcolor": "#E5ECF6",
           "radialaxis": {
            "gridcolor": "white",
            "linecolor": "white",
            "ticks": ""
           }
          },
          "scene": {
           "xaxis": {
            "backgroundcolor": "#E5ECF6",
            "gridcolor": "white",
            "gridwidth": 2,
            "linecolor": "white",
            "showbackground": true,
            "ticks": "",
            "zerolinecolor": "white"
           },
           "yaxis": {
            "backgroundcolor": "#E5ECF6",
            "gridcolor": "white",
            "gridwidth": 2,
            "linecolor": "white",
            "showbackground": true,
            "ticks": "",
            "zerolinecolor": "white"
           },
           "zaxis": {
            "backgroundcolor": "#E5ECF6",
            "gridcolor": "white",
            "gridwidth": 2,
            "linecolor": "white",
            "showbackground": true,
            "ticks": "",
            "zerolinecolor": "white"
           }
          },
          "shapedefaults": {
           "line": {
            "color": "#2a3f5f"
           }
          },
          "ternary": {
           "aaxis": {
            "gridcolor": "white",
            "linecolor": "white",
            "ticks": ""
           },
           "baxis": {
            "gridcolor": "white",
            "linecolor": "white",
            "ticks": ""
           },
           "bgcolor": "#E5ECF6",
           "caxis": {
            "gridcolor": "white",
            "linecolor": "white",
            "ticks": ""
           }
          },
          "title": {
           "x": 0.05
          },
          "xaxis": {
           "automargin": true,
           "gridcolor": "white",
           "linecolor": "white",
           "ticks": "",
           "title": {
            "standoff": 15
           },
           "zerolinecolor": "white",
           "zerolinewidth": 2
          },
          "yaxis": {
           "automargin": true,
           "gridcolor": "white",
           "linecolor": "white",
           "ticks": "",
           "title": {
            "standoff": 15
           },
           "zerolinecolor": "white",
           "zerolinewidth": 2
          }
         }
        },
        "title": {
         "font": {
          "size": 24
         }
        }
       }
      }
     },
     "metadata": {},
     "output_type": "display_data"
    }
   ],
   "source": [
    "# sunburst plot\n",
    "data = dict(\n",
    "            field=['INVALID','VALID', 'BLANK DOB'],\n",
    "            part=['AGE', 'AGE', 'INVALID'],\n",
    "            validity=[invalid_pins, \n",
    "                      valid_pins, \n",
    "                    #   (validity_df['AGE_STATUS'] == 0).sum().sum(),\n",
    "                      (validity_df['AGE_STATUS'] == 'INVALID').sum().sum() - (validity_df['AGE_STATUS'] == 0).sum().sum()\n",
    "                     ]\n",
    ")\n",
    "\n",
    "fig = px.sunburst(\n",
    "    data,\n",
    "    names='field',\n",
    "    parents='part',\n",
    "    values='validity',\n",
    "    color='field',\n",
    "    color_discrete_map={'VALID':'green','BLANKS':'darkslategray', 'INVALID':'crimson', 'INVALID ENTRIES': 'gold'}\n",
    ")\n",
    "fig.update_layout(\n",
    "                    font={'size': 24},\n",
    "                    title={'font': {'size': 24}},\n",
    "                    margin=dict(t=0, b=0, l=0, r=0)\n",
    "                    )\n",
    "fig.show()"
   ]
  },
  {
   "cell_type": "code",
   "execution_count": 93,
   "id": "ba62cbcf",
   "metadata": {},
   "outputs": [],
   "source": [
    "blanks_ids = [x if y in ['S', 'F', 'I'] else 'ok' for x, y in zip(validity_df['CLNT_ID_REG_NO'].isnull(), validity_df['CLNT_TYPE'])]"
   ]
  },
  {
   "cell_type": "code",
   "execution_count": 94,
   "id": "ffafa715",
   "metadata": {},
   "outputs": [],
   "source": [
    "# nan is FLOAT\n",
    "\n",
    "inv = validity_df['PIN_STATUS'][(validity_df['PIN_STATUS'] == 'INVALID') == True]\n",
    "\n",
    "# cc = [x for x, y in zip(validity_df['CLNT_PIN'].loc[inv.index], inv)]\n",
    "# [('blank', x ) if type(x) == float else ('wrong_entry',type(x), x) for x in cc]\n",
    "\n",
    "# [('blank',x, y) if type(x) == float  else ('wrong entry', x, y) for x, y in zip(validity_df['CLNT_PIN'].loc[inv.index], inv)]\n"
   ]
  },
  {
   "cell_type": "code",
   "execution_count": 95,
   "id": "908b95a9",
   "metadata": {},
   "outputs": [
    {
     "data": {
      "text/plain": [
       "(6659, 6659)"
      ]
     },
     "execution_count": 95,
     "metadata": {},
     "output_type": "execute_result"
    }
   ],
   "source": [
    "dd = ['blank' if type(x) == float  else 'wrong entry' for x, y in zip(validity_df['CLNT_PIN'].loc[inv.index], inv)]\n",
    "\n",
    "\n",
    "from collections import Counter\n",
    "h = Counter(dd)\n",
    "hh = dict(h)\n",
    "hh['wrong entry'] + hh['blank'], inv.count()"
   ]
  },
  {
   "cell_type": "code",
   "execution_count": 96,
   "id": "4a797ea1",
   "metadata": {},
   "outputs": [
    {
     "data": {
      "text/plain": [
       "[('blank', 0, 'INVALID'),\n",
       " ('blank', 0, 'INVALID'),\n",
       " ('blank', 0, 'INVALID'),\n",
       " ('blank', 0, 'INVALID'),\n",
       " ('blank', 0, 'INVALID'),\n",
       " ('blank', 0, 'INVALID'),\n",
       " ('blank', 0, 'INVALID'),\n",
       " ('blank', 0, 'INVALID'),\n",
       " ('blank', 0, 'INVALID'),\n",
       " ('blank', 0, 'INVALID'),\n",
       " ('blank', 0, 'INVALID'),\n",
       " ('blank', 0, 'INVALID'),\n",
       " ('blank', 0, 'INVALID'),\n",
       " ('blank', 0, 'INVALID'),\n",
       " ('blank', 0, 'INVALID'),\n",
       " ('blank', 0, 'INVALID'),\n",
       " ('blank', 0, 'INVALID'),\n",
       " ('blank', 0, 'INVALID'),\n",
       " ('blank', 0, 'INVALID'),\n",
       " ('blank', 0, 'INVALID'),\n",
       " ('blank', 0, 'INVALID'),\n",
       " ('blank', 0, 'INVALID'),\n",
       " ('blank', 0, 'INVALID'),\n",
       " ('blank', 0, 'INVALID'),\n",
       " ('blank', 0, 'INVALID'),\n",
       " ('blank', 0, 'INVALID'),\n",
       " ('blank', 0, 'INVALID'),\n",
       " ('blank', 0, 'INVALID'),\n",
       " ('blank', 0, 'INVALID'),\n",
       " ('blank', 0, 'INVALID'),\n",
       " ('blank', 0, 'INVALID'),\n",
       " ('blank', 0, 'INVALID'),\n",
       " ('blank', 0, 'INVALID'),\n",
       " ('blank', 0, 'INVALID'),\n",
       " ('blank', 0, 'INVALID'),\n",
       " ('blank', 0, 'INVALID'),\n",
       " ('blank', 0, 'INVALID'),\n",
       " ('blank', 0, 'INVALID'),\n",
       " ('blank', 0, 'INVALID'),\n",
       " ('blank', 0, 'INVALID'),\n",
       " ('blank', 0, 'INVALID'),\n",
       " ('blank', 0, 'INVALID'),\n",
       " ('blank', 0, 'INVALID'),\n",
       " ('blank', 0, 'INVALID'),\n",
       " ('blank', 0, 'INVALID'),\n",
       " ('blank', 0, 'INVALID'),\n",
       " ('blank', 0, 'INVALID'),\n",
       " ('blank', 0, 'INVALID'),\n",
       " ('blank', 0, 'INVALID'),\n",
       " ('blank', 0, 'INVALID'),\n",
       " ('blank', 0, 'INVALID'),\n",
       " ('blank', 0, 'INVALID'),\n",
       " ('blank', 0, 'INVALID'),\n",
       " ('blank', 0, 'INVALID'),\n",
       " ('blank', 0, 'INVALID'),\n",
       " ('blank', 0, 'INVALID'),\n",
       " ('blank', 0, 'INVALID'),\n",
       " ('blank', 0, 'INVALID'),\n",
       " ('blank', 0, 'INVALID'),\n",
       " ('blank', 0, 'INVALID'),\n",
       " ('blank', 0, 'INVALID'),\n",
       " ('blank', 0, 'INVALID'),\n",
       " ('blank', 0, 'INVALID'),\n",
       " ('blank', 0, 'INVALID'),\n",
       " ('blank', 0, 'INVALID'),\n",
       " ('blank', 0, 'INVALID'),\n",
       " ('blank', 0, 'INVALID'),\n",
       " ('blank', 0, 'INVALID'),\n",
       " ('blank', 0, 'INVALID'),\n",
       " ('blank', 0, 'INVALID'),\n",
       " ('blank', 0, 'INVALID'),\n",
       " ('blank', 0, 'INVALID'),\n",
       " ('blank', 0, 'INVALID'),\n",
       " ('blank', 0, 'INVALID'),\n",
       " ('blank', 0, 'INVALID'),\n",
       " ('blank', 0, 'INVALID'),\n",
       " ('blank', 0, 'INVALID'),\n",
       " ('blank', 0, 'INVALID'),\n",
       " ('blank', 0, 'INVALID'),\n",
       " ('blank', 0, 'INVALID'),\n",
       " ('blank', 0, 'INVALID'),\n",
       " ('blank', 0, 'INVALID'),\n",
       " ('blank', 0, 'INVALID'),\n",
       " ('blank', 0, 'INVALID'),\n",
       " ('blank', 0, 'INVALID'),\n",
       " ('blank', 0, 'INVALID'),\n",
       " ('blank', 0, 'INVALID'),\n",
       " ('blank', 0, 'INVALID'),\n",
       " ('blank', 0, 'INVALID'),\n",
       " ('blank', 0, 'INVALID'),\n",
       " ('blank', 0, 'INVALID'),\n",
       " ('blank', 0, 'INVALID'),\n",
       " ('blank', 0, 'INVALID'),\n",
       " ('blank', 0, 'INVALID'),\n",
       " ('blank', 0, 'INVALID'),\n",
       " ('blank', 0, 'INVALID'),\n",
       " ('blank', 0, 'INVALID'),\n",
       " ('blank', 0, 'INVALID'),\n",
       " ('blank', 0, 'INVALID'),\n",
       " ('blank', 0, 'INVALID'),\n",
       " ('blank', 0, 'INVALID'),\n",
       " ('blank', 0, 'INVALID'),\n",
       " ('blank', 0, 'INVALID'),\n",
       " ('blank', 0, 'INVALID'),\n",
       " ('blank', 0, 'INVALID'),\n",
       " ('blank', 0, 'INVALID'),\n",
       " ('blank', 0, 'INVALID'),\n",
       " ('blank', 0, 'INVALID'),\n",
       " ('blank', 0, 'INVALID'),\n",
       " ('blank', 0, 'INVALID'),\n",
       " ('blank', 0, 'INVALID'),\n",
       " ('blank', 0, 'INVALID'),\n",
       " ('blank', 0, 'INVALID'),\n",
       " ('blank', 0, 'INVALID'),\n",
       " ('blank', 0, 'INVALID'),\n",
       " ('blank', 0, 'INVALID'),\n",
       " ('blank', 0, 'INVALID'),\n",
       " ('blank', 0, 'INVALID'),\n",
       " ('blank', 0, 'INVALID'),\n",
       " ('blank', 0, 'INVALID'),\n",
       " ('blank', 0, 'INVALID'),\n",
       " ('blank', 0, 'INVALID'),\n",
       " ('blank', 0, 'INVALID'),\n",
       " ('blank', 0, 'INVALID'),\n",
       " ('blank', 0, 'INVALID'),\n",
       " ('blank', 0, 'INVALID'),\n",
       " ('blank', 0, 'INVALID'),\n",
       " ('blank', 0, 'INVALID'),\n",
       " ('blank', 0, 'INVALID'),\n",
       " ('blank', 0, 'INVALID'),\n",
       " ('blank', 0, 'INVALID'),\n",
       " ('blank', 0, 'INVALID'),\n",
       " ('blank', 0, 'INVALID'),\n",
       " ('blank', 0, 'INVALID'),\n",
       " ('blank', 0, 'INVALID'),\n",
       " ('blank', 0, 'INVALID'),\n",
       " ('blank', 0, 'INVALID'),\n",
       " ('blank', 0, 'INVALID'),\n",
       " ('blank', 0, 'INVALID'),\n",
       " ('blank', 0, 'INVALID'),\n",
       " ('blank', 0, 'INVALID'),\n",
       " ('blank', 0, 'INVALID'),\n",
       " ('blank', 0, 'INVALID'),\n",
       " ('blank', 0, 'INVALID'),\n",
       " ('blank', 0, 'INVALID'),\n",
       " ('blank', 0, 'INVALID'),\n",
       " ('blank', 0, 'INVALID'),\n",
       " ('blank', 0, 'INVALID'),\n",
       " ('blank', 0, 'INVALID'),\n",
       " ('blank', 0, 'INVALID'),\n",
       " ('blank', 0, 'INVALID'),\n",
       " ('blank', 0, 'INVALID'),\n",
       " ('blank', 0, 'INVALID'),\n",
       " ('blank', 0, 'INVALID'),\n",
       " ('blank', 0, 'INVALID'),\n",
       " ('blank', 0, 'INVALID'),\n",
       " ('blank', 0, 'INVALID'),\n",
       " ('blank', 0, 'INVALID'),\n",
       " ('blank', 0, 'INVALID'),\n",
       " ('blank', 0, 'INVALID'),\n",
       " ('blank', 0, 'INVALID'),\n",
       " ('blank', 0, 'INVALID'),\n",
       " ('blank', 0, 'INVALID'),\n",
       " ('blank', 0, 'INVALID'),\n",
       " ('blank', 0, 'INVALID'),\n",
       " ('blank', 0, 'INVALID'),\n",
       " ('blank', 0, 'INVALID'),\n",
       " ('blank', 0, 'INVALID'),\n",
       " ('blank', 0, 'INVALID'),\n",
       " ('blank', 0, 'INVALID'),\n",
       " ('blank', 0, 'INVALID'),\n",
       " ('blank', 0, 'INVALID'),\n",
       " ('blank', 0, 'INVALID'),\n",
       " ('blank', 0, 'INVALID'),\n",
       " ('blank', 0, 'INVALID'),\n",
       " ('blank', 0, 'INVALID'),\n",
       " ('blank', 0, 'INVALID'),\n",
       " ('blank', 0, 'INVALID'),\n",
       " ('blank', 0, 'INVALID'),\n",
       " ('blank', 0, 'INVALID'),\n",
       " ('blank', 0, 'INVALID'),\n",
       " ('blank', 0, 'INVALID'),\n",
       " ('blank', 0, 'INVALID'),\n",
       " ('blank', 0, 'INVALID'),\n",
       " ('blank', 0, 'INVALID'),\n",
       " ('blank', 0, 'INVALID'),\n",
       " ('blank', 0, 'INVALID'),\n",
       " ('blank', 0, 'INVALID'),\n",
       " ('blank', 0, 'INVALID'),\n",
       " ('blank', 0, 'INVALID'),\n",
       " ('blank', 0, 'INVALID'),\n",
       " ('blank', 0, 'INVALID'),\n",
       " ('blank', 0, 'INVALID'),\n",
       " ('blank', 0, 'INVALID'),\n",
       " ('blank', 0, 'INVALID'),\n",
       " ('blank', 0, 'INVALID'),\n",
       " ('blank', 0, 'INVALID'),\n",
       " ('blank', 0, 'INVALID'),\n",
       " ('blank', 0, 'INVALID'),\n",
       " ('blank', 0, 'INVALID'),\n",
       " ('blank', 0, 'INVALID'),\n",
       " ('blank', 0, 'INVALID'),\n",
       " ('blank', 0, 'INVALID'),\n",
       " ('blank', 0, 'INVALID'),\n",
       " ('blank', 0, 'INVALID'),\n",
       " ('blank', 0, 'INVALID'),\n",
       " ('blank', 0, 'INVALID'),\n",
       " ('blank', 0, 'INVALID'),\n",
       " ('blank', 0, 'INVALID'),\n",
       " ('blank', 0, 'INVALID'),\n",
       " ('blank', 0, 'INVALID'),\n",
       " ('blank', 0, 'INVALID'),\n",
       " ('blank', 0, 'INVALID'),\n",
       " ('blank', 0, 'INVALID'),\n",
       " ('blank', 0, 'INVALID'),\n",
       " ('blank', 0, 'INVALID'),\n",
       " ('blank', 0, 'INVALID'),\n",
       " ('blank', 0, 'INVALID'),\n",
       " ('blank', 0, 'INVALID'),\n",
       " ('blank', 0, 'INVALID'),\n",
       " ('blank', 0, 'INVALID'),\n",
       " ('blank', 0, 'INVALID'),\n",
       " ('blank', 0, 'INVALID'),\n",
       " ('blank', 0, 'INVALID'),\n",
       " ('blank', 0, 'INVALID'),\n",
       " ('blank', 0, 'INVALID'),\n",
       " ('blank', 0, 'INVALID'),\n",
       " ('blank', 0, 'INVALID'),\n",
       " ('blank', 0, 'INVALID'),\n",
       " ('blank', 0, 'INVALID'),\n",
       " ('blank', 0, 'INVALID'),\n",
       " ('blank', 0, 'INVALID'),\n",
       " ('blank', 0, 'INVALID'),\n",
       " ('blank', 0, 'INVALID'),\n",
       " ('blank', 0, 'INVALID'),\n",
       " ('blank', 0, 'INVALID'),\n",
       " ('blank', 0, 'INVALID'),\n",
       " ('blank', 0, 'INVALID'),\n",
       " ('blank', 0, 'INVALID'),\n",
       " ('blank', 0, 'INVALID'),\n",
       " ('blank', 0, 'INVALID'),\n",
       " ('blank', 0, 'INVALID'),\n",
       " ('blank', 0, 'INVALID'),\n",
       " ('blank', 0, 'INVALID'),\n",
       " ('blank', 0, 'INVALID'),\n",
       " ('blank', 0, 'INVALID'),\n",
       " ('blank', 0, 'INVALID'),\n",
       " ('blank', 0, 'INVALID'),\n",
       " ('blank', 0, 'INVALID'),\n",
       " ('blank', 0, 'INVALID'),\n",
       " ('blank', 0, 'INVALID'),\n",
       " ('blank', 0, 'INVALID'),\n",
       " ('blank', 0, 'INVALID'),\n",
       " ('blank', 0, 'INVALID'),\n",
       " ('blank', 0, 'INVALID'),\n",
       " ('blank', 0, 'INVALID'),\n",
       " ('blank', 0, 'INVALID'),\n",
       " ('blank', 0, 'INVALID'),\n",
       " ('blank', 0, 'INVALID'),\n",
       " ('blank', 0, 'INVALID'),\n",
       " ('blank', 0, 'INVALID'),\n",
       " ('blank', 0, 'INVALID'),\n",
       " ('blank', 0, 'INVALID'),\n",
       " ('blank', 0, 'INVALID'),\n",
       " ('blank', 0, 'INVALID'),\n",
       " ('blank', 0, 'INVALID'),\n",
       " ('blank', 0, 'INVALID'),\n",
       " ('blank', 0, 'INVALID'),\n",
       " ('blank', 0, 'INVALID'),\n",
       " ('blank', 0, 'INVALID'),\n",
       " ('blank', 0, 'INVALID'),\n",
       " ('blank', 0, 'INVALID'),\n",
       " ('blank', 0, 'INVALID'),\n",
       " ('blank', 0, 'INVALID'),\n",
       " ('blank', 0, 'INVALID'),\n",
       " ('blank', 0, 'INVALID'),\n",
       " ('blank', 0, 'INVALID'),\n",
       " ('blank', 0, 'INVALID'),\n",
       " ('blank', 0, 'INVALID'),\n",
       " ('blank', 0, 'INVALID'),\n",
       " ('blank', 0, 'INVALID'),\n",
       " ('blank', 0, 'INVALID'),\n",
       " ('blank', 0, 'INVALID'),\n",
       " ('blank', 0, 'INVALID'),\n",
       " ('blank', 0, 'INVALID'),\n",
       " ('blank', 0, 'INVALID'),\n",
       " ('blank', 0, 'INVALID'),\n",
       " ('blank', 0, 'INVALID'),\n",
       " ('blank', 0, 'INVALID'),\n",
       " ('blank', 0, 'INVALID'),\n",
       " ('blank', 0, 'INVALID'),\n",
       " ('blank', 0, 'INVALID'),\n",
       " ('blank', 0, 'INVALID'),\n",
       " ('blank', 0, 'INVALID'),\n",
       " ('blank', 0, 'INVALID'),\n",
       " ('blank', 0, 'INVALID'),\n",
       " ('blank', 0, 'INVALID'),\n",
       " ('blank', 0, 'INVALID'),\n",
       " ('blank', 0, 'INVALID'),\n",
       " ('blank', 0, 'INVALID'),\n",
       " ('blank', 0, 'INVALID'),\n",
       " ('blank', 0, 'INVALID'),\n",
       " ('blank', 0, 'INVALID'),\n",
       " ('blank', 0, 'INVALID'),\n",
       " ('blank', 0, 'INVALID'),\n",
       " ('blank', 0, 'INVALID'),\n",
       " ('blank', 0, 'INVALID'),\n",
       " ('blank', 0, 'INVALID'),\n",
       " ('blank', 0, 'INVALID'),\n",
       " ('blank', 0, 'INVALID'),\n",
       " ('blank', 0, 'INVALID'),\n",
       " ('blank', 0, 'INVALID'),\n",
       " ('blank', 0, 'INVALID'),\n",
       " ('blank', 0, 'INVALID'),\n",
       " ('blank', 0, 'INVALID'),\n",
       " ('blank', 0, 'INVALID'),\n",
       " ('blank', 0, 'INVALID'),\n",
       " ('blank', 0, 'INVALID'),\n",
       " ('blank', 0, 'INVALID'),\n",
       " ('blank', 0, 'INVALID'),\n",
       " ('blank', 0, 'INVALID'),\n",
       " ('blank', 0, 'INVALID'),\n",
       " ('blank', 0, 'INVALID'),\n",
       " ('blank', 0, 'INVALID'),\n",
       " ('blank', 0, 'INVALID'),\n",
       " ('blank', 0, 'INVALID'),\n",
       " ('blank', 0, 'INVALID'),\n",
       " ('blank', 0, 'INVALID'),\n",
       " ('blank', 0, 'INVALID'),\n",
       " ('blank', 0, 'INVALID'),\n",
       " ('blank', 0, 'INVALID'),\n",
       " ('blank', 0, 'INVALID'),\n",
       " ('blank', 0, 'INVALID'),\n",
       " ('blank', 0, 'INVALID'),\n",
       " ('blank', 0, 'INVALID'),\n",
       " ('blank', 0, 'INVALID'),\n",
       " ('blank', 0, 'INVALID'),\n",
       " ('blank', 0, 'INVALID'),\n",
       " ('blank', 0, 'INVALID'),\n",
       " ('blank', 0, 'INVALID'),\n",
       " ('blank', 0, 'INVALID'),\n",
       " ('blank', 0, 'INVALID'),\n",
       " ('blank', 0, 'INVALID'),\n",
       " ('blank', 0, 'INVALID'),\n",
       " ('blank', 0, 'INVALID'),\n",
       " ('blank', 0, 'INVALID'),\n",
       " ('blank', 0, 'INVALID'),\n",
       " ('blank', 0, 'INVALID'),\n",
       " ('blank', 0, 'INVALID'),\n",
       " ('blank', 0, 'INVALID'),\n",
       " ('blank', 0, 'INVALID'),\n",
       " ('blank', 0, 'INVALID'),\n",
       " ('blank', 0, 'INVALID'),\n",
       " ('blank', 0, 'INVALID'),\n",
       " ('blank', 0, 'INVALID'),\n",
       " ('blank', 0, 'INVALID'),\n",
       " ('blank', 0, 'INVALID'),\n",
       " ('blank', 0, 'INVALID'),\n",
       " ('blank', 0, 'INVALID'),\n",
       " ('blank', 0, 'INVALID'),\n",
       " ('blank', 0, 'INVALID'),\n",
       " ('blank', 0, 'INVALID'),\n",
       " ('blank', 0, 'INVALID'),\n",
       " ('blank', 0, 'INVALID'),\n",
       " ('blank', 0, 'INVALID'),\n",
       " ('blank', 0, 'INVALID'),\n",
       " ('blank', 0, 'INVALID'),\n",
       " ('blank', 0, 'INVALID'),\n",
       " ('blank', 0, 'INVALID'),\n",
       " ('blank', 0, 'INVALID'),\n",
       " ('blank', 0, 'INVALID'),\n",
       " ('blank', 0, 'INVALID'),\n",
       " ('blank', 0, 'INVALID'),\n",
       " ('blank', 0, 'INVALID'),\n",
       " ('blank', 0, 'INVALID'),\n",
       " ('blank', 0, 'INVALID'),\n",
       " ('blank', 0, 'INVALID'),\n",
       " ('blank', 0, 'INVALID'),\n",
       " ('blank', 0, 'INVALID'),\n",
       " ('blank', 0, 'INVALID'),\n",
       " ('blank', 0, 'INVALID'),\n",
       " ('blank', 0, 'INVALID'),\n",
       " ('blank', 0, 'INVALID'),\n",
       " ('blank', 0, 'INVALID'),\n",
       " ('blank', 0, 'INVALID'),\n",
       " ('blank', 0, 'INVALID'),\n",
       " ('blank', 0, 'INVALID'),\n",
       " ('blank', 0, 'INVALID'),\n",
       " ('blank', 0, 'INVALID'),\n",
       " ('blank', 0, 'INVALID'),\n",
       " ('blank', 0, 'INVALID'),\n",
       " ('blank', 0, 'INVALID'),\n",
       " ('blank', 0, 'INVALID'),\n",
       " ('blank', 0, 'INVALID'),\n",
       " ('blank', 0, 'INVALID'),\n",
       " ('blank', 0, 'INVALID'),\n",
       " ('blank', 0, 'INVALID'),\n",
       " ('blank', 0, 'INVALID'),\n",
       " ('blank', 0, 'INVALID'),\n",
       " ('blank', 0, 'INVALID'),\n",
       " ('blank', 0, 'INVALID'),\n",
       " ('blank', 0, 'INVALID'),\n",
       " ('blank', 0, 'INVALID'),\n",
       " ('blank', 0, 'INVALID'),\n",
       " ('blank', 0, 'INVALID'),\n",
       " ('blank', 0, 'INVALID'),\n",
       " ('blank', 0, 'INVALID'),\n",
       " ('blank', 0, 'INVALID'),\n",
       " ('blank', 0, 'INVALID'),\n",
       " ('blank', 0, 'INVALID'),\n",
       " ('blank', 0, 'INVALID'),\n",
       " ('blank', 0, 'INVALID'),\n",
       " ('blank', 0, 'INVALID'),\n",
       " ('blank', 0, 'INVALID'),\n",
       " ('blank', 0, 'INVALID'),\n",
       " ('blank', 0, 'INVALID'),\n",
       " ('blank', 0, 'INVALID'),\n",
       " ('blank', 0, 'INVALID'),\n",
       " ('blank', 0, 'INVALID'),\n",
       " ('blank', 0, 'INVALID'),\n",
       " ('blank', 0, 'INVALID'),\n",
       " ('blank', 0, 'INVALID'),\n",
       " ('blank', 0, 'INVALID'),\n",
       " ('blank', 0, 'INVALID'),\n",
       " ('blank', 0, 'INVALID'),\n",
       " ('blank', 0, 'INVALID'),\n",
       " ('blank', 0, 'INVALID'),\n",
       " ('blank', 0, 'INVALID'),\n",
       " ('blank', 0, 'INVALID'),\n",
       " ('blank', 0, 'INVALID'),\n",
       " ('blank', 0, 'INVALID'),\n",
       " ('blank', 0, 'INVALID'),\n",
       " ('blank', 0, 'INVALID'),\n",
       " ('blank', 0, 'INVALID'),\n",
       " ('blank', 0, 'INVALID'),\n",
       " ('blank', 0, 'INVALID'),\n",
       " ('blank', 0, 'INVALID'),\n",
       " ('blank', 0, 'INVALID'),\n",
       " ('blank', 0, 'INVALID'),\n",
       " ('blank', 0, 'INVALID'),\n",
       " ('blank', 0, 'INVALID'),\n",
       " ('blank', 0, 'INVALID'),\n",
       " ('blank', 0, 'INVALID'),\n",
       " ('blank', 0, 'INVALID'),\n",
       " ('blank', 0, 'INVALID'),\n",
       " ('blank', 0, 'INVALID'),\n",
       " ('blank', 0, 'INVALID'),\n",
       " ('blank', 0, 'INVALID'),\n",
       " ('blank', 0, 'INVALID'),\n",
       " ('blank', 0, 'INVALID'),\n",
       " ('blank', 0, 'INVALID'),\n",
       " ('blank', 0, 'INVALID'),\n",
       " ('blank', 0, 'INVALID'),\n",
       " ('blank', 0, 'INVALID'),\n",
       " ('blank', 0, 'INVALID'),\n",
       " ('blank', 0, 'INVALID'),\n",
       " ('blank', 0, 'INVALID'),\n",
       " ('blank', 0, 'INVALID'),\n",
       " ('blank', 0, 'INVALID'),\n",
       " ('blank', 0, 'INVALID'),\n",
       " ('blank', 0, 'INVALID'),\n",
       " ('blank', 0, 'INVALID'),\n",
       " ('blank', 0, 'INVALID'),\n",
       " ('blank', 0, 'INVALID'),\n",
       " ('blank', 0, 'INVALID'),\n",
       " ('blank', 0, 'INVALID'),\n",
       " ('blank', 0, 'INVALID'),\n",
       " ('blank', 0, 'INVALID'),\n",
       " ('blank', 0, 'INVALID'),\n",
       " ('blank', 0, 'INVALID'),\n",
       " ('blank', 0, 'INVALID'),\n",
       " ('blank', 0, 'INVALID'),\n",
       " ('blank', 0, 'INVALID'),\n",
       " ('blank', 0, 'INVALID'),\n",
       " ('blank', 0, 'INVALID'),\n",
       " ('blank', 0, 'INVALID'),\n",
       " ('blank', 0, 'INVALID'),\n",
       " ('blank', 0, 'INVALID'),\n",
       " ('blank', 0, 'INVALID'),\n",
       " ('blank', 0, 'INVALID'),\n",
       " ('blank', 0, 'INVALID'),\n",
       " ('blank', 0, 'INVALID'),\n",
       " ('blank', 0, 'INVALID'),\n",
       " ('blank', 0, 'INVALID'),\n",
       " ('blank', 0, 'INVALID'),\n",
       " ('blank', 0, 'INVALID'),\n",
       " ('blank', 0, 'INVALID'),\n",
       " ('blank', 0, 'INVALID'),\n",
       " ('blank', 0, 'INVALID'),\n",
       " ('blank', 0, 'INVALID'),\n",
       " ('blank', 0, 'INVALID'),\n",
       " ('blank', 0, 'INVALID'),\n",
       " ('blank', 0, 'INVALID'),\n",
       " ('blank', 0, 'INVALID'),\n",
       " ('blank', 0, 'INVALID'),\n",
       " ('blank', 0, 'INVALID'),\n",
       " ('blank', 0, 'INVALID'),\n",
       " ('blank', 0, 'INVALID'),\n",
       " ('blank', 0, 'INVALID'),\n",
       " ('blank', 0, 'INVALID'),\n",
       " ('blank', 0, 'INVALID'),\n",
       " ('blank', 0, 'INVALID'),\n",
       " ('blank', 0, 'INVALID'),\n",
       " ('blank', 0, 'INVALID'),\n",
       " ('blank', 0, 'INVALID'),\n",
       " ('blank', 0, 'INVALID'),\n",
       " ('blank', 0, 'INVALID'),\n",
       " ('blank', 0, 'INVALID'),\n",
       " ('blank', 0, 'INVALID'),\n",
       " ('blank', 0, 'INVALID'),\n",
       " ('blank', 0, 'INVALID'),\n",
       " ('blank', 0, 'INVALID'),\n",
       " ('blank', 0, 'INVALID'),\n",
       " ('blank', 0, 'INVALID'),\n",
       " ('blank', 0, 'INVALID'),\n",
       " ('blank', 0, 'INVALID'),\n",
       " ('blank', 0, 'INVALID'),\n",
       " ('blank', 0, 'INVALID'),\n",
       " ('blank', 0, 'INVALID'),\n",
       " ('blank', 0, 'INVALID'),\n",
       " ('blank', 0, 'INVALID'),\n",
       " ('blank', 0, 'INVALID'),\n",
       " ('blank', 0, 'INVALID'),\n",
       " ('blank', 0, 'INVALID'),\n",
       " ('blank', 0, 'INVALID'),\n",
       " ('blank', 0, 'INVALID'),\n",
       " ('blank', 0, 'INVALID'),\n",
       " ('blank', 0, 'INVALID'),\n",
       " ('blank', 0, 'INVALID'),\n",
       " ('blank', 0, 'INVALID'),\n",
       " ('blank', 0, 'INVALID'),\n",
       " ('blank', 0, 'INVALID'),\n",
       " ('blank', 0, 'INVALID'),\n",
       " ('blank', 0, 'INVALID'),\n",
       " ('blank', 0, 'INVALID'),\n",
       " ('blank', 0, 'INVALID'),\n",
       " ('blank', 0, 'INVALID'),\n",
       " ('blank', 0, 'INVALID'),\n",
       " ('blank', 0, 'INVALID'),\n",
       " ('blank', 0, 'INVALID'),\n",
       " ('blank', 0, 'INVALID'),\n",
       " ('blank', 0, 'INVALID'),\n",
       " ('blank', 0, 'INVALID'),\n",
       " ('blank', 0, 'INVALID'),\n",
       " ('blank', 0, 'INVALID'),\n",
       " ('blank', 0, 'INVALID'),\n",
       " ('blank', 0, 'INVALID'),\n",
       " ('blank', 0, 'INVALID'),\n",
       " ('blank', 0, 'INVALID'),\n",
       " ('blank', 0, 'INVALID'),\n",
       " ('blank', 0, 'INVALID'),\n",
       " ('blank', 0, 'INVALID'),\n",
       " ('blank', 0, 'INVALID'),\n",
       " ('blank', 0, 'INVALID'),\n",
       " ('blank', 0, 'INVALID'),\n",
       " ('blank', 0, 'INVALID'),\n",
       " ('blank', 0, 'INVALID'),\n",
       " ('blank', 0, 'INVALID'),\n",
       " ('blank', 0, 'INVALID'),\n",
       " ('blank', 0, 'INVALID'),\n",
       " ('blank', 0, 'INVALID'),\n",
       " ('blank', 0, 'INVALID'),\n",
       " ('blank', 0, 'INVALID'),\n",
       " ('blank', 0, 'INVALID'),\n",
       " ('blank', 0, 'INVALID'),\n",
       " ('blank', 0, 'INVALID'),\n",
       " ('blank', 0, 'INVALID'),\n",
       " ('blank', 0, 'INVALID'),\n",
       " ('blank', 0, 'INVALID'),\n",
       " ('blank', 0, 'INVALID'),\n",
       " ('blank', 0, 'INVALID'),\n",
       " ('blank', 0, 'INVALID'),\n",
       " ('blank', 0, 'INVALID'),\n",
       " ('blank', 0, 'INVALID'),\n",
       " ('blank', 0, 'INVALID'),\n",
       " ('blank', 0, 'INVALID'),\n",
       " ('blank', 0, 'INVALID'),\n",
       " ('blank', 0, 'INVALID'),\n",
       " ('blank', 0, 'INVALID'),\n",
       " ('blank', 0, 'INVALID'),\n",
       " ('blank', 0, 'INVALID'),\n",
       " ('blank', 0, 'INVALID'),\n",
       " ('blank', 0, 'INVALID'),\n",
       " ('blank', 0, 'INVALID'),\n",
       " ('blank', 0, 'INVALID'),\n",
       " ('blank', 0, 'INVALID'),\n",
       " ('blank', 0, 'INVALID'),\n",
       " ('blank', 0, 'INVALID'),\n",
       " ('blank', 0, 'INVALID'),\n",
       " ('blank', 0, 'INVALID'),\n",
       " ('blank', 0, 'INVALID'),\n",
       " ('blank', 0, 'INVALID'),\n",
       " ('blank', 0, 'INVALID'),\n",
       " ('blank', 0, 'INVALID'),\n",
       " ('blank', 0, 'INVALID'),\n",
       " ('blank', 0, 'INVALID'),\n",
       " ('blank', 0, 'INVALID'),\n",
       " ('blank', 0, 'INVALID'),\n",
       " ('blank', 0, 'INVALID'),\n",
       " ('blank', 0, 'INVALID'),\n",
       " ('blank', 0, 'INVALID'),\n",
       " ('blank', 0, 'INVALID'),\n",
       " ('blank', 0, 'INVALID'),\n",
       " ('blank', 0, 'INVALID'),\n",
       " ('blank', 0, 'INVALID'),\n",
       " ('blank', 0, 'INVALID'),\n",
       " ('blank', 0, 'INVALID'),\n",
       " ('blank', 0, 'INVALID'),\n",
       " ('blank', 0, 'INVALID'),\n",
       " ('blank', 0, 'INVALID'),\n",
       " ('blank', 0, 'INVALID'),\n",
       " ('blank', 0, 'INVALID'),\n",
       " ('blank', 0, 'INVALID'),\n",
       " ('blank', 0, 'INVALID'),\n",
       " ('blank', 0, 'INVALID'),\n",
       " ('blank', 0, 'INVALID'),\n",
       " ('blank', 0, 'INVALID'),\n",
       " ('blank', 0, 'INVALID'),\n",
       " ('blank', 0, 'INVALID'),\n",
       " ('blank', 0, 'INVALID'),\n",
       " ('blank', 0, 'INVALID'),\n",
       " ('blank', 0, 'INVALID'),\n",
       " ('blank', 0, 'INVALID'),\n",
       " ('blank', 0, 'INVALID'),\n",
       " ('blank', 0, 'INVALID'),\n",
       " ('blank', 0, 'INVALID'),\n",
       " ('blank', 0, 'INVALID'),\n",
       " ('blank', 0, 'INVALID'),\n",
       " ('blank', 0, 'INVALID'),\n",
       " ('blank', 0, 'INVALID'),\n",
       " ('blank', 0, 'INVALID'),\n",
       " ('blank', 0, 'INVALID'),\n",
       " ('blank', 0, 'INVALID'),\n",
       " ('blank', 0, 'INVALID'),\n",
       " ('blank', 0, 'INVALID'),\n",
       " ('blank', 0, 'INVALID'),\n",
       " ('blank', 0, 'INVALID'),\n",
       " ('blank', 0, 'INVALID'),\n",
       " ('blank', 0, 'INVALID'),\n",
       " ('blank', 0, 'INVALID'),\n",
       " ('blank', 0, 'INVALID'),\n",
       " ('blank', 0, 'INVALID'),\n",
       " ('blank', 0, 'INVALID'),\n",
       " ('blank', 0, 'INVALID'),\n",
       " ('blank', 0, 'INVALID'),\n",
       " ('blank', 0, 'INVALID'),\n",
       " ('blank', 0, 'INVALID'),\n",
       " ('blank', 0, 'INVALID'),\n",
       " ('blank', 0, 'INVALID'),\n",
       " ('blank', 0, 'INVALID'),\n",
       " ('blank', 0, 'INVALID'),\n",
       " ('blank', 0, 'INVALID'),\n",
       " ('blank', 0, 'INVALID'),\n",
       " ('blank', 0, 'INVALID'),\n",
       " ('blank', 0, 'INVALID'),\n",
       " ('blank', 0, 'INVALID'),\n",
       " ('blank', 0, 'INVALID'),\n",
       " ('blank', 0, 'INVALID'),\n",
       " ('blank', 0, 'INVALID'),\n",
       " ('blank', 0, 'INVALID'),\n",
       " ('blank', 0, 'INVALID'),\n",
       " ('blank', 0, 'INVALID'),\n",
       " ('blank', 0, 'INVALID'),\n",
       " ('blank', 0, 'INVALID'),\n",
       " ('blank', 0, 'INVALID'),\n",
       " ('blank', 0, 'INVALID'),\n",
       " ('blank', 0, 'INVALID'),\n",
       " ('blank', 0, 'INVALID'),\n",
       " ('blank', 0, 'INVALID'),\n",
       " ('blank', 0, 'INVALID'),\n",
       " ('blank', 0, 'INVALID'),\n",
       " ('blank', 0, 'INVALID'),\n",
       " ('blank', 0, 'INVALID'),\n",
       " ('blank', 0, 'INVALID'),\n",
       " ('blank', 0, 'INVALID'),\n",
       " ('blank', 0, 'INVALID'),\n",
       " ('blank', 0, 'INVALID'),\n",
       " ('blank', 0, 'INVALID'),\n",
       " ('blank', 0, 'INVALID'),\n",
       " ('blank', 0, 'INVALID'),\n",
       " ('blank', 0, 'INVALID'),\n",
       " ('blank', 0, 'INVALID'),\n",
       " ('blank', 0, 'INVALID'),\n",
       " ('blank', 0, 'INVALID'),\n",
       " ('blank', 0, 'INVALID'),\n",
       " ('blank', 0, 'INVALID'),\n",
       " ('blank', 0, 'INVALID'),\n",
       " ('blank', 0, 'INVALID'),\n",
       " ('blank', 0, 'INVALID'),\n",
       " ('blank', 0, 'INVALID'),\n",
       " ('blank', 0, 'INVALID'),\n",
       " ('blank', 0, 'INVALID'),\n",
       " ('blank', 0, 'INVALID'),\n",
       " ('blank', 0, 'INVALID'),\n",
       " ('blank', 0, 'INVALID'),\n",
       " ('blank', 0, 'INVALID'),\n",
       " ('blank', 0, 'INVALID'),\n",
       " ('blank', 0, 'INVALID'),\n",
       " ('blank', 0, 'INVALID'),\n",
       " ('blank', 0, 'INVALID'),\n",
       " ('blank', 0, 'INVALID'),\n",
       " ('blank', 0, 'INVALID'),\n",
       " ('blank', 0, 'INVALID'),\n",
       " ('blank', 0, 'INVALID'),\n",
       " ('blank', 0, 'INVALID'),\n",
       " ('blank', 0, 'INVALID'),\n",
       " ('blank', 0, 'INVALID'),\n",
       " ('blank', 0, 'INVALID'),\n",
       " ('blank', 0, 'INVALID'),\n",
       " ('blank', 0, 'INVALID'),\n",
       " ('blank', 0, 'INVALID'),\n",
       " ('blank', 0, 'INVALID'),\n",
       " ('blank', 0, 'INVALID'),\n",
       " ('blank', 0, 'INVALID'),\n",
       " ('blank', 0, 'INVALID'),\n",
       " ('blank', 0, 'INVALID'),\n",
       " ('blank', 0, 'INVALID'),\n",
       " ('blank', 0, 'INVALID'),\n",
       " ('blank', 0, 'INVALID'),\n",
       " ('blank', 0, 'INVALID'),\n",
       " ('blank', 0, 'INVALID'),\n",
       " ('blank', 0, 'INVALID'),\n",
       " ('blank', 0, 'INVALID'),\n",
       " ('blank', 0, 'INVALID'),\n",
       " ('blank', 0, 'INVALID'),\n",
       " ('blank', 0, 'INVALID'),\n",
       " ('blank', 0, 'INVALID'),\n",
       " ('blank', 0, 'INVALID'),\n",
       " ('blank', 0, 'INVALID'),\n",
       " ('blank', 0, 'INVALID'),\n",
       " ('blank', 0, 'INVALID'),\n",
       " ('blank', 0, 'INVALID'),\n",
       " ('blank', 0, 'INVALID'),\n",
       " ('blank', 0, 'INVALID'),\n",
       " ('blank', 0, 'INVALID'),\n",
       " ('blank', 0, 'INVALID'),\n",
       " ('blank', 0, 'INVALID'),\n",
       " ('blank', 0, 'INVALID'),\n",
       " ('blank', 0, 'INVALID'),\n",
       " ('blank', 0, 'INVALID'),\n",
       " ('blank', 0, 'INVALID'),\n",
       " ('blank', 0, 'INVALID'),\n",
       " ('blank', 0, 'INVALID'),\n",
       " ('blank', 0, 'INVALID'),\n",
       " ('blank', 0, 'INVALID'),\n",
       " ('blank', 0, 'INVALID'),\n",
       " ('blank', 0, 'INVALID'),\n",
       " ('blank', 0, 'INVALID'),\n",
       " ('blank', 0, 'INVALID'),\n",
       " ('blank', 0, 'INVALID'),\n",
       " ('blank', 0, 'INVALID'),\n",
       " ('blank', 0, 'INVALID'),\n",
       " ('blank', 0, 'INVALID'),\n",
       " ('blank', 0, 'INVALID'),\n",
       " ('blank', 0, 'INVALID'),\n",
       " ('blank', 0, 'INVALID'),\n",
       " ('blank', 0, 'INVALID'),\n",
       " ('blank', 0, 'INVALID'),\n",
       " ('blank', 0, 'INVALID'),\n",
       " ('blank', 0, 'INVALID'),\n",
       " ('blank', 0, 'INVALID'),\n",
       " ('blank', 0, 'INVALID'),\n",
       " ('blank', 0, 'INVALID'),\n",
       " ('blank', 0, 'INVALID'),\n",
       " ('blank', 0, 'INVALID'),\n",
       " ('blank', 0, 'INVALID'),\n",
       " ('blank', 0, 'INVALID'),\n",
       " ('blank', 0, 'INVALID'),\n",
       " ('blank', 0, 'INVALID'),\n",
       " ('blank', 0, 'INVALID'),\n",
       " ('blank', 0, 'INVALID'),\n",
       " ('blank', 0, 'INVALID'),\n",
       " ('blank', 0, 'INVALID'),\n",
       " ('blank', 0, 'INVALID'),\n",
       " ('blank', 0, 'INVALID'),\n",
       " ('blank', 0, 'INVALID'),\n",
       " ('blank', 0, 'INVALID'),\n",
       " ('blank', 0, 'INVALID'),\n",
       " ('blank', 0, 'INVALID'),\n",
       " ('blank', 0, 'INVALID'),\n",
       " ('blank', 0, 'INVALID'),\n",
       " ('blank', 0, 'INVALID'),\n",
       " ('blank', 0, 'INVALID'),\n",
       " ('blank', 0, 'INVALID'),\n",
       " ('blank', 0, 'INVALID'),\n",
       " ('blank', 0, 'INVALID'),\n",
       " ('blank', 0, 'INVALID'),\n",
       " ('blank', 0, 'INVALID'),\n",
       " ('blank', 0, 'INVALID'),\n",
       " ('blank', 0, 'INVALID'),\n",
       " ('blank', 0, 'INVALID'),\n",
       " ('blank', 0, 'INVALID'),\n",
       " ('blank', 0, 'INVALID'),\n",
       " ('blank', 0, 'INVALID'),\n",
       " ('blank', 0, 'INVALID'),\n",
       " ('blank', 0, 'INVALID'),\n",
       " ('blank', 0, 'INVALID'),\n",
       " ('blank', 0, 'INVALID'),\n",
       " ('blank', 0, 'INVALID'),\n",
       " ('blank', 0, 'INVALID'),\n",
       " ('blank', 0, 'INVALID'),\n",
       " ('blank', 0, 'INVALID'),\n",
       " ('blank', 0, 'INVALID'),\n",
       " ('blank', 0, 'INVALID'),\n",
       " ('blank', 0, 'INVALID'),\n",
       " ('blank', 0, 'INVALID'),\n",
       " ('blank', 0, 'INVALID'),\n",
       " ('blank', 0, 'INVALID'),\n",
       " ('blank', 0, 'INVALID'),\n",
       " ('blank', 0, 'INVALID'),\n",
       " ('blank', 0, 'INVALID'),\n",
       " ('blank', 0, 'INVALID'),\n",
       " ('blank', 0, 'INVALID'),\n",
       " ('blank', 0, 'INVALID'),\n",
       " ('blank', 0, 'INVALID'),\n",
       " ('blank', 0, 'INVALID'),\n",
       " ('blank', 0, 'INVALID'),\n",
       " ('blank', 0, 'INVALID'),\n",
       " ('blank', 0, 'INVALID'),\n",
       " ('blank', 0, 'INVALID'),\n",
       " ('blank', 0, 'INVALID'),\n",
       " ('blank', 0, 'INVALID'),\n",
       " ('blank', 0, 'INVALID'),\n",
       " ('blank', 0, 'INVALID'),\n",
       " ('blank', 0, 'INVALID'),\n",
       " ('blank', 0, 'INVALID'),\n",
       " ('blank', 0, 'INVALID'),\n",
       " ('blank', 0, 'INVALID'),\n",
       " ('blank', 0, 'INVALID'),\n",
       " ('blank', 0, 'INVALID'),\n",
       " ('blank', 0, 'INVALID'),\n",
       " ('blank', 0, 'INVALID'),\n",
       " ('blank', 0, 'INVALID'),\n",
       " ('blank', 0, 'INVALID'),\n",
       " ('blank', 0, 'INVALID'),\n",
       " ('blank', 0, 'INVALID'),\n",
       " ('blank', 0, 'INVALID'),\n",
       " ('blank', 0, 'INVALID'),\n",
       " ('blank', 0, 'INVALID'),\n",
       " ('blank', 0, 'INVALID'),\n",
       " ('blank', 0, 'INVALID'),\n",
       " ('blank', 0, 'INVALID'),\n",
       " ('blank', 0, 'INVALID'),\n",
       " ('blank', 0, 'INVALID'),\n",
       " ('blank', 0, 'INVALID'),\n",
       " ('blank', 0, 'INVALID'),\n",
       " ('blank', 0, 'INVALID'),\n",
       " ('blank', 0, 'INVALID'),\n",
       " ('blank', 0, 'INVALID'),\n",
       " ('blank', 0, 'INVALID'),\n",
       " ('blank', 0, 'INVALID'),\n",
       " ('blank', 0, 'INVALID'),\n",
       " ('blank', 0, 'INVALID'),\n",
       " ('blank', 0, 'INVALID'),\n",
       " ('blank', 0, 'INVALID'),\n",
       " ('blank', 0, 'INVALID'),\n",
       " ('blank', 0, 'INVALID'),\n",
       " ('blank', 0, 'INVALID'),\n",
       " ('blank', 0, 'INVALID'),\n",
       " ('blank', 0, 'INVALID'),\n",
       " ('blank', 0, 'INVALID'),\n",
       " ('blank', 0, 'INVALID'),\n",
       " ('blank', 0, 'INVALID'),\n",
       " ('blank', 0, 'INVALID'),\n",
       " ('blank', 0, 'INVALID'),\n",
       " ('blank', 0, 'INVALID'),\n",
       " ('blank', 0, 'INVALID'),\n",
       " ('blank', 0, 'INVALID'),\n",
       " ('blank', 0, 'INVALID'),\n",
       " ('blank', 0, 'INVALID'),\n",
       " ('blank', 0, 'INVALID'),\n",
       " ('blank', 0, 'INVALID'),\n",
       " ('blank', 0, 'INVALID'),\n",
       " ('blank', 0, 'INVALID'),\n",
       " ('blank', 0, 'INVALID'),\n",
       " ('blank', 0, 'INVALID'),\n",
       " ('blank', 0, 'INVALID'),\n",
       " ('blank', 0, 'INVALID'),\n",
       " ('blank', 0, 'INVALID'),\n",
       " ('blank', 0, 'INVALID'),\n",
       " ('blank', 0, 'INVALID'),\n",
       " ('blank', 0, 'INVALID'),\n",
       " ('blank', 0, 'INVALID'),\n",
       " ('blank', 0, 'INVALID'),\n",
       " ('blank', 0, 'INVALID'),\n",
       " ('blank', 0, 'INVALID'),\n",
       " ('blank', 0, 'INVALID'),\n",
       " ('blank', 0, 'INVALID'),\n",
       " ('blank', 0, 'INVALID'),\n",
       " ('blank', 0, 'INVALID'),\n",
       " ('blank', 0, 'INVALID'),\n",
       " ('blank', 0, 'INVALID'),\n",
       " ('blank', 0, 'INVALID'),\n",
       " ('blank', 0, 'INVALID'),\n",
       " ('blank', 0, 'INVALID'),\n",
       " ('blank', 0, 'INVALID'),\n",
       " ('blank', 0, 'INVALID'),\n",
       " ('blank', 0, 'INVALID'),\n",
       " ('blank', 0, 'INVALID'),\n",
       " ('blank', 0, 'INVALID'),\n",
       " ('blank', 0, 'INVALID'),\n",
       " ('blank', 0, 'INVALID'),\n",
       " ('blank', 0, 'INVALID'),\n",
       " ('blank', 0, 'INVALID'),\n",
       " ('blank', 0, 'INVALID'),\n",
       " ('blank', 0, 'INVALID'),\n",
       " ('blank', 0, 'INVALID'),\n",
       " ('blank', 0, 'INVALID'),\n",
       " ('blank', 0, 'INVALID'),\n",
       " ('blank', 0, 'INVALID'),\n",
       " ('blank', 0, 'INVALID'),\n",
       " ('blank', 0, 'INVALID'),\n",
       " ('blank', 0, 'INVALID'),\n",
       " ('blank', 0, 'INVALID'),\n",
       " ('blank', 0, 'INVALID'),\n",
       " ('blank', 0, 'INVALID'),\n",
       " ('blank', 0, 'INVALID'),\n",
       " ('blank', 0, 'INVALID'),\n",
       " ('blank', 0, 'INVALID'),\n",
       " ('blank', 0, 'INVALID'),\n",
       " ('blank', 0, 'INVALID'),\n",
       " ('blank', 0, 'INVALID'),\n",
       " ('blank', 0, 'INVALID'),\n",
       " ('blank', 0, 'INVALID'),\n",
       " ('blank', 0, 'INVALID'),\n",
       " ('blank', 0, 'INVALID'),\n",
       " ('blank', 0, 'INVALID'),\n",
       " ('blank', 0, 'INVALID'),\n",
       " ('blank', 0, 'INVALID'),\n",
       " ('blank', 0, 'INVALID'),\n",
       " ('blank', 0, 'INVALID'),\n",
       " ('blank', 0, 'INVALID'),\n",
       " ('blank', 0, 'INVALID'),\n",
       " ('blank', 0, 'INVALID'),\n",
       " ('blank', 0, 'INVALID'),\n",
       " ('blank', 0, 'INVALID'),\n",
       " ('blank', 0, 'INVALID'),\n",
       " ('blank', 0, 'INVALID'),\n",
       " ('blank', 0, 'INVALID'),\n",
       " ('blank', 0, 'INVALID'),\n",
       " ('blank', 0, 'INVALID'),\n",
       " ('blank', 0, 'INVALID'),\n",
       " ('blank', 0, 'INVALID'),\n",
       " ('blank', 0, 'INVALID'),\n",
       " ('blank', 0, 'INVALID'),\n",
       " ('blank', 0, 'INVALID'),\n",
       " ('blank', 0, 'INVALID'),\n",
       " ('blank', 0, 'INVALID'),\n",
       " ('blank', 0, 'INVALID'),\n",
       " ('blank', 0, 'INVALID'),\n",
       " ('blank', 0, 'INVALID'),\n",
       " ('blank', 0, 'INVALID'),\n",
       " ('blank', 0, 'INVALID'),\n",
       " ('blank', 0, 'INVALID'),\n",
       " ('blank', 0, 'INVALID'),\n",
       " ('blank', 0, 'INVALID'),\n",
       " ('blank', 0, 'INVALID'),\n",
       " ('blank', 0, 'INVALID'),\n",
       " ('blank', 0, 'INVALID'),\n",
       " ('blank', 0, 'INVALID'),\n",
       " ('blank', 0, 'INVALID'),\n",
       " ('blank', 0, 'INVALID'),\n",
       " ('blank', 0, 'INVALID'),\n",
       " ('blank', 0, 'INVALID'),\n",
       " ('blank', 0, 'INVALID'),\n",
       " ('blank', 0, 'INVALID'),\n",
       " ('blank', 0, 'INVALID'),\n",
       " ('blank', 0, 'INVALID'),\n",
       " ('blank', 0, 'INVALID'),\n",
       " ('blank', 0, 'INVALID'),\n",
       " ('blank', 0, 'INVALID'),\n",
       " ('blank', 0, 'INVALID'),\n",
       " ('blank', 0, 'INVALID'),\n",
       " ('blank', 0, 'INVALID'),\n",
       " ('blank', 0, 'INVALID'),\n",
       " ('blank', 0, 'INVALID'),\n",
       " ('blank', 0, 'INVALID'),\n",
       " ('blank', 0, 'INVALID'),\n",
       " ('blank', 0, 'INVALID'),\n",
       " ('blank', 0, 'INVALID'),\n",
       " ('blank', 0, 'INVALID'),\n",
       " ('blank', 0, 'INVALID'),\n",
       " ('blank', 0, 'INVALID'),\n",
       " ('blank', 0, 'INVALID'),\n",
       " ('blank', 0, 'INVALID'),\n",
       " ('blank', 0, 'INVALID'),\n",
       " ('blank', 0, 'INVALID'),\n",
       " ('blank', 0, 'INVALID'),\n",
       " ('blank', 0, 'INVALID'),\n",
       " ('blank', 0, 'INVALID'),\n",
       " ('blank', 0, 'INVALID'),\n",
       " ('blank', 0, 'INVALID'),\n",
       " ('blank', 0, 'INVALID'),\n",
       " ('blank', 0, 'INVALID'),\n",
       " ('blank', 0, 'INVALID'),\n",
       " ('blank', 0, 'INVALID'),\n",
       " ('blank', 0, 'INVALID'),\n",
       " ('blank', 0, 'INVALID'),\n",
       " ('blank', 0, 'INVALID'),\n",
       " ('blank', 0, 'INVALID'),\n",
       " ...]"
      ]
     },
     "execution_count": 96,
     "metadata": {},
     "output_type": "execute_result"
    }
   ],
   "source": [
    "# [validity_df['AGE_STATUS'][(validity_df['AGE_STATUS'] == 'INVALID') == True]]\n",
    "inv = validity_df['AGE_STATUS'][(validity_df['AGE_STATUS'] == 'INVALID') == True]\n",
    "[('blank',x, y) if x == 0  else ('wrong entry', x, y) for x, y in zip(validity_df['AGE'].loc[inv.index], inv)]"
   ]
  },
  {
   "cell_type": "markdown",
   "id": "93cfadce",
   "metadata": {},
   "source": [
    "# INVALID :blanks and wrong entries functions"
   ]
  },
  {
   "cell_type": "code",
   "execution_count": 97,
   "id": "52fbf108",
   "metadata": {},
   "outputs": [],
   "source": [
    "    # if not column or not status_column:\n",
    "        # if not column:\n",
    "        #     print('column {} is empty.'.format(column))\n",
    "        # elif not status_column:\n",
    "        #     print('status column {} is empty.'.format(status_column))\n",
    "        # else:\n",
    "        #     print('Both column and status column are empty.')\n",
    "#         res_dict = {}\n",
    "    # else:"
   ]
  },
  {
   "cell_type": "code",
   "execution_count": 98,
   "id": "a448f1fe",
   "metadata": {},
   "outputs": [
    {
     "data": {
      "text/plain": [
       "'AGE'"
      ]
     },
     "execution_count": 98,
     "metadata": {},
     "output_type": "execute_result"
    }
   ],
   "source": [
    "validity_df['AGE'].name"
   ]
  },
  {
   "cell_type": "code",
   "execution_count": 99,
   "id": "de854fae",
   "metadata": {},
   "outputs": [],
   "source": [
    "from collections import Counter\n",
    "def invalid_breakdown(column, status_column):\n",
    "    inv = status_column[(status_column == 'INVALID') == True]\n",
    "    all_invalids = inv.count()\n",
    "    if column.name == 'AGE':\n",
    "        counts = Counter(['blank' if x == 0  else 'wrong entry' for x, y in zip(column.loc[inv.index], inv)])\n",
    "    else:\n",
    "        counts = Counter(['blank' if type(x) == float  else 'wrong entry' for x, y in zip(column.loc[inv.index], inv)])\n",
    "        \n",
    "    res_dict = dict(counts)\n",
    "    if 'wrong entry' in res_dict.keys() and 'blank' in list(res_dict.keys()):\n",
    "        if res_dict['wrong entry'] + res_dict['blank'] ==  inv.count():\n",
    "            res_dict['percent_wrong entry'] = '{:.1f}%'.format((res_dict['wrong entry'] * 100) / inv.count())\n",
    "            res_dict['percent_blank'] = '{:.1f}%'.format((res_dict['blank'] * 100) / inv.count())\n",
    "            print(res_dict)\n",
    "    elif 'wrong entry' not in res_dict.keys() and 'blank' in list(res_dict.keys()):\n",
    "        if res_dict['blank'] ==  inv.count():\n",
    "            res_dict['percent_blank'] = '{:.1f}%'.format((res_dict['blank'] * 100) / inv.count())\n",
    "            print(res_dict)\n",
    "    elif 'wrong entry' in res_dict.keys() and 'blank' not in list(res_dict.keys()):\n",
    "        if res_dict['wrong entry'] ==  inv.count():\n",
    "            res_dict['percent_wrong entry'] = '{:.1f}%'.format((res_dict['wrong entry'] * 100) / inv.count())\n",
    "            print(res_dict)\n",
    "    else:\n",
    "            print(res_dict)\n",
    "\n",
    "\n",
    "    return res_dict\n",
    "\n"
   ]
  },
  {
   "cell_type": "markdown",
   "id": "12b4e789",
   "metadata": {},
   "source": [
    "### call function to get percentages"
   ]
  },
  {
   "cell_type": "code",
   "execution_count": 100,
   "id": "14abf3cf",
   "metadata": {},
   "outputs": [
    {
     "name": "stdout",
     "output_type": "stream",
     "text": [
      "['CLNT_ID_REG_NO', 'ID_STATUS']\n",
      "{'blank': 63514, 'wrong entry': 1508, 'percent_wrong entry': '2.3%', 'percent_blank': '97.7%'}\n",
      ">>>>>>>>>>>>>>>>>>>>>>>>>>>\n",
      "['CLNT_DOB', 'DOB_STATUS']\n",
      "{'blank': 97899, 'percent_blank': '100.0%'}\n",
      ">>>>>>>>>>>>>>>>>>>>>>>>>>>\n",
      "['AGE', 'AGE_STATUS']\n",
      "{'blank': 97899, 'wrong entry': 81, 'percent_wrong entry': '0.1%', 'percent_blank': '99.9%'}\n",
      ">>>>>>>>>>>>>>>>>>>>>>>>>>>\n",
      "['CLNT_PIN', 'PIN_STATUS']\n",
      "{'wrong entry': 4841, 'blank': 1818, 'percent_wrong entry': '72.7%', 'percent_blank': '27.3%'}\n",
      ">>>>>>>>>>>>>>>>>>>>>>>>>>>\n",
      "['CLNT_EMAIL_ADDRS', 'EMAIL_STATUS']\n",
      "{'blank': 77923, 'wrong entry': 70, 'percent_wrong entry': '0.1%', 'percent_blank': '99.9%'}\n",
      ">>>>>>>>>>>>>>>>>>>>>>>>>>>\n",
      "['CLNT_TEL', 'TEL_STATUS']\n",
      "{'blank': 83373, 'wrong entry': 4207, 'percent_wrong entry': '4.8%', 'percent_blank': '95.2%'}\n",
      ">>>>>>>>>>>>>>>>>>>>>>>>>>>\n",
      "['CLNT_SMS_TEL', 'SMS_STATUS']\n",
      "{'blank': 49104, 'wrong entry': 45958, 'percent_wrong entry': '48.3%', 'percent_blank': '51.7%'}\n",
      ">>>>>>>>>>>>>>>>>>>>>>>>>>>\n",
      "['CLNT_TITLE', 'GENDER_STATUS']\n",
      "{'blank': 7907, 'wrong entry': 34, 'percent_wrong entry': '0.4%', 'percent_blank': '99.6%'}\n",
      ">>>>>>>>>>>>>>>>>>>>>>>>>>>\n",
      "['CLNT_GENDER', 'GENDER_STATUS']\n",
      "{'blank': 7939, 'wrong entry': 2, 'percent_wrong entry': '0.0%', 'percent_blank': '100.0%'}\n",
      ">>>>>>>>>>>>>>>>>>>>>>>>>>>\n"
     ]
    }
   ],
   "source": [
    "cls_and_status = [['CLNT_ID_REG_NO', 'ID_STATUS'],\n",
    "['CLNT_DOB', 'DOB_STATUS'],\n",
    "['AGE', 'AGE_STATUS'],\n",
    "['CLNT_PIN', 'PIN_STATUS'],\n",
    "['CLNT_EMAIL_ADDRS', 'EMAIL_STATUS'],\n",
    "['CLNT_TEL', 'TEL_STATUS'],\n",
    "['CLNT_SMS_TEL', 'SMS_STATUS'],\n",
    "['CLNT_TITLE', 'GENDER_STATUS'],\n",
    "['CLNT_GENDER', 'GENDER_STATUS']\n",
    "\n",
    "]\n",
    "for pair in cls_and_status:\n",
    "    print(pair)\n",
    "    invalid_breakdown(validity_df[pair[0]], validity_df[pair[1]])\n",
    "    print('>>>>>>>>>>>>>>>>>>>>>>>>>>>')"
   ]
  },
  {
   "cell_type": "code",
   "execution_count": 101,
   "id": "0d126cad",
   "metadata": {},
   "outputs": [
    {
     "data": {
      "text/plain": [
       "'40.0%'"
      ]
     },
     "execution_count": 101,
     "metadata": {},
     "output_type": "execute_result"
    }
   ],
   "source": [
    "'{:.1f}%'.format(40)"
   ]
  },
  {
   "cell_type": "code",
   "execution_count": 102,
   "id": "2815f616",
   "metadata": {},
   "outputs": [
    {
     "name": "stdout",
     "output_type": "stream",
     "text": [
      "['CLNT_ID_REG_NO', 'ID_STATUS']\n"
     ]
    },
    {
     "ename": "NameError",
     "evalue": "name 'v1' is not defined",
     "output_type": "error",
     "traceback": [
      "\u001b[1;31m---------------------------------------------------------------------------\u001b[0m",
      "\u001b[1;31mNameError\u001b[0m                                 Traceback (most recent call last)",
      "\u001b[1;32mC:\\Users\\CLAUDE~1.MOK\\AppData\\Local\\Temp/ipykernel_10952/4071555560.py\u001b[0m in \u001b[0;36m<module>\u001b[1;34m\u001b[0m\n\u001b[0;32m      9\u001b[0m \u001b[1;32mfor\u001b[0m \u001b[0mpair\u001b[0m \u001b[1;32min\u001b[0m \u001b[0mcls_and_status\u001b[0m\u001b[1;33m:\u001b[0m\u001b[1;33m\u001b[0m\u001b[1;33m\u001b[0m\u001b[0m\n\u001b[0;32m     10\u001b[0m     \u001b[0mprint\u001b[0m\u001b[1;33m(\u001b[0m\u001b[0mpair\u001b[0m\u001b[1;33m)\u001b[0m\u001b[1;33m\u001b[0m\u001b[1;33m\u001b[0m\u001b[0m\n\u001b[1;32m---> 11\u001b[1;33m     \u001b[0minvalid_breakdown\u001b[0m\u001b[1;33m-\u001b[0m\u001b[0mv1\u001b[0m\u001b[1;33m(\u001b[0m\u001b[0mvalidity_df\u001b[0m\u001b[1;33m[\u001b[0m\u001b[0mpair\u001b[0m\u001b[1;33m[\u001b[0m\u001b[1;36m0\u001b[0m\u001b[1;33m]\u001b[0m\u001b[1;33m]\u001b[0m\u001b[1;33m,\u001b[0m \u001b[0mvalidity_df\u001b[0m\u001b[1;33m[\u001b[0m\u001b[0mpair\u001b[0m\u001b[1;33m[\u001b[0m\u001b[1;36m1\u001b[0m\u001b[1;33m]\u001b[0m\u001b[1;33m]\u001b[0m\u001b[1;33m)\u001b[0m\u001b[1;33m\u001b[0m\u001b[1;33m\u001b[0m\u001b[0m\n\u001b[0m\u001b[0;32m     12\u001b[0m \u001b[1;31m# wrong output\u001b[0m\u001b[1;33m\u001b[0m\u001b[1;33m\u001b[0m\u001b[1;33m\u001b[0m\u001b[0m\n\u001b[0;32m     13\u001b[0m \u001b[1;33m[\u001b[0m\u001b[1;34m'CLNT_ID_REG_NO'\u001b[0m\u001b[1;33m,\u001b[0m \u001b[1;34m'ID_STATUS'\u001b[0m\u001b[1;33m]\u001b[0m\u001b[1;33m\u001b[0m\u001b[1;33m\u001b[0m\u001b[0m\n",
      "\u001b[1;31mNameError\u001b[0m: name 'v1' is not defined"
     ]
    }
   ],
   "source": [
    "cls_and_status = [['CLNT_ID_REG_NO', 'ID_STATUS'],\n",
    "['CLNT_DOB', 'DOB_STATUS'],\n",
    "['AGE', 'AGE_STATUS'],\n",
    "['CLNT_PIN', 'PIN_STATUS'],\n",
    "['CLNT_EMAIL_ADDRS', 'EMAIL_STATUS'],\n",
    "['CLNT_TEL', 'TEL_STATUS'],\n",
    "['CLNT_SMS_TEL', 'SMS_STATUS']\n",
    "]\n",
    "for pair in cls_and_status:\n",
    "    print(pair)\n",
    "    invalid_breakdown-v1(validity_df[pair[0]], validity_df[pair[1]])\n",
    "# wrong output\n",
    "['CLNT_ID_REG_NO', 'ID_STATUS']\n",
    "{'blank': 63514, 'wrong entry': 1528, 'percent_wrong entry': '2.3%', 'percent_blank': '97.7%'}\n",
    "['CLNT_DOB', 'DOB_STATUS']\n",
    "['AGE', 'AGE_STATUS']\n",
    "['CLNT_PIN', 'PIN_STATUS']\n",
    "{'wrong entry': 4841, 'blank': 1818, 'percent_wrong entry': '72.7%', 'percent_blank': '27.3%'}\n",
    "['CLNT_EMAIL_ADDRS', 'EMAIL_STATUS']\n",
    "{'blank': 77923, 'wrong entry': 71, 'percent_wrong entry': '0.1%', 'percent_blank': '99.9%'}\n",
    "['CLNT_TEL', 'TEL_STATUS']\n",
    "{'blank': 83373, 'wrong entry': 4207, 'percent_wrong entry': '4.8%', 'percent_blank': '95.2%'}\n",
    "['CLNT_SMS_TEL', 'SMS_STATUS']\n",
    "{'blank': 49104, 'wrong entry': 45958, 'percent_wrong entry': '48.3%', 'percent_blank': '51.7%'}\n"
   ]
  },
  {
   "cell_type": "code",
   "execution_count": null,
   "id": "8644b436",
   "metadata": {},
   "outputs": [],
   "source": [
    "validity_df.columns"
   ]
  },
  {
   "cell_type": "markdown",
   "id": "af9893ef",
   "metadata": {},
   "source": [
    "# sunburst"
   ]
  },
  {
   "cell_type": "code",
   "execution_count": null,
   "id": "0f88256a",
   "metadata": {},
   "outputs": [],
   "source": [
    "# preparation\n",
    "field=['INVALID_DOB','VALID_DOB','INVALID_ID','VALID_ID','BLANKS', 'WRONG ENTRIES','INVALID_PIN','VALID_PIN','INVALID_EMAIL','VALID_EMAIL','INVALID_TEL','VALID-TEL','INVALID-AGE','VALID-AGE','INVALID-SMS','VALID-SMS','DOB', 'ID', 'PIN', 'EMAIL', 'TEL', 'AGE', 'SMS' ]\n",
    "colors = ['crimson', 'rgb(29,66,138)', 'crimson', 'rgb(29,66,138)','crimson', 'rgb(29,66,138)','crimson', 'rgb(29,66,138)','crimson', 'rgb(29,66,138)','crimson', 'rgb(29,66,138)','crimson', 'rgb(29,66,138)',\n",
    "        'purple', 'gold', 'green', 'orange', 'black', 'darkslategray', 'rgb(29, 66, 138)']\n",
    "\n",
    "pairs = [i.split(\": \") for i in ['{}: {}'.format(x, y) for x, y in zip(field, colors)]]\n",
    "dct = {}\n",
    "for k, v in enumerate(pairs):\n",
    "        dct[v[0]] = v[1]\n",
    "dct\n",
    "\n",
    "data = dict(\n",
    "            field=['INVALID_DOB','VALID_DOB','INVALID_ID','VALID_ID','BLANKS', 'WRONG ENTRIES','INVALID_PIN','VALID_PIN','INVALID_EMAIL','VALID_EMAIL','INVALID_TEL','VALID-TEL','INVALID-AGE','VALID-AGE','INVALID-SMS','VALID-SMS','DOB', 'ID', 'PIN', 'EMAIL', 'TEL', 'AGE', 'SMS' ],\n",
    "            part=['DOB', 'DOB', 'ID', 'ID', 'INVALID_ID','INVALID_ID','PIN', 'PIN','EMAIL', 'EMAIL', 'TEL', 'TEL','AGE', 'AGE', 'SMS', 'SMS', 'Client data', 'Client data', 'Client data','Client data', 'Client data', 'Client data', 'Client data'],\n",
    "            validity=[invalid_DOBs, valid_DOBs, invalid_ids, valid_ids, sum(blnk_ids),(validity_df['ID_STATUS'] == 'INVALID').sum().sum() - sum(blnk_ids), invalid_pins, valid_pins, invalid_emails, valid_emails, invalid_tel, valid_tel, invalid_age, valid_age, invalid_sms, valid_sms, 1, 1, 1, 1, 1, 1, 1]\n",
    ")\n",
    "\n",
    "\n",
    "fig = px.sunburst(\n",
    "    data,\n",
    "    names='field',\n",
    "    parents='part',\n",
    "    values='validity',\n",
    "    color_discrete_map=dct\n",
    ")\n",
    "fig.update_layout(\n",
    "                    font={'size': 14},\n",
    "                    title={'font': {'size': 14}},\n",
    "                    margin=dict(t=0, b=0, l=0, r=0)\n",
    "                    )\n",
    "\n",
    "fig.show()"
   ]
  },
  {
   "cell_type": "code",
   "execution_count": null,
   "id": "c2ceb58f",
   "metadata": {},
   "outputs": [],
   "source": []
  }
 ],
 "metadata": {
  "kernelspec": {
   "display_name": "Python 3 (ipykernel)",
   "language": "python",
   "name": "python3"
  },
  "language_info": {
   "codemirror_mode": {
    "name": "ipython",
    "version": 3
   },
   "file_extension": ".py",
   "mimetype": "text/x-python",
   "name": "python",
   "nbconvert_exporter": "python",
   "pygments_lexer": "ipython3",
   "version": "3.9.5"
  }
 },
 "nbformat": 4,
 "nbformat_minor": 5
}
