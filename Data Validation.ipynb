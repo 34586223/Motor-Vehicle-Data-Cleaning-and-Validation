{
 "cells": [
  {
   "cell_type": "markdown",
   "id": "b05dae76",
   "metadata": {},
   "source": [
    "# Data Cleaning"
   ]
  },
  {
   "cell_type": "markdown",
   "id": "a7a9c4a4",
   "metadata": {},
   "source": [
    "## Imports"
   ]
  },
  {
   "cell_type": "code",
   "execution_count": 10,
   "id": "2111b2a9",
   "metadata": {},
   "outputs": [],
   "source": [
    "import numpy as np\n",
    "import pandas as pd \n",
    "from numpy import NaN\n",
    "import re\n",
    "from datetime import datetime\n",
    "from dateutil import parser\n",
    "import warnings\n",
    "from pandas.core.common import SettingWithCopyWarning\n",
    "warnings.simplefilter(action=\"ignore\", category=SettingWithCopyWarning)\n",
    "\n",
    "invalid = 'INVALID'\n",
    "client_excel = r\"../DATA-Excel/gis clients list 18-Jan-2022.csv\""
   ]
  },
  {
   "cell_type": "markdown",
   "id": "11d8ac8c",
   "metadata": {},
   "source": [
    "- Clients dataframe"
   ]
  },
  {
   "cell_type": "code",
   "execution_count": 11,
   "id": "86564f25",
   "metadata": {},
   "outputs": [],
   "source": [
    "columns = ['CLNT_CODE', 'CLIENT_NAME', 'CLNT_ID_REG_NO', 'CLNT_DOB', 'CLNT_PIN', 'CLNT_TYPE', 'CLNT_EMAIL_ADDRS', 'CLNT_TEL', 'CLNT_TEL2', 'CLNT_SMS_TEL', 'CLNT_TITLE', 'CLNT_GENDER']\n",
    "clientdf = pd.read_csv(client_excel, encoding='unicode_escape', low_memory=False, usecols=columns)\n",
    "df_bak = pd.read_csv(client_excel, encoding='unicode_escape', low_memory=False, usecols=columns)"
   ]
  },
  {
   "cell_type": "code",
   "execution_count": 12,
   "id": "6c2e4f0e",
   "metadata": {},
   "outputs": [
    {
     "data": {
      "text/plain": [
       "Index(['CLIENT_NAME', 'CLNT_CODE', 'CLNT_ID_REG_NO', 'CLNT_DOB', 'CLNT_PIN',\n",
       "       'CLNT_EMAIL_ADDRS', 'CLNT_TEL', 'CLNT_TEL2', 'CLNT_TYPE', 'CLNT_TITLE',\n",
       "       'CLNT_SMS_TEL', 'CLNT_GENDER'],\n",
       "      dtype='object')"
      ]
     },
     "execution_count": 12,
     "metadata": {},
     "output_type": "execute_result"
    }
   ],
   "source": [
    "clientdf.columns"
   ]
  },
  {
   "cell_type": "markdown",
   "id": "9198416e",
   "metadata": {},
   "source": [
    "### Sample dataframe with edge cases"
   ]
  },
  {
   "cell_type": "markdown",
   "id": "59197878",
   "metadata": {},
   "source": [
    "## ID registration no."
   ]
  },
  {
   "cell_type": "code",
   "execution_count": 14,
   "id": "0eb4e000",
   "metadata": {},
   "outputs": [
    {
     "name": "stdout",
     "output_type": "stream",
     "text": [
      "CLNT_ID_REG_NO Null Entries 75,431\n",
      "CLNT_ID_REG_NO Non null etries 43,356\n",
      "All clients 118,787\n",
      "True ,(null values + non-null values) == count of all clients\n"
     ]
    }
   ],
   "source": [
    "# null entries\n",
    "null_dobs = clientdf['CLNT_ID_REG_NO'].isnull().sum().sum()\n",
    "print('CLNT_ID_REG_NO Null Entries', '{:,}'.format(null_dobs))\n",
    "# not null entries\n",
    "dobs = clientdf['CLNT_ID_REG_NO'].dropna().count()\n",
    "print('CLNT_ID_REG_NO Non null etries', '{:,}'.format(dobs))\n",
    "# all clients\n",
    "print('All clients','{:,}'.format(clientdf['CLNT_CODE'].count()))\n",
    "\n",
    "print(dobs + null_dobs == clientdf['CLNT_CODE'].count(), ',(null values + non-null values) == count of all clients')\n"
   ]
  },
  {
   "cell_type": "code",
   "execution_count": 15,
   "id": "a9721313",
   "metadata": {},
   "outputs": [],
   "source": [
    "# [x if y in ['I', 'S', 'F'] else 'OK' for x, y in zip(clientdf.CLNT_ID_REG_NO, clientdf.CLNT_TYPE)]"
   ]
  },
  {
   "cell_type": "code",
   "execution_count": 16,
   "id": "3e725075",
   "metadata": {},
   "outputs": [],
   "source": [
    "def id_reg_validator(df):\n",
    "    \n",
    "    '''Accepts a list or series of id as a \n",
    "    ids = clientdf['CLNT_ID_REG_NO']'''\n",
    "\n",
    "    copydf = df.copy(deep=True)\n",
    "    \n",
    "    ids = [x if y in ['I', 'S', 'F'] else 'OK' for x, y in zip(copydf.CLNT_ID_REG_NO, copydf.CLNT_TYPE)]\n",
    "    # Fill null values with INVALID\n",
    "    # ids.fillna(invalid, inplace=True)\n",
    "    try:\n",
    "        for j in range(len(ids)):\n",
    "            #convert id to str if it's not already\n",
    "            if type(ids[j]) != str:\n",
    "                ids[j] = str(ids[j]).strip()\n",
    "            #remove trailing spaces    \n",
    "            else:\n",
    "                ids[j] =  ids[j].strip().replace(' ', '')\n",
    "            # check the length of the string is either 7 or 8 (6??)\n",
    "            if ids[j] == 'OK':\n",
    "                pass #continue\n",
    "            #check that id only contains digits\n",
    "            elif re.match(r\"^[0-9]+$\", ids[j]) == None:\n",
    "                # if re.match(r\"^[A]{1}[K]{1}[0-9]+$\", ids[j]) == None:\n",
    "                # check if ID is passport number which is alphanumeric\n",
    "                if re.match(r\"^[A-Z]+[0-9]+$\", ids[j]) == None:\n",
    "                    ids[j] = invalid\n",
    "                else:\n",
    "                    if len(ids[j]) < 9:\n",
    "                        ids[j] == invalid\n",
    "            else:\n",
    "                if len(ids[j]) < 7 or len(ids[j]) > 8:\n",
    "                    ids[j] = invalid\n",
    "                else:\n",
    "                    #check that ID is not a guess of consecutive numbers\n",
    "                    digits_in_id = []\n",
    "                    for i in range(len(ids[j])):\n",
    "                        digits_in_id.append(int(ids[j][i]))\n",
    "                    guesses = [digits_in_id] #two digit guesses , digits_in_id[1: -1: 2] three guesses id_numbers[2: -1: 3]\n",
    "                    for numbers in guesses:\n",
    "                        steps = len(numbers) - 1\n",
    "                        if sum(np.diff(numbers) == 1) == steps or sum(np.diff(numbers) == 0) == steps:# reason for sorting the numbers? a more strict check\n",
    "                            ids[j] = invalid\n",
    "                        else:\n",
    "                            pass\n",
    "    except:\n",
    "        pass\n",
    "\n",
    "    df['ID_STATUS'] = [x if x == invalid else 'VALID' for x in ids]\n",
    "  "
   ]
  },
  {
   "cell_type": "markdown",
   "id": "6ec056da",
   "metadata": {},
   "source": [
    "## Email"
   ]
  },
  {
   "cell_type": "code",
   "execution_count": 17,
   "id": "f6dd49ce",
   "metadata": {},
   "outputs": [
    {
     "name": "stdout",
     "output_type": "stream",
     "text": [
      "CLNT_EMAIL_ADDRS Null Entries 77,923\n",
      "CLNT_EMAIL_ADDRS Non null etries 40,864\n",
      "All clients 118,787\n",
      "True ,(null values + non-null values) == count of all clients\n"
     ]
    }
   ],
   "source": [
    "# null entries\n",
    "null_dobs = clientdf['CLNT_EMAIL_ADDRS'].isnull().sum().sum()\n",
    "print('CLNT_EMAIL_ADDRS Null Entries', '{:,}'.format(null_dobs))\n",
    "# not null entries\n",
    "dobs = clientdf['CLNT_EMAIL_ADDRS'].dropna().count()\n",
    "print('CLNT_EMAIL_ADDRS Non null etries', '{:,}'.format(dobs))\n",
    "# all clients\n",
    "print('All clients','{:,}'.format(clientdf['CLNT_CODE'].count()))\n",
    "\n",
    "print(dobs + null_dobs == clientdf['CLNT_CODE'].count(), ',(null values + non-null values) == count of all clients')"
   ]
  },
  {
   "cell_type": "code",
   "execution_count": 18,
   "id": "97d86202",
   "metadata": {},
   "outputs": [],
   "source": [
    "def email_tokenize(email):\n",
    "    addresses = email.split('/')\n",
    "    return addresses\n"
   ]
  },
  {
   "cell_type": "code",
   "execution_count": 19,
   "id": "fc6254df",
   "metadata": {},
   "outputs": [],
   "source": [
    "# Email validation\n",
    "# re.match(pattern, string, flags=0)\n",
    "# username@domain.top-level-domain\n",
    "\n",
    "def email_validator(df):\n",
    "    emails = df['CLNT_EMAIL_ADDRS'].copy(deep=True)\n",
    "    emails.fillna(invalid, inplace=True)\n",
    "    try:\n",
    "        for a in range(len(emails)):\n",
    "            #type checking and conversion\n",
    "            if type(emails[a]) != str:\n",
    "                emails[a] = invalid\n",
    "            if ' ' in emails[a]:\n",
    "                emails[a] = emails[a].strip().replace(' ', '')\n",
    "            # check if email is blank\n",
    "            elif len(emails[a].strip().replace(' ', '')) == 0:\n",
    "                emails[a] = invalid\n",
    "            # check for two emails and save one\n",
    "            elif emails[a].find('/') != -1:\n",
    "                addresses = email_tokenize(emails[a])\n",
    "                emails[a] = addresses[0]\n",
    "                df['CLNT_EMAIL_ADDRS'][a] = addresses[0]\n",
    "            # check validity of email format\n",
    "            elif re.match(r\"(^[a-zA-Z0-9.+_&-]+@[a-zA-Z0-9-.]+\\.[a-zA-Z0-9-.]+$)\", emails[a]) == None:\n",
    "                try:\n",
    "                    if re.match(r\"(^[a-zA-Z0-9.+_&-]+@[a-zA-Z0-9-.]+\\.[a-zA-Z0-9-.]+$)\", emails[a].strip().replace(' ', '')) == None:\n",
    "                        emails[a] = invalid\n",
    "                except:\n",
    "                    pass\n",
    "            # if email is invalid because of spaces, remove space\n",
    "            else:\n",
    "                # if ' ' in emails[a]:\n",
    "                #     emails[a] = emails[a].strip().replace(' ', '')\n",
    "                continue\n",
    "    except:\n",
    "        pass\n",
    "    df['EMAIL_STATUS'] = [x if x == invalid else 'VALID' for x in emails]\n",
    "        \n",
    "\n",
    "\n"
   ]
  },
  {
   "cell_type": "markdown",
   "id": "86674338",
   "metadata": {},
   "source": [
    "## Phone numbers"
   ]
  },
  {
   "cell_type": "markdown",
   "id": "5b82d39e",
   "metadata": {},
   "source": [
    "- Telephone 1"
   ]
  },
  {
   "cell_type": "code",
   "execution_count": 20,
   "id": "223c75d7",
   "metadata": {},
   "outputs": [
    {
     "name": "stdout",
     "output_type": "stream",
     "text": [
      "CLNT_TEL Null Entries 83,373\n",
      "CLNT_TEL Non null etries 35,414\n",
      "All clients 118,787\n",
      "True ,(null values + non-null values) == count of all clients\n"
     ]
    }
   ],
   "source": [
    "# null entries\n",
    "null_dobs = clientdf['CLNT_TEL'].isnull().sum().sum()\n",
    "print('CLNT_TEL Null Entries', '{:,}'.format(null_dobs))\n",
    "# not null entries\n",
    "dobs = clientdf['CLNT_TEL'].dropna().count()\n",
    "print('CLNT_TEL Non null etries', '{:,}'.format(dobs))\n",
    "# all clients\n",
    "print('All clients','{:,}'.format(clientdf['CLNT_CODE'].count()))\n",
    "\n",
    "print(dobs + null_dobs == clientdf['CLNT_CODE'].count(), ',(null values + non-null values) == count of all clients')"
   ]
  },
  {
   "cell_type": "markdown",
   "id": "f774148e",
   "metadata": {},
   "source": [
    "- SMS Telephone "
   ]
  },
  {
   "cell_type": "code",
   "execution_count": 21,
   "id": "430b1e8b",
   "metadata": {},
   "outputs": [],
   "source": [
    "def wrapper1(phone_numbers_list):\n",
    "    phone_numbers_list.fillna(invalid, inplace=True)\n",
    "    phone_len = [9, 10, 12, 13, 15, 16]\n",
    "    try:\n",
    "        for i in range(len(phone_numbers_list)):\n",
    "            if type(phone_numbers_list[i]) != str:\n",
    "                phone_numbers_list[i] = str(phone_numbers_list[i])\n",
    "\n",
    "            if len(phone_numbers_list[i].replace(' ', '')) not in phone_len:\n",
    "                phone_numbers_list[i] = invalid\n",
    "            elif re.match(r\"(^[+]*[(]{0,1}[0-9]{1,4}[)]{0,1}[\\s]{0,1}[-\\s\\./0-9]*$)\", phone_numbers_list[i]) == None:\n",
    "                phone_numbers_list[i] = invalid\n",
    "            elif phone_numbers_list[i][0] == '+' and len(phone_numbers_list[i].replace(' ', '')) not in [13, 15, 16]:\n",
    "                phone_numbers_list[i] = invalid\n",
    "            else:\n",
    "                for j in ['(', '+', ' ', ')']:\n",
    "                    if j in phone_numbers_list[i]:\n",
    "                        phone_numbers_list[i] = phone_numbers_list[i].replace(j, '')\n",
    "\n",
    "                    \n",
    "    except:\n",
    "        pass\n",
    "    return [x if x == invalid else 'VALID' for x in phone_numbers_list]\n",
    "\n",
    "def phone_num_validator(df):\n",
    "    phone_numbers_list = df['CLNT_TEL'].copy(deep=True)\n",
    "    sms_list = df['CLNT_SMS_TEL'].copy(deep=True)\n",
    "\n",
    "    df['TEL_STATUS'] = wrapper1(phone_numbers_list)\n",
    "    df['SMS_STATUS'] = wrapper1(sms_list)\n",
    "    \n",
    "        \n",
    "        \n"
   ]
  },
  {
   "cell_type": "code",
   "execution_count": 22,
   "id": "6e86c725",
   "metadata": {},
   "outputs": [],
   "source": [
    "def populate_tel(df):\n",
    "    tel_status = df.CLNT_TEL\n",
    "    sms_status = df.CLNT_SMS_TEL\n",
    "    for i in range(len(tel_status)):\n",
    "        try:\n",
    "            if tel_status[i] == None and sms_status[i] == None:\n",
    "                tel_status = sms_status = invalid\n",
    "            elif tel_status[i] and sms_status[i] == None:\n",
    "                sms_status[i] = tel_status[i]\n",
    "            elif tel_status[i] == None and sms_status[i]:\n",
    "                tel_status[i] = sms_status[i]\n",
    "            else:\n",
    "                pass\n",
    "\n",
    "        except:\n",
    "            raise\n",
    "\n",
    "\n"
   ]
  },
  {
   "cell_type": "markdown",
   "id": "6e8d61a9",
   "metadata": {},
   "source": [
    "## Date of birth"
   ]
  },
  {
   "cell_type": "code",
   "execution_count": 23,
   "id": "96263907",
   "metadata": {},
   "outputs": [
    {
     "name": "stdout",
     "output_type": "stream",
     "text": [
      "CLNT_DOB Null Entries 111,410\n",
      "CLNT_DOB Non null etries 7,377\n",
      "All clients 118,787\n",
      "True ,(null values + non-null values) == count of all clients\n"
     ]
    }
   ],
   "source": [
    "# null entries\n",
    "null_dobs = clientdf['CLNT_DOB'].isnull().sum().sum()\n",
    "print('CLNT_DOB Null Entries', '{:,}'.format(null_dobs))\n",
    "# not null entries\n",
    "dobs = clientdf['CLNT_DOB'].dropna().count()\n",
    "print('CLNT_DOB Non null etries', '{:,}'.format(dobs))\n",
    "# all clients\n",
    "print('All clients','{:,}'.format(clientdf['CLNT_CODE'].count()))\n",
    "\n",
    "print(dobs + null_dobs == clientdf['CLNT_CODE'].count(), ',(null values + non-null values) == count of all clients')"
   ]
  },
  {
   "cell_type": "markdown",
   "id": "5e969e0c",
   "metadata": {},
   "source": [
    "## Age"
   ]
  },
  {
   "cell_type": "code",
   "execution_count": 24,
   "id": "4fbab02a",
   "metadata": {},
   "outputs": [],
   "source": [
    "# epoch = 1970 \n",
    "# import time\n",
    "# time.gmtime(0)\n",
    "# https://docs.python.org/3/library/time.html#:~:text=Function%20strptime()%20can%20parse%202%2Ddigit%20years%20when%20given%20%25y%20format%20code.%20When%202%2Ddigit%20years%20are%20parsed%2C%20they%20are%20converted%20according%20to%20the%20POSIX%20and%20ISO%20C%20standards%3A%20values%2069%E2%80%9399%20are%20mapped%20to%201969%E2%80%931999%2C%20and%20values%200%E2%80%9368%20are%20mapped%20to%202000%E2%80%932068.\n"
   ]
  },
  {
   "cell_type": "code",
   "execution_count": 25,
   "id": "7923da0d",
   "metadata": {},
   "outputs": [],
   "source": [
    "def age(dob):\n",
    "    # print(type(dob),'dob = ', dob)\n",
    "    age = datetime.today().year - datetime.strptime(datetime.strftime(dob, '%d-%b-%Y'), '%d-%b-%Y').year\n",
    "    return age"
   ]
  },
  {
   "cell_type": "code",
   "execution_count": 26,
   "id": "f9e6f55c",
   "metadata": {},
   "outputs": [
    {
     "data": {
      "text/plain": [
       "73"
      ]
     },
     "execution_count": 26,
     "metadata": {},
     "output_type": "execute_result"
    }
   ],
   "source": [
    "x=datetime.strptime('4/28/1949', '%m/%d/%Y')\n",
    "datetime.today().year - datetime.strptime(datetime.strftime(x, '%d-%b-%Y'), '%d-%b-%Y').year"
   ]
  },
  {
   "cell_type": "code",
   "execution_count": 27,
   "id": "8dc357fe",
   "metadata": {},
   "outputs": [
    {
     "data": {
      "text/plain": [
       "1949"
      ]
     },
     "execution_count": 27,
     "metadata": {},
     "output_type": "execute_result"
    }
   ],
   "source": [
    "datetime.strptime(datetime.strftime(x, '%d-%b-%Y'), '%d-%b-%Y').year"
   ]
  },
  {
   "cell_type": "code",
   "execution_count": 28,
   "id": "6392d366",
   "metadata": {},
   "outputs": [
    {
     "data": {
      "text/plain": [
       "time.struct_time(tm_year=1970, tm_mon=1, tm_mday=1, tm_hour=0, tm_min=0, tm_sec=0, tm_wday=3, tm_yday=1, tm_isdst=0)"
      ]
     },
     "execution_count": 28,
     "metadata": {},
     "output_type": "execute_result"
    }
   ],
   "source": [
    "import time\n",
    "time.gmtime(0)"
   ]
  },
  {
   "cell_type": "code",
   "execution_count": 29,
   "id": "413d9022",
   "metadata": {},
   "outputs": [],
   "source": [
    "# check for different formats used in DOB column. set() returning one value means that one format is used.\n",
    "# dob_formats = ['%m/%d/%Y like so 01/21/1987' if re.match(r'^(1[0-2]|0?[1-9])/(3[01]|[12][0-9]|0?[1-9])/(?:[0-9]{2})?[0-9]{2}$', i) else i for i in clientdf['CLNT_DOB'].dropna()]\n",
    "# print('Formats: {}\\n {}'.format(len(set(dob_formats)), [i for i in set(dob_formats)] ))\n",
    "\n",
    "\n",
    "\n",
    "def dob_validator(df):\n",
    "    '''Takes a list or series of dates and flags as invalid wrong dates.'''\n",
    "\n",
    "    types = df['CLNT_TYPE'].copy(deep=True)\n",
    "    dates = df['CLNT_DOB'].copy(deep=True)\n",
    "    dates = pd.Series(['VALID' if y in ['C', 'P', 'G', 'M'] else x for x,y in zip(dates, types)])\n",
    "\n",
    "    dates.fillna(invalid, inplace=True)\n",
    "\n",
    "\n",
    "    if type(dates) == str:\n",
    "        dates = list(dates)\n",
    "    try:\n",
    "        for i in range(len(dates)):\n",
    "            if type(dates[i]) != str:\n",
    "                dates[i] = str(dates[i])\n",
    "            if dates[i] == 'VALID' or dates[i] == 'INVALID':\n",
    "                pass\n",
    "\n",
    "            else:\n",
    "                try:\n",
    "                    datetime.strptime(dates[i], '%m/%d/%Y')\n",
    "                except (Exception): # ...does not match format '%m/%d/%Y'   \n",
    "                        try:\n",
    "                            dob_date = str(parser.parse(dates[i]))\n",
    "                            # validate it's a date before assigning\n",
    "                            dates[i] = datetime.strftime(datetime.strptime(dob_date, '%Y-%m-%d %H:%M:%S'), '%m/%d/%Y')\n",
    "                        except (Exception):\n",
    "                                dates[i] = invalid\n",
    "                else:\n",
    "                    if re.match(r'^(1[0-2]|0?[1-9])/(3[01]|[12][0-9]|0?[1-9])/(?:[0-9]{2})?[0-9]{2}$', dates[i]) == None:\n",
    "                        dates[i] == invalid\n",
    "    except:\n",
    "        pass\n",
    "    df['DOB_STATUS'] = [x if x == invalid else 'VALID' for x in dates]\n",
    "    df['AGE'] = [age(datetime.strptime(dob, '%m/%d/%Y')) if (dob != invalid and dob != 'VALID') else 0 for dob in dates]\n",
    "\n",
    "    # df['DOB_STATUS'] = [x if (x > 18 or x < 100) else invalid for x in df['AGE']]\n",
    "    # df['AGE_STATUS'] = [x if (x > 18 or x < 100) else invalid for x in df['AGE']]\n",
    "\n",
    "    status = []\n",
    "    for i in range(len(df['AGE'])):\n",
    "        if df['AGE'][i] == 0 and types[i] not in ['C', 'P', 'G', 'M']:\n",
    "            status.append(invalid)\n",
    "        elif (df['AGE'][i] < 18 or df['AGE'][i] > 100) and types[i] not in ['C', 'P', 'G', 'M']:\n",
    "            status.append(invalid)\n",
    "        else:\n",
    "            status.append('VALID')\n",
    "    df['AGE_STATUS'] = status"
   ]
  },
  {
   "cell_type": "markdown",
   "id": "7e827bba",
   "metadata": {},
   "source": [
    "## SMS telephone"
   ]
  },
  {
   "cell_type": "markdown",
   "id": "7a3aa3ac",
   "metadata": {},
   "source": [
    "## Client PIN"
   ]
  },
  {
   "cell_type": "code",
   "execution_count": 30,
   "id": "22d64c9d",
   "metadata": {},
   "outputs": [],
   "source": [
    "#check that pin is not a guess of consecutive numbers or same number\n",
    "def consecutive_or_dup_pin_numbers(pin):\n",
    "    if type(pin) != str:\n",
    "        pin = str(pin)\n",
    "    # print('pin = ', pin)\n",
    "    num = pin[1:-1]\n",
    "    digits_in_num = []\n",
    "    for i in range(len(num)):\n",
    "        digits_in_num.append(int(num[i]))\n",
    "    # print('digits_in_num = ',digits_in_num)\n",
    "    guesses = [digits_in_num] #two digit guesses , digits_in_id[1: -1: 2] three guesses id_numbers[2: -1: 3]\n",
    "    # print('guesses', guesses)\n",
    "    for numbers in guesses:\n",
    "        # print('numbers = ', numbers)\n",
    "        steps = len(numbers) - 1\n",
    "        if sum(np.diff(numbers) == 1) == steps or sum(np.diff(numbers) == 0) == steps:# A222222222K and A123456789K fail\n",
    "            return True\n",
    "        elif len(set(numbers)) in [1, 2]:# A0000000001K fails\n",
    "            return True\n",
    "        else:\n",
    "            return False"
   ]
  },
  {
   "cell_type": "code",
   "execution_count": 31,
   "id": "5d2ff6df",
   "metadata": {},
   "outputs": [],
   "source": [
    "def kra_pin_validator(clientdf):\n",
    "    \n",
    "    pins = clientdf['CLNT_PIN'].copy(deep=True)\n",
    "    types = clientdf['CLNT_TYPE'].copy(deep=True)\n",
    "    \n",
    "    pins.fillna(invalid, inplace=True)\n",
    "    # types.fillna(invalid, inplace=True)\n",
    "\n",
    "    try:\n",
    "        for i in range(len(pins)):\n",
    "            if type(pins[i]) != str:\n",
    "                pins[i] = str(pins[i])\n",
    "\n",
    "            if len(pins[i]) != 11:\n",
    "                pins[i] = invalid\n",
    "            # if type(types[i]) != str:\n",
    "            #         types[i] = str(types[i])\n",
    "\n",
    "            # if types[i] not in ['I', 'F','P', 'S', 'M', 'C', 'G']:\n",
    "            #     types[i] = invalid\n",
    "            \n",
    "            # PIN is alphanumeric\n",
    "            if re.match(r\"^[AP]{1}[0-9]+[A-Z]{1}$\", pins[i].replace(' ', '')) == None:\n",
    "                if re.match(r\"^[apAP]{1}[0-9]+[A-Za-z]{1}$\", pins[i].replace(' ', '')) == None:\n",
    "                    pins[i] = invalid\n",
    "                else: #convert to upper valid pins with lower case chars\n",
    "                    pins[i] = pins[i].upper()\n",
    "                    clientdf['CLNT_PIN'][i] = pins[i].upper()\n",
    "                    if consecutive_or_dup_pin_numbers(pins[i]) == True:\n",
    "                        pins[i] = invalid\n",
    "                    else:\n",
    "                        continue\n",
    "            else: #check client type corresponds to first letter of kra pin\n",
    "                chars = {'A': ['I', 'F', 'S', 'M'], 'P': ['C', 'G', 'M', 'P']}\n",
    "                if consecutive_or_dup_pin_numbers(pins[i]) == True:\n",
    "                    pins[i] = invalid\n",
    "                elif types[i] not in chars[pins[i][0]]:\n",
    "                    pins[i] = invalid\n",
    "\n",
    "                else:\n",
    "                    pass\n",
    "\n",
    "    except:\n",
    "        pass\n",
    "    clientdf['PIN_STATUS'] = [x if x == invalid else 'VALID' for x in pins]\n",
    "    clientdf['TYPE_STATUS'] = [x if x == invalid else 'VALID' for x in types]"
   ]
  },
  {
   "cell_type": "markdown",
   "id": "aa7fca8d",
   "metadata": {},
   "source": [
    "- bypass"
   ]
  },
  {
   "cell_type": "code",
   "execution_count": 32,
   "id": "e669e970",
   "metadata": {},
   "outputs": [],
   "source": [
    "# [(pin, consecutive_or_dup_pin_numbers(pin)) for pin in bypass]"
   ]
  },
  {
   "cell_type": "markdown",
   "id": "c997f1e0",
   "metadata": {},
   "source": [
    "### Client Type"
   ]
  },
  {
   "cell_type": "code",
   "execution_count": 33,
   "id": "cb5b013e",
   "metadata": {},
   "outputs": [
    {
     "name": "stdout",
     "output_type": "stream",
     "text": [
      "CLNT_DOB Null Entries 1,605\n",
      "CLNT_DOB Non null etries 117,182\n",
      "All clients 118,787\n",
      "True ,(null values + non-null values) == count of all clients\n"
     ]
    }
   ],
   "source": [
    "# null entries\n",
    "null_dobs = clientdf['CLNT_TYPE'].isnull().sum().sum()\n",
    "print('CLNT_DOB Null Entries', '{:,}'.format(null_dobs))\n",
    "# not null entries\n",
    "dobs = clientdf['CLNT_TYPE'].dropna().count()\n",
    "print('CLNT_DOB Non null etries', '{:,}'.format(dobs))\n",
    "# all clients\n",
    "print('All clients','{:,}'.format(clientdf['CLNT_CODE'].count()))\n",
    "\n",
    "print(dobs + null_dobs == clientdf['CLNT_CODE'].count(), ',(null values + non-null values) == count of all clients')"
   ]
  },
  {
   "cell_type": "markdown",
   "id": "9df8bdbb",
   "metadata": {},
   "source": [
    "## Gender"
   ]
  },
  {
   "cell_type": "code",
   "execution_count": 34,
   "id": "da848f5c",
   "metadata": {},
   "outputs": [
    {
     "data": {
      "text/plain": [
       "41"
      ]
     },
     "metadata": {},
     "output_type": "display_data"
    },
    {
     "data": {
      "text/plain": [
       "['REV.',\n",
       " 'LADY',\n",
       " 'MASTER',\n",
       " 'Miss',\n",
       " 'ALHAJI',\n",
       " 'PASTOR',\n",
       " 'SIR',\n",
       " 'DOCTOR',\n",
       " 'Mr',\n",
       " 'MRS.',\n",
       " 'MS',\n",
       " 'SURV.',\n",
       " 'Mrs',\n",
       " 'HON.',\n",
       " 'BISHOP',\n",
       " 'BARRISTER',\n",
       " 'MS.',\n",
       " 'MISS.',\n",
       " 'CAPTAIN',\n",
       " 'PROF.',\n",
       " 'ENGR.',\n",
       " 'MRS',\n",
       " 'MISS',\n",
       " 'Mr.',\n",
       " 'REV. (MRS)',\n",
       " 'MR & MRS',\n",
       " 'AMBASADOR',\n",
       " 'DR.',\n",
       " 'ALHAJA',\n",
       " 'MR.',\n",
       " 'ENGINEER',\n",
       " 'Dr',\n",
       " 'Prof',\n",
       " 'Ms',\n",
       " 'REV. FR',\n",
       " 'PROFESSOR',\n",
       " 'HON. JUSTICE',\n",
       " 'EST. OF LATE',\n",
       " 'CAPT.',\n",
       " 'ARCHITECT']"
      ]
     },
     "execution_count": 34,
     "metadata": {},
     "output_type": "execute_result"
    }
   ],
   "source": [
    "\n",
    "display(len(set(clientdf['CLNT_TITLE'])))\n",
    "x = list(set(clientdf['CLNT_TITLE']))\n",
    "x.remove(NaN)\n",
    "x"
   ]
  },
  {
   "cell_type": "code",
   "execution_count": 35,
   "id": "bc56b86a",
   "metadata": {},
   "outputs": [
    {
     "data": {
      "text/plain": [
       "Index(['CLIENT_NAME', 'CLNT_CODE', 'CLNT_ID_REG_NO', 'CLNT_DOB', 'CLNT_PIN',\n",
       "       'CLNT_EMAIL_ADDRS', 'CLNT_TEL', 'CLNT_TEL2', 'CLNT_TYPE', 'CLNT_TITLE',\n",
       "       'CLNT_SMS_TEL', 'CLNT_GENDER'],\n",
       "      dtype='object')"
      ]
     },
     "execution_count": 35,
     "metadata": {},
     "output_type": "execute_result"
    }
   ],
   "source": [
    "clientdf.columns"
   ]
  },
  {
   "cell_type": "code",
   "execution_count": null,
   "id": "4a4cf222",
   "metadata": {},
   "outputs": [],
   "source": []
  },
  {
   "cell_type": "code",
   "execution_count": 36,
   "id": "730c26a9",
   "metadata": {},
   "outputs": [],
   "source": [
    "from numpy import NaN\n",
    "\n",
    "def gender_parser(df):\n",
    "    titles_in_data = list(set(df['CLNT_TITLE']))\n",
    "    titles_in_data.remove(NaN)\n",
    "    \n",
    "    female =  ['LADY','Miss','MRS.','MS','Mrs','MS.','MISS.', 'MRS','REV. (MRS)','Ms','MISS']\n",
    "    male = ['MASTER','SIR','Mr','Mr.','MR.','REV. FR']\n",
    "    unisex = ['REV.', 'ALHAJI', 'PASTOR','DOCTOR','SURV.', 'HON.','BISHOP','BARRISTER', 'CAPTAIN','PROF.','ENGR.',\n",
    "                'MR & MRS','AMBASADOR','DR.','ALHAJA', 'ENGINEER','Dr','Prof', 'PROFESSOR','HON. JUSTICE','EST. OF LATE','CAPT.','ARCHITECT']\n",
    "\n",
    "    types = df['CLNT_TYPE'].copy(deep=True)\n",
    "    titles = df['CLNT_TITLE'].copy(deep=True)\n",
    "    gender = df['CLNT_GENDER'].copy(deep=True)\n",
    "\n",
    "    titles = pd.Series(['VALID' if y in ['C', 'P', 'G', 'M'] else x for x, y in zip(titles, types)])\n",
    "    gender = pd.Series(['VALID' if y in ['F', 'M'] else x for x, y in zip(titles, gender)])\n",
    "    \n",
    "    titles = pd.Series(['VALID' if (y == 'VALID' or x == 'VALID') else x for x, y in zip(titles, gender)])\n",
    "\n",
    "    titles.fillna(invalid, inplace=True)\n",
    "    \n",
    "    for i in range(len(titles)):\n",
    "        if titles[i] != str:\n",
    "            titles[i] = str(titles[i])\n",
    "        if titles[i] == 'VALID' or titles[i] == 'INVALID':\n",
    "            pass\n",
    "        else:\n",
    "            if titles[i] in unisex:\n",
    "                titles[i] = 'UNISEX TITLE'\n",
    "            elif titles[i] in male:\n",
    "                titles[i] = 'MALE'\n",
    "            elif titles[i] in female:\n",
    "                titles[i] = 'FEMALE'\n",
    "            else:\n",
    "                titles[i] = invalid\n",
    "                \n",
    "    df['GENDER_STATUS'] = [invalid if x in [invalid, 'UNISEX TITLE'] else 'VALID' for x in titles]\n",
    "\n",
    "\n",
    "\n",
    "    "
   ]
  },
  {
   "cell_type": "code",
   "execution_count": null,
   "id": "ac1779a0",
   "metadata": {},
   "outputs": [],
   "source": []
  },
  {
   "cell_type": "markdown",
   "id": "771f5812",
   "metadata": {},
   "source": [
    "# CLEANING"
   ]
  },
  {
   "cell_type": "code",
   "execution_count": 37,
   "id": "8dad3515",
   "metadata": {},
   "outputs": [
    {
     "name": "stdout",
     "output_type": "stream",
     "text": [
      "dob done\n",
      "telephones done\n",
      "IDs done\n",
      "emails done\n",
      "kra pins done\n",
      "gender done\n"
     ]
    }
   ],
   "source": [
    "dob_validator(clientdf)\n",
    "print('dob done')\n",
    "phone_num_validator(clientdf)\n",
    "print('telephones done')\n",
    "id_reg_validator(clientdf )\n",
    "print('IDs done')\n",
    "email_validator(clientdf)\n",
    "print('emails done')\n",
    "kra_pin_validator(clientdf)\n",
    "print('kra pins done')\n",
    "gender_parser(clientdf)\n",
    "print('gender done')"
   ]
  },
  {
   "cell_type": "markdown",
   "id": "0bd4c321",
   "metadata": {},
   "source": [
    "- Rearrange columns"
   ]
  },
  {
   "cell_type": "code",
   "execution_count": 38,
   "id": "282782bf",
   "metadata": {},
   "outputs": [],
   "source": [
    "clientdf = clientdf[['CLIENT_NAME', 'CLNT_CODE', \n",
    "                        'CLNT_ID_REG_NO', 'ID_STATUS', \n",
    "                        'CLNT_DOB', 'DOB_STATUS',\n",
    "                        'AGE' ,'AGE_STATUS',\n",
    "                        'CLNT_PIN','PIN_STATUS',\n",
    "                        'CLNT_TYPE','TYPE_STATUS',\n",
    "                        'CLNT_EMAIL_ADDRS', 'EMAIL_STATUS', \n",
    "                        'CLNT_TEL', 'TEL_STATUS', \n",
    "                        'CLNT_SMS_TEL','SMS_STATUS',\n",
    "                        'CLNT_TITLE', 'CLNT_GENDER','GENDER_STATUS'\n",
    "                    \n",
    "                    ]]"
   ]
  },
  {
   "cell_type": "markdown",
   "id": "05df2ea5",
   "metadata": {},
   "source": [
    "- New CSV, xlsx"
   ]
  },
  {
   "cell_type": "code",
   "execution_count": 39,
   "id": "197a5d10",
   "metadata": {},
   "outputs": [],
   "source": [
    "# clientdf.to_excel('Cleaned-client-excel-v1.xlsx', engine='openpyxl', index=False)\n",
    "# clientdf.to_csv('Cleaned-client-data-v5.csv', index=False)\n"
   ]
  },
  {
   "cell_type": "markdown",
   "id": "c901be8d",
   "metadata": {},
   "source": [
    "- xlsxwriter new workbook + Add Color to it"
   ]
  },
  {
   "cell_type": "markdown",
   "id": "db093b0d",
   "metadata": {},
   "source": [
    "    runs in 1 min 30 sec"
   ]
  },
  {
   "cell_type": "code",
   "execution_count": 40,
   "id": "b2041bd8",
   "metadata": {},
   "outputs": [],
   "source": [
    "import xlsxwriter\n",
    "wb = xlsxwriter.Workbook('Gis-Data-validity-TRIAL.xlsx')\n",
    "worksheet = wb.add_worksheet()\n",
    "\n",
    "cell_format = wb.add_format({'border': 1})\n",
    "cell_format.set_bg_color('#F9E79F')\n",
    "cell_format.set_border_color('#000000')\n",
    "\n",
    "cell_format1 = wb.add_format({'border': 1})\n",
    "cell_format1.set_bg_color('#F5CBA7')\n",
    "cell_format1.set_border_color('#000000')\n",
    "\n",
    "cell_format2 = wb.add_format({'border': 1})\n",
    "cell_format2.set_bg_color('#FAD7A0')\n",
    "cell_format2.set_border_color('#000000')\n",
    "\n",
    "cell_format3 = wb.add_format({'border': 1})\n",
    "cell_format3.set_bg_color('#76D7C4')\n",
    "cell_format3.set_border_color('#000000')\n",
    "\n",
    "cell_format4 = wb.add_format({'border': 1})\n",
    "cell_format4.set_bg_color('#D6EAF8')\n",
    "cell_format4.set_border_color('#000000')\n",
    "\n",
    "cell_format5 = wb.add_format({'border': 1})\n",
    "cell_format5.set_bg_color('#E8DAEF')\n",
    "cell_format5.set_border_color('#000000')\n",
    "\n",
    "cell_format6 = wb.add_format({'border': 1})\n",
    "cell_format6.set_bg_color('#D5F5E3')\n",
    "cell_format6.set_border_color('#000000')\n",
    "\n",
    "cell_format7 = wb.add_format({'border': 1})\n",
    "cell_format7.set_bg_color('#FEF9E7')\n",
    "cell_format7.set_border_color('#000000')\n",
    "\n",
    "\n",
    "cell_format8 = wb.add_format({'border': 1})\n",
    "cell_format8.set_bg_color('#B9C8FD')\n",
    "cell_format8.set_border_color('#000000')\n",
    "\n",
    "\n",
    "for k in range(len(clientdf.columns)):\n",
    "    for v in  range(len(clientdf['CLNT_ID_REG_NO'])):\n",
    "        try:\n",
    "            if clientdf.columns[k] in ['ID_STATUS']:\n",
    "                worksheet.write(0, k, clientdf.columns[k], cell_format)\n",
    "                worksheet.write(v + 1, k, clientdf[clientdf.columns[k]][v], cell_format)\n",
    "            elif clientdf.columns[k] in ['DOB_STATUS']:\n",
    "                worksheet.write(0, k, clientdf.columns[k], cell_format1)\n",
    "                worksheet.write(v + 1, k, clientdf[clientdf.columns[k]][v], cell_format1)\n",
    "            elif clientdf.columns[k] in ['PIN_STATUS']:\n",
    "                worksheet.write(0, k, clientdf.columns[k], cell_format2)\n",
    "                worksheet.write(v + 1, k, clientdf[clientdf.columns[k]][v], cell_format2)\n",
    "            elif clientdf.columns[k] in ['TYPE_STATUS']:\n",
    "                worksheet.write(0, k, clientdf.columns[k], cell_format4)\n",
    "                worksheet.write(v + 1, k, clientdf[clientdf.columns[k]][v], cell_format4)\n",
    "            elif clientdf.columns[k] in ['EMAIL_STATUS']:\n",
    "                worksheet.write(0, k, clientdf.columns[k], cell_format5)\n",
    "                worksheet.write(v + 1, k, clientdf[clientdf.columns[k]][v], cell_format5)\n",
    "            elif clientdf.columns[k] in ['TEL_STATUS']:\n",
    "                worksheet.write(0, k, clientdf.columns[k], cell_format6)\n",
    "                worksheet.write(v + 1, k, clientdf[clientdf.columns[k]][v], cell_format6)\n",
    "            elif clientdf.columns[k] in ['SMS_STATUS']:\n",
    "                worksheet.write(0, k, clientdf.columns[k], cell_format7)\n",
    "                worksheet.write(v + 1, k, clientdf[clientdf.columns[k]][v], cell_format7)\n",
    "            elif clientdf.columns[k] in ['AGE_STATUS']:\n",
    "                worksheet.write(0, k, clientdf.columns[k], cell_format6)\n",
    "                worksheet.write(v + 1, k, clientdf[clientdf.columns[k]][v], cell_format6)\n",
    "            elif clientdf.columns[k] in ['GENDER_STATUS']:\n",
    "                worksheet.write(0, k, clientdf.columns[k], cell_format8)\n",
    "                worksheet.write(v + 1, k, clientdf[clientdf.columns[k]][v], cell_format8)\n",
    "            else:\n",
    "                worksheet.write(0, k, clientdf.columns[k])\n",
    "                worksheet.write(v + 1, k, clientdf[clientdf.columns[k]][v])\n",
    "        except:\n",
    "            pass\n",
    "\n",
    "wb.close()"
   ]
  }
 ],
 "metadata": {
  "kernelspec": {
   "display_name": "Python 3 (ipykernel)",
   "language": "python",
   "name": "python3"
  },
  "language_info": {
   "codemirror_mode": {
    "name": "ipython",
    "version": 3
   },
   "file_extension": ".py",
   "mimetype": "text/x-python",
   "name": "python",
   "nbconvert_exporter": "python",
   "pygments_lexer": "ipython3",
   "version": "3.9.7"
  }
 },
 "nbformat": 4,
 "nbformat_minor": 5
}
